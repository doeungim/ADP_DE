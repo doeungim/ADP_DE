{
 "cells": [
  {
   "cell_type": "code",
   "execution_count": 1,
   "id": "b574781a",
   "metadata": {},
   "outputs": [
    {
     "data": {
      "text/html": [
       "<style>:root {--jp-notebook-max-width: 3000px;}</style>"
      ],
      "text/plain": [
       "<IPython.core.display.HTML object>"
      ]
     },
     "metadata": {},
     "output_type": "display_data"
    },
    {
     "data": {
      "text/html": [
       "<style>.container { width:100% !important; }</style>"
      ],
      "text/plain": [
       "<IPython.core.display.HTML object>"
      ]
     },
     "metadata": {},
     "output_type": "display_data"
    }
   ],
   "source": [
    "from IPython.display import display, HTML\n",
    "display(HTML(\"<style>:root {--jp-notebook-max-width: 3000px;}</style>\"))\n",
    "display(HTML(\"<style>.container { width:100% !important; }</style>\"))"
   ]
  },
  {
   "cell_type": "markdown",
   "id": "f780e49f",
   "metadata": {},
   "source": [
    "# 기계학습 (60점)"
   ]
  },
  {
   "cell_type": "markdown",
   "id": "2ff140e7",
   "metadata": {},
   "source": [
    "### 리그오브레전드 게임 로그 데이터\n",
    "data_path = './data/game_result.csv'     \n",
    "data_path = './data/log.csv'\n",
    "\n",
    "데이터는 리그오브레전드 게임의 로그 데이터이다.    \n",
    "\n",
    "---\n",
    "리그오브 레전드 게임 룰\n",
    "- 5명의 플레이어가 각자 다른 포지션에서 성장을 통해 아이템과 레벨을 올려 상대의 기지를 파괴하는 AOS장르의 게임\n",
    "- 두 팀(red,blue)이 격돌, 각 팀은 5명의 플레이어가 5개의 포지션('T', 'J', 'M', 'B', 'S')을 하나씩 맡는다.   \n",
    "---\n",
    "데이터 설명\n",
    "- game_result.csv : 게임 결과에 대한 정보\n",
    "    - gameId: 게임명\n",
    "    - win : 승리여부 True-승리, False-패배\n",
    "    - TEAM: 팀 정보 (rea,blue)\n",
    "    \n",
    "- log.csv : 인게임 정보\n",
    "    - time : 게임의 5분간격(~25분까지)\n",
    "    - gameId : 게임명\n",
    "    - variable : 6가지의 특정 행동 정보 \n",
    "        - minionsKilled : 누적 몬스터 킬수\n",
    "        - totalGold : 누적 골드획득량\n",
    "        - totalDamageTaken : 누적 피해량\n",
    "        - totalDamageDone : 누적 데미지\n",
    "        - WARD_PLACED : 누적 시야 정보량\n",
    "        - WARD_KILL : 누적 시야 제거량\n"
   ]
  },
  {
   "cell_type": "code",
   "execution_count": 1,
   "id": "ab613bf2",
   "metadata": {},
   "outputs": [
    {
     "data": {
      "text/html": [
       "<div>\n",
       "<style scoped>\n",
       "    .dataframe tbody tr th:only-of-type {\n",
       "        vertical-align: middle;\n",
       "    }\n",
       "\n",
       "    .dataframe tbody tr th {\n",
       "        vertical-align: top;\n",
       "    }\n",
       "\n",
       "    .dataframe thead th {\n",
       "        text-align: right;\n",
       "    }\n",
       "</style>\n",
       "<table border=\"1\" class=\"dataframe\">\n",
       "  <thead>\n",
       "    <tr style=\"text-align: right;\">\n",
       "      <th></th>\n",
       "      <th>gameId</th>\n",
       "      <th>win</th>\n",
       "      <th>TEAM</th>\n",
       "    </tr>\n",
       "  </thead>\n",
       "  <tbody>\n",
       "    <tr>\n",
       "      <th>0</th>\n",
       "      <td>JP1_340505476</td>\n",
       "      <td>False</td>\n",
       "      <td>blue</td>\n",
       "    </tr>\n",
       "    <tr>\n",
       "      <th>1</th>\n",
       "      <td>JP1_340505476</td>\n",
       "      <td>True</td>\n",
       "      <td>red</td>\n",
       "    </tr>\n",
       "    <tr>\n",
       "      <th>2</th>\n",
       "      <td>JP1_340611094</td>\n",
       "      <td>True</td>\n",
       "      <td>red</td>\n",
       "    </tr>\n",
       "    <tr>\n",
       "      <th>3</th>\n",
       "      <td>JP1_340611094</td>\n",
       "      <td>False</td>\n",
       "      <td>blue</td>\n",
       "    </tr>\n",
       "    <tr>\n",
       "      <th>4</th>\n",
       "      <td>JP1_340621330</td>\n",
       "      <td>True</td>\n",
       "      <td>red</td>\n",
       "    </tr>\n",
       "  </tbody>\n",
       "</table>\n",
       "</div>"
      ],
      "text/plain": [
       "          gameId    win  TEAM\n",
       "0  JP1_340505476  False  blue\n",
       "1  JP1_340505476   True   red\n",
       "2  JP1_340611094   True   red\n",
       "3  JP1_340611094  False  blue\n",
       "4  JP1_340621330   True   red"
      ]
     },
     "metadata": {},
     "output_type": "display_data"
    },
    {
     "data": {
      "text/html": [
       "<div>\n",
       "<style scoped>\n",
       "    .dataframe tbody tr th:only-of-type {\n",
       "        vertical-align: middle;\n",
       "    }\n",
       "\n",
       "    .dataframe tbody tr th {\n",
       "        vertical-align: top;\n",
       "    }\n",
       "\n",
       "    .dataframe thead th {\n",
       "        text-align: right;\n",
       "    }\n",
       "</style>\n",
       "<table border=\"1\" class=\"dataframe\">\n",
       "  <thead>\n",
       "    <tr style=\"text-align: right;\">\n",
       "      <th></th>\n",
       "      <th>time</th>\n",
       "      <th>gameId</th>\n",
       "      <th>variable</th>\n",
       "      <th>value</th>\n",
       "      <th>POSITION</th>\n",
       "      <th>TEAM</th>\n",
       "    </tr>\n",
       "  </thead>\n",
       "  <tbody>\n",
       "    <tr>\n",
       "      <th>0</th>\n",
       "      <td>5.0</td>\n",
       "      <td>LA1_1242504360</td>\n",
       "      <td>minionsKilled</td>\n",
       "      <td>33.0</td>\n",
       "      <td>T</td>\n",
       "      <td>blue</td>\n",
       "    </tr>\n",
       "    <tr>\n",
       "      <th>1</th>\n",
       "      <td>10.0</td>\n",
       "      <td>LA1_1242504360</td>\n",
       "      <td>minionsKilled</td>\n",
       "      <td>76.0</td>\n",
       "      <td>T</td>\n",
       "      <td>blue</td>\n",
       "    </tr>\n",
       "    <tr>\n",
       "      <th>2</th>\n",
       "      <td>15.0</td>\n",
       "      <td>LA1_1242504360</td>\n",
       "      <td>minionsKilled</td>\n",
       "      <td>110.0</td>\n",
       "      <td>T</td>\n",
       "      <td>blue</td>\n",
       "    </tr>\n",
       "    <tr>\n",
       "      <th>3</th>\n",
       "      <td>20.0</td>\n",
       "      <td>LA1_1242504360</td>\n",
       "      <td>minionsKilled</td>\n",
       "      <td>143.0</td>\n",
       "      <td>T</td>\n",
       "      <td>blue</td>\n",
       "    </tr>\n",
       "    <tr>\n",
       "      <th>4</th>\n",
       "      <td>25.0</td>\n",
       "      <td>LA1_1242504360</td>\n",
       "      <td>minionsKilled</td>\n",
       "      <td>167.0</td>\n",
       "      <td>T</td>\n",
       "      <td>blue</td>\n",
       "    </tr>\n",
       "  </tbody>\n",
       "</table>\n",
       "</div>"
      ],
      "text/plain": [
       "   time          gameId       variable  value POSITION  TEAM\n",
       "0   5.0  LA1_1242504360  minionsKilled   33.0        T  blue\n",
       "1  10.0  LA1_1242504360  minionsKilled   76.0        T  blue\n",
       "2  15.0  LA1_1242504360  minionsKilled  110.0        T  blue\n",
       "3  20.0  LA1_1242504360  minionsKilled  143.0        T  blue\n",
       "4  25.0  LA1_1242504360  minionsKilled  167.0        T  blue"
      ]
     },
     "metadata": {},
     "output_type": "display_data"
    }
   ],
   "source": [
    "import pandas as pd\n",
    "gr =pd.read_csv('./data/game_result.csv')\n",
    "display(gr.head())\n",
    "\n",
    "log =pd.read_csv('./data/log.csv')\n",
    "display(log.head())"
   ]
  },
  {
   "cell_type": "markdown",
   "id": "6178b852",
   "metadata": {
    "jp-MarkdownHeadingCollapsed": true
   },
   "source": [
    "### 기계학습1\n",
    "인게임 정보데이터는 5분간격의 누적 정보이다. each_variable 컬럼을 만들고 각 variable 별로 증가량값으로 채워넣어라      \n",
    "\n",
    "<img src=\"./data/1.png\" alt=\"alt_text\" style=\"width:500px; float:left; \">"
   ]
  },
  {
   "cell_type": "code",
   "execution_count": null,
   "id": "a75f479f",
   "metadata": {},
   "outputs": [],
   "source": []
  },
  {
   "cell_type": "markdown",
   "id": "d48f6243",
   "metadata": {},
   "source": [
    "### 기계학습2\n",
    "하나의 행에 하나의 인게임 정보를 넣는 작업을 하고 blue 팀의 승패유무와 관련한 데이터를 추가하려한다.     \n",
    "아래의 전처리 조건을 확인하여 작업을 진행하라\n",
    "\n",
    "변환할 데이터프레임의 컬럼정보\n",
    "- gameId (게임아이디)\n",
    "- {팀명}_{포지션}_{variable} 형식으로 컬럼을 추가한다. variable 별로 아래 조건을 만족하는 값을 채워 넣는다.\n",
    "    - {팀명}_{포지션}_minionsKilled : 25분의 minionsKilled value컬럼 값을 추가한다.\n",
    "    - {팀명}_{포지션}_totalGold : each_variable의 다섯 구간 평균값을 추가한다.\n",
    "    - {팀명}_{포지션}_totalDamageTaken : each_variable의 다섯 구간 평균값을 추가한다.\n",
    "    - {팀명}_{포지션}_totalDamageDone : each_variable의 다섯 구간 분산값을 추가한다.\n",
    "    - {팀명}_{포지션}_WARD_PLACED : 15분의 WARD_PLACED value컬럼 값을 추가한다.\n",
    "    - {팀명}_{포지션}_WARD_KILL : each_variable의 max값을 추가한다.\n",
    "- result : blue팀의 승리여부, 승리 : 1 , 패배 : 0 \n",
    "\n",
    "아래와 같이 62개의 컬럼이 완성된다.    \n",
    "<img src=\"./data/2.png\" alt=\"alt_text\" style=\"width:500px; float:left; \">"
   ]
  },
  {
   "cell_type": "code",
   "execution_count": null,
   "id": "8fee2605",
   "metadata": {},
   "outputs": [],
   "source": []
  },
  {
   "cell_type": "markdown",
   "id": "cd6b6817",
   "metadata": {},
   "source": [
    "### 기계학습 3\n",
    "데이터 EDA 및 시각화"
   ]
  },
  {
   "cell_type": "code",
   "execution_count": null,
   "id": "420d8c5c",
   "metadata": {},
   "outputs": [],
   "source": []
  },
  {
   "cell_type": "markdown",
   "id": "1f98e09e",
   "metadata": {},
   "source": [
    "### 기계학습4      \n",
    "전처리한 데이터를 바탕으로 승리 예측 분류 모델을 만들려고한다. 아래의 기준으로 모델링을 하고 평가를 진행하라     \n",
    "- 랜덤포레스트와 그래디언트 부스팅으로 학습한다\n",
    "- 각 모델별로 3개의 파라미터들을 2개 이상 조합하여 최적의 파라미터를 찾는다.   \n",
    "- 학습데이터는 70%를 사용한다\n",
    "- auc값으로 평가를 진행하며 ROC Curve를 그려라"
   ]
  },
  {
   "cell_type": "code",
   "execution_count": null,
   "id": "87d4ad0a",
   "metadata": {},
   "outputs": [],
   "source": []
  },
  {
   "cell_type": "markdown",
   "id": "2f138633",
   "metadata": {},
   "source": [
    "### 기계학습5 \n",
    "성능이 우수한 모델로부터 변수중요도를 시각화하고 해석하라"
   ]
  },
  {
   "cell_type": "code",
   "execution_count": null,
   "id": "e9d14a8d",
   "metadata": {},
   "outputs": [],
   "source": []
  },
  {
   "cell_type": "markdown",
   "id": "4a4eff2d",
   "metadata": {},
   "source": [
    "### 폐처리 시설의 여러 대기 측정정보\n",
    "\n",
    "data_path = './data/mc.csv'\n",
    "\n",
    "데이터는 특정 폐수 처리시설 주변의 여러 측정센서를 통해 5분간격으로 측정한 데이터이다.\n",
    "- 매 5분동안 최대 24개의 주변 측정소에서 여러 정보들을 수집한다. "
   ]
  },
  {
   "cell_type": "code",
   "execution_count": 41,
   "id": "c6306a3b",
   "metadata": {},
   "outputs": [
    {
     "data": {
      "text/html": [
       "<div>\n",
       "<style scoped>\n",
       "    .dataframe tbody tr th:only-of-type {\n",
       "        vertical-align: middle;\n",
       "    }\n",
       "\n",
       "    .dataframe tbody tr th {\n",
       "        vertical-align: top;\n",
       "    }\n",
       "\n",
       "    .dataframe thead th {\n",
       "        text-align: right;\n",
       "    }\n",
       "</style>\n",
       "<table border=\"1\" class=\"dataframe\">\n",
       "  <thead>\n",
       "    <tr style=\"text-align: right;\">\n",
       "      <th></th>\n",
       "      <th>측정장소</th>\n",
       "      <th>측정일시</th>\n",
       "      <th>온도</th>\n",
       "      <th>습도</th>\n",
       "      <th>풍향</th>\n",
       "      <th>풍속</th>\n",
       "      <th>황화수소</th>\n",
       "      <th>암모니아</th>\n",
       "      <th>휘발성유기화합물</th>\n",
       "      <th>강수량</th>\n",
       "      <th>기압</th>\n",
       "      <th>초미세먼지</th>\n",
       "    </tr>\n",
       "  </thead>\n",
       "  <tbody>\n",
       "    <tr>\n",
       "      <th>0</th>\n",
       "      <td>1</td>\n",
       "      <td>2022-01-10 09:00:00</td>\n",
       "      <td>0.00</td>\n",
       "      <td>0.0</td>\n",
       "      <td>0.0</td>\n",
       "      <td>0.00</td>\n",
       "      <td>0.0</td>\n",
       "      <td>0.0</td>\n",
       "      <td>0.0</td>\n",
       "      <td>0</td>\n",
       "      <td>0.0</td>\n",
       "      <td>0.0</td>\n",
       "    </tr>\n",
       "    <tr>\n",
       "      <th>1</th>\n",
       "      <td>3</td>\n",
       "      <td>2022-01-10 09:00:00</td>\n",
       "      <td>0.00</td>\n",
       "      <td>0.0</td>\n",
       "      <td>0.0</td>\n",
       "      <td>0.00</td>\n",
       "      <td>9.2</td>\n",
       "      <td>0.0</td>\n",
       "      <td>0.0</td>\n",
       "      <td>0</td>\n",
       "      <td>0.0</td>\n",
       "      <td>0.0</td>\n",
       "    </tr>\n",
       "    <tr>\n",
       "      <th>2</th>\n",
       "      <td>4</td>\n",
       "      <td>2022-01-10 09:00:00</td>\n",
       "      <td>0.00</td>\n",
       "      <td>0.0</td>\n",
       "      <td>0.0</td>\n",
       "      <td>0.00</td>\n",
       "      <td>0.8</td>\n",
       "      <td>0.0</td>\n",
       "      <td>0.0</td>\n",
       "      <td>0</td>\n",
       "      <td>0.0</td>\n",
       "      <td>0.0</td>\n",
       "    </tr>\n",
       "    <tr>\n",
       "      <th>3</th>\n",
       "      <td>5</td>\n",
       "      <td>2022-01-10 09:00:00</td>\n",
       "      <td>0.00</td>\n",
       "      <td>0.0</td>\n",
       "      <td>0.0</td>\n",
       "      <td>0.00</td>\n",
       "      <td>0.0</td>\n",
       "      <td>0.0</td>\n",
       "      <td>0.0</td>\n",
       "      <td>0</td>\n",
       "      <td>0.0</td>\n",
       "      <td>0.0</td>\n",
       "    </tr>\n",
       "    <tr>\n",
       "      <th>4</th>\n",
       "      <td>6</td>\n",
       "      <td>2022-01-10 09:00:00</td>\n",
       "      <td>12.14</td>\n",
       "      <td>81.9</td>\n",
       "      <td>0.3</td>\n",
       "      <td>0.03</td>\n",
       "      <td>6.0</td>\n",
       "      <td>0.0</td>\n",
       "      <td>0.0</td>\n",
       "      <td>0</td>\n",
       "      <td>1019.5</td>\n",
       "      <td>113.8</td>\n",
       "    </tr>\n",
       "  </tbody>\n",
       "</table>\n",
       "</div>"
      ],
      "text/plain": [
       "   측정장소                 측정일시     온도    습도   풍향    풍속  황화수소  암모니아  휘발성유기화합물  \\\n",
       "0     1  2022-01-10 09:00:00   0.00   0.0  0.0  0.00   0.0   0.0       0.0   \n",
       "1     3  2022-01-10 09:00:00   0.00   0.0  0.0  0.00   9.2   0.0       0.0   \n",
       "2     4  2022-01-10 09:00:00   0.00   0.0  0.0  0.00   0.8   0.0       0.0   \n",
       "3     5  2022-01-10 09:00:00   0.00   0.0  0.0  0.00   0.0   0.0       0.0   \n",
       "4     6  2022-01-10 09:00:00  12.14  81.9  0.3  0.03   6.0   0.0       0.0   \n",
       "\n",
       "   강수량      기압  초미세먼지  \n",
       "0    0     0.0    0.0  \n",
       "1    0     0.0    0.0  \n",
       "2    0     0.0    0.0  \n",
       "3    0     0.0    0.0  \n",
       "4    0  1019.5  113.8  "
      ]
     },
     "execution_count": 41,
     "metadata": {},
     "output_type": "execute_result"
    }
   ],
   "source": [
    "import pandas as pd\n",
    "df = pd.read_csv('./data/mc.csv')\n",
    "df.head()"
   ]
  },
  {
   "cell_type": "markdown",
   "id": "178c1717",
   "metadata": {},
   "source": [
    "### 기계학습5    \n",
    "다음의 기준으로 전처리를 시행하고 시각화를 포함한 EDA를 진행하라\n",
    "1. 측정일시별로 측정장소 상관없이 각 측정값들의 최대값 1개만 남겨라. \n",
    "2. 1의 전처리 후 온도 ~ 초미세먼지 값이 모두 0인 데이터 행은 제거하라"
   ]
  },
  {
   "cell_type": "code",
   "execution_count": null,
   "id": "88cd7dd4",
   "metadata": {},
   "outputs": [],
   "source": []
  },
  {
   "cell_type": "markdown",
   "id": "eb80946b",
   "metadata": {},
   "source": [
    "### 기계학습6     \n",
    "데이터의 측정시간대를 일별 6시간 간격(0 ~ 5시 ,6~12시 ..)으로 나누어 각 컬럼의 수치 평균값을 내라. \n",
    "각 시간 구간을 0,1,2,3으로 표기하고 date_split 컬럼을 추가한다."
   ]
  },
  {
   "cell_type": "code",
   "execution_count": null,
   "id": "a863d46e",
   "metadata": {},
   "outputs": [],
   "source": []
  },
  {
   "cell_type": "markdown",
   "id": "cf3ac4b2",
   "metadata": {},
   "source": [
    "### 기계학습7     \n",
    "5번에서 전처리한 데이터의 변수간 상관관계를 확인하라.    \n",
    "date_split의 값이 2과 3인 데이터만 필터하고 각 온도~초미세먼지의 컬럼이 date_split 값에 따른 차이가 존재하는지 통계검정하라"
   ]
  },
  {
   "cell_type": "code",
   "execution_count": null,
   "id": "316fd5e8",
   "metadata": {},
   "outputs": [],
   "source": []
  },
  {
   "cell_type": "markdown",
   "id": "b96032b2",
   "metadata": {},
   "source": [
    "### 기계학습 8\n",
    "전처리한 데이터를 바탕으로 초미세먼지를 예측하는 모델을 만들려고한다.     \n",
    "적절한 변수 처리를 하고 다중선형회귀, 랜덤포레스트 모델을 통해 모델 평가를 실시하라.\n",
    "rmse로 평가를 진행한다. "
   ]
  },
  {
   "cell_type": "code",
   "execution_count": null,
   "id": "f97801a9",
   "metadata": {},
   "outputs": [],
   "source": []
  },
  {
   "cell_type": "markdown",
   "id": "6c9d9832",
   "metadata": {},
   "source": [
    "# 통계 (40점)"
   ]
  },
  {
   "cell_type": "markdown",
   "id": "e0c5200c",
   "metadata": {},
   "source": [
    "## 통계1"
   ]
  },
  {
   "cell_type": "markdown",
   "id": "48bb83f6",
   "metadata": {},
   "source": [
    "### 통계1-1      \n",
    "어느 지역의 미세 지진 발생 간격은 평균 10년이다. 이 지진 발생 간격은 지수 분포를 따른다고 가정한다.      \n",
    "최근 지진 이후 5년이 지난 시점에서 7년 이내에 지진이 발생하지 않을 확률은?     "
   ]
  },
  {
   "cell_type": "code",
   "execution_count": null,
   "id": "47908068",
   "metadata": {},
   "outputs": [],
   "source": []
  },
  {
   "cell_type": "markdown",
   "id": "b7ab014d-be31-4bf6-956c-5b0a235a7126",
   "metadata": {},
   "source": [
    "### 통계 1-2\n",
    "지난 지진 발생 후 15년이 지났다. 8년 이내에 지진이 발생할 확률은?"
   ]
  },
  {
   "cell_type": "code",
   "execution_count": null,
   "id": "13c767c4",
   "metadata": {},
   "outputs": [],
   "source": []
  },
  {
   "cell_type": "markdown",
   "id": "9fdee47c",
   "metadata": {},
   "source": [
    "## 통계2\n",
    "data_path = './data/s1.csv'     \n",
    "데이터는 식단과 운동강도에 따라 감량 체중을 기록한 다이어트 프로그램 결과이다. "
   ]
  },
  {
   "cell_type": "code",
   "execution_count": 107,
   "id": "cc887fc5",
   "metadata": {},
   "outputs": [
    {
     "data": {
      "text/html": [
       "<div>\n",
       "<style scoped>\n",
       "    .dataframe tbody tr th:only-of-type {\n",
       "        vertical-align: middle;\n",
       "    }\n",
       "\n",
       "    .dataframe tbody tr th {\n",
       "        vertical-align: top;\n",
       "    }\n",
       "\n",
       "    .dataframe thead th {\n",
       "        text-align: right;\n",
       "    }\n",
       "</style>\n",
       "<table border=\"1\" class=\"dataframe\">\n",
       "  <thead>\n",
       "    <tr style=\"text-align: right;\">\n",
       "      <th></th>\n",
       "      <th>유저</th>\n",
       "      <th>식단</th>\n",
       "      <th>운동</th>\n",
       "      <th>감량체중</th>\n",
       "    </tr>\n",
       "  </thead>\n",
       "  <tbody>\n",
       "    <tr>\n",
       "      <th>0</th>\n",
       "      <td>ID-1</td>\n",
       "      <td>저탄고단</td>\n",
       "      <td>저강도</td>\n",
       "      <td>5.496714</td>\n",
       "    </tr>\n",
       "    <tr>\n",
       "      <th>1</th>\n",
       "      <td>ID-2</td>\n",
       "      <td>저탄고단</td>\n",
       "      <td>저강도</td>\n",
       "      <td>4.861736</td>\n",
       "    </tr>\n",
       "    <tr>\n",
       "      <th>2</th>\n",
       "      <td>ID-3</td>\n",
       "      <td>저탄고단</td>\n",
       "      <td>저강도</td>\n",
       "      <td>5.647689</td>\n",
       "    </tr>\n",
       "    <tr>\n",
       "      <th>3</th>\n",
       "      <td>ID-4</td>\n",
       "      <td>저탄고단</td>\n",
       "      <td>저강도</td>\n",
       "      <td>6.523030</td>\n",
       "    </tr>\n",
       "    <tr>\n",
       "      <th>4</th>\n",
       "      <td>ID-5</td>\n",
       "      <td>저탄고단</td>\n",
       "      <td>저강도</td>\n",
       "      <td>4.765847</td>\n",
       "    </tr>\n",
       "  </tbody>\n",
       "</table>\n",
       "</div>"
      ],
      "text/plain": [
       "     유저    식단   운동      감량체중\n",
       "0  ID-1  저탄고단  저강도  5.496714\n",
       "1  ID-2  저탄고단  저강도  4.861736\n",
       "2  ID-3  저탄고단  저강도  5.647689\n",
       "3  ID-4  저탄고단  저강도  6.523030\n",
       "4  ID-5  저탄고단  저강도  4.765847"
      ]
     },
     "execution_count": 107,
     "metadata": {},
     "output_type": "execute_result"
    }
   ],
   "source": [
    "import pandas as pd\n",
    "df =pd.read_csv('./data/s1.csv')\n",
    "df.head()"
   ]
  },
  {
   "cell_type": "markdown",
   "id": "8d4585cd",
   "metadata": {},
   "source": [
    "### 통계 2-1\n",
    "식단과 운동의 조합으로 만들어지는 4개의 그룹들의 각 그룹의 정규성과 그룹간 등분산성을 확인하라    "
   ]
  },
  {
   "cell_type": "code",
   "execution_count": null,
   "id": "82816ca9",
   "metadata": {},
   "outputs": [],
   "source": []
  },
  {
   "cell_type": "markdown",
   "id": "3f1ab50e",
   "metadata": {},
   "source": [
    "### 통계 2-2\n",
    "이원분산분석을 진행하려한다. 2-1의 결과를 바탕으로 모수,비모수 방법을 결정하고 주효과에 대한 가설과 교호작용 효과에 대한 가설을 설정하라    "
   ]
  },
  {
   "cell_type": "code",
   "execution_count": null,
   "id": "ee178069",
   "metadata": {},
   "outputs": [],
   "source": []
  },
  {
   "cell_type": "markdown",
   "id": "cfeaad71",
   "metadata": {},
   "source": [
    "### 통계2-3\n",
    "통계검정을 실시하고 결과를 해석하라.    \n",
    "\n"
   ]
  },
  {
   "cell_type": "code",
   "execution_count": null,
   "id": "f49a8b37",
   "metadata": {},
   "outputs": [],
   "source": []
  },
  {
   "cell_type": "markdown",
   "id": "62802199",
   "metadata": {},
   "source": [
    "### 통계 2-4\n",
    "사후검정을 실시하고 결과를 해석하라."
   ]
  },
  {
   "cell_type": "code",
   "execution_count": null,
   "id": "6cd2d295",
   "metadata": {},
   "outputs": [],
   "source": []
  },
  {
   "cell_type": "markdown",
   "id": "2fa4f439",
   "metadata": {},
   "source": [
    "## 통계3\n",
    "data_path = './data/s3.csv'     \n",
    "나이와 성별, 급여 관련한 정보이다. 구매여부(Purchased)를 예측하는 로지스틱 회귀 모델을 만드려고 한다."
   ]
  },
  {
   "cell_type": "code",
   "execution_count": 112,
   "id": "e3164e80",
   "metadata": {},
   "outputs": [
    {
     "data": {
      "text/html": [
       "<div>\n",
       "<style scoped>\n",
       "    .dataframe tbody tr th:only-of-type {\n",
       "        vertical-align: middle;\n",
       "    }\n",
       "\n",
       "    .dataframe tbody tr th {\n",
       "        vertical-align: top;\n",
       "    }\n",
       "\n",
       "    .dataframe thead th {\n",
       "        text-align: right;\n",
       "    }\n",
       "</style>\n",
       "<table border=\"1\" class=\"dataframe\">\n",
       "  <thead>\n",
       "    <tr style=\"text-align: right;\">\n",
       "      <th></th>\n",
       "      <th>Age</th>\n",
       "      <th>EstimatedSalary</th>\n",
       "      <th>Gender</th>\n",
       "      <th>Purchased</th>\n",
       "    </tr>\n",
       "  </thead>\n",
       "  <tbody>\n",
       "    <tr>\n",
       "      <th>0</th>\n",
       "      <td>22</td>\n",
       "      <td>19000</td>\n",
       "      <td>0</td>\n",
       "      <td>0</td>\n",
       "    </tr>\n",
       "    <tr>\n",
       "      <th>1</th>\n",
       "      <td>25</td>\n",
       "      <td>20000</td>\n",
       "      <td>1</td>\n",
       "      <td>0</td>\n",
       "    </tr>\n",
       "    <tr>\n",
       "      <th>2</th>\n",
       "      <td>47</td>\n",
       "      <td>43000</td>\n",
       "      <td>0</td>\n",
       "      <td>1</td>\n",
       "    </tr>\n",
       "    <tr>\n",
       "      <th>3</th>\n",
       "      <td>52</td>\n",
       "      <td>46000</td>\n",
       "      <td>1</td>\n",
       "      <td>1</td>\n",
       "    </tr>\n",
       "    <tr>\n",
       "      <th>4</th>\n",
       "      <td>46</td>\n",
       "      <td>22000</td>\n",
       "      <td>1</td>\n",
       "      <td>0</td>\n",
       "    </tr>\n",
       "    <tr>\n",
       "      <th>5</th>\n",
       "      <td>56</td>\n",
       "      <td>80000</td>\n",
       "      <td>0</td>\n",
       "      <td>1</td>\n",
       "    </tr>\n",
       "    <tr>\n",
       "      <th>6</th>\n",
       "      <td>55</td>\n",
       "      <td>76000</td>\n",
       "      <td>0</td>\n",
       "      <td>1</td>\n",
       "    </tr>\n",
       "    <tr>\n",
       "      <th>7</th>\n",
       "      <td>60</td>\n",
       "      <td>83000</td>\n",
       "      <td>1</td>\n",
       "      <td>1</td>\n",
       "    </tr>\n",
       "    <tr>\n",
       "      <th>8</th>\n",
       "      <td>62</td>\n",
       "      <td>81000</td>\n",
       "      <td>1</td>\n",
       "      <td>1</td>\n",
       "    </tr>\n",
       "    <tr>\n",
       "      <th>9</th>\n",
       "      <td>61</td>\n",
       "      <td>89000</td>\n",
       "      <td>0</td>\n",
       "      <td>1</td>\n",
       "    </tr>\n",
       "  </tbody>\n",
       "</table>\n",
       "</div>"
      ],
      "text/plain": [
       "   Age  EstimatedSalary  Gender  Purchased\n",
       "0   22            19000       0          0\n",
       "1   25            20000       1          0\n",
       "2   47            43000       0          1\n",
       "3   52            46000       1          1\n",
       "4   46            22000       1          0\n",
       "5   56            80000       0          1\n",
       "6   55            76000       0          1\n",
       "7   60            83000       1          1\n",
       "8   62            81000       1          1\n",
       "9   61            89000       0          1"
      ]
     },
     "execution_count": 112,
     "metadata": {},
     "output_type": "execute_result"
    }
   ],
   "source": [
    "import pandas as pd\n",
    "df =pd.read_csv('./data/s3.csv')\n",
    "df"
   ]
  },
  {
   "cell_type": "markdown",
   "id": "88c658be",
   "metadata": {},
   "source": [
    "### 통계3-1\n",
    "---\n",
    "<모델학습조건>    \n",
    "0,2,3,4의 인덱스 데이터를 테스트 데이터로 하고 나머지 행을 학습데이터로 한다.     \n",
    "학습데이터에 Gender를 더미화하고 나이와 봉급은 표준화(Standardization) 하라.     \n",
    "---\n",
    "로지스틱 회귀 모델을 학습하고 모델 평가를 실시하여 결과를 출력하라. 훈련데이터와 평가데이터에 대한 각각의 accuracy 값을 출력하라.    "
   ]
  },
  {
   "cell_type": "code",
   "execution_count": null,
   "id": "5caddf8e",
   "metadata": {},
   "outputs": [],
   "source": []
  },
  {
   "cell_type": "markdown",
   "id": "1b796370",
   "metadata": {},
   "source": [
    "### 통계3-2\n",
    "test데이터에 대해 예측하지 못한 레이블이 있다면 해당 데이터의 레이블 별 예측확률을 추출하라"
   ]
  },
  {
   "cell_type": "code",
   "execution_count": null,
   "id": "31e97cab",
   "metadata": {},
   "outputs": [],
   "source": []
  },
  {
   "cell_type": "markdown",
   "id": "d4eab347",
   "metadata": {},
   "source": [
    "### 통계 3-3\n",
    "새로운 샘플 케이스가 들어왔고 해당 데이터의 더미화 및 표준화의 결과 후 값은 다음과 같다.\n",
    "| Age  | EstimatedSalary | Gender_0 | Gender_1 |\n",
    "|------|-----------------|--------|-----------|\n",
    "| -0.6 | -1.8            | 0      | 1         |     \n",
    "\n",
    "\n",
    "이 데이터에 대한 모델 결과를 예측하려한다.    \n",
    "변수별 회귀 계수와 절편값을 통해 계산한 z값과 시그모이드 함수 출력 결과를 각각 구하여라"
   ]
  },
  {
   "cell_type": "code",
   "execution_count": null,
   "id": "6a49a06a",
   "metadata": {},
   "outputs": [],
   "source": []
  },
  {
   "cell_type": "markdown",
   "id": "30f2f6ec",
   "metadata": {},
   "source": [
    "### 통계 3-4\n",
    "3-1에서 학습한 모델의 각 변수들의 오즈비를 계산하여 출력하고 가장 많은 오즈가 증가하는 피쳐를 확인하라"
   ]
  },
  {
   "cell_type": "code",
   "execution_count": null,
   "id": "0a0acec2",
   "metadata": {},
   "outputs": [],
   "source": []
  }
 ],
 "metadata": {
  "kernelspec": {
   "display_name": "Python 3 (ipykernel)",
   "language": "python",
   "name": "python3"
  },
  "language_info": {
   "codemirror_mode": {
    "name": "ipython",
    "version": 3
   },
   "file_extension": ".py",
   "mimetype": "text/x-python",
   "name": "python",
   "nbconvert_exporter": "python",
   "pygments_lexer": "ipython3",
   "version": "3.8.19"
  }
 },
 "nbformat": 4,
 "nbformat_minor": 5
}
