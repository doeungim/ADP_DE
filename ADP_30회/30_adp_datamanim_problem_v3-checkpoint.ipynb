{
 "cells": [
  {
   "cell_type": "code",
   "execution_count": 1,
   "id": "1b142cc0",
   "metadata": {},
   "outputs": [
    {
     "data": {
      "text/html": [
       "<style>:root {--jp-notebook-max-width: 3000px;}</style>"
      ],
      "text/plain": [
       "<IPython.core.display.HTML object>"
      ]
     },
     "metadata": {},
     "output_type": "display_data"
    },
    {
     "data": {
      "text/html": [
       "<style>.container { width:100% !important; }</style>"
      ],
      "text/plain": [
       "<IPython.core.display.HTML object>"
      ]
     },
     "metadata": {},
     "output_type": "display_data"
    }
   ],
   "source": [
    "from IPython.display import display, HTML\n",
    "display(HTML(\"<style>:root {--jp-notebook-max-width: 3000px;}</style>\"))\n",
    "display(HTML(\"<style>.container { width:100% !important; }</style>\"))"
   ]
  },
  {
   "cell_type": "markdown",
   "id": "b42c5203",
   "metadata": {},
   "source": [
    "# 30회 ADP 복원 "
   ]
  },
  {
   "cell_type": "markdown",
   "id": "d0c9251b",
   "metadata": {},
   "source": [
    "# 기계학습 (60점)"
   ]
  },
  {
   "cell_type": "markdown",
   "id": "435ce658",
   "metadata": {},
   "source": [
    "## 데이터 설명\n",
    "- 데이터 출처 : 캐글어딘가.. 후처리\n",
    "- 데이터 링크 : https://raw.githubusercontent.com/Datamanim/datarepo/main/adp/30/p1.csv\n",
    "- 데이터 설명 : 혈압 데이터 DBP\n",
    "- 종속변수 : DBP"
   ]
  },
  {
   "cell_type": "markdown",
   "id": "c9373a22",
   "metadata": {},
   "source": [
    "## 1-1  EDA를 시행하라 "
   ]
  },
  {
   "cell_type": "code",
   "execution_count": null,
   "id": "e7df5beb",
   "metadata": {},
   "outputs": [],
   "source": []
  },
  {
   "cell_type": "markdown",
   "id": "4bd74ff9",
   "metadata": {},
   "source": [
    "## 1-2 데이터 전처리가 필요하다면 수행하고 이유를 작성하라"
   ]
  },
  {
   "cell_type": "code",
   "execution_count": null,
   "id": "3d0deaa4",
   "metadata": {},
   "outputs": [],
   "source": []
  },
  {
   "cell_type": "markdown",
   "id": "0265da78",
   "metadata": {},
   "source": [
    "## 1-3 train test set을 DBP컬럼 기준으로 7:3 비율로 나누고 잘 나뉘었는지 통계적으로 나타내라"
   ]
  },
  {
   "cell_type": "code",
   "execution_count": null,
   "id": "72447f54",
   "metadata": {},
   "outputs": [],
   "source": []
  },
  {
   "cell_type": "markdown",
   "id": "36befdb1",
   "metadata": {},
   "source": [
    "## 2-1 독립변수의 차원축소의 필요성을 논하고, 필요에 따라 차원을 축소하고 불필요하다면 그 근거를 논하시오"
   ]
  },
  {
   "cell_type": "code",
   "execution_count": null,
   "id": "ffe98774",
   "metadata": {},
   "outputs": [],
   "source": []
  },
  {
   "cell_type": "markdown",
   "id": "0b465a8e",
   "metadata": {},
   "source": [
    "## 2-2 2-1 작업 후 데이터가 회귀분석의 기본가정 따르는지 설명"
   ]
  },
  {
   "cell_type": "code",
   "execution_count": null,
   "id": "d34e4123",
   "metadata": {},
   "outputs": [],
   "source": []
  },
  {
   "cell_type": "markdown",
   "id": "a50e03d7",
   "metadata": {},
   "source": [
    "## 3-1 회귀분석 알고리즘 3개를 선택하고 선정이유와 장단점 비교"
   ]
  },
  {
   "cell_type": "code",
   "execution_count": null,
   "id": "f9b2e8fc",
   "metadata": {},
   "outputs": [],
   "source": []
  },
  {
   "cell_type": "markdown",
   "id": "7c145d8f",
   "metadata": {},
   "source": [
    "## 3-2. 1-3에서 구분한 데이터를 기준으로 3개의 회귀 분석 모델링을 진행하고 평가지표 rmse로 가장 최적화된 알고리즘 선정"
   ]
  },
  {
   "cell_type": "code",
   "execution_count": null,
   "id": "d2a951e2",
   "metadata": {},
   "outputs": [],
   "source": []
  },
  {
   "cell_type": "markdown",
   "id": "2a9ae2c6",
   "metadata": {},
   "source": [
    "## 3-3 3-2에서 가장 성능 좋은 알고리즘을 이용하여 K-Fold 교차검증을 수행하시오."
   ]
  },
  {
   "cell_type": "code",
   "execution_count": null,
   "id": "21a57913",
   "metadata": {},
   "outputs": [],
   "source": []
  },
  {
   "cell_type": "markdown",
   "id": "c684b36a",
   "metadata": {},
   "source": [
    "## 데이터 설명\n",
    "- 데이터 출처 : https://taas.koroad.or.kr/api/selectOpenApi.do 후처리\n",
    "- 데이터 링크 : https://raw.githubusercontent.com/Datamanim/datarepo/main/adp/30/p2_v2.csv\n",
    "- 데이터 설명 : 자전거사고 다발지역 개별사고 정보\n",
    "1) 대상사고 : 해당 1년간 발생한 가해 또는 피해차종이 자전거인 교통사고\n",
    "2) 다발지역 선정조건 : 반경 300m 내 대상사고 4건이상 발생지역\n",
    "3) 종속 변수 : 피해자신체상해정도 "
   ]
  },
  {
   "cell_type": "code",
   "execution_count": 4,
   "id": "425a9512",
   "metadata": {},
   "outputs": [
    {
     "data": {
      "text/html": [
       "<div>\n",
       "<style scoped>\n",
       "    .dataframe tbody tr th:only-of-type {\n",
       "        vertical-align: middle;\n",
       "    }\n",
       "\n",
       "    .dataframe tbody tr th {\n",
       "        vertical-align: top;\n",
       "    }\n",
       "\n",
       "    .dataframe thead th {\n",
       "        text-align: right;\n",
       "    }\n",
       "</style>\n",
       "<table border=\"1\" class=\"dataframe\">\n",
       "  <thead>\n",
       "    <tr style=\"text-align: right;\">\n",
       "      <th></th>\n",
       "      <th>사고내용</th>\n",
       "      <th>가해자성별</th>\n",
       "      <th>가해자연령</th>\n",
       "      <th>가해자차종</th>\n",
       "      <th>피해자신체상해정도</th>\n",
       "      <th>사고유형</th>\n",
       "      <th>기상상태</th>\n",
       "      <th>사망자수</th>\n",
       "      <th>발생시각</th>\n",
       "    </tr>\n",
       "  </thead>\n",
       "  <tbody>\n",
       "    <tr>\n",
       "      <th>0</th>\n",
       "      <td>경상</td>\n",
       "      <td>여</td>\n",
       "      <td>75세</td>\n",
       "      <td>자전거</td>\n",
       "      <td>경상</td>\n",
       "      <td>차대차 - 기타</td>\n",
       "      <td>맑음</td>\n",
       "      <td>0</td>\n",
       "      <td>2018-04-03 15시</td>\n",
       "    </tr>\n",
       "    <tr>\n",
       "      <th>1</th>\n",
       "      <td>중상</td>\n",
       "      <td>여</td>\n",
       "      <td>26세</td>\n",
       "      <td>자전거</td>\n",
       "      <td>중상</td>\n",
       "      <td>차대차 - 측면충돌</td>\n",
       "      <td>맑음</td>\n",
       "      <td>0</td>\n",
       "      <td>2018-04-21 13시</td>\n",
       "    </tr>\n",
       "    <tr>\n",
       "      <th>2</th>\n",
       "      <td>중상</td>\n",
       "      <td>남</td>\n",
       "      <td>34세</td>\n",
       "      <td>자전거</td>\n",
       "      <td>중상</td>\n",
       "      <td>차대차 - 기타</td>\n",
       "      <td>맑음</td>\n",
       "      <td>0</td>\n",
       "      <td>2018-05-01 08시</td>\n",
       "    </tr>\n",
       "  </tbody>\n",
       "</table>\n",
       "</div>"
      ],
      "text/plain": [
       "  사고내용 가해자성별 가해자연령 가해자차종 피해자신체상해정도        사고유형 기상상태  사망자수            발생시각\n",
       "0   경상     여   75세   자전거        경상    차대차 - 기타   맑음     0  2018-04-03 15시\n",
       "1   중상     여   26세   자전거        중상  차대차 - 측면충돌   맑음     0  2018-04-21 13시\n",
       "2   중상     남   34세   자전거        중상    차대차 - 기타   맑음     0  2018-05-01 08시"
      ]
     },
     "execution_count": 4,
     "metadata": {},
     "output_type": "execute_result"
    }
   ],
   "source": [
    "df = pd.read_csv('https://raw.githubusercontent.com/Datamanim/datarepo/main/adp/30/p2.csv',encoding='cp949')\n",
    "df.head(3)"
   ]
  },
  {
   "cell_type": "code",
   "execution_count": 5,
   "id": "798f65dd",
   "metadata": {
    "scrolled": true
   },
   "outputs": [
    {
     "data": {
      "text/html": [
       "<div>\n",
       "<style scoped>\n",
       "    .dataframe tbody tr th:only-of-type {\n",
       "        vertical-align: middle;\n",
       "    }\n",
       "\n",
       "    .dataframe tbody tr th {\n",
       "        vertical-align: top;\n",
       "    }\n",
       "\n",
       "    .dataframe thead th {\n",
       "        text-align: right;\n",
       "    }\n",
       "</style>\n",
       "<table border=\"1\" class=\"dataframe\">\n",
       "  <thead>\n",
       "    <tr style=\"text-align: right;\">\n",
       "      <th></th>\n",
       "      <th>사고년도</th>\n",
       "      <th>가해자성별</th>\n",
       "      <th>가해자연령</th>\n",
       "      <th>가해차종</th>\n",
       "      <th>가해자신체상해정도</th>\n",
       "      <th>피해자성별</th>\n",
       "      <th>피해자연령</th>\n",
       "      <th>피해차종</th>\n",
       "      <th>피해자신체상해정도</th>\n",
       "      <th>사고유형</th>\n",
       "      <th>가해자법규위반</th>\n",
       "      <th>기상상태</th>\n",
       "      <th>시각</th>\n",
       "      <th>사건번호</th>\n",
       "    </tr>\n",
       "  </thead>\n",
       "  <tbody>\n",
       "    <tr>\n",
       "      <th>0</th>\n",
       "      <td>2015</td>\n",
       "      <td>남</td>\n",
       "      <td>46세</td>\n",
       "      <td>승합차</td>\n",
       "      <td>상해없음</td>\n",
       "      <td>여</td>\n",
       "      <td>64세</td>\n",
       "      <td>자전거</td>\n",
       "      <td>경상</td>\n",
       "      <td>차대차 - 기타</td>\n",
       "      <td>안전운전불이행</td>\n",
       "      <td>맑음</td>\n",
       "      <td>2015-07-03_10시</td>\n",
       "      <td>ID_796</td>\n",
       "    </tr>\n",
       "    <tr>\n",
       "      <th>1</th>\n",
       "      <td>2019</td>\n",
       "      <td>남</td>\n",
       "      <td>53세</td>\n",
       "      <td>승용차</td>\n",
       "      <td>상해없음</td>\n",
       "      <td>여</td>\n",
       "      <td>57세</td>\n",
       "      <td>자전거</td>\n",
       "      <td>경상</td>\n",
       "      <td>차대차 - 후진중충돌</td>\n",
       "      <td>안전운전불이행</td>\n",
       "      <td>맑음</td>\n",
       "      <td>2019-10-12_10시</td>\n",
       "      <td>ID_6697</td>\n",
       "    </tr>\n",
       "    <tr>\n",
       "      <th>2</th>\n",
       "      <td>2015</td>\n",
       "      <td>남</td>\n",
       "      <td>39세</td>\n",
       "      <td>승용차</td>\n",
       "      <td>상해없음</td>\n",
       "      <td>남</td>\n",
       "      <td>63세</td>\n",
       "      <td>자전거</td>\n",
       "      <td>중상</td>\n",
       "      <td>차대차 - 기타</td>\n",
       "      <td>기타</td>\n",
       "      <td>맑음</td>\n",
       "      <td>2015-03-23_20시</td>\n",
       "      <td>ID_919</td>\n",
       "    </tr>\n",
       "    <tr>\n",
       "      <th>3</th>\n",
       "      <td>2016</td>\n",
       "      <td>남</td>\n",
       "      <td>12세</td>\n",
       "      <td>자전거</td>\n",
       "      <td>상해없음</td>\n",
       "      <td>남</td>\n",
       "      <td>52세</td>\n",
       "      <td>보행자</td>\n",
       "      <td>경상</td>\n",
       "      <td>차대사람 - 길가장자리구역통행중</td>\n",
       "      <td>안전운전불이행</td>\n",
       "      <td>맑음</td>\n",
       "      <td>2016-04-10_15시</td>\n",
       "      <td>ID_2512</td>\n",
       "    </tr>\n",
       "    <tr>\n",
       "      <th>4</th>\n",
       "      <td>2015</td>\n",
       "      <td>남</td>\n",
       "      <td>54세</td>\n",
       "      <td>승용차</td>\n",
       "      <td>상해없음</td>\n",
       "      <td>남</td>\n",
       "      <td>63세</td>\n",
       "      <td>자전거</td>\n",
       "      <td>중상</td>\n",
       "      <td>차대차 - 기타</td>\n",
       "      <td>안전운전불이행</td>\n",
       "      <td>맑음</td>\n",
       "      <td>2015-08-04_6시</td>\n",
       "      <td>ID_75</td>\n",
       "    </tr>\n",
       "  </tbody>\n",
       "</table>\n",
       "</div>"
      ],
      "text/plain": [
       "   사고년도 가해자성별 가해자연령 가해차종 가해자신체상해정도 피해자성별 피해자연령 피해차종 피해자신체상해정도  \\\n",
       "0  2015     남   46세  승합차      상해없음     여   64세  자전거        경상   \n",
       "1  2019     남   53세  승용차      상해없음     여   57세  자전거        경상   \n",
       "2  2015     남   39세  승용차      상해없음     남   63세  자전거        중상   \n",
       "3  2016     남   12세  자전거      상해없음     남   52세  보행자        경상   \n",
       "4  2015     남   54세  승용차      상해없음     남   63세  자전거        중상   \n",
       "\n",
       "                사고유형  가해자법규위반 기상상태              시각     사건번호  \n",
       "0           차대차 - 기타  안전운전불이행   맑음  2015-07-03_10시   ID_796  \n",
       "1        차대차 - 후진중충돌  안전운전불이행   맑음  2019-10-12_10시  ID_6697  \n",
       "2           차대차 - 기타       기타   맑음  2015-03-23_20시   ID_919  \n",
       "3  차대사람 - 길가장자리구역통행중  안전운전불이행   맑음  2016-04-10_15시  ID_2512  \n",
       "4           차대차 - 기타  안전운전불이행   맑음   2015-08-04_6시    ID_75  "
      ]
     },
     "execution_count": 5,
     "metadata": {},
     "output_type": "execute_result"
    }
   ],
   "source": [
    "df = pd.read_csv('https://raw.githubusercontent.com/Datamanim/datarepo/main/adp/30/p2_v2.csv')\n",
    "df.head()"
   ]
  },
  {
   "cell_type": "markdown",
   "id": "1bc6f69c",
   "metadata": {},
   "source": [
    "## 4-1 발생시각을 통해 평일인지 주말인지를 구분하는  '주말여부'  범주형 변수 추가하고 데이터 분포를 확인하라. (월 ~ 금은 평일, 토요일과 일요일을 주말)"
   ]
  },
  {
   "cell_type": "code",
   "execution_count": null,
   "id": "5bcbe31a",
   "metadata": {},
   "outputs": [],
   "source": []
  },
  {
   "cell_type": "markdown",
   "id": "d95f4e52",
   "metadata": {},
   "source": [
    "## 4-2 '피해자신체상해정도' 에 따라 각 독립변수들이 유의한지 통계적 검정하라."
   ]
  },
  {
   "cell_type": "code",
   "execution_count": null,
   "id": "8f00704e",
   "metadata": {},
   "outputs": [],
   "source": []
  },
  {
   "cell_type": "markdown",
   "id": "ced79c7b",
   "metadata": {},
   "source": [
    "## 4-3 4-2 에서 유의한 변수들만을 가지고 '피해자신체상해정도'를 기준으로 SMOTE 오버샘플링을 수행하고 샘플링 데이터와 기존데이터를 합친 전체 데이터에 대해 범주형변수는 변수별 빈도를 나타내고 연속형이면 평균을 나타내시오"
   ]
  },
  {
   "cell_type": "code",
   "execution_count": null,
   "id": "f1f736af",
   "metadata": {},
   "outputs": [],
   "source": []
  },
  {
   "cell_type": "markdown",
   "id": "0b20a303",
   "metadata": {},
   "source": [
    "## 4-4 4-3 데이터를 가지고 '피해자신체상해정도' 을 종속변수로 하여 로지스틱회귀분석, XGB 분류 분류 모델을 만들고 성능 비교를 하고 영향력 있는 변수를 확인하라"
   ]
  },
  {
   "cell_type": "code",
   "execution_count": null,
   "id": "a3149032",
   "metadata": {},
   "outputs": [],
   "source": []
  },
  {
   "cell_type": "markdown",
   "id": "526e7015",
   "metadata": {},
   "source": [
    "# 통계 (40점)"
   ]
  },
  {
   "cell_type": "markdown",
   "id": "862751b7",
   "metadata": {},
   "source": [
    "## 5. \n",
    "3개의 3개의 공장이 있고, 3개의 지역이 있습니다. 각 공장에서 각 지역으로 제품을 보내는 비용과 생산 가능 수량 및 각 지역의 수요량이 다음과 같습니다.\n",
    "\n",
    "#### 비용 행렬:\n",
    "| 공장/지역 | 지역1 (수요량: 30) | 지역2 (수요량: 50) | 지역3 (수요량: 20) | 총 생산량 |\n",
    "|:--------:|:------------------:|:------------------:|:------------------:|:--------:|\n",
    "|   공장X  |        8만원        |        6만원        |        10만원       |    40    |\n",
    "|   공장Y  |        9만원        |        12만원       |        8만원        |    50    |\n",
    "|   공장Z  |        7만원        |        4만원        |        11만원       |    30    |\n",
    "\n",
    "목표는 공장 X, Y, Z에서 각 지역으로 제품을 보내는 최소 배송 비용을 구하는 것입니다.\n",
    "\n",
    "### 제약 조건:\n",
    "- 공장 X: 최대 40개 생산 가능\n",
    "- 공장 Y: 최대 50개 생산 가능\n",
    "- 공장 Z: 최대 30개 생산 가능\n",
    "- 지역 1: 30개의 제품 필요\n",
    "- 지역 2: 50개의 제품 필요\n",
    "- 지역 3: 20개의 제품 필요공장에서 생산한 제품을 3지역으로 가능한 조건에 맞게 최대로 배송한다.    \n",
    "각 공장과 각 지역 사이의 1개 제품 배송 비용이 아래와 같을 때, 최소 배송 비용은 얼마인가?    \n"
   ]
  },
  {
   "cell_type": "code",
   "execution_count": 14,
   "id": "7dac3e8a",
   "metadata": {},
   "outputs": [
    {
     "name": "stdout",
     "output_type": "stream",
     "text": [
      "최소 배송 비용:  650\n",
      "최적의 배송량:\n",
      "[20, 20, 0]\n",
      "[10, 0, 20]\n",
      "[0, 30, 0]\n"
     ]
    }
   ],
   "source": [
    "# 공장별로 지역으로 보내는 비용 행렬 (단위: 만원)\n",
    "costs = [\n",
    "    [8, 6, 10],  # 공장X -> 지역1, 지역2, 지역3\n",
    "    [9, 12, 8],  # 공장Y -> 지역1, 지역2, 지역3\n",
    "    [7, 4, 11],  # 공장Z -> 지역1, 지역2, 지역3\n",
    "]\n",
    "\n",
    "# 공장의 생산 가능량\n",
    "production_limits = [40, 50, 30]\n",
    "\n",
    "# 각 지역의 수요량\n",
    "demand = [30, 50, 20]\n",
    "\n",
    "# 총 비용을 저장할 변수\n",
    "total_cost = 0\n",
    "\n",
    "# 배송량을 저장할 리스트 (결과 출력용)\n",
    "delivery = [[0 for _ in range(3)] for _ in range(3)]  # 3x3 행렬 초기화\n",
    "\n",
    "# 비용, 공장, 지역 정보를 담은 리스트 생성 (비용 기준으로 정렬하기 위해)\n",
    "cost_list = []\n",
    "\n",
    "# 각 공장에서 각 지역으로 보내는 비용 정보를 cost_list에 추가\n",
    "for factory in range(3):\n",
    "    for region in range(3):\n",
    "        cost_list.append((costs[factory][region], factory, region))\n",
    "\n",
    "# 비용 기준으로 오름차순 정렬\n",
    "cost_list.sort()\n",
    "\n",
    "# 그리디 방식으로 최적 배분을 수행\n",
    "for cost, factory, region in cost_list:\n",
    "    # 공장의 생산 가능량과 지역의 수요량 중 작은 값만큼 배송\n",
    "    amount = min(production_limits[factory], demand[region])\n",
    "    \n",
    "    # 배송할 수량이 0보다 크면 배송을 진행\n",
    "    if amount > 0:\n",
    "        # 배송량을 기록\n",
    "        delivery[factory][region] = amount\n",
    "        \n",
    "        # 총 비용을 계산\n",
    "        total_cost += amount * cost\n",
    "        \n",
    "        # 배송한 만큼 공장의 생산 가능량과 지역의 수요량을 차감\n",
    "        production_limits[factory] -= amount\n",
    "        demand[region] -= amount\n",
    "\n",
    "# 결과 출력\n",
    "print(\"최소 배송 비용: \", total_cost)\n",
    "print(\"최적의 배송량:\")\n",
    "for row in delivery:\n",
    "    print(row)\n"
   ]
  },
  {
   "cell_type": "markdown",
   "id": "d6ad5e43",
   "metadata": {},
   "source": [
    "## 데이터 설명\n",
    "- 데이터 링크 : https://raw.githubusercontent.com/Datamanim/datarepo/main/adp/30/p6.csv\n",
    "- 데이터 설명 : 3개 연령층 (청년 장년 노년)의 A 헤드셋의 선호도 (1,2,3/ 범주형) 설문조사"
   ]
  },
  {
   "cell_type": "markdown",
   "id": "884a2cee",
   "metadata": {},
   "source": [
    "## 6.1 연령대별로 헤드셋 선호도에 차이가 있는지를 검정하기 위한 귀무가설과 연구가설을 설정해라."
   ]
  },
  {
   "cell_type": "code",
   "execution_count": null,
   "id": "55d445aa",
   "metadata": {},
   "outputs": [],
   "source": []
  },
  {
   "cell_type": "markdown",
   "id": "e0c2c676",
   "metadata": {},
   "source": [
    "## 6.2 유의수준 하에서 통계 검정해라"
   ]
  },
  {
   "cell_type": "code",
   "execution_count": null,
   "id": "368fbe05",
   "metadata": {},
   "outputs": [],
   "source": []
  },
  {
   "cell_type": "markdown",
   "id": "9d388095",
   "metadata": {},
   "source": [
    "## 데이터 설명\n",
    "아이를 6명 가진 가정이 5 가족이고, 아들/딸을 출생할 확률은 0.5이다."
   ]
  },
  {
   "cell_type": "markdown",
   "id": "0afcc3ae",
   "metadata": {},
   "source": [
    "## 7.1 딸이 4명 이상인 가구가 3 가족 이상일 확률을 구하라. (소숫점 이하 4번째 자리에서 반올림)"
   ]
  },
  {
   "cell_type": "code",
   "execution_count": null,
   "id": "bdd21cb2",
   "metadata": {},
   "outputs": [],
   "source": []
  },
  {
   "cell_type": "markdown",
   "id": "f9a3736a",
   "metadata": {},
   "source": [
    "## 7.2 5가족 중 몇 가족이 4명 이상 딸을 가질 것으로 기대할 수 있는가? (소숫점 이하 4번째 자리에서 반올림)"
   ]
  },
  {
   "cell_type": "code",
   "execution_count": null,
   "id": "6520e997",
   "metadata": {},
   "outputs": [],
   "source": []
  },
  {
   "cell_type": "markdown",
   "id": "3d6834a0",
   "metadata": {},
   "source": [
    "created by datamanim [web-link](https://www.datamanim.com)"
   ]
  }
 ],
 "metadata": {
  "kernelspec": {
   "display_name": "Python 3 (ipykernel)",
   "language": "python",
   "name": "python3"
  },
  "language_info": {
   "codemirror_mode": {
    "name": "ipython",
    "version": 3
   },
   "file_extension": ".py",
   "mimetype": "text/x-python",
   "name": "python",
   "nbconvert_exporter": "python",
   "pygments_lexer": "ipython3",
   "version": "3.8.19"
  }
 },
 "nbformat": 4,
 "nbformat_minor": 5
}
