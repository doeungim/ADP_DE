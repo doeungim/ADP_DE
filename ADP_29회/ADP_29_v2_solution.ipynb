{
 "cells": [
  {
   "cell_type": "code",
   "execution_count": 214,
   "id": "f51c324e-1f88-41b8-a811-4fdaff46848d",
   "metadata": {},
   "outputs": [],
   "source": [
    "from IPython.display import display, HTML\n",
    "\n",
    "import matplotlib.pyplot as plt\n",
    "import seaborn as sns\n",
    "import pandas as pd\n",
    "import numpy as np \n",
    "\n",
    "import warnings\n",
    "warnings.filterwarnings('ignore')"
   ]
  },
  {
   "cell_type": "code",
   "execution_count": 151,
   "id": "f101d465-ebe8-491c-ab5b-436779f1e74e",
   "metadata": {},
   "outputs": [],
   "source": [
    "df =pd.read_csv('https://raw.githubusercontent.com/Datamanim/datarepo/main/adp/29/p2_.csv')"
   ]
  },
  {
   "cell_type": "markdown",
   "id": "c393f14b-9987-4c51-939a-564fa88f9960",
   "metadata": {},
   "source": [
    "- 첫타자와 둘째타자의 각 이닝별 출루현황, 해당 이닝의 득점수를 3columns의 데이터로 변환\n",
    "- 정수형 값이 아닌 데이터 행를 제거\n",
    "- 홈런 (4)값을 가지는 행을 제거\n",
    "- 이닝별 점수를 binary로 변환 (득점 있으면 1 ,없으면 0 )\n",
    "- 둘째 타자 출루 결과를 one-hot encoding"
   ]
  },
  {
   "cell_type": "code",
   "execution_count": 163,
   "id": "b9357eaf-69f0-4e2a-ad97-dc8ba8e6ecc9",
   "metadata": {},
   "outputs": [],
   "source": [
    "lst = []\n",
    "for i in range(1,10): \n",
    "\n",
    "    x = df[['game_id', f'a{i}_1' , f'a{i}_2' , f'b{i}']].copy()\n",
    "    x.columns = ['game_id' ,'a1', 'a2' ,'score']\n",
    "    x.loc[:,'inning'] = i \n",
    "    lst.append(x) \n",
    "\n",
    "t = pd.concat(lst, axis = 0).reset_index(drop = True)\n"
   ]
  },
  {
   "cell_type": "code",
   "execution_count": 168,
   "id": "b12d02b3-4f1f-48a0-90bc-5ef210565344",
   "metadata": {},
   "outputs": [
    {
     "data": {
      "text/plain": [
       "array([5, 6, 7, 1, 2, 3, 9, 8])"
      ]
     },
     "execution_count": 168,
     "metadata": {},
     "output_type": "execute_result"
    }
   ],
   "source": [
    "# 숫자로 변환 가능한 문자열만 남김 \n",
    "t2 = t[t.a1.map(lambda x : str(x).isdigit())].reset_index(drop=True)\n",
    "\n",
    "t2['a1'] = t2['a1'].astype('int')\n",
    "t2['a2'] = t2['a2'].astype('int')\n",
    "t3 = t2[(t2.a1 != 4) & (t2.a2 != 4)].reset_index(drop = True)\n",
    "t3.a2.unique()\n"
   ]
  },
  {
   "cell_type": "code",
   "execution_count": 199,
   "id": "c5369183-5ecc-4500-917d-7f9ad89b2d0f",
   "metadata": {},
   "outputs": [],
   "source": [
    "## 둘째 타자 출루 결과 one-hot-coing \n",
    "one_hot = pd.get_dummies(t3.a2.astype('str')).astype('int')\n",
    "one_hot.columns = ['Second' + str(x) for x in one_hot.columns]\n",
    "final_df = pd.concat([t3[['game_id','a1', 'score','inning']], one_hot], axis = 1).reset_index(drop = True)"
   ]
  },
  {
   "cell_type": "code",
   "execution_count": 200,
   "id": "ed224c01-35a2-44d6-8fbf-210cbde22f94",
   "metadata": {},
   "outputs": [
    {
     "data": {
      "text/html": [
       "<div>\n",
       "<style scoped>\n",
       "    .dataframe tbody tr th:only-of-type {\n",
       "        vertical-align: middle;\n",
       "    }\n",
       "\n",
       "    .dataframe tbody tr th {\n",
       "        vertical-align: top;\n",
       "    }\n",
       "\n",
       "    .dataframe thead th {\n",
       "        text-align: right;\n",
       "    }\n",
       "</style>\n",
       "<table border=\"1\" class=\"dataframe\">\n",
       "  <thead>\n",
       "    <tr style=\"text-align: right;\">\n",
       "      <th></th>\n",
       "      <th>game_id</th>\n",
       "      <th>a1</th>\n",
       "      <th>score</th>\n",
       "      <th>inning</th>\n",
       "      <th>Second1</th>\n",
       "      <th>Second2</th>\n",
       "      <th>Second3</th>\n",
       "      <th>Second5</th>\n",
       "      <th>Second6</th>\n",
       "      <th>Second7</th>\n",
       "      <th>Second8</th>\n",
       "      <th>Second9</th>\n",
       "    </tr>\n",
       "  </thead>\n",
       "  <tbody>\n",
       "    <tr>\n",
       "      <th>0</th>\n",
       "      <td>201900016</td>\n",
       "      <td>5</td>\n",
       "      <td>0</td>\n",
       "      <td>1</td>\n",
       "      <td>0</td>\n",
       "      <td>0</td>\n",
       "      <td>0</td>\n",
       "      <td>1</td>\n",
       "      <td>0</td>\n",
       "      <td>0</td>\n",
       "      <td>0</td>\n",
       "      <td>0</td>\n",
       "    </tr>\n",
       "    <tr>\n",
       "      <th>1</th>\n",
       "      <td>201900103</td>\n",
       "      <td>5</td>\n",
       "      <td>0</td>\n",
       "      <td>1</td>\n",
       "      <td>0</td>\n",
       "      <td>0</td>\n",
       "      <td>0</td>\n",
       "      <td>0</td>\n",
       "      <td>1</td>\n",
       "      <td>0</td>\n",
       "      <td>0</td>\n",
       "      <td>0</td>\n",
       "    </tr>\n",
       "    <tr>\n",
       "      <th>2</th>\n",
       "      <td>201900112</td>\n",
       "      <td>5</td>\n",
       "      <td>0</td>\n",
       "      <td>1</td>\n",
       "      <td>0</td>\n",
       "      <td>0</td>\n",
       "      <td>0</td>\n",
       "      <td>0</td>\n",
       "      <td>0</td>\n",
       "      <td>1</td>\n",
       "      <td>0</td>\n",
       "      <td>0</td>\n",
       "    </tr>\n",
       "    <tr>\n",
       "      <th>3</th>\n",
       "      <td>201900131</td>\n",
       "      <td>5</td>\n",
       "      <td>0</td>\n",
       "      <td>1</td>\n",
       "      <td>1</td>\n",
       "      <td>0</td>\n",
       "      <td>0</td>\n",
       "      <td>0</td>\n",
       "      <td>0</td>\n",
       "      <td>0</td>\n",
       "      <td>0</td>\n",
       "      <td>0</td>\n",
       "    </tr>\n",
       "    <tr>\n",
       "      <th>4</th>\n",
       "      <td>201900141</td>\n",
       "      <td>6</td>\n",
       "      <td>0</td>\n",
       "      <td>1</td>\n",
       "      <td>0</td>\n",
       "      <td>0</td>\n",
       "      <td>0</td>\n",
       "      <td>1</td>\n",
       "      <td>0</td>\n",
       "      <td>0</td>\n",
       "      <td>0</td>\n",
       "      <td>0</td>\n",
       "    </tr>\n",
       "    <tr>\n",
       "      <th>...</th>\n",
       "      <td>...</td>\n",
       "      <td>...</td>\n",
       "      <td>...</td>\n",
       "      <td>...</td>\n",
       "      <td>...</td>\n",
       "      <td>...</td>\n",
       "      <td>...</td>\n",
       "      <td>...</td>\n",
       "      <td>...</td>\n",
       "      <td>...</td>\n",
       "      <td>...</td>\n",
       "      <td>...</td>\n",
       "    </tr>\n",
       "    <tr>\n",
       "      <th>1602</th>\n",
       "      <td>201902307</td>\n",
       "      <td>1</td>\n",
       "      <td>7</td>\n",
       "      <td>9</td>\n",
       "      <td>0</td>\n",
       "      <td>0</td>\n",
       "      <td>0</td>\n",
       "      <td>0</td>\n",
       "      <td>0</td>\n",
       "      <td>0</td>\n",
       "      <td>0</td>\n",
       "      <td>1</td>\n",
       "    </tr>\n",
       "    <tr>\n",
       "      <th>1603</th>\n",
       "      <td>201902327</td>\n",
       "      <td>7</td>\n",
       "      <td>0</td>\n",
       "      <td>9</td>\n",
       "      <td>0</td>\n",
       "      <td>0</td>\n",
       "      <td>0</td>\n",
       "      <td>1</td>\n",
       "      <td>0</td>\n",
       "      <td>0</td>\n",
       "      <td>0</td>\n",
       "      <td>0</td>\n",
       "    </tr>\n",
       "    <tr>\n",
       "      <th>1604</th>\n",
       "      <td>201902346</td>\n",
       "      <td>6</td>\n",
       "      <td>1</td>\n",
       "      <td>9</td>\n",
       "      <td>1</td>\n",
       "      <td>0</td>\n",
       "      <td>0</td>\n",
       "      <td>0</td>\n",
       "      <td>0</td>\n",
       "      <td>0</td>\n",
       "      <td>0</td>\n",
       "      <td>0</td>\n",
       "    </tr>\n",
       "    <tr>\n",
       "      <th>1605</th>\n",
       "      <td>201902365</td>\n",
       "      <td>1</td>\n",
       "      <td>2</td>\n",
       "      <td>9</td>\n",
       "      <td>0</td>\n",
       "      <td>0</td>\n",
       "      <td>0</td>\n",
       "      <td>0</td>\n",
       "      <td>0</td>\n",
       "      <td>0</td>\n",
       "      <td>0</td>\n",
       "      <td>1</td>\n",
       "    </tr>\n",
       "    <tr>\n",
       "      <th>1606</th>\n",
       "      <td>201902373</td>\n",
       "      <td>1</td>\n",
       "      <td>0</td>\n",
       "      <td>9</td>\n",
       "      <td>0</td>\n",
       "      <td>0</td>\n",
       "      <td>0</td>\n",
       "      <td>1</td>\n",
       "      <td>0</td>\n",
       "      <td>0</td>\n",
       "      <td>0</td>\n",
       "      <td>0</td>\n",
       "    </tr>\n",
       "  </tbody>\n",
       "</table>\n",
       "<p>1607 rows × 12 columns</p>\n",
       "</div>"
      ],
      "text/plain": [
       "        game_id  a1  score  inning  Second1  Second2  Second3  Second5  \\\n",
       "0     201900016   5      0       1        0        0        0        1   \n",
       "1     201900103   5      0       1        0        0        0        0   \n",
       "2     201900112   5      0       1        0        0        0        0   \n",
       "3     201900131   5      0       1        1        0        0        0   \n",
       "4     201900141   6      0       1        0        0        0        1   \n",
       "...         ...  ..    ...     ...      ...      ...      ...      ...   \n",
       "1602  201902307   1      7       9        0        0        0        0   \n",
       "1603  201902327   7      0       9        0        0        0        1   \n",
       "1604  201902346   6      1       9        1        0        0        0   \n",
       "1605  201902365   1      2       9        0        0        0        0   \n",
       "1606  201902373   1      0       9        0        0        0        1   \n",
       "\n",
       "      Second6  Second7  Second8  Second9  \n",
       "0           0        0        0        0  \n",
       "1           1        0        0        0  \n",
       "2           0        1        0        0  \n",
       "3           0        0        0        0  \n",
       "4           0        0        0        0  \n",
       "...       ...      ...      ...      ...  \n",
       "1602        0        0        0        1  \n",
       "1603        0        0        0        0  \n",
       "1604        0        0        0        0  \n",
       "1605        0        0        0        1  \n",
       "1606        0        0        0        0  \n",
       "\n",
       "[1607 rows x 12 columns]"
      ]
     },
     "execution_count": 200,
     "metadata": {},
     "output_type": "execute_result"
    }
   ],
   "source": [
    "final_df"
   ]
  },
  {
   "cell_type": "markdown",
   "id": "33e837e7-7443-40e7-b35b-50d61fa59626",
   "metadata": {},
   "source": [
    "## 4-1 데이터에 대해 Logistic Regression을 적용하고 2번타자의 희생번트 여부에 대한 회귀 계수 검정"
   ]
  },
  {
   "cell_type": "code",
   "execution_count": 269,
   "id": "19ed12bc-aceb-41a6-bda3-e7ac8d95b868",
   "metadata": {},
   "outputs": [
    {
     "name": "stdout",
     "output_type": "stream",
     "text": [
      "Warning: Maximum number of iterations has been exceeded.\n",
      "         Current function value: 0.000000\n",
      "         Iterations: 35\n",
      "                           Logit Regression Results                           \n",
      "==============================================================================\n",
      "Dep. Variable:                Second9   No. Observations:                 1607\n",
      "Model:                          Logit   Df Residuals:                     1596\n",
      "Method:                           MLE   Df Model:                           10\n",
      "Date:                Sat, 05 Oct 2024   Pseudo R-squ.:                   1.000\n",
      "Time:                        18:22:55   Log-Likelihood:            -5.4846e-06\n",
      "converged:                      False   LL-Null:                       -338.31\n",
      "Covariance Type:            nonrobust   LLR p-value:                6.533e-139\n",
      "==============================================================================\n",
      "                 coef    std err          z      P>|z|      [0.025      0.975]\n",
      "------------------------------------------------------------------------------\n",
      "const         17.5851   1314.093      0.013      0.989   -2557.990    2593.160\n",
      "a1             0.0472    246.671      0.000      1.000    -483.419     483.514\n",
      "score         -0.0062    296.151   -2.1e-05      1.000    -580.451     580.439\n",
      "inning        -0.0207    166.104     -0.000      1.000    -325.578     325.536\n",
      "Second1      -43.6271   2.76e+04     -0.002      0.999   -5.42e+04    5.41e+04\n",
      "Second2      -34.6589   1135.772     -0.031      0.976   -2260.731    2191.413\n",
      "Second3      -50.8273   4.69e+06  -1.08e-05      1.000   -9.19e+06    9.19e+06\n",
      "Second5      -44.7553   2.79e+04     -0.002      0.999   -5.47e+04    5.46e+04\n",
      "Second6      -47.4265    2.6e+05     -0.000      1.000    -5.1e+05     5.1e+05\n",
      "Second7      -45.4064   5.55e+04     -0.001      0.999   -1.09e+05    1.09e+05\n",
      "Second8      -37.2698   4811.423     -0.008      0.994   -9467.485    9392.945\n",
      "==============================================================================\n",
      "\n",
      "Complete Separation: The results show that there iscomplete separation or perfect prediction.\n",
      "In this case the Maximum Likelihood Estimator does not exist and the parameters\n",
      "are not identified.\n",
      "회귀계수 : const      17.585054\n",
      "a1          0.047222\n",
      "score      -0.006208\n",
      "inning     -0.020724\n",
      "Second1   -43.627131\n",
      "Second2   -34.658863\n",
      "Second3   -50.827338\n",
      "Second5   -44.755257\n",
      "Second6   -47.426506\n",
      "Second7   -45.406377\n",
      "Second8   -37.269814\n",
      "dtype: float64\n",
      "정확도 1.0000\n"
     ]
    }
   ],
   "source": [
    "import statsmodels.api as sm\n",
    "from sklearn.linear_model import LogisticRegression\n",
    "\n",
    "X = final_df.drop(['game_id', 'Second9'], axis = 1)\n",
    "y = final_df.Second9\n",
    "\n",
    "c_x = sm.add_constant(X)\n",
    "\n",
    "model = sm.Logit(y, c_x)\n",
    "result = model.fit()\n",
    "\n",
    "# 예측 확률값 \n",
    "y_pred = result.predict(c_x)\n",
    "y_pred = np.where(y_pred >= 0.5 , 1, 0)\n",
    "# 정확도\n",
    "accuracy = accuracy_score(y, y_pred)\n",
    "\n",
    "print(result.summary())\n",
    "print(f\"회귀계수 : {result.params}\")\n",
    "print(f\"정확도 {accuracy:.4f}\")"
   ]
  },
  {
   "cell_type": "markdown",
   "id": "17244663-2d96-4e55-9ff6-3a9239c6aaeb",
   "metadata": {},
   "source": [
    "4-3 SMOTE (random_state =0 지정)를 적용하여 data imbalance를 해결하라"
   ]
  },
  {
   "cell_type": "code",
   "execution_count": 284,
   "id": "585e6d12-e593-4744-9dc1-528b3b448846",
   "metadata": {},
   "outputs": [
    {
     "name": "stdout",
     "output_type": "stream",
     "text": [
      "(3040, 10)\n"
     ]
    },
    {
     "data": {
      "text/plain": [
       "Second9\n",
       "0    1520\n",
       "1    1520\n",
       "Name: count, dtype: int64"
      ]
     },
     "execution_count": 284,
     "metadata": {},
     "output_type": "execute_result"
    }
   ],
   "source": [
    "from imblearn.over_sampling import SMOTE \n",
    "\n",
    "smote = SMOTE(sampling_strategy = 'auto', random_state= 0)\n",
    "s_x, s_y = smote.fit_resample(X, y)\n",
    "print(s_x.shape)\n",
    "s_y.value_counts()"
   ]
  },
  {
   "cell_type": "markdown",
   "id": "6486ce98-dc67-4d6a-9039-85365832bb1e",
   "metadata": {},
   "source": [
    "구성 데이터에 Logistic Regression을 적용하고 결과를 분석하라"
   ]
  },
  {
   "cell_type": "code",
   "execution_count": 289,
   "id": "8a271c4b-7e5b-4e9c-919c-05db23328ee1",
   "metadata": {},
   "outputs": [
    {
     "name": "stdout",
     "output_type": "stream",
     "text": [
      "0.9967\n"
     ]
    }
   ],
   "source": [
    "from sklearn.model_selection import train_test_split \n",
    "from sklearn.metrics import mean_squared_error , r2_score , accuracy_score\n",
    "\n",
    "x_train, x_test , y_train, y_test = train_test_split(s_x, s_y, test_size = 0.3, random_state = 123, stratify= s_y)\n",
    "\n",
    "lr = LogisticRegression()\n",
    "lr.fit(x_train, y_train)\n",
    "lr_pred = lr.predict(x_test) \n",
    "\n",
    "score = accuracy_score(lr_pred, y_test)\n",
    "print(f\"{score:.4f}\") \n"
   ]
  },
  {
   "cell_type": "markdown",
   "id": "b5978e11-386a-4468-bf38-f6c2aaf29640",
   "metadata": {},
   "source": [
    "#### 구성 데이터에 XGB 적용하고 결과를 분석"
   ]
  },
  {
   "cell_type": "code",
   "execution_count": 296,
   "id": "4ce9d358-8496-4ba7-8b3c-238ce7489fb9",
   "metadata": {},
   "outputs": [
    {
     "name": "stdout",
     "output_type": "stream",
     "text": [
      "0.9978\n"
     ]
    },
    {
     "data": {
      "text/plain": [
       "<BarContainer object of 10 artists>"
      ]
     },
     "execution_count": 296,
     "metadata": {},
     "output_type": "execute_result"
    },
    {
     "data": {
      "image/png": "[encoded data removed]",
      "text/plain": [
       "<Figure size 640x480 with 1 Axes>"
      ]
     },
     "metadata": {},
     "output_type": "display_data"
    }
   ],
   "source": [
    "from xgboost import XGBClassifier\n",
    "\n",
    "xgb = XGBClassifier()\n",
    "xgb.fit(x_train, y_train)\n",
    "xgb_pred = xgb.predict(x_test)\n",
    "accu = accuracy_score(y_test, xgb_pred)\n",
    "print(f\"{accu:.4f}\")\n",
    "\n",
    "plt.barh(xgb.feature_names_in_ , xgb.feature_importances_)"
   ]
  },
  {
   "cell_type": "markdown",
   "id": "f9d7bf7a-6fc1-4b9c-a915-eea3e03f9480",
   "metadata": {},
   "source": [
    "제품 A의 불량률은 0.03이다. 25개의 제품을 뽑았을 때 3개가 불량일 확률을"
   ]
  },
  {
   "cell_type": "code",
   "execution_count": 344,
   "id": "949bee37-732d-415b-a905-3ee4623f7f6e",
   "metadata": {},
   "outputs": [
    {
     "data": {
      "text/plain": [
       "np.float64(0.03177384363983214)"
      ]
     },
     "execution_count": 344,
     "metadata": {},
     "output_type": "execute_result"
    }
   ],
   "source": [
    "from scipy.stats import binom , norm, stats\n",
    "\n",
    "p = 0.03\n",
    "n = 25\n",
    "\n",
    "rv = binom(n, p)\n",
    "rv.pmf(3)"
   ]
  },
  {
   "cell_type": "markdown",
   "id": "3b16d96e-e794-4d13-bef1-7c308524b71c",
   "metadata": {},
   "source": [
    "C사 생산 제품 1000개 중 양품이 600개, D사 생산 제품 500개 중 양품이 200개 이다. </br>\n",
    "두 회사의 양품률에 차이가 있는지 검정하여라"
   ]
  },
  {
   "cell_type": "code",
   "execution_count": 339,
   "id": "21a4b1f2-cdc0-4348-ba87-c0e3da9e7c6c",
   "metadata": {},
   "outputs": [
    {
     "name": "stdout",
     "output_type": "stream",
     "text": [
      "7.453559924999298\n"
     ]
    },
    {
     "data": {
      "text/plain": [
       "np.float64(9.08162434143378e-14)"
      ]
     },
     "execution_count": 339,
     "metadata": {},
     "output_type": "execute_result"
    }
   ],
   "source": [
    "n1 = 1000 \n",
    "p1 = 600 / 1000 \n",
    "\n",
    "n2 = 500\n",
    "p2 = 200 / 500 \n",
    "confa = 0.05\n",
    "# SE \n",
    "se = np.sqrt((p1 * (1 - p1) /n1 ) + (p2 * (1 - p2) /n2 ))\n",
    "\n",
    "# diff\n",
    "d = p1 - p2 \n",
    "# z_stat\n",
    "z_stat = (p1 - p2) / se\n",
    "\n",
    "# p_value \n",
    "p_value = 2 * (1 - norm.cdf(np.abs(z_stat)))\n",
    "print(z_stat)\n",
    "p_value"
   ]
  },
  {
   "cell_type": "markdown",
   "id": "d7b4152a-b3b1-4b50-8061-0eb48b6144fe",
   "metadata": {},
   "source": [
    "아래 데이터는 a,b,c,d 네 차종 각각 5회 실험 시 범퍼 파손 정도 이다. (단, 각 모집단은 정규분포를 따르며 모집단 간 등분산성을 가정한다.)"
   ]
  },
  {
   "cell_type": "code",
   "execution_count": 350,
   "id": "db6d741d-a9f3-46a5-89f6-b0b81c43e47c",
   "metadata": {},
   "outputs": [
    {
     "name": "stdout",
     "output_type": "stream",
     "text": [
      "2.817477955621638e-06\n"
     ]
    }
   ],
   "source": [
    "df = pd.read_csv('https://raw.githubusercontent.com/Datamanim/datarepo/main/adp/29/p7.csv')\n",
    "\n",
    "a = df[df['name'] == 'A']['ratio']\n",
    "b = df[df['name'] == 'B']['ratio']\n",
    "c = df[df['name'] == 'C']['ratio']\n",
    "d = df[df['name'] == 'D']['ratio']\n",
    "\n",
    "f_stat, p_val  = stats.f_oneway(a,b,c,d)\n",
    "print(p_val)"
   ]
  },
  {
   "cell_type": "code",
   "execution_count": 352,
   "id": "f471247e-9421-4e62-bbc5-68823be9c2a4",
   "metadata": {},
   "outputs": [
    {
     "data": {
      "image/png": "[encoded data removed]",
      "text/plain": [
       "<Figure size 1000x600 with 1 Axes>"
      ]
     },
     "metadata": {},
     "output_type": "display_data"
    }
   ],
   "source": [
    "from statsmodels.stats.multicomp import pairwise_tukeyhsd \n",
    "from statsmodels.stats.multicomp import MultiComparison\n",
    "\n",
    "tukey = pairwise_tukeyhsd(df['ratio'], df['name'], alpha = 0.05)\n",
    "tukey.plot_simultaneous()\n",
    "plt.show()"
   ]
  },
  {
   "cell_type": "code",
   "execution_count": null,
   "id": "1d453aa3-7f71-421b-b5ee-ee6c1f2a8d10",
   "metadata": {},
   "outputs": [],
   "source": []
  }
 ],
 "metadata": {
  "kernelspec": {
   "display_name": "Python 3 (ipykernel)",
   "language": "python",
   "name": "python3"
  },
  "language_info": {
   "codemirror_mode": {
    "name": "ipython",
    "version": 3
   },
   "file_extension": ".py",
   "mimetype": "text/x-python",
   "name": "python",
   "nbconvert_exporter": "python",
   "pygments_lexer": "ipython3",
   "version": "3.11.3"
  }
 },
 "nbformat": 4,
 "nbformat_minor": 5
}
