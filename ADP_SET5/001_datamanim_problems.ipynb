{
 "cells": [
  {
   "cell_type": "markdown",
   "id": "f780e49f",
   "metadata": {},
   "source": [
    "# 기계학습 (60점)"
   ]
  },
  {
   "cell_type": "markdown",
   "id": "2ff140e7",
   "metadata": {},
   "source": [
    "### 커머스 앱데이터\n",
    "dataurl =https://raw.githubusercontent.com/Datamanim/datarepo/main/adp/mock/001_m1.csv\n",
    "\n",
    "데이터는 커머스 앱의 유저 로그에 관한 데이터이다.      \n",
    "timestamp : event 발생시각    \n",
    "event : 로그의 이벤트 명\n",
    "- first_visit : 첫방문, 첫 방문시에는 구매를 하지 않는다\n",
    "- visit : 앱방문\n",
    "- visit_and_purchase : 앱방문 및 제품 구매     \n",
    "\n",
    "params : 이벤트 상세\n",
    "- source : 첫방문 유입 소스를 의미한다. search : 단순 검색 / promotion : 마케팅 / sns : sns유입\n",
    "- product : 구매 제품   \n",
    "\n",
    "age: 유저 나이    \n",
    "gender : 유저 성별"
   ]
  },
  {
   "cell_type": "code",
   "execution_count": null,
   "id": "ab613bf2",
   "metadata": {},
   "outputs": [],
   "source": [
    "import pandas as pd\n",
    "df =pd.read_csv('https://raw.githubusercontent.com/Datamanim/datarepo/main/adp/mock/001_m1.csv')\n",
    "df.head()"
   ]
  },
  {
   "cell_type": "code",
   "execution_count": null,
   "id": "bfa7b46b-19ea-4fcc-a75c-d2c12486896a",
   "metadata": {},
   "outputs": [],
   "source": []
  },
  {
   "cell_type": "code",
   "execution_count": null,
   "id": "7133d7d2-bc5d-46cd-8fc5-aab6a8d3c489",
   "metadata": {},
   "outputs": [],
   "source": []
  },
  {
   "cell_type": "code",
   "execution_count": null,
   "id": "e7357007-fd2d-4404-973c-c13fbb9fd30f",
   "metadata": {},
   "outputs": [],
   "source": []
  },
  {
   "cell_type": "code",
   "execution_count": null,
   "id": "23275ff6-d401-4f2b-8e78-3bfec558edda",
   "metadata": {},
   "outputs": [],
   "source": []
  },
  {
   "cell_type": "markdown",
   "id": "6178b852",
   "metadata": {},
   "source": [
    "### 기계학습1\n",
    "시각화를 포함한 데이터 EDA"
   ]
  },
  {
   "cell_type": "code",
   "execution_count": null,
   "id": "fbcaa840",
   "metadata": {},
   "outputs": [],
   "source": []
  },
  {
   "cell_type": "markdown",
   "id": "d48f6243",
   "metadata": {},
   "source": [
    "### 기계학습2\n",
    "유저의 7일차 31일차 앱 재방문율(리텐션)을 구하라.  \n",
    "\n",
    "(추가설명)   \n",
    "리텐션은 최초 앱방문일자를 기준으로 몇일 차 후에 또다시 방문했는지를    \n",
    "전체 유저에 대해 데이터를 구하고 0일차 방문 횟수로 나누어 비율을 구한 값이다.   \n",
    "- 아래와 같이 전체 일자에 대한 리텐션 결과를 구할 수 있다\n",
    "![img](https://raw.githubusercontent.com/Datamanim/datarepo/main/adp/mock/001_m2_img.png) \n",
    "<table border=\"1\" class=\"dataframe\">\n",
    "  <thead>\n",
    "    <tr style=\"text-align: right;\">\n",
    "      <th></th>\n",
    "      <th>retention-proportion</th>\n",
    "    </tr>\n",
    "    <tr>\n",
    "      <th>day</th>\n",
    "      <th></th>\n",
    "    </tr>\n",
    "  </thead>\n",
    "  <tbody>\n",
    "    <tr>\n",
    "      <th>0</th>\n",
    "      <td>100.000000</td>\n",
    "    </tr>\n",
    "    <tr>\n",
    "      <th>1</th>\n",
    "      <td>69.519580</td>\n",
    "    </tr>\n",
    "    <tr>\n",
    "      <th>2</th>\n",
    "      <td>1.264971</td>\n",
    "    </tr>\n",
    "    <tr>\n",
    "      <th>3</th>\n",
    "      <td>1.251514</td>\n",
    "    </tr>\n",
    "    <tr>\n",
    "      <th>4</th>\n",
    "      <td>1.318800</td>\n",
    "    </tr>\n",
    "  </tbody>\n",
    "</table>"
   ]
  },
  {
   "cell_type": "code",
   "execution_count": null,
   "id": "1eff4afb",
   "metadata": {},
   "outputs": [],
   "source": []
  },
  {
   "cell_type": "markdown",
   "id": "1f98e09e",
   "metadata": {},
   "source": [
    "### 기계학습3     \n",
    "가입일 포함 첫 31일 동안의 유저 행동을 통해 32일째 부터 7일동안의 물건 구매 여부를 확인하는 모델링을 진행하려고 한다.     \n",
    "이를 위한 전처리를 진행하라. \n",
    "- 유저별 가입 후 한달 동안의 메타정보에 대한 테이블 (자율구성)    \n",
    "- 종속 변수 : 가입 후 한달 후 일주일 동안 물건 구매 여부 (0,1)"
   ]
  },
  {
   "cell_type": "code",
   "execution_count": null,
   "id": "0a7dead7",
   "metadata": {},
   "outputs": [],
   "source": []
  },
  {
   "cell_type": "markdown",
   "id": "2f138633",
   "metadata": {},
   "source": [
    "### 기계학습4     \n",
    "2개의 분류 모델을 통해 학습을 진행하고 모델 평가를 진행하라    \n",
    "유의미한 변수를 추출하라"
   ]
  },
  {
   "cell_type": "code",
   "execution_count": null,
   "id": "b79ee715",
   "metadata": {},
   "outputs": [],
   "source": []
  },
  {
   "cell_type": "markdown",
   "id": "a46fa916",
   "metadata": {},
   "source": [
    "### 기계학습5     \n",
    "모델 성능 개선을 위해 추가로 필요한 데이터를 개발팀에 요청하려한다.   \n",
    "필요항목과 해당 항목을 요청하는 이유를 서술하라     "
   ]
  },
  {
   "cell_type": "code",
   "execution_count": null,
   "id": "72c589c1",
   "metadata": {},
   "outputs": [],
   "source": []
  },
  {
   "cell_type": "markdown",
   "id": "4a4eff2d",
   "metadata": {},
   "source": [
    "### 비트코인 가격 데이터   \n",
    "dataurl =https://raw.githubusercontent.com/Datamanim/datarepo/main/adp/mock/001_m2.csv\n",
    "\n",
    "데이터는 특정기간 동안의 1분봉 비트코인 가격 데이터이다    \n",
    "TIMESTAMP : timestamp\n",
    "bitcoin($) : 비트코인가격(달러)\n"
   ]
  },
  {
   "cell_type": "code",
   "execution_count": 103,
   "id": "c6306a3b",
   "metadata": {},
   "outputs": [
    {
     "data": {
      "text/html": [
       "<div>\n",
       "<style scoped>\n",
       "    .dataframe tbody tr th:only-of-type {\n",
       "        vertical-align: middle;\n",
       "    }\n",
       "\n",
       "    .dataframe tbody tr th {\n",
       "        vertical-align: top;\n",
       "    }\n",
       "\n",
       "    .dataframe thead th {\n",
       "        text-align: right;\n",
       "    }\n",
       "</style>\n",
       "<table border=\"1\" class=\"dataframe\">\n",
       "  <thead>\n",
       "    <tr style=\"text-align: right;\">\n",
       "      <th></th>\n",
       "      <th>TIMESTAMP</th>\n",
       "      <th>bitcoin($)</th>\n",
       "    </tr>\n",
       "  </thead>\n",
       "  <tbody>\n",
       "    <tr>\n",
       "      <th>0</th>\n",
       "      <td>1577836800</td>\n",
       "      <td>7195.24</td>\n",
       "    </tr>\n",
       "    <tr>\n",
       "      <th>1</th>\n",
       "      <td>1577836860</td>\n",
       "      <td>7187.67</td>\n",
       "    </tr>\n",
       "    <tr>\n",
       "      <th>2</th>\n",
       "      <td>1577836920</td>\n",
       "      <td>7184.41</td>\n",
       "    </tr>\n",
       "    <tr>\n",
       "      <th>3</th>\n",
       "      <td>1577836980</td>\n",
       "      <td>7183.83</td>\n",
       "    </tr>\n",
       "    <tr>\n",
       "      <th>4</th>\n",
       "      <td>1577837040</td>\n",
       "      <td>7185.54</td>\n",
       "    </tr>\n",
       "  </tbody>\n",
       "</table>\n",
       "</div>"
      ],
      "text/plain": [
       "    TIMESTAMP  bitcoin($)\n",
       "0  1577836800     7195.24\n",
       "1  1577836860     7187.67\n",
       "2  1577836920     7184.41\n",
       "3  1577836980     7183.83\n",
       "4  1577837040     7185.54"
      ]
     },
     "execution_count": 103,
     "metadata": {},
     "output_type": "execute_result"
    }
   ],
   "source": [
    "import pandas as pd\n",
    "df = pd.read_csv('https://raw.githubusercontent.com/Datamanim/datarepo/main/adp/mock/001_m2.csv')\n",
    "df.head()"
   ]
  },
  {
   "cell_type": "markdown",
   "id": "178c1717",
   "metadata": {},
   "source": [
    "### 기계학습5    \n",
    "결측치 대치 방법에 대해 논의하고 적절한 방법으로 주어진 데이터의 결측치를 처리하라       "
   ]
  },
  {
   "cell_type": "code",
   "execution_count": null,
   "id": "bc1cb0ca",
   "metadata": {},
   "outputs": [],
   "source": []
  },
  {
   "cell_type": "markdown",
   "id": "eb80946b",
   "metadata": {},
   "source": [
    "### 기계학습6     \n",
    "데이터의 정상성을 통계적, 시각적 방법을 통해 확인하라.     "
   ]
  },
  {
   "cell_type": "code",
   "execution_count": null,
   "id": "d256c058",
   "metadata": {},
   "outputs": [],
   "source": []
  },
  {
   "cell_type": "markdown",
   "id": "cf3ac4b2",
   "metadata": {},
   "source": [
    "### 기계학습7     \n",
    "ARIMA 모델을 통해 모델링을 진행하고 평가하라. (p,d,q) 파라미터의 적정값을 선정한 이유를 서술하라   \n",
    "(2020년 2월 6시간 동안의 데이터를 평가용 데이터로 한다)"
   ]
  },
  {
   "cell_type": "code",
   "execution_count": null,
   "id": "679d37be",
   "metadata": {},
   "outputs": [],
   "source": []
  },
  {
   "cell_type": "markdown",
   "id": "6c9d9832",
   "metadata": {},
   "source": [
    "# 통계 (40점)"
   ]
  },
  {
   "cell_type": "markdown",
   "id": "48bb83f6",
   "metadata": {},
   "source": [
    "### 통계1      \n",
    "자동차 A,B,C에 대해 유저 9명의 선호도(1~6, 6은 가장선호,1은 가장 비선호)를 표시했다.    \n",
    "자동차 간의 선호도 차이가 존재하는지 검정하라     \n",
    "\n",
    "<table>\n",
    "<tr>\n",
    "    <th></th>\n",
    "    <td>차량 A</td>\n",
    "    <td>차량 B</td> \n",
    "    <td>차량 C</td>  \n",
    "</tr>\n",
    "\n",
    "<tr>\n",
    "    <td>피험자1</td> \n",
    "    <td>4</td> \n",
    "    <td>1</td>\n",
    "    <td>6</td>\n",
    "</tr>\n",
    "<tr>\n",
    "    <td>피험자2</td> \n",
    "    <td>3</td> \n",
    "    <td>4</td>\n",
    "    <td>6</td>\n",
    "</tr>\n",
    "<tr>\n",
    "    <td>피험자3</td> \n",
    "    <td>2</td> \n",
    "    <td>4</td>\n",
    "    <td>6</td>\n",
    "</tr>\n",
    "    <tr>\n",
    "    <td>피험자4</td> \n",
    "    <td>4</td> \n",
    "    <td>3</td>\n",
    "    <td>2</td>\n",
    "</tr>\n",
    "    <tr>\n",
    "    <td>피험자5</td> \n",
    "    <td>4</td> \n",
    "    <td>1</td>\n",
    "    <td>6</td>\n",
    "</tr>\n",
    "    <tr>\n",
    "    <td>피험자6</td> \n",
    "    <td>6</td> \n",
    "    <td>4</td>\n",
    "    <td>2</td>\n",
    "</tr>\n",
    "    <tr>\n",
    "    <td>피험자7</td> \n",
    "    <td>5</td> \n",
    "    <td>3</td>\n",
    "    <td>5</td>\n",
    "</tr>\n",
    "    <tr>\n",
    "    <td>피험자8</td> \n",
    "    <td>6</td> \n",
    "    <td>3</td>\n",
    "    <td>2</td>\n",
    "</tr>\n",
    "    <tr>\n",
    "    <td>피험자9</td> \n",
    "    <td>2</td> \n",
    "    <td>4</td>\n",
    "    <td>6</td>\n",
    "</tr>\n",
    "</table>  \n",
    "\n",
    "(1) 가설설정     \n",
    "(2) 검정 통계량 확인 및 가설검정"
   ]
  },
  {
   "cell_type": "code",
   "execution_count": null,
   "id": "c15827e6",
   "metadata": {},
   "outputs": [],
   "source": []
  },
  {
   "cell_type": "markdown",
   "id": "9fdee47c",
   "metadata": {},
   "source": [
    "### 통계2\n",
    "dataurl = https://raw.githubusercontent.com/Datamanim/datarepo/main/adp/mock/001_s2.csv\n",
    "위 데이터는 영화관 이용객의 장르별 팝콘 구매여부에 관한 데이터이다.    \n",
    "장르별 팝콘 구매 여부가 연관이 있는지 확인하고 싶다.    \n",
    "(1) 가설설정, 가설 검증      \n",
    "(2) 장르과 구매여부의 정량적인 상관정도를 구하고 분석하라    "
   ]
  },
  {
   "cell_type": "code",
   "execution_count": 1,
   "id": "cc887fc5",
   "metadata": {},
   "outputs": [
    {
     "data": {
      "text/html": [
       "<div>\n",
       "<style scoped>\n",
       "    .dataframe tbody tr th:only-of-type {\n",
       "        vertical-align: middle;\n",
       "    }\n",
       "\n",
       "    .dataframe tbody tr th {\n",
       "        vertical-align: top;\n",
       "    }\n",
       "\n",
       "    .dataframe thead th {\n",
       "        text-align: right;\n",
       "    }\n",
       "</style>\n",
       "<table border=\"1\" class=\"dataframe\">\n",
       "  <thead>\n",
       "    <tr style=\"text-align: right;\">\n",
       "      <th></th>\n",
       "      <th>장르</th>\n",
       "      <th>구매여부</th>\n",
       "    </tr>\n",
       "  </thead>\n",
       "  <tbody>\n",
       "    <tr>\n",
       "      <th>0</th>\n",
       "      <td>액션</td>\n",
       "      <td>구매</td>\n",
       "    </tr>\n",
       "    <tr>\n",
       "      <th>1</th>\n",
       "      <td>액션</td>\n",
       "      <td>구매</td>\n",
       "    </tr>\n",
       "    <tr>\n",
       "      <th>2</th>\n",
       "      <td>액션</td>\n",
       "      <td>구매</td>\n",
       "    </tr>\n",
       "    <tr>\n",
       "      <th>3</th>\n",
       "      <td>액션</td>\n",
       "      <td>구매</td>\n",
       "    </tr>\n",
       "    <tr>\n",
       "      <th>4</th>\n",
       "      <td>액션</td>\n",
       "      <td>구매</td>\n",
       "    </tr>\n",
       "  </tbody>\n",
       "</table>\n",
       "</div>"
      ],
      "text/plain": [
       "   장르 구매여부\n",
       "0  액션   구매\n",
       "1  액션   구매\n",
       "2  액션   구매\n",
       "3  액션   구매\n",
       "4  액션   구매"
      ]
     },
     "execution_count": 1,
     "metadata": {},
     "output_type": "execute_result"
    }
   ],
   "source": [
    "import pandas as pd\n",
    "df =pd.read_csv('https://raw.githubusercontent.com/Datamanim/datarepo/main/adp/mock/001_s2.csv')\n",
    "df.head()"
   ]
  },
  {
   "cell_type": "code",
   "execution_count": null,
   "id": "07376cf0",
   "metadata": {},
   "outputs": [],
   "source": []
  },
  {
   "cell_type": "markdown",
   "id": "80fa15ec",
   "metadata": {},
   "source": [
    "### 통계 3     \n",
    "어느 도시에서 성인 전체의 25%가 흡연자라고 한다. 만약 현재도 이와 비슷한 비율이 유지된다면 1300명의 성인표본에서 흡연자가 317명보다 작을 확률은 얼마인가?"
   ]
  },
  {
   "cell_type": "code",
   "execution_count": null,
   "id": "b1fcceb8",
   "metadata": {},
   "outputs": [],
   "source": []
  },
  {
   "cell_type": "markdown",
   "id": "ba656e5e",
   "metadata": {},
   "source": [
    "### 통계 4     \n",
    "어떤 앱 개발 회사가 새로운 게임을 출시했다. 사용자가 게임 내에서 특정 퀘스트를 클리어하는 성공 확률이 0.3이라고 한다.    \n",
    "(1) 사용자가 총 3회의 성공을 하기까지 시도한 횟수가 5회 미만일 확률은 얼마인가?         \n",
    "(2) 사용자가 4번의 퀘스트 클리어 성공을 경험하기까지 평균적으로 몇 번의 시도를 하는가?    "
   ]
  },
  {
   "cell_type": "code",
   "execution_count": null,
   "id": "e138dd51",
   "metadata": {},
   "outputs": [],
   "source": []
  },
  {
   "cell_type": "markdown",
   "id": "5dd81726",
   "metadata": {},
   "source": [
    "### 통계5    \n",
    "데이터는 년도별 플로리다에서 발생한 상어 공격 횟수와 해당 연도의 인구수이다. \n",
    "일반화선형모형을 이용하여 년도별 인구에 따른 상어공격 수에 대한 모델링을 진행하라\n",
    "(포아송 분포를 고려하여 모델링을 하고 오프셋은 인구를 1000으로 나눈 후 로그를 씌운값으로 진행하라.)   \n",
    "(1) 모델링 후 모델에 대한 분석을 진행하라.(시각화포함)     \n",
    "(2) 2000년도에 인구가 16224544라고 할 때 상어 공격횟수를 예측한 값을 출력하라    "
   ]
  },
  {
   "cell_type": "code",
   "execution_count": 1,
   "id": "10e90074",
   "metadata": {},
   "outputs": [
    {
     "data": {
      "text/html": [
       "<div>\n",
       "<style scoped>\n",
       "    .dataframe tbody tr th:only-of-type {\n",
       "        vertical-align: middle;\n",
       "    }\n",
       "\n",
       "    .dataframe tbody tr th {\n",
       "        vertical-align: top;\n",
       "    }\n",
       "\n",
       "    .dataframe thead th {\n",
       "        text-align: right;\n",
       "    }\n",
       "</style>\n",
       "<table border=\"1\" class=\"dataframe\">\n",
       "  <thead>\n",
       "    <tr style=\"text-align: right;\">\n",
       "      <th></th>\n",
       "      <th>Year</th>\n",
       "      <th>Population</th>\n",
       "      <th>Attacks</th>\n",
       "    </tr>\n",
       "  </thead>\n",
       "  <tbody>\n",
       "    <tr>\n",
       "      <th>0</th>\n",
       "      <td>1946</td>\n",
       "      <td>2473000</td>\n",
       "      <td>0</td>\n",
       "    </tr>\n",
       "    <tr>\n",
       "      <th>1</th>\n",
       "      <td>1947</td>\n",
       "      <td>2539000</td>\n",
       "      <td>1</td>\n",
       "    </tr>\n",
       "    <tr>\n",
       "      <th>2</th>\n",
       "      <td>1948</td>\n",
       "      <td>2578000</td>\n",
       "      <td>0</td>\n",
       "    </tr>\n",
       "    <tr>\n",
       "      <th>3</th>\n",
       "      <td>1949</td>\n",
       "      <td>2668000</td>\n",
       "      <td>0</td>\n",
       "    </tr>\n",
       "    <tr>\n",
       "      <th>4</th>\n",
       "      <td>1950</td>\n",
       "      <td>2771305</td>\n",
       "      <td>1</td>\n",
       "    </tr>\n",
       "  </tbody>\n",
       "</table>\n",
       "</div>"
      ],
      "text/plain": [
       "   Year  Population  Attacks\n",
       "0  1946     2473000        0\n",
       "1  1947     2539000        1\n",
       "2  1948     2578000        0\n",
       "3  1949     2668000        0\n",
       "4  1950     2771305        1"
      ]
     },
     "execution_count": 1,
     "metadata": {},
     "output_type": "execute_result"
    }
   ],
   "source": [
    "import pandas as pd\n",
    "\n",
    "df = pd.read_csv('https://raw.githubusercontent.com/Datamanim/datarepo/main/adp/mock/001_s5.csv')\n",
    "df.head()"
   ]
  },
  {
   "cell_type": "code",
   "execution_count": null,
   "id": "66a8cf82",
   "metadata": {},
   "outputs": [],
   "source": []
  }
 ],
 "metadata": {
  "kernelspec": {
   "display_name": "Python 3 (ipykernel)",
   "language": "python",
   "name": "python3"
  },
  "language_info": {
   "codemirror_mode": {
    "name": "ipython",
    "version": 3
   },
   "file_extension": ".py",
   "mimetype": "text/x-python",
   "name": "python",
   "nbconvert_exporter": "python",
   "pygments_lexer": "ipython3",
   "version": "3.8.19"
  }
 },
 "nbformat": 4,
 "nbformat_minor": 5
}
