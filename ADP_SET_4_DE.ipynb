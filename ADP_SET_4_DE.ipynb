{
  "nbformat": 4,
  "nbformat_minor": 0,
  "metadata": {
    "colab": {
      "provenance": [],
      "mount_file_id": "13eaat_77AeWPZAyfzRQ_p-v2faVS9JnY",
      "authorship_tag": "ABX9TyMRd767KJ0fBx7DY3J0NqB6",
      "include_colab_link": true
    },
    "kernelspec": {
      "name": "python3",
      "display_name": "Python 3"
    },
    "language_info": {
      "name": "python"
    }
  },
  "cells": [
    {
      "cell_type": "markdown",
      "metadata": {
        "id": "view-in-github",
        "colab_type": "text"
      },
      "source": [
        "<a href=\"https://colab.research.google.com/github/doeungim/ADP_DE/blob/main/ADP_SET_4_DE.ipynb\" target=\"_parent\"><img src=\"https://colab.research.google.com/assets/colab-badge.svg\" alt=\"Open In Colab\"/></a>"
      ]
    },
    {
      "cell_type": "code",
      "execution_count": 2,
      "metadata": {
        "id": "dXxZcBMTTEZ3"
      },
      "outputs": [],
      "source": [
        "import pandas as pd\n",
        "\n",
        "import numpy as np\n",
        "import math\n",
        "\n",
        "import matplotlib.pyplot as plt\n",
        "import seaborn as sns\n",
        "\n",
        "from scipy import stats\n",
        "import os\n",
        "import warnings\n",
        "warnings.filterwarnings('ignore')\n",
        "# apt-get : 패키지 설치 명령어\n",
        "# -qq : 에러외의 메세지 숨기는 옵션키\n",
        "#!apt-get -qq install fonts-nanum\n",
        "\n",
        "# 한글 꺠짐 필요 라이브러리 불러오기\n",
        "import matplotlib.font_manager as fm\n",
        "fe = fm.FontEntry(\n",
        "    fname=r'/usr/share/fonts/truetype/nanum/NanumGothic.ttf', # ttf 파일이 저장되어 있는 경로\n",
        "    name='NanumGothic')                        # 이 폰트의 원하는 이름 설정\n",
        "fm.fontManager.ttflist.insert(0, fe)              # Matplotlib에 폰트 추가\n",
        "plt.rcParams.update({'font.size': 8, 'font.family': 'NanumGothic'}) # 폰트 설정\n",
        "\n"
      ]
    },
    {
      "cell_type": "code",
      "source": [
        "df = pd.read_csv('/content/drive/MyDrive/ADP_SONY/ADP_SET4/data/2019.csv')\n",
        "index = pd.read_csv('/content/drive/MyDrive/ADP_SONY/ADP_SET4/data/index.csv')"
      ],
      "metadata": {
        "id": "oYuUsvEtTkvI"
      },
      "execution_count": 34,
      "outputs": []
    },
    {
      "cell_type": "code",
      "source": [
        "path = os.listdir('/content/drive/MyDrive/ADP_SONY/ADP_SET4/data/')\n",
        "\n",
        "lst = []\n",
        "for name in path :\n",
        "   files = str(name).split('.')[0]\n",
        "   if len(files) == 4 :\n",
        "    df = pd.read_csv(f'/content/drive/MyDrive/ADP_SONY/ADP_SET4/data/{name}')\n",
        "    lst.append(df)\n",
        "\n",
        "df_total = pd.concat(lst).reset_index(drop = True)"
      ],
      "metadata": {
        "id": "5SFpUA-yADov"
      },
      "execution_count": 42,
      "outputs": []
    },
    {
      "cell_type": "markdown",
      "source": [
        "데이터 컬럼 상세 데이터를 바탕으로 출생 데이터 값을 변환한다."
      ],
      "metadata": {
        "id": "XFEiXCYyY43R"
      }
    },
    {
      "cell_type": "code",
      "source": [
        "index['항목명'] = index['항목명'].fillna(method = 'ffill')"
      ],
      "metadata": {
        "id": "BYDIrBXDTknn"
      },
      "execution_count": 43,
      "outputs": []
    },
    {
      "cell_type": "code",
      "source": [
        "dics = {}\n",
        "for part in index['항목명'].unique() :\n",
        "  target = index[index['항목명'] == part]\n",
        "\n",
        "  key_value_dic = {}\n",
        "  for key, value in target.iloc[:,1:].values :\n",
        "    if key[0] == '0' :\n",
        "      key_value_dic[str(int(key))] = value\n",
        "\n",
        "    else :\n",
        "      key_value_dic[key] = value\n",
        "\n",
        "  dics[part] = key_value_dic\n",
        "\n"
      ],
      "metadata": {
        "id": "3AAmhdIIA3kR"
      },
      "execution_count": 102,
      "outputs": []
    },
    {
      "cell_type": "code",
      "source": [
        "def convert_to_int(x) :\n",
        "  # 결측인 경우에는\n",
        "  if pd.isna(x) :\n",
        "    return np.nan\n",
        "\n",
        "  elif isinstance(x, str) :\n",
        "    return x\n",
        "\n",
        "  else :\n",
        "    return str(int(x))\n",
        "\n",
        "t = df_total.copy()\n",
        "\n",
        "for col in t.columns :\n",
        "  # dics에 해당되는 컬럼이 있으면,\n",
        "  if col in dics.keys() :\n",
        "    t[col] = t[col].map(convert_to_int)\n",
        "    t[col] = t[col].map(dics[col])"
      ],
      "metadata": {
        "id": "jmaEqB2kKYjZ"
      },
      "execution_count": 61,
      "outputs": []
    },
    {
      "cell_type": "markdown",
      "source": [
        "컬럼에서 미상이 있으면 행을 다 삭제한다."
      ],
      "metadata": {
        "id": "U_4WDIjdLKN_"
      }
    },
    {
      "cell_type": "code",
      "source": [
        "df1 = t.copy()\n",
        "\n",
        "# Key 가 columns\n",
        "for col in dics.keys() :\n",
        "  df1 = df1[~df1[col].astype('str').str.contains('미상')].reset_index(drop = True)"
      ],
      "metadata": {
        "id": "yR4maLFeGQ1m"
      },
      "execution_count": 12,
      "outputs": []
    },
    {
      "cell_type": "markdown",
      "source": [
        "아래의 조건에 해당하는 각 컬럼의 값이 있다면 해당 행은 제거한다\n",
        "* 부_교육정도코드 : 학력없음\n",
        "* 부_각세연령 : 999.0\n",
        "* 모_교육정도코드 : 학력없음\n",
        "* 모_각세연령 :999.0\n",
        "* 실제결혼연도 : 9999.0\n",
        "* 실제결혼월 : 99.0\n",
        "* 부모동거기간 : 999\n",
        "* 모_각세연령 : 50세 이상\n",
        "* 임신주수 : 0\n",
        "* 출생아체중: 1kg 이하"
      ],
      "metadata": {
        "id": "qA9Um9_RMv-B"
      }
    },
    {
      "cell_type": "code",
      "source": [
        "remove_dic = {\n",
        "    '부_교육정도코드' : '학력없음',\n",
        "    '부_각세연령' : 999.0,\n",
        "    '모_교육정도코드' : '학력없음',\n",
        "    '모_각세연령' :999.0,\n",
        "    '실제결혼연도' : 9999.0,\n",
        "    '실제결혼월' : 99.0,\n",
        "    '부모동거기간' : 999,\n",
        "    '임신주수' : 0\n",
        "}\n",
        "\n",
        "for key, value in remove_dic.items() :\n",
        "  df1 = df1[df1[key] != value].reset_index(drop =True)\n",
        "\n",
        "df1 = df1[df1['모_각세연령'] < 50].reset_index(drop = True)\n",
        "df1 = df1[df1['출생아체중'] > 1].reset_index(drop = True)"
      ],
      "metadata": {
        "id": "Rbz9vEieJ4W7"
      },
      "execution_count": 13,
      "outputs": []
    },
    {
      "cell_type": "markdown",
      "source": [
        "## EDA"
      ],
      "metadata": {
        "id": "md7P7nwLM72P"
      }
    },
    {
      "cell_type": "code",
      "source": [
        "# 출생아 체중 기준으로\n",
        "import matplotlib.pyplot as plt\n",
        "import seaborn as sns\n",
        "\n",
        "cols = [ '신고연도' , '출생자주소지_행정구역시도코드' ,'성별코드', '결혼중외의자녀여부코드', '다태아분류코드' ,'부모동거기간']\n",
        "\n",
        "fig, axes = plt.subplots(2,4, figsize =( 20, 7))\n",
        "\n",
        "for i, ax in enumerate(axes.flat[: len(cols)]) :\n",
        "  col_i = df[cols].columns[i]\n",
        "\n",
        "  if col_i == '신고연도' :\n",
        "    target = df1.groupby(['신고연도'])['출생아체중'].mean()\n",
        "    ax.plot(target.index, target.values, marker = 'o')\n",
        "\n",
        "  elif col_i == '부모동거기간' :\n",
        "    target = df1.groupby(['부모동거기간'])['출생아체중'].mean()\n",
        "    ax.plot(target.index, target.values, marker = 'o')\n",
        "\n",
        "  else :\n",
        "    sns.barplot(x = col_i, y = '출생아체중', data = df1, ax = ax)\n"
      ],
      "metadata": {
        "colab": {
          "base_uri": "https://localhost:8080/",
          "height": 422
        },
        "id": "EkQ0bJJ-M8_5",
        "outputId": "2ab6b917-dca1-4595-f305-8fc4c07a1b9b"
      },
      "execution_count": 14,
      "outputs": [
        {
          "output_type": "display_data",
          "data": {
            "text/plain": [
              "<Figure size 2000x700 with 8 Axes>"
            ],
            "image/png": "[encoded data removed]"
          },
          "metadata": {}
        }
      ]
    },
    {
      "cell_type": "markdown",
      "source": [
        "아래의 기준으로 추가적인 전처리를 실행하고 출생아체중이 각 컬럼들의 값에 따른 차이가 존재하는지 통계 검정을 실시하라\n",
        "\n",
        "데이터 필터 : 신고월이 2월이며 신고일이 10일 이하 </br>\n",
        "컬럼제거 : 연도,신고연도,신고월,신고일, 출생자주소지_행정구역시도코드, 결혼중외의자녀여부코드,부_교육정도코드,모_직업분류코드,출생연도,출생월,출생장소코드,실제결혼연도,실제결혼월,모생존아수코드,부_국적코드,모_국적코드,모_국적구분코드,부_국적구분코드"
      ],
      "metadata": {
        "id": "yLODLLBuRFrN"
      }
    },
    {
      "cell_type": "code",
      "source": [
        "#  데이터 필터\n",
        "df2 = df1[(df1['신고월'] == 2 ) & (df1['신고일'] <= 10)]\n",
        "\n",
        "# 컬럼 제거\n",
        "remove_col = ['연도','신고연도','신고월','신고일', '출생자주소지_행정구역시도코드', '결혼중외의자녀여부코드','부_교육정도코드','모_직업분류코드','출생연도','출생월','출생장소코드','실제결혼연도','실제결혼월','모생존아수코드','부_국적코드','모_국적코드','모_국적구분코드','부_국적구분코드']\n",
        "df3 = df1[df1.columns.difference(remove_col)]"
      ],
      "metadata": {
        "id": "QFSbJfuvNGbP"
      },
      "execution_count": 15,
      "outputs": []
    },
    {
      "cell_type": "markdown",
      "source": [
        "3에서 전처리한 데이터를 바탕으로 출생아 체중을 예측하는 회귀 모델을 만들려고한다. 아래의 조건에 맞게 모델링을 진행하고 평가하라\n",
        "\n",
        "성별코드 기준으로 층화추출 진행 (학습데이터 70%, 평가 데이터 30%)\n",
        "평가기준 rmse\n",
        "랜덤포레스트, 다중선형회귀 모델로 진행"
      ],
      "metadata": {
        "id": "ZIZh7Q9DSbia"
      }
    },
    {
      "cell_type": "code",
      "source": [
        "## 추가 전처리 실행\n",
        "df3['모_교육정도코드'] = df3['모_교육정도코드'].str.replace(r'[\\(\\)]', '', regex = True)\n",
        "df3['모총출생아수코드'] = df3['모총출생아수코드'].str.split('명').str[0].astype(int)"
      ],
      "metadata": {
        "id": "qqFELJwNTKCN"
      },
      "execution_count": 16,
      "outputs": []
    },
    {
      "cell_type": "code",
      "source": [
        "r_df = df3.copy()\n",
        "cate_cols = r_df.select_dtypes(include = 'object').columns\n",
        "num_cols  = r_df.select_dtypes(exclude = 'object').columns"
      ],
      "metadata": {
        "id": "hEZn04FMUgRU"
      },
      "execution_count": 22,
      "outputs": []
    },
    {
      "cell_type": "code",
      "source": [
        "from sklearn.preprocessing import LabelEncoder\n",
        "\n",
        "for col in cate_cols :\n",
        "  le = LabelEncoder()\n",
        "  r_df[col] = le.fit_transform(r_df[col])"
      ],
      "metadata": {
        "id": "kDyTAjPWTBJe"
      },
      "execution_count": 25,
      "outputs": []
    },
    {
      "cell_type": "markdown",
      "source": [
        "기계학습4\n",
        "3에서 전처리한 데이터를 바탕으로 출생아 체중을 예측하는 회귀 모델을 만들려고한다. 아래의 조건에 맞게 모델링을 진행하고 평가하라\n",
        "\n",
        "- 성별코드 기준으로 층화추출 진행 (학습데이터 70%, 평가 데이터 30%)\n",
        "- 평가기준 rmse\n",
        "- 랜덤포레스트, 다중선형회귀 모델로 진행"
      ],
      "metadata": {
        "id": "k0OB52K5s_0J"
      }
    },
    {
      "cell_type": "code",
      "source": [
        "## 층화추출\n",
        "from sklearn.model_selection import train_test_split\n",
        "from sklearn.ensemble import RandomForestRegressor\n",
        "from sklearn.linear_model import LinearRegression\n",
        "from sklearn.metrics import mean_squared_error\n",
        "from sklearn.pipeline import Pipeline\n",
        "from sklearn.preprocessing import StandardScaler\n",
        "\n",
        "X = r_df.drop(columns = ['출생아체중'], axis = 1)\n",
        "# Scaling\n",
        "ss_X = pd.DataFrame(StandardScaler().fit_transform(X) , columns = X.columns)\n",
        "\n",
        "y = r_df['출생아체중']\n",
        "\n",
        "x_train, x_test, y_train,y_test = train_test_split(ss_X, y, test_size = 0.3, stratify= ss_X['성별코드'], random_state = 344)\n",
        "\n",
        "\n",
        "# Linear\n",
        "lr = LinearRegression()\n",
        "lr.fit(x_train, y_train)\n",
        "lr_pred = lr.predict(x_test)\n",
        "lr_score = np.sqrt(mean_squared_error(y_test, lr_pred))\n",
        "\n",
        "\n",
        "# RandomForest\n",
        "rf = RandomForestRegressor()\n",
        "rf.fit(x_train, y_train)\n",
        "rf_pred = rf.predict(x_test)\n",
        "rf_score = np.sqrt(mean_squared_error(y_test, rf_pred))\n",
        "\n",
        "print(lr_score, rf_score)\n",
        "\n",
        "\"\"\"\n",
        "def rf_model(x_train, y_train) :\n",
        "  rf = RandomForestRegressor()\n",
        "\n",
        "  pipeline_rf = Pipeline([\n",
        "        ('scaler', StandardScaler()),  # 스케일링\n",
        "        ('rf', RandomForestRegressor(random_state=42))  # 랜덤포레스트 모델\n",
        "    ])\n",
        "  pipeline_rf.fit(x_train, y_train)\n",
        "\n",
        "  return pipeline_rf\n",
        "\n",
        "rf_pipe = rf_model(x_train, y_train)\n",
        "pred_rf = rf_pipe.predict(x_test)\n",
        "rf_score = np.sqrt(mean_squared_error(y_test, pred_rf))\n",
        "\n",
        "\n",
        "def lr_model(x_train, y_train) :\n",
        "  lr = LinearRegression()\n",
        "\n",
        "  pipeline_lr = Pipeline([\n",
        "        ('scaler', StandardScaler()),  # 스케일링\n",
        "        ('lr', lr)  # 랜덤포레스트 모델\n",
        "    ])\n",
        "  pipeline_lr.fit(x_train, y_train)\n",
        "\n",
        "  return pipeline_lr\n",
        "\n",
        "lr_pipe = lr_model(x_train, y_train)\n",
        "pred_lr = lr_pipe.predict(x_test)\n",
        "rf_score = np.sqrt(mean_squared_error(y_test, pred_lr))\n",
        "\"\"\""
      ],
      "metadata": {
        "colab": {
          "base_uri": "https://localhost:8080/",
          "height": 147
        },
        "id": "oupxZa7SRWYS",
        "outputId": "94c15b44-18d9-4d9e-c8f7-73b7f7e76408"
      },
      "execution_count": 40,
      "outputs": [
        {
          "output_type": "stream",
          "name": "stdout",
          "text": [
            "0.35658445760446245 0.37150464131605404\n"
          ]
        },
        {
          "output_type": "execute_result",
          "data": {
            "text/plain": [
              "\"\\ndef rf_model(x_train, y_train) : \\n  rf = RandomForestRegressor()\\n  \\n  pipeline_rf = Pipeline([\\n        ('scaler', StandardScaler()),  # 스케일링\\n        ('rf', RandomForestRegressor(random_state=42))  # 랜덤포레스트 모델\\n    ])\\n  pipeline_rf.fit(x_train, y_train)\\n\\n  return pipeline_rf\\n\\nrf_pipe = rf_model(x_train, y_train)\\npred_rf = rf_pipe.predict(x_test)\\nrf_score = np.sqrt(mean_squared_error(y_test, pred_rf))\\n\\n\\ndef lr_model(x_train, y_train) : \\n  lr = LinearRegression()\\n  \\n  pipeline_lr = Pipeline([\\n        ('scaler', StandardScaler()),  # 스케일링\\n        ('lr', lr)  # 랜덤포레스트 모델\\n    ])\\n  pipeline_lr.fit(x_train, y_train)\\n\\n  return pipeline_lr\\n\\nlr_pipe = lr_model(x_train, y_train)\\npred_lr = lr_pipe.predict(x_test)\\nrf_score = np.sqrt(mean_squared_error(y_test, pred_lr))\\n\""
            ],
            "application/vnd.google.colaboratory.intrinsic+json": {
              "type": "string"
            }
          },
          "metadata": {},
          "execution_count": 40
        }
      ]
    },
    {
      "cell_type": "code",
      "source": [
        "\"\"\"\n",
        "lst = {}\n",
        "model_lst = []\n",
        "\n",
        "def modelling(model, name) :\n",
        "  x_train, x_test, y_train,y_test = train_test_split(ss_X, y, test_size = 0.3, stratify= ss_X['성별코드'], random_state = 344)\n",
        "  model.fit(x_train, y_train)\n",
        "  pred = model.predict(x_test)\n",
        "  acc = np.sqrt(mean_squared_error(y_test, pred))\n",
        "  return {name : acc} , model\n",
        "\n",
        "\n",
        "for models in (['rf', RandomForestRegressor()], ['lr', LinearRegression]) :\n",
        "  model = models[0]\n",
        "  name = models[1]\n",
        "  acc, model = modelling(model, name)\n",
        "  lst.update(acc)\n",
        "  model_lst.append(model)\n",
        "\n",
        "lst.items()"
      ],
      "metadata": {
        "id": "L6IxRNnnxHh-"
      },
      "execution_count": null,
      "outputs": []
    },
    {
      "cell_type": "markdown",
      "source": [
        "### 서울 지하철 일별 승하차 인원 데이터"
      ],
      "metadata": {
        "id": "QM9ot5Mwvt3s"
      }
    },
    {
      "cell_type": "code",
      "source": [
        "df = pd.read_csv('/content/drive/MyDrive/ADP_SONY/ADP_SET4/data/subway.csv')\n",
        "df = df.drop(columns = ['역명','역번호'], axis = 1)\n",
        "df.head(3)"
      ],
      "metadata": {
        "colab": {
          "base_uri": "https://localhost:8080/",
          "height": 242
        },
        "id": "CBptk8KiRWVx",
        "outputId": "bc232815-24f1-4066-d7fd-d6596caa2fce"
      },
      "execution_count": 3,
      "outputs": [
        {
          "output_type": "execute_result",
          "data": {
            "text/plain": [
              "           날짜  구분  05~06  06~07  07~08  08~09  09~10  10~11  11~12  12~13  \\\n",
              "0  2016-01-01  승차    469    339    584   1144   1723   2087   2983   3527   \n",
              "1  2016-01-01  하차    342   1637   1753   1856   2438   2425   2548   2718   \n",
              "2  2016-01-01  승차    103    127    110    191    298    582    700    604   \n",
              "\n",
              "   ...  16~17  17~18  18~19  19~20  20~21  21~22  22~23  23~24  24~  호선  \n",
              "0  ...   3554   3200   3076   2519   2281   2398   2056    996   58   1  \n",
              "1  ...   3108   2656   2134   1859   1394   1344   1056    612  222   1  \n",
              "2  ...   1339   1458   1499   1383   1284   1198    675    375    9   1  \n",
              "\n",
              "[3 rows x 23 columns]"
            ],
            "text/html": [
              "\n",
              "  <div id=\"df-899f562d-1507-4c0b-bb55-d3571a3a53ad\" class=\"colab-df-container\">\n",
              "    <div>\n",
              "<style scoped>\n",
              "    .dataframe tbody tr th:only-of-type {\n",
              "        vertical-align: middle;\n",
              "    }\n",
              "\n",
              "    .dataframe tbody tr th {\n",
              "        vertical-align: top;\n",
              "    }\n",
              "\n",
              "    .dataframe thead th {\n",
              "        text-align: right;\n",
              "    }\n",
              "</style>\n",
              "<table border=\"1\" class=\"dataframe\">\n",
              "  <thead>\n",
              "    <tr style=\"text-align: right;\">\n",
              "      <th></th>\n",
              "      <th>날짜</th>\n",
              "      <th>구분</th>\n",
              "      <th>05~06</th>\n",
              "      <th>06~07</th>\n",
              "      <th>07~08</th>\n",
              "      <th>08~09</th>\n",
              "      <th>09~10</th>\n",
              "      <th>10~11</th>\n",
              "      <th>11~12</th>\n",
              "      <th>12~13</th>\n",
              "      <th>...</th>\n",
              "      <th>16~17</th>\n",
              "      <th>17~18</th>\n",
              "      <th>18~19</th>\n",
              "      <th>19~20</th>\n",
              "      <th>20~21</th>\n",
              "      <th>21~22</th>\n",
              "      <th>22~23</th>\n",
              "      <th>23~24</th>\n",
              "      <th>24~</th>\n",
              "      <th>호선</th>\n",
              "    </tr>\n",
              "  </thead>\n",
              "  <tbody>\n",
              "    <tr>\n",
              "      <th>0</th>\n",
              "      <td>2016-01-01</td>\n",
              "      <td>승차</td>\n",
              "      <td>469</td>\n",
              "      <td>339</td>\n",
              "      <td>584</td>\n",
              "      <td>1144</td>\n",
              "      <td>1723</td>\n",
              "      <td>2087</td>\n",
              "      <td>2983</td>\n",
              "      <td>3527</td>\n",
              "      <td>...</td>\n",
              "      <td>3554</td>\n",
              "      <td>3200</td>\n",
              "      <td>3076</td>\n",
              "      <td>2519</td>\n",
              "      <td>2281</td>\n",
              "      <td>2398</td>\n",
              "      <td>2056</td>\n",
              "      <td>996</td>\n",
              "      <td>58</td>\n",
              "      <td>1</td>\n",
              "    </tr>\n",
              "    <tr>\n",
              "      <th>1</th>\n",
              "      <td>2016-01-01</td>\n",
              "      <td>하차</td>\n",
              "      <td>342</td>\n",
              "      <td>1637</td>\n",
              "      <td>1753</td>\n",
              "      <td>1856</td>\n",
              "      <td>2438</td>\n",
              "      <td>2425</td>\n",
              "      <td>2548</td>\n",
              "      <td>2718</td>\n",
              "      <td>...</td>\n",
              "      <td>3108</td>\n",
              "      <td>2656</td>\n",
              "      <td>2134</td>\n",
              "      <td>1859</td>\n",
              "      <td>1394</td>\n",
              "      <td>1344</td>\n",
              "      <td>1056</td>\n",
              "      <td>612</td>\n",
              "      <td>222</td>\n",
              "      <td>1</td>\n",
              "    </tr>\n",
              "    <tr>\n",
              "      <th>2</th>\n",
              "      <td>2016-01-01</td>\n",
              "      <td>승차</td>\n",
              "      <td>103</td>\n",
              "      <td>127</td>\n",
              "      <td>110</td>\n",
              "      <td>191</td>\n",
              "      <td>298</td>\n",
              "      <td>582</td>\n",
              "      <td>700</td>\n",
              "      <td>604</td>\n",
              "      <td>...</td>\n",
              "      <td>1339</td>\n",
              "      <td>1458</td>\n",
              "      <td>1499</td>\n",
              "      <td>1383</td>\n",
              "      <td>1284</td>\n",
              "      <td>1198</td>\n",
              "      <td>675</td>\n",
              "      <td>375</td>\n",
              "      <td>9</td>\n",
              "      <td>1</td>\n",
              "    </tr>\n",
              "  </tbody>\n",
              "</table>\n",
              "<p>3 rows × 23 columns</p>\n",
              "</div>\n",
              "    <div class=\"colab-df-buttons\">\n",
              "\n",
              "  <div class=\"colab-df-container\">\n",
              "    <button class=\"colab-df-convert\" onclick=\"convertToInteractive('df-899f562d-1507-4c0b-bb55-d3571a3a53ad')\"\n",
              "            title=\"Convert this dataframe to an interactive table.\"\n",
              "            style=\"display:none;\">\n",
              "\n",
              "  <svg xmlns=\"http://www.w3.org/2000/svg\" height=\"24px\" viewBox=\"0 -960 960 960\">\n",
              "    <path d=\"M120-120v-720h720v720H120Zm60-500h600v-160H180v160Zm220 220h160v-160H400v160Zm0 220h160v-160H400v160ZM180-400h160v-160H180v160Zm440 0h160v-160H620v160ZM180-180h160v-160H180v160Zm440 0h160v-160H620v160Z\"/>\n",
              "  </svg>\n",
              "    </button>\n",
              "\n",
              "  <style>\n",
              "    .colab-df-container {\n",
              "      display:flex;\n",
              "      gap: 12px;\n",
              "    }\n",
              "\n",
              "    .colab-df-convert {\n",
              "      background-color: #E8F0FE;\n",
              "      border: none;\n",
              "      border-radius: 50%;\n",
              "      cursor: pointer;\n",
              "      display: none;\n",
              "      fill: #1967D2;\n",
              "      height: 32px;\n",
              "      padding: 0 0 0 0;\n",
              "      width: 32px;\n",
              "    }\n",
              "\n",
              "    .colab-df-convert:hover {\n",
              "      background-color: #E2EBFA;\n",
              "      box-shadow: 0px 1px 2px rgba(60, 64, 67, 0.3), 0px 1px 3px 1px rgba(60, 64, 67, 0.15);\n",
              "      fill: #174EA6;\n",
              "    }\n",
              "\n",
              "    .colab-df-buttons div {\n",
              "      margin-bottom: 4px;\n",
              "    }\n",
              "\n",
              "    [theme=dark] .colab-df-convert {\n",
              "      background-color: #3B4455;\n",
              "      fill: #D2E3FC;\n",
              "    }\n",
              "\n",
              "    [theme=dark] .colab-df-convert:hover {\n",
              "      background-color: #434B5C;\n",
              "      box-shadow: 0px 1px 3px 1px rgba(0, 0, 0, 0.15);\n",
              "      filter: drop-shadow(0px 1px 2px rgba(0, 0, 0, 0.3));\n",
              "      fill: #FFFFFF;\n",
              "    }\n",
              "  </style>\n",
              "\n",
              "    <script>\n",
              "      const buttonEl =\n",
              "        document.querySelector('#df-899f562d-1507-4c0b-bb55-d3571a3a53ad button.colab-df-convert');\n",
              "      buttonEl.style.display =\n",
              "        google.colab.kernel.accessAllowed ? 'block' : 'none';\n",
              "\n",
              "      async function convertToInteractive(key) {\n",
              "        const element = document.querySelector('#df-899f562d-1507-4c0b-bb55-d3571a3a53ad');\n",
              "        const dataTable =\n",
              "          await google.colab.kernel.invokeFunction('convertToInteractive',\n",
              "                                                    [key], {});\n",
              "        if (!dataTable) return;\n",
              "\n",
              "        const docLinkHtml = 'Like what you see? Visit the ' +\n",
              "          '<a target=\"_blank\" href=https://colab.research.google.com/notebooks/data_table.ipynb>data table notebook</a>'\n",
              "          + ' to learn more about interactive tables.';\n",
              "        element.innerHTML = '';\n",
              "        dataTable['output_type'] = 'display_data';\n",
              "        await google.colab.output.renderOutput(dataTable, element);\n",
              "        const docLink = document.createElement('div');\n",
              "        docLink.innerHTML = docLinkHtml;\n",
              "        element.appendChild(docLink);\n",
              "      }\n",
              "    </script>\n",
              "  </div>\n",
              "\n",
              "\n",
              "<div id=\"df-9f79d39d-285e-494d-9a1a-4b7d9ea8027f\">\n",
              "  <button class=\"colab-df-quickchart\" onclick=\"quickchart('df-9f79d39d-285e-494d-9a1a-4b7d9ea8027f')\"\n",
              "            title=\"Suggest charts\"\n",
              "            style=\"display:none;\">\n",
              "\n",
              "<svg xmlns=\"http://www.w3.org/2000/svg\" height=\"24px\"viewBox=\"0 0 24 24\"\n",
              "     width=\"24px\">\n",
              "    <g>\n",
              "        <path d=\"M19 3H5c-1.1 0-2 .9-2 2v14c0 1.1.9 2 2 2h14c1.1 0 2-.9 2-2V5c0-1.1-.9-2-2-2zM9 17H7v-7h2v7zm4 0h-2V7h2v10zm4 0h-2v-4h2v4z\"/>\n",
              "    </g>\n",
              "</svg>\n",
              "  </button>\n",
              "\n",
              "<style>\n",
              "  .colab-df-quickchart {\n",
              "      --bg-color: #E8F0FE;\n",
              "      --fill-color: #1967D2;\n",
              "      --hover-bg-color: #E2EBFA;\n",
              "      --hover-fill-color: #174EA6;\n",
              "      --disabled-fill-color: #AAA;\n",
              "      --disabled-bg-color: #DDD;\n",
              "  }\n",
              "\n",
              "  [theme=dark] .colab-df-quickchart {\n",
              "      --bg-color: #3B4455;\n",
              "      --fill-color: #D2E3FC;\n",
              "      --hover-bg-color: #434B5C;\n",
              "      --hover-fill-color: #FFFFFF;\n",
              "      --disabled-bg-color: #3B4455;\n",
              "      --disabled-fill-color: #666;\n",
              "  }\n",
              "\n",
              "  .colab-df-quickchart {\n",
              "    background-color: var(--bg-color);\n",
              "    border: none;\n",
              "    border-radius: 50%;\n",
              "    cursor: pointer;\n",
              "    display: none;\n",
              "    fill: var(--fill-color);\n",
              "    height: 32px;\n",
              "    padding: 0;\n",
              "    width: 32px;\n",
              "  }\n",
              "\n",
              "  .colab-df-quickchart:hover {\n",
              "    background-color: var(--hover-bg-color);\n",
              "    box-shadow: 0 1px 2px rgba(60, 64, 67, 0.3), 0 1px 3px 1px rgba(60, 64, 67, 0.15);\n",
              "    fill: var(--button-hover-fill-color);\n",
              "  }\n",
              "\n",
              "  .colab-df-quickchart-complete:disabled,\n",
              "  .colab-df-quickchart-complete:disabled:hover {\n",
              "    background-color: var(--disabled-bg-color);\n",
              "    fill: var(--disabled-fill-color);\n",
              "    box-shadow: none;\n",
              "  }\n",
              "\n",
              "  .colab-df-spinner {\n",
              "    border: 2px solid var(--fill-color);\n",
              "    border-color: transparent;\n",
              "    border-bottom-color: var(--fill-color);\n",
              "    animation:\n",
              "      spin 1s steps(1) infinite;\n",
              "  }\n",
              "\n",
              "  @keyframes spin {\n",
              "    0% {\n",
              "      border-color: transparent;\n",
              "      border-bottom-color: var(--fill-color);\n",
              "      border-left-color: var(--fill-color);\n",
              "    }\n",
              "    20% {\n",
              "      border-color: transparent;\n",
              "      border-left-color: var(--fill-color);\n",
              "      border-top-color: var(--fill-color);\n",
              "    }\n",
              "    30% {\n",
              "      border-color: transparent;\n",
              "      border-left-color: var(--fill-color);\n",
              "      border-top-color: var(--fill-color);\n",
              "      border-right-color: var(--fill-color);\n",
              "    }\n",
              "    40% {\n",
              "      border-color: transparent;\n",
              "      border-right-color: var(--fill-color);\n",
              "      border-top-color: var(--fill-color);\n",
              "    }\n",
              "    60% {\n",
              "      border-color: transparent;\n",
              "      border-right-color: var(--fill-color);\n",
              "    }\n",
              "    80% {\n",
              "      border-color: transparent;\n",
              "      border-right-color: var(--fill-color);\n",
              "      border-bottom-color: var(--fill-color);\n",
              "    }\n",
              "    90% {\n",
              "      border-color: transparent;\n",
              "      border-bottom-color: var(--fill-color);\n",
              "    }\n",
              "  }\n",
              "</style>\n",
              "\n",
              "  <script>\n",
              "    async function quickchart(key) {\n",
              "      const quickchartButtonEl =\n",
              "        document.querySelector('#' + key + ' button');\n",
              "      quickchartButtonEl.disabled = true;  // To prevent multiple clicks.\n",
              "      quickchartButtonEl.classList.add('colab-df-spinner');\n",
              "      try {\n",
              "        const charts = await google.colab.kernel.invokeFunction(\n",
              "            'suggestCharts', [key], {});\n",
              "      } catch (error) {\n",
              "        console.error('Error during call to suggestCharts:', error);\n",
              "      }\n",
              "      quickchartButtonEl.classList.remove('colab-df-spinner');\n",
              "      quickchartButtonEl.classList.add('colab-df-quickchart-complete');\n",
              "    }\n",
              "    (() => {\n",
              "      let quickchartButtonEl =\n",
              "        document.querySelector('#df-9f79d39d-285e-494d-9a1a-4b7d9ea8027f button');\n",
              "      quickchartButtonEl.style.display =\n",
              "        google.colab.kernel.accessAllowed ? 'block' : 'none';\n",
              "    })();\n",
              "  </script>\n",
              "</div>\n",
              "\n",
              "    </div>\n",
              "  </div>\n"
            ],
            "application/vnd.google.colaboratory.intrinsic+json": {
              "type": "dataframe",
              "variable_name": "df"
            }
          },
          "metadata": {},
          "execution_count": 3
        }
      ]
    },
    {
      "cell_type": "code",
      "source": [
        "t = df.pivot_table(index = ['날짜','호선'], columns = ['구분'], values = [x for x in df.columns if '~' in x])\n",
        "\n",
        "lst = []\n",
        "for time in [x for x in df.columns if '~' in x] :\n",
        "  ratio = t[(time, '승차')] / t[(time, '하차')]\n",
        "  ratio.name = f'{time}_ratio'\n",
        "  lst.append(ratio)\n",
        "\n",
        "\n",
        "dfs = pd.concat(lst,axis=1).reset_index()\n",
        "\n",
        "dfs['날짜'] =pd.to_datetime(dfs['날짜'])\n",
        "dfs['weekend']  = (dfs['날짜'].dt.weekday >=5).astype('int')"
      ],
      "metadata": {
        "id": "glJ9BVjE7sHb"
      },
      "execution_count": 16,
      "outputs": []
    },
    {
      "cell_type": "code",
      "source": [
        "# train\n",
        "#train = dfs[(dfs['날짜'].dt.day % 4) == 1].reset_index(drop = True)\n",
        "#test = dfs[(dfs['날짜'].dt.day % 4) != 1].reset_index(drop = True)\n",
        "\n",
        "from sklearn.ensemble import RandomForestClassifier\n",
        "from sklearn.tree import DecisionTreeClassifier\n",
        "from sklearn.metrics import f1_score, mean_squared_error\n",
        "\n",
        "test = dfs[dfs['날짜'].dt.year ==2017].reset_index(drop=True).drop(columns ='날짜')\n",
        "train = dfs[dfs['날짜'].dt.year ==2016].reset_index(drop=True).drop(columns ='날짜')\n",
        "\n",
        "x_train = train.drop(columns = ['호선'], axis = 1)\n",
        "y_train = train['호선']\n",
        "\n",
        "x_test = test.drop(columns = ['호선'], axis = 1)\n",
        "y_test = test['호선']\n",
        "\n",
        "lst = {}\n",
        "model_lst = []\n",
        "\n",
        "def modelling(model, name, x_train, x_test, y_train, y_test):\n",
        "  model.fit(x_train, y_train)  # 모델 학습\n",
        "  pred = model.predict(x_test)\n",
        "  acc = np.sqrt(mean_squared_error(y_test, pred))\n",
        "  return {name : acc} , model\n",
        "\n",
        "for models in (['RandomForest' , RandomForestClassifier()], ['Decision Tree', DecisionTreeClassifier()]) :\n",
        "  model = models[0]\n",
        "  name = models[1]\n",
        "  acc, model = modelling(name, model, x_train, x_test, y_train, y_test)\n",
        "  lst.update(acc)\n",
        "  model_lst.append(model)\n",
        "\n",
        "pd.DataFrame(lst.items() , columns = ['Model', 'F1-score'])"
      ],
      "metadata": {
        "colab": {
          "base_uri": "https://localhost:8080/",
          "height": 112
        },
        "id": "-LMh6T467sEx",
        "outputId": "b22bc11f-6b4d-4d6c-f8cf-e72605200942"
      },
      "execution_count": 33,
      "outputs": [
        {
          "output_type": "execute_result",
          "data": {
            "text/plain": [
              "           Model  F1-score\n",
              "0   RandomForest  0.030220\n",
              "1  Decision Tree  0.138485"
            ],
            "text/html": [
              "\n",
              "  <div id=\"df-30585f88-d7e2-4eb3-aed7-9c04e4abead6\" class=\"colab-df-container\">\n",
              "    <div>\n",
              "<style scoped>\n",
              "    .dataframe tbody tr th:only-of-type {\n",
              "        vertical-align: middle;\n",
              "    }\n",
              "\n",
              "    .dataframe tbody tr th {\n",
              "        vertical-align: top;\n",
              "    }\n",
              "\n",
              "    .dataframe thead th {\n",
              "        text-align: right;\n",
              "    }\n",
              "</style>\n",
              "<table border=\"1\" class=\"dataframe\">\n",
              "  <thead>\n",
              "    <tr style=\"text-align: right;\">\n",
              "      <th></th>\n",
              "      <th>Model</th>\n",
              "      <th>F1-score</th>\n",
              "    </tr>\n",
              "  </thead>\n",
              "  <tbody>\n",
              "    <tr>\n",
              "      <th>0</th>\n",
              "      <td>RandomForest</td>\n",
              "      <td>0.030220</td>\n",
              "    </tr>\n",
              "    <tr>\n",
              "      <th>1</th>\n",
              "      <td>Decision Tree</td>\n",
              "      <td>0.138485</td>\n",
              "    </tr>\n",
              "  </tbody>\n",
              "</table>\n",
              "</div>\n",
              "    <div class=\"colab-df-buttons\">\n",
              "\n",
              "  <div class=\"colab-df-container\">\n",
              "    <button class=\"colab-df-convert\" onclick=\"convertToInteractive('df-30585f88-d7e2-4eb3-aed7-9c04e4abead6')\"\n",
              "            title=\"Convert this dataframe to an interactive table.\"\n",
              "            style=\"display:none;\">\n",
              "\n",
              "  <svg xmlns=\"http://www.w3.org/2000/svg\" height=\"24px\" viewBox=\"0 -960 960 960\">\n",
              "    <path d=\"M120-120v-720h720v720H120Zm60-500h600v-160H180v160Zm220 220h160v-160H400v160Zm0 220h160v-160H400v160ZM180-400h160v-160H180v160Zm440 0h160v-160H620v160ZM180-180h160v-160H180v160Zm440 0h160v-160H620v160Z\"/>\n",
              "  </svg>\n",
              "    </button>\n",
              "\n",
              "  <style>\n",
              "    .colab-df-container {\n",
              "      display:flex;\n",
              "      gap: 12px;\n",
              "    }\n",
              "\n",
              "    .colab-df-convert {\n",
              "      background-color: #E8F0FE;\n",
              "      border: none;\n",
              "      border-radius: 50%;\n",
              "      cursor: pointer;\n",
              "      display: none;\n",
              "      fill: #1967D2;\n",
              "      height: 32px;\n",
              "      padding: 0 0 0 0;\n",
              "      width: 32px;\n",
              "    }\n",
              "\n",
              "    .colab-df-convert:hover {\n",
              "      background-color: #E2EBFA;\n",
              "      box-shadow: 0px 1px 2px rgba(60, 64, 67, 0.3), 0px 1px 3px 1px rgba(60, 64, 67, 0.15);\n",
              "      fill: #174EA6;\n",
              "    }\n",
              "\n",
              "    .colab-df-buttons div {\n",
              "      margin-bottom: 4px;\n",
              "    }\n",
              "\n",
              "    [theme=dark] .colab-df-convert {\n",
              "      background-color: #3B4455;\n",
              "      fill: #D2E3FC;\n",
              "    }\n",
              "\n",
              "    [theme=dark] .colab-df-convert:hover {\n",
              "      background-color: #434B5C;\n",
              "      box-shadow: 0px 1px 3px 1px rgba(0, 0, 0, 0.15);\n",
              "      filter: drop-shadow(0px 1px 2px rgba(0, 0, 0, 0.3));\n",
              "      fill: #FFFFFF;\n",
              "    }\n",
              "  </style>\n",
              "\n",
              "    <script>\n",
              "      const buttonEl =\n",
              "        document.querySelector('#df-30585f88-d7e2-4eb3-aed7-9c04e4abead6 button.colab-df-convert');\n",
              "      buttonEl.style.display =\n",
              "        google.colab.kernel.accessAllowed ? 'block' : 'none';\n",
              "\n",
              "      async function convertToInteractive(key) {\n",
              "        const element = document.querySelector('#df-30585f88-d7e2-4eb3-aed7-9c04e4abead6');\n",
              "        const dataTable =\n",
              "          await google.colab.kernel.invokeFunction('convertToInteractive',\n",
              "                                                    [key], {});\n",
              "        if (!dataTable) return;\n",
              "\n",
              "        const docLinkHtml = 'Like what you see? Visit the ' +\n",
              "          '<a target=\"_blank\" href=https://colab.research.google.com/notebooks/data_table.ipynb>data table notebook</a>'\n",
              "          + ' to learn more about interactive tables.';\n",
              "        element.innerHTML = '';\n",
              "        dataTable['output_type'] = 'display_data';\n",
              "        await google.colab.output.renderOutput(dataTable, element);\n",
              "        const docLink = document.createElement('div');\n",
              "        docLink.innerHTML = docLinkHtml;\n",
              "        element.appendChild(docLink);\n",
              "      }\n",
              "    </script>\n",
              "  </div>\n",
              "\n",
              "\n",
              "<div id=\"df-ff2b8e96-5109-4101-8a02-4744bc39ec78\">\n",
              "  <button class=\"colab-df-quickchart\" onclick=\"quickchart('df-ff2b8e96-5109-4101-8a02-4744bc39ec78')\"\n",
              "            title=\"Suggest charts\"\n",
              "            style=\"display:none;\">\n",
              "\n",
              "<svg xmlns=\"http://www.w3.org/2000/svg\" height=\"24px\"viewBox=\"0 0 24 24\"\n",
              "     width=\"24px\">\n",
              "    <g>\n",
              "        <path d=\"M19 3H5c-1.1 0-2 .9-2 2v14c0 1.1.9 2 2 2h14c1.1 0 2-.9 2-2V5c0-1.1-.9-2-2-2zM9 17H7v-7h2v7zm4 0h-2V7h2v10zm4 0h-2v-4h2v4z\"/>\n",
              "    </g>\n",
              "</svg>\n",
              "  </button>\n",
              "\n",
              "<style>\n",
              "  .colab-df-quickchart {\n",
              "      --bg-color: #E8F0FE;\n",
              "      --fill-color: #1967D2;\n",
              "      --hover-bg-color: #E2EBFA;\n",
              "      --hover-fill-color: #174EA6;\n",
              "      --disabled-fill-color: #AAA;\n",
              "      --disabled-bg-color: #DDD;\n",
              "  }\n",
              "\n",
              "  [theme=dark] .colab-df-quickchart {\n",
              "      --bg-color: #3B4455;\n",
              "      --fill-color: #D2E3FC;\n",
              "      --hover-bg-color: #434B5C;\n",
              "      --hover-fill-color: #FFFFFF;\n",
              "      --disabled-bg-color: #3B4455;\n",
              "      --disabled-fill-color: #666;\n",
              "  }\n",
              "\n",
              "  .colab-df-quickchart {\n",
              "    background-color: var(--bg-color);\n",
              "    border: none;\n",
              "    border-radius: 50%;\n",
              "    cursor: pointer;\n",
              "    display: none;\n",
              "    fill: var(--fill-color);\n",
              "    height: 32px;\n",
              "    padding: 0;\n",
              "    width: 32px;\n",
              "  }\n",
              "\n",
              "  .colab-df-quickchart:hover {\n",
              "    background-color: var(--hover-bg-color);\n",
              "    box-shadow: 0 1px 2px rgba(60, 64, 67, 0.3), 0 1px 3px 1px rgba(60, 64, 67, 0.15);\n",
              "    fill: var(--button-hover-fill-color);\n",
              "  }\n",
              "\n",
              "  .colab-df-quickchart-complete:disabled,\n",
              "  .colab-df-quickchart-complete:disabled:hover {\n",
              "    background-color: var(--disabled-bg-color);\n",
              "    fill: var(--disabled-fill-color);\n",
              "    box-shadow: none;\n",
              "  }\n",
              "\n",
              "  .colab-df-spinner {\n",
              "    border: 2px solid var(--fill-color);\n",
              "    border-color: transparent;\n",
              "    border-bottom-color: var(--fill-color);\n",
              "    animation:\n",
              "      spin 1s steps(1) infinite;\n",
              "  }\n",
              "\n",
              "  @keyframes spin {\n",
              "    0% {\n",
              "      border-color: transparent;\n",
              "      border-bottom-color: var(--fill-color);\n",
              "      border-left-color: var(--fill-color);\n",
              "    }\n",
              "    20% {\n",
              "      border-color: transparent;\n",
              "      border-left-color: var(--fill-color);\n",
              "      border-top-color: var(--fill-color);\n",
              "    }\n",
              "    30% {\n",
              "      border-color: transparent;\n",
              "      border-left-color: var(--fill-color);\n",
              "      border-top-color: var(--fill-color);\n",
              "      border-right-color: var(--fill-color);\n",
              "    }\n",
              "    40% {\n",
              "      border-color: transparent;\n",
              "      border-right-color: var(--fill-color);\n",
              "      border-top-color: var(--fill-color);\n",
              "    }\n",
              "    60% {\n",
              "      border-color: transparent;\n",
              "      border-right-color: var(--fill-color);\n",
              "    }\n",
              "    80% {\n",
              "      border-color: transparent;\n",
              "      border-right-color: var(--fill-color);\n",
              "      border-bottom-color: var(--fill-color);\n",
              "    }\n",
              "    90% {\n",
              "      border-color: transparent;\n",
              "      border-bottom-color: var(--fill-color);\n",
              "    }\n",
              "  }\n",
              "</style>\n",
              "\n",
              "  <script>\n",
              "    async function quickchart(key) {\n",
              "      const quickchartButtonEl =\n",
              "        document.querySelector('#' + key + ' button');\n",
              "      quickchartButtonEl.disabled = true;  // To prevent multiple clicks.\n",
              "      quickchartButtonEl.classList.add('colab-df-spinner');\n",
              "      try {\n",
              "        const charts = await google.colab.kernel.invokeFunction(\n",
              "            'suggestCharts', [key], {});\n",
              "      } catch (error) {\n",
              "        console.error('Error during call to suggestCharts:', error);\n",
              "      }\n",
              "      quickchartButtonEl.classList.remove('colab-df-spinner');\n",
              "      quickchartButtonEl.classList.add('colab-df-quickchart-complete');\n",
              "    }\n",
              "    (() => {\n",
              "      let quickchartButtonEl =\n",
              "        document.querySelector('#df-ff2b8e96-5109-4101-8a02-4744bc39ec78 button');\n",
              "      quickchartButtonEl.style.display =\n",
              "        google.colab.kernel.accessAllowed ? 'block' : 'none';\n",
              "    })();\n",
              "  </script>\n",
              "</div>\n",
              "\n",
              "    </div>\n",
              "  </div>\n"
            ],
            "application/vnd.google.colaboratory.intrinsic+json": {
              "type": "dataframe",
              "summary": "{\n  \"name\": \"pd\",\n  \"rows\": 2,\n  \"fields\": [\n    {\n      \"column\": \"Model\",\n      \"properties\": {\n        \"dtype\": \"string\",\n        \"num_unique_values\": 2,\n        \"samples\": [\n          \"Decision Tree\",\n          \"RandomForest\"\n        ],\n        \"semantic_type\": \"\",\n        \"description\": \"\"\n      }\n    },\n    {\n      \"column\": \"F1-score\",\n      \"properties\": {\n        \"dtype\": \"number\",\n        \"std\": 0.07655495716015882,\n        \"min\": 0.03021989426077497,\n        \"max\": 0.13848495294356286,\n        \"num_unique_values\": 2,\n        \"samples\": [\n          0.13848495294356286,\n          0.03021989426077497\n        ],\n        \"semantic_type\": \"\",\n        \"description\": \"\"\n      }\n    }\n  ]\n}"
            }
          },
          "metadata": {},
          "execution_count": 33
        }
      ]
    },
    {
      "cell_type": "markdown",
      "source": [
        "한 카페에서는 고객들이 음료를 주문한 후, 음료가 준비되는 시간을 추적한다.\n",
        "음료 준비 시간은 평균이 5분이고, 표준편차가 1.5분인 정규분포를 따른다.\n",
        "\n",
        "* 특정 고객이 음료를 6분 이내에 받을 확률은?\n",
        "* 3분에서 7분 사이에 음료가 준비될 확률은?\n",
        "* 10명의 고객 중, 6분 이내에 음료를 받을 고객이 3명 이상일 확률은?"
      ],
      "metadata": {
        "id": "uzKdGSp8_9_d"
      }
    },
    {
      "cell_type": "code",
      "source": [
        "import scipy.stats as stats\n",
        "\n",
        "x = 5\n",
        "s = 1.5\n",
        "\n",
        "# 1. 6분 이내에 받을 확률\n",
        "minute_6 = stats.norm.cdf(6, x, s)\n",
        "print(f\"특정 고객이 음료를 6분 이내에 받을 확률은 {round(minute_6, 2)}\")\n",
        "\n",
        "# 2. 3분에서 7분 사이\n",
        "minut_3_7 =  stats.norm.cdf(7, x, s) -  stats.norm.cdf(3, x, s)\n",
        "print(f\"3분에서 7분 사이에 음료가 준비될 확률 {round(minut_3_7, 2)}\")\n",
        "\n",
        "# 3. 10명 중 6분 이내의 고객이 3명 이상 (1 - cdf(3-1))\n",
        "n = 10\n",
        "p = minute_6\n",
        "prob3 = 1 - stats.binom.cdf(2, n, p)\n",
        "print(f\"10명의 고객 중, 6분 이내에 음료를 받을 고객이 3명 이상일 확률 {prob3:.4f}\")"
      ],
      "metadata": {
        "colab": {
          "base_uri": "https://localhost:8080/"
        },
        "id": "_agkY-6g-3H-",
        "outputId": "2b1b7fa7-d434-4c00-a11f-899134958089"
      },
      "execution_count": 68,
      "outputs": [
        {
          "output_type": "stream",
          "name": "stdout",
          "text": [
            "특정 고객이 음료를 6분 이내에 받을 확률은 0.75\n",
            "3분에서 7분 사이에 음료가 준비될 확률 0.82\n",
            "10명의 고객 중, 6분 이내에 음료를 받을 고객이 3명 이상일 확률 0.9996\n"
          ]
        }
      ]
    },
    {
      "cell_type": "markdown",
      "source": [
        "한 레스토랑에서 두 명의 셰프(A와 B)가 준비한 요리에 대한 고객들의 만족도를 조사했다.\n",
        "각 셰프가 준비한 요리에 대해 10명의 고객이 점수를 매겼다. 점수는 1점부터 10점까지이며, 점수가 높을수록 만족도가 높음을 의미한다.\n",
        "두 셰프의 요리에 대한 고객 점수가 정규분포를 따르지 않는다고 가정하고, 셰프 A와 셰프 B의 요리에 대해 고객들의 만족도가 차이가 나는지 비모수 검정을 통해 확인하라"
      ],
      "metadata": {
        "id": "-fVMIRtoEKMQ"
      }
    },
    {
      "cell_type": "code",
      "source": [
        "from scipy.stats import wilcoxon\n",
        "\n",
        "# 셰프 A와 셰프 B의 고객 점수\n",
        "A = np.array([7, 8, 9, 5, 6, 7, 8, 6, 7, 9])\n",
        "B = np.array([6, 5, 8, 7, 6, 5, 6, 4, 7, 5])\n",
        "\n",
        "stat, p_val = wilcoxon(A, B)\n",
        "print(f\"검정 통계량 {stat},  p-value는 {p_val} 이며\")\n"
      ],
      "metadata": {
        "colab": {
          "base_uri": "https://localhost:8080/"
        },
        "id": "ytz44XDn-3FT",
        "outputId": "e2204f98-7037-4f83-b06d-de8fb6ee1bc7"
      },
      "execution_count": 69,
      "outputs": [
        {
          "output_type": "stream",
          "name": "stdout",
          "text": [
            "검정 통계량 4.5,  p-value는 0.05531569013519519\n"
          ]
        }
      ]
    },
    {
      "cell_type": "code",
      "source": [
        "import numpy as np\n",
        "\n",
        "# 주어진 확률들\n",
        "P_D = 0.02        # 질병이 있을 확률\n",
        "P_not_D = 0.98    # 질병이 없을 확률\n",
        "\n",
        "P_X_pos_D = 0.73  # 질병이 있을 때 검사 X가 양성일 확률\n",
        "P_X_pos_not_D = 0.10  # 질병이 없을 때 검사 X가 양성일 확률\n",
        "\n",
        "P_Y_pos_D = 0.66  # 질병이 있을 때 검사 Y가 양성일 확률\n",
        "P_Y_pos_not_D = 0.05  # 질병이 없을 때 검사 Y가 양성일 확률\n",
        "\n",
        "# 1) X, Y 가 모두 양성일때, 실제로 질병을 가질 확률\n",
        "# X,Y 양성 & 질병 : P(X: 양성 , Y: 양성 | 질병) = P(X 양성 | 질병) * P(Y 양성 | 질병)\n",
        "xy_positive_do = P_X_pos_D * P_Y_pos_D\n",
        "\n",
        "# 2) X,Y 양성 & 질병없음 : P(X 양성 , Y 양성 | 질병없음) = P(X 양성 | 질병없음) * P(Y 양성 | 질병없음)\n",
        "xy_positive_dx = P_X_pos_not_D * P_Y_pos_not_D\n",
        "\n",
        "# 3) X,Y 양성 : (X,Y 양성 | 질병) * P(질병) +  P(질병) + P(X 양성, Y 양성 | 질병 없음) * P(질병 없음)\n",
        "xy_positive = (xy_positive_do * P_D )+ (xy_positive_dx * P_not_D)\n",
        "\n",
        "# 4) P(질병 | X,Y 양성) = P(X,Y 양성 | 질병) * P(질병) + P(X 양성, Y 양성 | 질병 없음) * P(질병 없음)\n",
        "#  질병에 있을때의 x,y 양성 / 모든 양성\n",
        "d_xy_positive = (xy_positive_do * P_D) / xy_positive\n",
        "print(d_xy_positive)\n"
      ],
      "metadata": {
        "colab": {
          "base_uri": "https://localhost:8080/"
        },
        "id": "SefgQkuJEa08",
        "outputId": "5a761ad8-bc68-46e8-e998-c4f8f4971511"
      },
      "execution_count": 87,
      "outputs": [
        {
          "output_type": "stream",
          "name": "stdout",
          "text": [
            "0.662905888827738\n"
          ]
        }
      ]
    },
    {
      "cell_type": "markdown",
      "source": [
        "검사 X가 양성이고 검사 Y가 음성일 때, 환자가 실제로 질병을 가질 확률은 얼마인가?"
      ],
      "metadata": {
        "id": "gKPFTMCXGOoW"
      }
    },
    {
      "cell_type": "code",
      "source": [
        "\n",
        "# 1) 질병이 있을 때\n",
        "# P(X: 양성. Y : 음성 | 질병) = P(X: 양성|질병) * 1 - P(Y 양성|질병)\n",
        "x_positive_y_negative_yd = P_X_pos_D * (1 - P_Y_pos_D )\n",
        "\n",
        "# 2) 질병이 없을 때\n",
        "# P(X: 양성. Y : 음성 | 질병없음) = P(X 양성 | 질병없음) * (1 - P(Y 양성|질병없음))\n",
        "x_positive_y_negative_nd = P_X_pos_not_D * (1 - P_Y_pos_not_D)\n",
        "\n",
        "# P(X 양성, Y 음성) = P(X 양성, Y 음성 | 질병) * P(질병) + P(X 양성, Y 음성 | 질병 없음) * P(질병 (없음)\n",
        "xp_yn = (x_positive_y_negative_yd * P_D) +( x_positive_y_negative_nd * P_not_D)\n",
        "\n",
        "# P(질병| X 양성 Y 음성) = P(X 양성 Y 음성 | 질병) * P(질병) / P(X 양성 Y 음성)\n",
        "d_xp_yn = ( x_positive_y_negative_yd* P_D) / xp_yn\n",
        "print(d_xp_yn)"
      ],
      "metadata": {
        "colab": {
          "base_uri": "https://localhost:8080/"
        },
        "id": "RTWLlISkF4be",
        "outputId": "68d6018a-0fa5-44f2-bd9a-98b2d5bc446b"
      },
      "execution_count": 88,
      "outputs": [
        {
          "output_type": "stream",
          "name": "stdout",
          "text": [
            "0.05062000326317507\n"
          ]
        }
      ]
    },
    {
      "cell_type": "markdown",
      "source": [
        "검사 Y가 양성일 때, 검사 X가 음성일 확률은?"
      ],
      "metadata": {
        "id": "LtGIAjoNM9D8"
      }
    },
    {
      "cell_type": "code",
      "source": [
        "# P(Y 양성, X 음성 | 질병) = P(Y 양성|질병) * (1 - P(X 양성|질병))\n",
        "yp_xn_yd = P_Y_pos_D * (1 - P_X_pos_D)\n",
        "\n",
        "# P(Y 양성, X 음성 | 질병없음) = P(Y 양성|질병없음) * (1 - P(X 양성|질병없음))\n",
        "yp_xn_nd = P_Y_pos_not_D * (1 - P_X_pos_not_D)\n",
        "\n",
        "# P(Y 양성, X 음성) = P(Y 양성, X 음성 | 질병) * 질병 + # P(Y 양성, X 음성 | 질병없음) + 질병없음\n",
        "xy_positive = (yp_xn_yd * P_D ) + (yp_xn_nd * P_not_D)\n",
        "\n",
        "# P(X 음성 | Y 양성) = P(양성) * P(Y 양성 |  X 음성) / P(Y 양성)\n",
        "# Y 양성 = 질병 * 양성  + 질병없음 * 양성\n",
        "y_positive = (P_Y_pos_D * P_D ) + (P_Y_pos_not_D * P_not_D)\n",
        "\n",
        "\n",
        "xy_positive / y_positive"
      ],
      "metadata": {
        "colab": {
          "base_uri": "https://localhost:8080/"
        },
        "id": "q_ZJRqvsH6DJ",
        "outputId": "a939d265-bbbf-4ac2-8961-dd6b6e496770"
      },
      "execution_count": 100,
      "outputs": [
        {
          "output_type": "execute_result",
          "data": {
            "text/plain": [
              "0.7663022508038585"
            ]
          },
          "metadata": {},
          "execution_count": 100
        }
      ]
    }
  ]
}