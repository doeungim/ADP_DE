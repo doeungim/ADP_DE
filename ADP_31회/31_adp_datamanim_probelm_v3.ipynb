{
 "cells": [
  {
   "cell_type": "code",
   "execution_count": 1,
   "id": "62d15d09",
   "metadata": {},
   "outputs": [
    {
     "data": {
      "text/html": [
       "<style>:root {--jp-notebook-max-width: 3000px;}</style>"
      ],
      "text/plain": [
       "<IPython.core.display.HTML object>"
      ]
     },
     "metadata": {},
     "output_type": "display_data"
    },
    {
     "data": {
      "text/html": [
       "<style>.container { width:100% !important; }</style>"
      ],
      "text/plain": [
       "<IPython.core.display.HTML object>"
      ]
     },
     "metadata": {},
     "output_type": "display_data"
    }
   ],
   "source": [
    "from IPython.display import display, HTML\n",
    "display(HTML(\"<style>:root {--jp-notebook-max-width: 3000px;}</style>\"))\n",
    "display(HTML(\"<style>.container { width:100% !important; }</style>\"))"
   ]
  },
  {
   "cell_type": "markdown",
   "id": "dcaa42c8",
   "metadata": {},
   "source": [
    "# 31회 ADP 복원 "
   ]
  },
  {
   "cell_type": "markdown",
   "id": "b28e4213",
   "metadata": {},
   "source": [
    "# 기계학습 (60점)"
   ]
  },
  {
   "cell_type": "markdown",
   "id": "dbbe30f2",
   "metadata": {},
   "source": [
    "## 데이터 설명\n",
    "- 데이터 출처 : https://www.kaggle.com/datasets/mandysia/obesity-dataset-cleaned-and-data-sinthetic 후처리\n",
    "- 데이터 링크 : https://raw.githubusercontent.com/Datamanim/datarepo/main/adp/31/adp_31_1_obesity_v2.csv\n",
    "- 데이터 설명 : 각 환자의 의료정보이다. NObeyesdad를 종속변수로 하는 분류모델을 만드려고 한다.\n",
    "\n",
    "\n",
    "    id: unique id for each row    \n",
    "    Gender: sex - male or female    \n",
    "    Age: age    \n",
    "    Height: height    \n",
    "    Weight: weight    \n",
    "    family_history_with_overweight: Has a family member suffered or suffers f from overweight? - yes or no    \n",
    "    FAVC: Frequent consumption of high caloric food - yes or no     \n",
    "    FCVC: Frequency of consumption of vegetables - Never, Sometimes, Always    \n",
    "    NCP: Number of main meals - 1, 2, 3, 4     \n",
    "    CAEC: Consumption of food between meals - No, Sometimes, Frequently, Always    \n",
    "    SMOKE: Do you smoke - yes o no    \n",
    "    CH2O: Consumption of water daily - Less than a litter, between 1 and 2 l, more than 2 l    \n",
    "    SCC: Calories consumption monitoring - yes or no   \n",
    "    FAF: Physical activity frequency - 0, 1 to 2, 2 to 4, 4 to 5     \n",
    "    TUE: Time using technology devices - 0 to 2, 3 to 5, >5    \n",
    "    CALC: Consumption of alcohol - no, sometimes, frequently, always    \n",
    "    MTRANS: Transportation used - automobile, motorbike, bike, public_transportation, walking    \n",
    "    BMI: Body mass index\n",
    "    \n",
    "    (종속변수)     \n",
    "    NObeyesdad: Type of obesity - overweight-level_i, obesity_type_i, obesity_type_ii, obesity_type_iii"
   ]
  },
  {
   "cell_type": "code",
   "execution_count": 2,
   "id": "8b08e33c",
   "metadata": {},
   "outputs": [
    {
     "data": {
      "text/html": [
       "<div>\n",
       "<style scoped>\n",
       "    .dataframe tbody tr th:only-of-type {\n",
       "        vertical-align: middle;\n",
       "    }\n",
       "\n",
       "    .dataframe tbody tr th {\n",
       "        vertical-align: top;\n",
       "    }\n",
       "\n",
       "    .dataframe thead th {\n",
       "        text-align: right;\n",
       "    }\n",
       "</style>\n",
       "<table border=\"1\" class=\"dataframe\">\n",
       "  <thead>\n",
       "    <tr style=\"text-align: right;\">\n",
       "      <th></th>\n",
       "      <th>id</th>\n",
       "      <th>Gender</th>\n",
       "      <th>Age</th>\n",
       "      <th>Height</th>\n",
       "      <th>Weight</th>\n",
       "      <th>family_history_with_overweight</th>\n",
       "      <th>FAVC</th>\n",
       "      <th>FCVC</th>\n",
       "      <th>NCP</th>\n",
       "      <th>CAEC</th>\n",
       "      <th>SMOKE</th>\n",
       "      <th>CH2O</th>\n",
       "      <th>SCC</th>\n",
       "      <th>FAF</th>\n",
       "      <th>TUE</th>\n",
       "      <th>CALC</th>\n",
       "      <th>MTRANS</th>\n",
       "      <th>NObeyesdad</th>\n",
       "      <th>BMI</th>\n",
       "    </tr>\n",
       "  </thead>\n",
       "  <tbody>\n",
       "    <tr>\n",
       "      <th>0</th>\n",
       "      <td>4</td>\n",
       "      <td>male</td>\n",
       "      <td>27</td>\n",
       "      <td>1.80</td>\n",
       "      <td>87</td>\n",
       "      <td>no</td>\n",
       "      <td>no</td>\n",
       "      <td>always</td>\n",
       "      <td>3</td>\n",
       "      <td>sometimes</td>\n",
       "      <td>no</td>\n",
       "      <td>between 1 and 2 l</td>\n",
       "      <td>no</td>\n",
       "      <td>2 to 4</td>\n",
       "      <td>0 to 2</td>\n",
       "      <td>frequently</td>\n",
       "      <td>walking</td>\n",
       "      <td>overweight_level_i</td>\n",
       "      <td>26.851852</td>\n",
       "    </tr>\n",
       "    <tr>\n",
       "      <th>1</th>\n",
       "      <td>11</td>\n",
       "      <td>male</td>\n",
       "      <td>26</td>\n",
       "      <td>1.85</td>\n",
       "      <td>105</td>\n",
       "      <td>yes</td>\n",
       "      <td>yes</td>\n",
       "      <td>always</td>\n",
       "      <td>3</td>\n",
       "      <td>frequently</td>\n",
       "      <td>no</td>\n",
       "      <td>more than 2 l</td>\n",
       "      <td>no</td>\n",
       "      <td>2 to 4</td>\n",
       "      <td>&gt;5</td>\n",
       "      <td>sometimes</td>\n",
       "      <td>public_transportation</td>\n",
       "      <td>obesity_type_i</td>\n",
       "      <td>30.679328</td>\n",
       "    </tr>\n",
       "    <tr>\n",
       "      <th>2</th>\n",
       "      <td>14</td>\n",
       "      <td>male</td>\n",
       "      <td>41</td>\n",
       "      <td>1.80</td>\n",
       "      <td>99</td>\n",
       "      <td>no</td>\n",
       "      <td>yes</td>\n",
       "      <td>sometimes</td>\n",
       "      <td>3</td>\n",
       "      <td>sometimes</td>\n",
       "      <td>no</td>\n",
       "      <td>between 1 and 2 l</td>\n",
       "      <td>no</td>\n",
       "      <td>2 to 4</td>\n",
       "      <td>3 to 5</td>\n",
       "      <td>frequently</td>\n",
       "      <td>automobile</td>\n",
       "      <td>obesity_type_i</td>\n",
       "      <td>30.555556</td>\n",
       "    </tr>\n",
       "    <tr>\n",
       "      <th>3</th>\n",
       "      <td>18</td>\n",
       "      <td>female</td>\n",
       "      <td>29</td>\n",
       "      <td>1.53</td>\n",
       "      <td>78</td>\n",
       "      <td>no</td>\n",
       "      <td>yes</td>\n",
       "      <td>sometimes</td>\n",
       "      <td>1</td>\n",
       "      <td>sometimes</td>\n",
       "      <td>no</td>\n",
       "      <td>between 1 and 2 l</td>\n",
       "      <td>no</td>\n",
       "      <td>0</td>\n",
       "      <td>0 to 2</td>\n",
       "      <td>no</td>\n",
       "      <td>automobile</td>\n",
       "      <td>obesity_type_i</td>\n",
       "      <td>33.320518</td>\n",
       "    </tr>\n",
       "    <tr>\n",
       "      <th>4</th>\n",
       "      <td>20</td>\n",
       "      <td>female</td>\n",
       "      <td>23</td>\n",
       "      <td>1.65</td>\n",
       "      <td>70</td>\n",
       "      <td>yes</td>\n",
       "      <td>no</td>\n",
       "      <td>sometimes</td>\n",
       "      <td>1</td>\n",
       "      <td>sometimes</td>\n",
       "      <td>no</td>\n",
       "      <td>between 1 and 2 l</td>\n",
       "      <td>no</td>\n",
       "      <td>0</td>\n",
       "      <td>0 to 2</td>\n",
       "      <td>sometimes</td>\n",
       "      <td>public_transportation</td>\n",
       "      <td>overweight_level_i</td>\n",
       "      <td>25.711662</td>\n",
       "    </tr>\n",
       "  </tbody>\n",
       "</table>\n",
       "</div>"
      ],
      "text/plain": [
       "   id  Gender  Age  Height  Weight family_history_with_overweight FAVC  \\\n",
       "0   4    male   27    1.80      87                             no   no   \n",
       "1  11    male   26    1.85     105                            yes  yes   \n",
       "2  14    male   41    1.80      99                             no  yes   \n",
       "3  18  female   29    1.53      78                             no  yes   \n",
       "4  20  female   23    1.65      70                            yes   no   \n",
       "\n",
       "        FCVC  NCP        CAEC SMOKE               CH2O SCC     FAF     TUE  \\\n",
       "0     always    3   sometimes    no  between 1 and 2 l  no  2 to 4  0 to 2   \n",
       "1     always    3  frequently    no      more than 2 l  no  2 to 4      >5   \n",
       "2  sometimes    3   sometimes    no  between 1 and 2 l  no  2 to 4  3 to 5   \n",
       "3  sometimes    1   sometimes    no  between 1 and 2 l  no       0  0 to 2   \n",
       "4  sometimes    1   sometimes    no  between 1 and 2 l  no       0  0 to 2   \n",
       "\n",
       "         CALC                 MTRANS          NObeyesdad        BMI  \n",
       "0  frequently                walking  overweight_level_i  26.851852  \n",
       "1   sometimes  public_transportation      obesity_type_i  30.679328  \n",
       "2  frequently             automobile      obesity_type_i  30.555556  \n",
       "3          no             automobile      obesity_type_i  33.320518  \n",
       "4   sometimes  public_transportation  overweight_level_i  25.711662  "
      ]
     },
     "execution_count": 2,
     "metadata": {},
     "output_type": "execute_result"
    }
   ],
   "source": [
    "import pandas as pd \n",
    "df = pd.read_csv(\"https://raw.githubusercontent.com/Datamanim/datarepo/main/adp/31/adp_31_1_obesity_v2.csv\",index_col=0)\n",
    "df.head()"
   ]
  },
  {
   "cell_type": "markdown",
   "id": "aa304bfe",
   "metadata": {},
   "source": [
    "## 1-1  EDA & 결측치 및 이상치를 판단하고 설명하라"
   ]
  },
  {
   "cell_type": "code",
   "execution_count": null,
   "id": "f7aebe51",
   "metadata": {},
   "outputs": [],
   "source": []
  },
  {
   "cell_type": "markdown",
   "id": "d9b64b0b",
   "metadata": {},
   "source": [
    "## 1-2 데이터 전처리 기법 2가지를 설명하고 주어진 데이터에 적용시 어떤 효과가 있는지 설명하라"
   ]
  },
  {
   "cell_type": "code",
   "execution_count": null,
   "id": "fefada8b",
   "metadata": {},
   "outputs": [],
   "source": []
  },
  {
   "cell_type": "markdown",
   "id": "fdc0c3e6",
   "metadata": {},
   "source": [
    "## 1-3 피쳐 엔지니어링을 통해 파생변수 1개를 생성하고 그 이유를 말하라"
   ]
  },
  {
   "cell_type": "code",
   "execution_count": null,
   "id": "38914a46",
   "metadata": {},
   "outputs": [],
   "source": []
  },
  {
   "cell_type": "markdown",
   "id": "61e30067",
   "metadata": {},
   "source": [
    "## 2-1 앙상블을 제외한 분류 모델 3가지 구축 및 결과 비교 및 설명하라"
   ]
  },
  {
   "cell_type": "code",
   "execution_count": null,
   "id": "412072a2",
   "metadata": {},
   "outputs": [],
   "source": []
  },
  {
   "cell_type": "markdown",
   "id": "22ab34a1",
   "metadata": {},
   "source": [
    "## 2-2 2-1에서 사용한 모델 중 하나를 골라 그리드 서치를 통해서 파라미터 튜닝 및 분류 모델 성능 평가 (precision ,recall)"
   ]
  },
  {
   "cell_type": "code",
   "execution_count": null,
   "id": "70e816bd",
   "metadata": {},
   "outputs": [],
   "source": []
  },
  {
   "cell_type": "markdown",
   "id": "0f710188",
   "metadata": {},
   "source": [
    "## 2-3 2-1의 3가지 모델을 soft voting을 이용하여 모델링 한 결과와 2-2과 비교하라"
   ]
  },
  {
   "cell_type": "code",
   "execution_count": null,
   "id": "18bceac1",
   "metadata": {},
   "outputs": [],
   "source": []
  },
  {
   "cell_type": "markdown",
   "id": "2578adae",
   "metadata": {},
   "source": [
    "## 3-2 하나의 모델을 선정하여 Drop Column Importance 방식으로 각 변수 별로 전체 컬럼을 포함한 모델과의 recall 값의 차이를 계산하고 시각화 하라"
   ]
  },
  {
   "cell_type": "code",
   "execution_count": null,
   "id": "662b6f92",
   "metadata": {},
   "outputs": [],
   "source": []
  },
  {
   "cell_type": "markdown",
   "id": "be6dba29",
   "metadata": {},
   "source": [
    "## 데이터 설명\n",
    "- 데이터 출처 : 자체제작\n",
    "- 데이터 링크 : https://raw.githubusercontent.com/Datamanim/datarepo/main/adp/31/adp_31_2_v2.csv\n",
    "- 데이터 설명 : 중고등학생 건강검진 데이터"
   ]
  },
  {
   "cell_type": "markdown",
   "id": "33004e11",
   "metadata": {},
   "source": [
    "## 4-1 아래의 기준으로 전처리를 하여 적정 체중 여부 컬럼을 생성하고 BMI를 5단위로 구분하여 와 적정 체중여부에 대한 빈도 표를 만들어라\n",
    " \n",
    "> bmi 계산\n",
    "    - Bmi = 몸무게(kg)/(키(m)**2)   \n",
    "\n",
    "> 만나이 구하기\n",
    "    - 건강검진을 받았던 날을 기준으로 생년월일과 일수 차이가 16년 364일 이하인 경우 만 16세 그 이상의 경우 만 17로 분류하라\n",
    "    - 윤년 등은 고려하지 않는다. 햇수로 16년 + 일수로 364일이 기준이다\n",
    "\n",
    "\n",
    "> 적정 체중 여부 (BMI가 아래 구간에 들어올 경우)     \n",
    "    17세 남자 : 21.03이상 23.21 미만   \n",
    "    17세 여자 : 20.03이상 22.39 미만    \n",
    "    16세 남자 : 21.18이상 23.45 미만   \n",
    "    16세 여자 : 19.61이상 21.74 미만       "
   ]
  },
  {
   "cell_type": "code",
   "execution_count": 3,
   "id": "ecf84866",
   "metadata": {},
   "outputs": [
    {
     "data": {
      "text/html": [
       "<div>\n",
       "<style scoped>\n",
       "    .dataframe tbody tr th:only-of-type {\n",
       "        vertical-align: middle;\n",
       "    }\n",
       "\n",
       "    .dataframe tbody tr th {\n",
       "        vertical-align: top;\n",
       "    }\n",
       "\n",
       "    .dataframe thead th {\n",
       "        text-align: right;\n",
       "    }\n",
       "</style>\n",
       "<table border=\"1\" class=\"dataframe\">\n",
       "  <thead>\n",
       "    <tr style=\"text-align: right;\">\n",
       "      <th></th>\n",
       "      <th>ID</th>\n",
       "      <th>키</th>\n",
       "      <th>weight</th>\n",
       "      <th>생년월일</th>\n",
       "      <th>건강검진일</th>\n",
       "      <th>공학여부</th>\n",
       "      <th>채소섭취정도</th>\n",
       "      <th>아침식사여부</th>\n",
       "      <th>일주일운동시간</th>\n",
       "      <th>수면시간</th>\n",
       "      <th>성별</th>\n",
       "    </tr>\n",
       "  </thead>\n",
       "  <tbody>\n",
       "    <tr>\n",
       "      <th>0</th>\n",
       "      <td>ID_4135</td>\n",
       "      <td>169.01</td>\n",
       "      <td>65.47</td>\n",
       "      <td>20041003</td>\n",
       "      <td>2020_11_15</td>\n",
       "      <td>1</td>\n",
       "      <td>2</td>\n",
       "      <td>1</td>\n",
       "      <td>4.4</td>\n",
       "      <td>8.3</td>\n",
       "      <td>남성</td>\n",
       "    </tr>\n",
       "    <tr>\n",
       "      <th>1</th>\n",
       "      <td>ID_3289</td>\n",
       "      <td>181.62</td>\n",
       "      <td>69.36</td>\n",
       "      <td>19970725</td>\n",
       "      <td>2014_11_20</td>\n",
       "      <td>0</td>\n",
       "      <td>3</td>\n",
       "      <td>0</td>\n",
       "      <td>4.4</td>\n",
       "      <td>6.9</td>\n",
       "      <td>남성</td>\n",
       "    </tr>\n",
       "    <tr>\n",
       "      <th>2</th>\n",
       "      <td>ID_1847</td>\n",
       "      <td>160.89</td>\n",
       "      <td>65.12</td>\n",
       "      <td>20020921</td>\n",
       "      <td>2020_01_28</td>\n",
       "      <td>1</td>\n",
       "      <td>1</td>\n",
       "      <td>1</td>\n",
       "      <td>1.7</td>\n",
       "      <td>9.6</td>\n",
       "      <td>여성</td>\n",
       "    </tr>\n",
       "    <tr>\n",
       "      <th>3</th>\n",
       "      <td>ID_4785</td>\n",
       "      <td>162.21</td>\n",
       "      <td>62.28</td>\n",
       "      <td>20020106</td>\n",
       "      <td>2018_09_27</td>\n",
       "      <td>1</td>\n",
       "      <td>4</td>\n",
       "      <td>0</td>\n",
       "      <td>5.1</td>\n",
       "      <td>6.8</td>\n",
       "      <td>남성</td>\n",
       "    </tr>\n",
       "    <tr>\n",
       "      <th>4</th>\n",
       "      <td>ID_5693</td>\n",
       "      <td>159.13</td>\n",
       "      <td>54.11</td>\n",
       "      <td>19980708</td>\n",
       "      <td>2015_03_03</td>\n",
       "      <td>0</td>\n",
       "      <td>4</td>\n",
       "      <td>1</td>\n",
       "      <td>0.3</td>\n",
       "      <td>8.5</td>\n",
       "      <td>여성</td>\n",
       "    </tr>\n",
       "  </tbody>\n",
       "</table>\n",
       "</div>"
      ],
      "text/plain": [
       "        ID       키  weight      생년월일       건강검진일  공학여부  채소섭취정도  아침식사여부  \\\n",
       "0  ID_4135  169.01   65.47  20041003  2020_11_15     1       2       1   \n",
       "1  ID_3289  181.62   69.36  19970725  2014_11_20     0       3       0   \n",
       "2  ID_1847  160.89   65.12  20020921  2020_01_28     1       1       1   \n",
       "3  ID_4785  162.21   62.28  20020106  2018_09_27     1       4       0   \n",
       "4  ID_5693  159.13   54.11  19980708  2015_03_03     0       4       1   \n",
       "\n",
       "   일주일운동시간  수면시간  성별  \n",
       "0      4.4   8.3  남성  \n",
       "1      4.4   6.9  남성  \n",
       "2      1.7   9.6  여성  \n",
       "3      5.1   6.8  남성  \n",
       "4      0.3   8.5  여성  "
      ]
     },
     "execution_count": 3,
     "metadata": {},
     "output_type": "execute_result"
    }
   ],
   "source": [
    "df =pd.read_csv('https://raw.githubusercontent.com/Datamanim/datarepo/main/adp/31/adp_31_2_v2.csv')\n",
    "df.head()"
   ]
  },
  {
   "cell_type": "code",
   "execution_count": null,
   "id": "fe602f92",
   "metadata": {},
   "outputs": [],
   "source": []
  },
  {
   "cell_type": "markdown",
   "id": "c466b222",
   "metadata": {},
   "source": [
    "## 4-2 4-1에서 구한 적정 체중 여부와 나머지 컬럼(공학여부, 아침식사여부, 일주일운동시간, 채소섭취정도, 수면시간, 성별) 이 독립적인지 통계적으로 확인하라"
   ]
  },
  {
   "cell_type": "code",
   "execution_count": null,
   "id": "4421cde2",
   "metadata": {},
   "outputs": [],
   "source": []
  },
  {
   "cell_type": "markdown",
   "id": "13b197c3",
   "metadata": {},
   "source": [
    "## 4-3 4-2에서 유의한 변수들만 가지고 적정 체중 여부를 예측하는 모델을 구현하고 성능 평가 및 해석을 하라 (로지스틱회귀 ,xgb)\n",
    "> 로지스틱회귀 모델은 오즈비를 구하라\n",
    "> xgb의 경우 각 피쳐중요도를 확인하고 예측에 영향을 가장 미치는 변수를 확인하라"
   ]
  },
  {
   "cell_type": "code",
   "execution_count": null,
   "id": "7fb18ea3",
   "metadata": {},
   "outputs": [],
   "source": []
  },
  {
   "cell_type": "markdown",
   "id": "fc5b4ec1",
   "metadata": {},
   "source": [
    "## 4-4 4-3 두 모델의 roc-auc 그래프를 하나의 그래프에 겹쳐 그려라"
   ]
  },
  {
   "cell_type": "code",
   "execution_count": null,
   "id": "7060d61d",
   "metadata": {},
   "outputs": [],
   "source": []
  },
  {
   "cell_type": "markdown",
   "id": "6d31345d",
   "metadata": {},
   "source": [
    "# 통계 (40점)"
   ]
  },
  {
   "cell_type": "markdown",
   "id": "221ec719",
   "metadata": {},
   "source": [
    "## 5\n",
    "어느 회사의 제품 무게는 $N(\\theta, 100) $의 정규분포를 따른다고 알려져 있다. 이때, 사전적으로 우리는 제품의 평균 무게 $\\theta$가 정규분포 $N(100, 256)$에서 온다고 가정한다.\n",
    "\n",
    "제품 중 하나의 실제 측정된 무게가 120kg일 때, 이 정보를 바탕으로 사후분포의 평균을 구하시오."
   ]
  },
  {
   "cell_type": "code",
   "execution_count": null,
   "id": "38111faa",
   "metadata": {},
   "outputs": [],
   "source": []
  },
  {
   "cell_type": "markdown",
   "id": "8a55d106",
   "metadata": {},
   "source": [
    "## 데이터 설명\n",
    "- 데이터 출처 : https://www.kaggle.com/datasets/yasserh/advertising-sales-dataset 후처리\n",
    "- 데이터 링크 : https://raw.githubusercontent.com/Datamanim/datarepo/main/adp/31/adp_31_5_advertising.csv\n",
    "- 데이터 설명 : TV, Radio, Newspaper에 각각 광고비(달러)를 다르게 했을때 매출액 (Sales , 밀리언달러)를 나타내는 데이터\n",
    "- 종속변수 : Sales"
   ]
  },
  {
   "cell_type": "markdown",
   "id": "f7f2916d",
   "metadata": {},
   "source": [
    "## 6-1 회귀 모델링 후 유의하지 않는변수 파악 (15점)"
   ]
  },
  {
   "cell_type": "code",
   "execution_count": null,
   "id": "4811cca4",
   "metadata": {},
   "outputs": [],
   "source": []
  },
  {
   "cell_type": "markdown",
   "id": "950e96e6",
   "metadata": {},
   "source": [
    "## 6-2 변수 선택시 먼저 제거 될 변수 및 근거 제시"
   ]
  },
  {
   "cell_type": "code",
   "execution_count": null,
   "id": "86b2e52d",
   "metadata": {},
   "outputs": [],
   "source": []
  },
  {
   "cell_type": "markdown",
   "id": "35c93dca",
   "metadata": {},
   "source": [
    "## 6-3 VIF를 통한 다중공선성 진단"
   ]
  },
  {
   "cell_type": "code",
   "execution_count": null,
   "id": "0c46e82b",
   "metadata": {},
   "outputs": [],
   "source": []
  },
  {
   "cell_type": "markdown",
   "id": "09c952e6",
   "metadata": {},
   "source": [
    "## 7 (15점)  \n",
    "- 데이터 링크 : https://raw.githubusercontent.com/Datamanim/datarepo/main/adp/31/adp_31_7.csv\n",
    "\n",
    "- 데이터 설명 : A,B,C,D,E 영업사원의 각 계약 성사 유무 (1:계약 , 0:미계약) 를 나타낸 데이터이다. 영업사원의 평균 계약 성사 건수는 같은지 통계 검정하라"
   ]
  },
  {
   "cell_type": "code",
   "execution_count": 5,
   "id": "890d7642",
   "metadata": {},
   "outputs": [
    {
     "data": {
      "text/html": [
       "<div>\n",
       "<style scoped>\n",
       "    .dataframe tbody tr th:only-of-type {\n",
       "        vertical-align: middle;\n",
       "    }\n",
       "\n",
       "    .dataframe tbody tr th {\n",
       "        vertical-align: top;\n",
       "    }\n",
       "\n",
       "    .dataframe thead th {\n",
       "        text-align: right;\n",
       "    }\n",
       "</style>\n",
       "<table border=\"1\" class=\"dataframe\">\n",
       "  <thead>\n",
       "    <tr style=\"text-align: right;\">\n",
       "      <th></th>\n",
       "      <th>A</th>\n",
       "      <th>B</th>\n",
       "      <th>C</th>\n",
       "      <th>D</th>\n",
       "      <th>E</th>\n",
       "    </tr>\n",
       "  </thead>\n",
       "  <tbody>\n",
       "    <tr>\n",
       "      <th>contract_1</th>\n",
       "      <td>1</td>\n",
       "      <td>0</td>\n",
       "      <td>1</td>\n",
       "      <td>1</td>\n",
       "      <td>1</td>\n",
       "    </tr>\n",
       "    <tr>\n",
       "      <th>contract_2</th>\n",
       "      <td>0</td>\n",
       "      <td>1</td>\n",
       "      <td>0</td>\n",
       "      <td>1</td>\n",
       "      <td>0</td>\n",
       "    </tr>\n",
       "    <tr>\n",
       "      <th>contract_3</th>\n",
       "      <td>1</td>\n",
       "      <td>0</td>\n",
       "      <td>0</td>\n",
       "      <td>0</td>\n",
       "      <td>0</td>\n",
       "    </tr>\n",
       "    <tr>\n",
       "      <th>contract_4</th>\n",
       "      <td>0</td>\n",
       "      <td>1</td>\n",
       "      <td>1</td>\n",
       "      <td>1</td>\n",
       "      <td>1</td>\n",
       "    </tr>\n",
       "    <tr>\n",
       "      <th>contract_5</th>\n",
       "      <td>0</td>\n",
       "      <td>1</td>\n",
       "      <td>0</td>\n",
       "      <td>1</td>\n",
       "      <td>0</td>\n",
       "    </tr>\n",
       "    <tr>\n",
       "      <th>contract_6</th>\n",
       "      <td>1</td>\n",
       "      <td>1</td>\n",
       "      <td>0</td>\n",
       "      <td>1</td>\n",
       "      <td>1</td>\n",
       "    </tr>\n",
       "    <tr>\n",
       "      <th>contract_7</th>\n",
       "      <td>0</td>\n",
       "      <td>1</td>\n",
       "      <td>1</td>\n",
       "      <td>0</td>\n",
       "      <td>0</td>\n",
       "    </tr>\n",
       "    <tr>\n",
       "      <th>contract_8</th>\n",
       "      <td>0</td>\n",
       "      <td>1</td>\n",
       "      <td>0</td>\n",
       "      <td>0</td>\n",
       "      <td>0</td>\n",
       "    </tr>\n",
       "    <tr>\n",
       "      <th>contract_9</th>\n",
       "      <td>1</td>\n",
       "      <td>0</td>\n",
       "      <td>0</td>\n",
       "      <td>1</td>\n",
       "      <td>1</td>\n",
       "    </tr>\n",
       "    <tr>\n",
       "      <th>contract_10</th>\n",
       "      <td>1</td>\n",
       "      <td>1</td>\n",
       "      <td>0</td>\n",
       "      <td>0</td>\n",
       "      <td>0</td>\n",
       "    </tr>\n",
       "    <tr>\n",
       "      <th>contract_11</th>\n",
       "      <td>1</td>\n",
       "      <td>0</td>\n",
       "      <td>0</td>\n",
       "      <td>1</td>\n",
       "      <td>0</td>\n",
       "    </tr>\n",
       "    <tr>\n",
       "      <th>contract_12</th>\n",
       "      <td>1</td>\n",
       "      <td>1</td>\n",
       "      <td>1</td>\n",
       "      <td>0</td>\n",
       "      <td>0</td>\n",
       "    </tr>\n",
       "  </tbody>\n",
       "</table>\n",
       "</div>"
      ],
      "text/plain": [
       "             A  B  C  D  E\n",
       "contract_1   1  0  1  1  1\n",
       "contract_2   0  1  0  1  0\n",
       "contract_3   1  0  0  0  0\n",
       "contract_4   0  1  1  1  1\n",
       "contract_5   0  1  0  1  0\n",
       "contract_6   1  1  0  1  1\n",
       "contract_7   0  1  1  0  0\n",
       "contract_8   0  1  0  0  0\n",
       "contract_9   1  0  0  1  1\n",
       "contract_10  1  1  0  0  0\n",
       "contract_11  1  0  0  1  0\n",
       "contract_12  1  1  1  0  0"
      ]
     },
     "execution_count": 5,
     "metadata": {},
     "output_type": "execute_result"
    }
   ],
   "source": [
    "import pandas as pd\n",
    "df =pd.read_csv('https://raw.githubusercontent.com/Datamanim/datarepo/main/adp/31/adp_31_7.csv',index_col = 0)\n",
    "df"
   ]
  },
  {
   "cell_type": "code",
   "execution_count": null,
   "id": "66bf50e0",
   "metadata": {},
   "outputs": [],
   "source": []
  },
  {
   "cell_type": "markdown",
   "id": "020d56cd",
   "metadata": {},
   "source": [
    "## 8 유기견이 하루에 2.2마리 발생한다 (10점)"
   ]
  },
  {
   "cell_type": "markdown",
   "id": "f2fab426",
   "metadata": {},
   "source": [
    "## 8-1 한 마리도 안 버려질 확률"
   ]
  },
  {
   "cell_type": "code",
   "execution_count": null,
   "id": "aa0af5b3",
   "metadata": {},
   "outputs": [],
   "source": []
  },
  {
   "cell_type": "markdown",
   "id": "00558631",
   "metadata": {},
   "source": [
    "## 8-2 적어도 2마리 버려질 확률"
   ]
  },
  {
   "cell_type": "code",
   "execution_count": null,
   "id": "d72b5241",
   "metadata": {},
   "outputs": [],
   "source": []
  }
 ],
 "metadata": {
  "kernelspec": {
   "display_name": "Python 3 (ipykernel)",
   "language": "python",
   "name": "python3"
  },
  "language_info": {
   "codemirror_mode": {
    "name": "ipython",
    "version": 3
   },
   "file_extension": ".py",
   "mimetype": "text/x-python",
   "name": "python",
   "nbconvert_exporter": "python",
   "pygments_lexer": "ipython3",
   "version": "3.8.19"
  }
 },
 "nbformat": 4,
 "nbformat_minor": 5
}
