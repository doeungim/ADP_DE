{
  "nbformat": 4,
  "nbformat_minor": 0,
  "metadata": {
    "colab": {
      "provenance": [],
      "authorship_tag": "ABX9TyMAEUPVS64Ft+4n/Y9CZRmg",
      "include_colab_link": true
    },
    "kernelspec": {
      "name": "python3",
      "display_name": "Python 3"
    },
    "language_info": {
      "name": "python"
    }
  },
  "cells": [
    {
      "cell_type": "markdown",
      "metadata": {
        "id": "view-in-github",
        "colab_type": "text"
      },
      "source": [
        "<a href=\"https://colab.research.google.com/github/doeungim/ADP_DE/blob/main/Statistics_All.ipynb\" target=\"_parent\"><img src=\"https://colab.research.google.com/assets/colab-badge.svg\" alt=\"Open In Colab\"/></a>"
      ]
    },
    {
      "cell_type": "code",
      "execution_count": 1,
      "metadata": {
        "colab": {
          "base_uri": "https://localhost:8080/",
          "height": 17
        },
        "id": "-VV3UpdEX5LH",
        "outputId": "a4dcedbd-9763-409a-dbc0-f021054ecd77"
      },
      "outputs": [
        {
          "output_type": "display_data",
          "data": {
            "text/plain": [
              "<IPython.core.display.HTML object>"
            ],
            "text/html": [
              "<style>.container {width :98% !important;}</style>"
            ]
          },
          "metadata": {}
        }
      ],
      "source": [
        "import warnings\n",
        "from IPython.display import display, HTML\n",
        "\n",
        "### HTML display 조정\n",
        "display(HTML(\"<style>.container {width :98% !important;}</style>\"))\n",
        "\n",
        "### Warning 제거\n",
        "warnings.filterwarnings('ignore')"
      ]
    },
    {
      "cell_type": "code",
      "source": [
        "import random\n",
        "import itertools\n",
        "import numpy as np\n",
        "import pandas as pd\n",
        "\n",
        "import scipy.stats as stats\n",
        "import statsmodels\n",
        "import statsmodels.api as sm\n",
        "import statsmodels.formula.api as smf\n",
        "\n",
        "import matplotlib.pyplot as plt\n",
        "import seaborn as sns"
      ],
      "metadata": {
        "id": "QLdrqL9PYIXw"
      },
      "execution_count": 2,
      "outputs": []
    },
    {
      "cell_type": "code",
      "source": [
        "#if ways == 'two'   :\n",
        "#  sp = (1 - t.cdf(np.abs(cstat), df)) * 2\n",
        "#  cv = t.ppf(1- conf_a/2 , df)\n",
        "\n",
        "#elif ways == 'one-right' :\n",
        "#  sp = 1 - t.cdf(cstat, df)\n",
        "#  cv = t.ppf(1- conf_a, df)\n",
        "\n",
        "#elif ways == 'one-left' :\n",
        "#  sp = t.cdf(cstat, df)\n",
        "#  cv = t.ppf(conf_a, df)"
      ],
      "metadata": {
        "id": "stAYIA3dPDHI"
      },
      "execution_count": null,
      "outputs": []
    },
    {
      "cell_type": "markdown",
      "source": [
        "### 구간 추정  One- Sample\n",
        "- 모 표준 편차를 아는 경우\n",
        "\n"
      ],
      "metadata": {
        "id": "ziOqt_6bYnzE"
      }
    },
    {
      "cell_type": "code",
      "source": [
        "# 1) 모표준편차를 아는 경우의 구간 추정량\n",
        "\n",
        "x = 31100\n",
        "n = 36\n",
        "sigma = 4500  #모표준편차\n",
        "conf_a = 0.05\n",
        "\n",
        "\n",
        "from scipy.stats import norm\n",
        "# SE\n",
        "se = sigma / np.sqrt(n)\n",
        "# 신뢰계수\n",
        "conf_z = norm.ppf(1- conf_a/ 2)\n",
        "# ME (허용오차) : 신뢰계수 * 오차 한계\n",
        "ME = se * conf_z\n",
        "\n",
        "# 구간 추정량\n",
        "print(x - ME, x + ME)\n",
        "\n",
        "## 1 표본 구간 추정량 (라이브러리)\n",
        "print(stats.norm.interval(confidence = 0.95 , loc = x , scale = se))"
      ],
      "metadata": {
        "colab": {
          "base_uri": "https://localhost:8080/"
        },
        "id": "29XDsut-YITF",
        "outputId": "5ef39651-18ae-4ef5-ab30-6daa9a12dc2e"
      },
      "execution_count": 3,
      "outputs": [
        {
          "output_type": "stream",
          "name": "stdout",
          "text": [
            "29630.02701159496 32569.97298840504\n",
            "(29630.02701159496, 32569.97298840504)\n"
          ]
        }
      ]
    },
    {
      "cell_type": "markdown",
      "source": [
        "예제 문제 1)\n",
        " -  데이터에서 183개의 샘플을 추출했을 때 샘플 무게의 평균이 69.5g에서 70.1g 사이에 있을 확률을 구하여라"
      ],
      "metadata": {
        "id": "b_ywPZlKqN74"
      }
    },
    {
      "cell_type": "code",
      "source": [
        "df = pd.read_csv(\"https://raw.githubusercontent.com/doeungim/ADP_DE/main/ADP_SET2/data/s5.csv\")\n",
        "\n",
        "from scipy import stats\n",
        "\n",
        "# 모집단의 평균과 표준 편차 (가정)\n",
        "mean = df['w'].mean()\n",
        "std = df['w'].std()\n",
        "\n",
        "# 샘플 크기\n",
        "size = 183\n",
        "standard_error = std / np.sqrt(size)\n",
        "\n",
        "lower = 69.5\n",
        "upper = 70.1\n",
        "\n",
        "# 샘플 평균의 확률 계산\n",
        "prob_range = stats.norm.cdf(upper, loc=mean, scale=std) - stats.norm.cdf(lower, loc=mean, scale=std)\n",
        "\n",
        "print(f'183개 샘플의 평균 무게가 {lower}kg에서 {lower}kg 사이일 확률: {prob_range:.3f}')"
      ],
      "metadata": {
        "colab": {
          "base_uri": "https://localhost:8080/"
        },
        "id": "MXRdrSbUsZmE",
        "outputId": "46a736ab-2138-4ce9-f730-fac094b88806"
      },
      "execution_count": 164,
      "outputs": [
        {
          "output_type": "stream",
          "name": "stdout",
          "text": [
            "183개 샘플의 평균 무게가 69.5kg에서 69.5kg 사이일 확률: 0.048\n"
          ]
        }
      ]
    },
    {
      "cell_type": "markdown",
      "source": [
        "### One- Sample - 표본의 크기\n",
        "- 모 표준 편차를 아는 경우"
      ],
      "metadata": {
        "id": "FjiMVhXA0fO5"
      }
    },
    {
      "cell_type": "code",
      "source": [
        "# 2) 오차의 한계가 500 이하일 확률이 0.95가 되도록 추정치를 조정\n",
        "ME = 500\n",
        "conf_a = 1- 0.95\n",
        "conf_z = norm.ppf(1 - conf_a/ 2)\n",
        "\n",
        "size = conf_z ** 2 * sigma ** 2 / ME ** 2\n",
        "print(size)"
      ],
      "metadata": {
        "colab": {
          "base_uri": "https://localhost:8080/"
        },
        "id": "elnT10dxY8fQ",
        "outputId": "b414773f-d972-4a96-dfdd-dcd56136de73"
      },
      "execution_count": 4,
      "outputs": [
        {
          "output_type": "stream",
          "name": "stdout",
          "text": [
            "311.15816447622416\n"
          ]
        }
      ]
    },
    {
      "cell_type": "markdown",
      "source": [
        "### One- Sample - 가설검정\n",
        "- 모 표준 편차를 아는 경우"
      ],
      "metadata": {
        "id": "nCo7YmVO0j6h"
      }
    },
    {
      "cell_type": "code",
      "source": [
        "# 3) 가설 검정\n",
        "# H0: mu = mu0\n",
        "# H1: mu != mu0\n",
        "\n",
        "x = 31100\n",
        "n = 36\n",
        "sigma = 4500\n",
        "\n",
        "m0 = 30000\n",
        "conf_a = 0.05\n",
        "\n",
        "# SE\n",
        "se = sigma / np.sqrt(n)\n",
        "\n",
        "# Z 통계량\n",
        "z_stat = (x - m0)/ se\n",
        "\n",
        "# Two_way\n",
        "sp = (1 - norm.cdf(np.abs(z_stat)))\n",
        "cv = norm.ppf(1 - conf_a /2)\n",
        "print(f\"유의확률 : {sp}\")\n",
        "print(f\"임계값 : {cv} 에서의 {z_stat}\")"
      ],
      "metadata": {
        "colab": {
          "base_uri": "https://localhost:8080/"
        },
        "id": "IKCccWZLZn4u",
        "outputId": "0285632c-0c49-4d2a-bb43-0cef4a3dcbe2"
      },
      "execution_count": 5,
      "outputs": [
        {
          "output_type": "stream",
          "name": "stdout",
          "text": [
            "유의확률 : 0.07123337741398617\n",
            "임계값 : 1.959963984540054 에서의 1.4666666666666666\n"
          ]
        }
      ]
    },
    {
      "cell_type": "markdown",
      "source": [
        "### One- Sample - 구간 추정\n",
        "- 모 표준 편차를 모르는 경우"
      ],
      "metadata": {
        "id": "7tCvhqCyekku"
      }
    },
    {
      "cell_type": "code",
      "source": [
        "# 1) 모평균의 추정\n",
        "x = 650 #표본평균\n",
        "n = 16 #표본크기\n",
        "s = 55 #표본표준편차\n",
        "conf_a = 0.05 #신뢰수준(confidence level) 95% 기준\n",
        "df = n-1\n",
        "\n",
        "from scipy.stats import t\n",
        "\n",
        "# SE\n",
        "se = s / np.sqrt(n)\n",
        "\n",
        "# conf_t\n",
        "t_stat = t.ppf(1 - conf_a /2 , df)\n",
        "\n",
        "# ME\n",
        "ME = se * t_stat\n",
        "\n",
        "print(x-ME, x+ME)\n",
        "\n",
        "# 라이브러리 검정\n",
        "print(stats.t.interval(confidence = 0.95 , df = df, loc = x , scale = se ))"
      ],
      "metadata": {
        "colab": {
          "base_uri": "https://localhost:8080/"
        },
        "id": "t1NgK6vYeiKb",
        "outputId": "79180500-7868-4ece-df70-987f0c12c669"
      },
      "execution_count": 6,
      "outputs": [
        {
          "output_type": "stream",
          "name": "stdout",
          "text": [
            "620.6925687485593 679.3074312514407\n",
            "(620.6925687485593, 679.3074312514407)\n"
          ]
        }
      ]
    },
    {
      "cell_type": "markdown",
      "source": [
        "### One- Sample - 표본의 크기\n",
        "- 모 표준 편차를 모르는 경우"
      ],
      "metadata": {
        "id": "zmna8Ba50yKw"
      }
    },
    {
      "cell_type": "code",
      "source": [
        "# 2) 오차의 한계에 따른 규모\n",
        "# 오차의 한계가 20 이하인 경우 확률이 0.95가 되도록 평균의 추정치를 원하는 경우\n",
        "\n",
        "ME2 = 20\n",
        "conf_t = t.ppf(1 - conf_a / 2, df)\n",
        "ssize = conf_t **2 * s**2 / ME2 ** 2\n",
        "print(ssize)"
      ],
      "metadata": {
        "colab": {
          "base_uri": "https://localhost:8080/"
        },
        "id": "EwGPlXRqa5rF",
        "outputId": "723bceee-03b0-427c-e812-1a67b52298e9"
      },
      "execution_count": 7,
      "outputs": [
        {
          "output_type": "stream",
          "name": "stdout",
          "text": [
            "34.357021062316896\n"
          ]
        }
      ]
    },
    {
      "cell_type": "markdown",
      "source": [
        "### One- Sample - 가설 검증\n",
        "- 모 표준 편차를 모르는 경우"
      ],
      "metadata": {
        "id": "EAxiMGCU00FU"
      }
    },
    {
      "cell_type": "code",
      "source": [
        "# 모평균의 가설 검정\n",
        "# H0: mu = mu0,\n",
        "# H1: mu > mu0 (오른쪽검정)\n",
        "\n",
        "mu0 = 600 #귀무가설의 모평균\n",
        "test_a = 0.05 #가설검정을 위한 유의수준\n",
        "x = 650 #표본평균\n",
        "n = 16 #표본크기\n",
        "s = 55 #표본표준편차\n",
        "df = n-1 #자유도\n",
        "\n",
        "# SE\n",
        "se = s / np.sqrt(n)\n",
        "t_stat = (x - mu0) / se\n",
        "\n",
        "\n",
        "# 우측검정\n",
        "sp = 1 - t.cdf(t_stat, df)\n",
        "cv = t.ppf(1- test_a, df)  # 0.95\n",
        "print(\" 임계값: {}, 검정통계량: {:.3f}\".format(cv, t_stat))\n",
        "print(\" 유의수준: {:.3f}, 유의확률: {:.3f}\".format(test_a, sp))"
      ],
      "metadata": {
        "colab": {
          "base_uri": "https://localhost:8080/"
        },
        "id": "cnawAn_Ka5oK",
        "outputId": "dd2748a3-1cd7-40a9-b71b-7e8a8b3e0ef4"
      },
      "execution_count": 8,
      "outputs": [
        {
          "output_type": "stream",
          "name": "stdout",
          "text": [
            " 임계값: 1.7530503556925547, 검정통계량: 3.636\n",
            " 유의수준: 0.050, 유의확률: 0.001\n"
          ]
        }
      ]
    },
    {
      "cell_type": "markdown",
      "source": [
        "ADP_기출 27)\n",
        "- 12건의 광고 시간 측정. 평균 15.5초, 분산 3.2초 일때 90% 신뢰구간은?"
      ],
      "metadata": {
        "id": "z76kAYu2lLUQ"
      }
    },
    {
      "cell_type": "code",
      "source": [
        "n = 12\n",
        "x =15.5\n",
        "var = 3.2\n",
        "conf_a = 0.1\n",
        "\n",
        "df = n-1\n",
        "\n",
        "# 기각역\n",
        "t_cri = stats.t.ppf(1 - conf_a/2, df)\n",
        "\n",
        "# 표준편차\n",
        "s = np.sqrt(var)\n",
        "\n",
        "# SE\n",
        "se = s / np.sqrt(n)\n",
        "\n",
        "# ME\n",
        "ME = s * t_cri\n",
        "\n",
        "print(x - ME, x + ME)"
      ],
      "metadata": {
        "colab": {
          "base_uri": "https://localhost:8080/"
        },
        "id": "9FgrHOQ8lQs-",
        "outputId": "c24ce0db-bee5-4b2d-d8de-91171d70b51f"
      },
      "execution_count": 144,
      "outputs": [
        {
          "output_type": "stream",
          "name": "stdout",
          "text": [
            "12.28742357249497 18.71257642750503\n"
          ]
        }
      ]
    },
    {
      "cell_type": "markdown",
      "source": [
        "### 두 그룹 평균 비교 - 구간 추정\n",
        "- 표본이 큰 경우"
      ],
      "metadata": {
        "id": "4XZYgpMOkOIv"
      }
    },
    {
      "cell_type": "code",
      "source": [
        "# 1) 구간 추정 - 표본이 큰 경우\n",
        "data_1 = np.random.randint(10, 30, 50)\n",
        "data_2 = np.random.randint(15, 30, 50)\n",
        "\n",
        "s1 = np.var(data_1) / len(data_1)\n",
        "s2 = np.var(data_2) / len(data_2)\n",
        "\n",
        "stats.norm.interval(confidence = 0.95 ,\n",
        "                    loc = np.mean(data_1 - data_2),\n",
        "                    scale = s1 + s2)"
      ],
      "metadata": {
        "colab": {
          "base_uri": "https://localhost:8080/"
        },
        "id": "v_zsLPkQkNCi",
        "outputId": "e90383ee-952d-4072-fb48-21287276b02d"
      },
      "execution_count": 9,
      "outputs": [
        {
          "output_type": "execute_result",
          "data": {
            "text/plain": [
              "(-4.0021402994803426, 0.1621402994803427)"
            ]
          },
          "metadata": {},
          "execution_count": 9
        }
      ]
    },
    {
      "cell_type": "markdown",
      "source": [
        "- 표본이 큰데, 모분산을 아는 경우"
      ],
      "metadata": {
        "id": "taLgeQfk0_UB"
      }
    },
    {
      "cell_type": "code",
      "source": [
        "# 2) N > 30 , 모분산을 아는 경우 - 구간추정\n",
        "\n",
        "x1 = 78 #1번 모집단의 표본평균\n",
        "x2 = 70 #2번 모집단의 표본평균\n",
        "\n",
        "sigma1 = 4.8 #1번 모표준편차\n",
        "sigma2 = 3.1 #2번 모표준편차\n",
        "\n",
        "n1 = 16 #1번 표본 크기\n",
        "n2 = 25 #2번 표본 크기\n",
        "\n",
        "conf_a = 0.05 # 신뢰수준 95%\n",
        "\n",
        "# 1) 차이\n",
        "d = x1 - x2\n",
        "# 2) SE\n",
        "se = np.sqrt(sigma1**2/n1 + sigma2**2 / n2)\n",
        "# 3) conf_a\n",
        "conf_z = norm.ppf(1 -conf_a/2)\n",
        "# 4) ME 오차의 한계\n",
        "ME = conf_z * se\n",
        "print(\"구간 추정량 :\", d-ME, d+ME)\n",
        "# 라이브러리 검정\n",
        "print(stats.norm.interval(confidence = 0.95,\n",
        "                          loc = d,\n",
        "                          scale = se))"
      ],
      "metadata": {
        "colab": {
          "base_uri": "https://localhost:8080/"
        },
        "id": "g0heepMllR9i",
        "outputId": "e4380ca9-3f57-474b-b958-12d2bb81a887"
      },
      "execution_count": 10,
      "outputs": [
        {
          "output_type": "stream",
          "name": "stdout",
          "text": [
            "구간 추정량 : 5.352669746239741 10.64733025376026\n",
            "(5.352669746239741, 10.64733025376026)\n"
          ]
        }
      ]
    },
    {
      "cell_type": "markdown",
      "source": [
        "- 표본이 작은 경우"
      ],
      "metadata": {
        "id": "JEAvKAV41UPz"
      }
    },
    {
      "cell_type": "code",
      "source": [
        "# 표본의 개수가 적은 경우의 구간 추정\n",
        "data_1 = np.random.normal(10, 5, 15)\n",
        "data_2 = np.random.normal(15, 5, 10)\n",
        "\n",
        "n1 = len(data_1)\n",
        "n2 = len(data_2)\n",
        "\n",
        "var1 = np.var(data_1)\n",
        "var2 = np.var(data_2)\n",
        "\n",
        "# 합동 분산\n",
        "s_pooled = (n1 - 1) * var1 + (n2 -1) * var2 / (n1 + n2 - 2)\n",
        "# 차이\n",
        "d = np.mean(data_1) - np.mean(data_2)\n",
        "\n",
        "stats.t.interval(confidence = 0.95,\n",
        "                 df = n1 + n2 - 2,\n",
        "                 loc = d,\n",
        "                 scale = np.sqrt(s_pooled)   * np.sqrt((1/n1) + (1/n2)))\n"
      ],
      "metadata": {
        "id": "BxzjG13O1Tnt",
        "colab": {
          "base_uri": "https://localhost:8080/"
        },
        "outputId": "b644759b-09fc-425a-c0a2-5dacc19c78a8"
      },
      "execution_count": 11,
      "outputs": [
        {
          "output_type": "execute_result",
          "data": {
            "text/plain": [
              "(-23.209437780102892, 9.307393363172775)"
            ]
          },
          "metadata": {},
          "execution_count": 11
        }
      ]
    },
    {
      "cell_type": "markdown",
      "source": [
        "### 두 그룹 평균 비교 - 가설 검증 (N > 30)"
      ],
      "metadata": {
        "id": "jx7Ro3UK1Ffq"
      }
    },
    {
      "cell_type": "code",
      "source": [
        "# 2) 차이의 가설 검정\n",
        "# H0 : 차이 = D0\n",
        "# H1 : 차이 != D0\n",
        "\n",
        "x1 = 78 #1번 모집단의 표본평균\n",
        "x2 = 70 #2번 모집단의 표본평균\n",
        "\n",
        "sigma1 = 4.8 #1번 모표준편차\n",
        "sigma2 = 3.1 #2번 모표준편차\n",
        "\n",
        "n1 = 16 #1번 표본 크기\n",
        "n2 = 25 #2번 표본 크기\n",
        "\n",
        "conf_a = 0.05 # 신뢰수준 95%\n",
        "d0 = 0\n",
        "\n",
        "\n",
        "# 1) d\n",
        "d = x1 - x2\n",
        "# 2) df자유도\n",
        "df = n1 + n2 - 2\n",
        "# 3) SE\n",
        "se = np.sqrt(sigma1 **2 / n1 + sigma2 **2 /n2)\n",
        "# 4) z_stat\n",
        "z_stat = (x1 - x2 - d0) / se\n",
        "\n",
        "# 양측 검정\n",
        "sp = 1 - norm.cdf(np.abs(z_stat)) * 2\n",
        "cv = norm.ppf(1 - conf_a/ 2)\n",
        "print(conf_a, cv)\n",
        "print(z_stat)"
      ],
      "metadata": {
        "colab": {
          "base_uri": "https://localhost:8080/"
        },
        "id": "Bgmzgl-8os2i",
        "outputId": "fa02629e-f65c-4c47-db47-4f940cbc68ca"
      },
      "execution_count": 12,
      "outputs": [
        {
          "output_type": "stream",
          "name": "stdout",
          "text": [
            "0.05 1.959963984540054\n",
            "5.922839379049523\n"
          ]
        }
      ]
    },
    {
      "cell_type": "markdown",
      "source": [
        "### 두 그룹 평균 비교 - 가설 검증 (N < 30)"
      ],
      "metadata": {
        "id": "7SY1W86d1NOK"
      }
    },
    {
      "cell_type": "code",
      "source": [
        "# 3) 표본의 크키가 30개 미만, 분산이 같다는 것을 알고 있지만, 모표준편차를 모름\n",
        "# 3.1) 차이의 추정 -  합동분산을 꼭 구해야함\n",
        "\n",
        "from scipy.stats import t\n",
        "\n",
        "x1 = 85 #1번 모집단의 표본평균\n",
        "x2 = 81 #2번 모집단의 표본평균\n",
        "\n",
        "s1 = 4 #1번 표본표준편차\n",
        "s2 = 5 #2번 표본표준편차\n",
        "\n",
        "n1 = 12 #1번 표본 크기\n",
        "n2 = 10 #2번 표본 크기\n",
        "\n",
        "conf_a = 0.05 # 신뢰수준 95%\n",
        "\n",
        "# 1) d\n",
        "d = x1 - x2\n",
        "# 2) df\n",
        "df = n1 + n2 - 2\n",
        "# 3) 합동분산 pv\n",
        "pv = (s1**2 * (n1 -1) + s2 **2 * (n2 -1)) / df\n",
        "se = np.sqrt(pv) * np.sqrt(1/n1 + 1/n2)\n",
        "# 4) conf_t\n",
        "conf_t = t.ppf(1 - conf_a/ 2, df)\n",
        "# 5) 오차의 한계\n",
        "ME = se * conf_t\n",
        "print(ME)\n",
        "print(d - ME, d+ME)\n",
        "\n",
        "\n",
        "# 3.2) 차이의 가설 검정\n",
        "# H0 : 차이가 D0\n",
        "# H1 : 차이가 != D0\n",
        "d0 = 0\n",
        "# 1) d\n",
        "d = x1 - x2\n",
        "# 2) 자유도\n",
        "df = n1 + n2 - 2\n",
        "# 3) pv 합동 분산\n",
        "pv = (s1**2 *(n1-1) + s2**2 * (n2 -1)) / df\n",
        "se = np.sqrt(pv) * np.sqrt(1/n1 + 1/n2)\n",
        "\n",
        "t_stat = (x1 - x2 - d0) / se\n",
        "\n",
        "# two way 검정\n",
        "sp = (1 - t.cdf(np.abs(t_stat), df)) * 2\n",
        "cv = t.ppf(1 - conf_a / 2, df)\n",
        "\n",
        "print(\"검정통계량: \", t_stat)"
      ],
      "metadata": {
        "colab": {
          "base_uri": "https://localhost:8080/"
        },
        "id": "wjzLb-Izpu_J",
        "outputId": "0c3dbf0e-c55d-47ec-cc69-23889fc726ac"
      },
      "execution_count": 13,
      "outputs": [
        {
          "output_type": "stream",
          "name": "stdout",
          "text": [
            "3.9993056786131618\n",
            "0.0006943213868382259 7.999305678613162\n",
            "검정통계량:  2.0863255923855117\n"
          ]
        }
      ]
    },
    {
      "cell_type": "markdown",
      "source": [
        "## 두 그룹 평균 검증 (라이브러리)"
      ],
      "metadata": {
        "id": "qxNcblfv1b9W"
      }
    },
    {
      "cell_type": "code",
      "source": [
        "# 라이브러리를 통한 독립표본 t-test\n",
        "from scipy.stats import ttest_ind\n",
        "X1 = [1,3,5,7,9]\n",
        "X2 = [9,11,13,15]\n",
        "\n",
        "# equal_var: 모집단의 분산이 동일한지 여부\n",
        "# alternative: 대립가설의 형태 'two-sided', 'less', 'greater'\n",
        "tstat, p = ttest_ind(X1, X2, equal_var = True, alternative='two-sided')\n",
        "print(\"[라이브러리 검정] equal_var = True, alternative='two-sided'\")\n",
        "print(\" 검정통계량: {:.3f}, 유의확률: {:.3f}\\n\".format(tstat, p))\n",
        "\n",
        "tstat, p = ttest_ind(X1, X2, equal_var = False, alternative='two-sided')\n",
        "print(\"[라이브러리 검정] equal_var = False, alternative='two-sided'\")\n",
        "print(\" 검정통계량: {:.3f}, 유의확률: {:.3f}\".format(tstat, p))\n",
        "# 두 경우 모두 귀무가설을 기각 할 수 있다."
      ],
      "metadata": {
        "colab": {
          "base_uri": "https://localhost:8080/"
        },
        "id": "KG_edHODszOw",
        "outputId": "fc4c80e7-b55a-4e7c-c26e-f6ff9dc9a64f"
      },
      "execution_count": 14,
      "outputs": [
        {
          "output_type": "stream",
          "name": "stdout",
          "text": [
            "[라이브러리 검정] equal_var = True, alternative='two-sided'\n",
            " 검정통계량: -3.564, 유의확률: 0.009\n",
            "\n",
            "[라이브러리 검정] equal_var = False, alternative='two-sided'\n",
            " 검정통계량: -3.656, 유의확률: 0.008\n"
          ]
        }
      ]
    },
    {
      "cell_type": "markdown",
      "source": [
        "ADP 기출 26)\n",
        "- A초등학교 남학생 16명과 여학생 9명의 혈압을 측정한 pressure.csv파일을 가지고 남녀학생의 평균 혈압에 차이가 없는지 분석하라. 단, 남학생과 여학생의 혈압 데이터는 정규분포를 따르며 등분산임을 가정"
      ],
      "metadata": {
        "id": "S8-J3byohJts"
      }
    },
    {
      "cell_type": "code",
      "source": [
        "import pandas as pd\n",
        "\n",
        "df = pd.read_csv('https://raw.githubusercontent.com/Datamanim/datarepo/main/adp/26/pressure.csv')\n",
        "print(df.gender.value_counts())\n",
        "\n",
        "m = df[df.gender == \"male\"]['pressure']\n",
        "f = df[df.gender == \"female\"]['pressure']\n",
        "\n",
        "stat, p_val = ttest_ind(m, f, equal_var= True)\n",
        "print(p_val)\n",
        "\n",
        "\n",
        "# 통계량을 바탕으로 신뢰구간 구하기\n",
        "# 1) 평균차이\n",
        "diff = m.mean() - f.mean()\n",
        "\n",
        "# 2) 자유도\n",
        "df = len(m) + len(f) - 2\n",
        "\n",
        "# 3) 데이터 N\n",
        "male_n = len(m)\n",
        "female_n = len(f)\n",
        "\n",
        "# 4) 분산\n",
        "male_var = m.var()\n",
        "female_var = f.var()\n",
        "\n",
        "# 5) 합동 분산 : (n1 -1) * var1 + (n2 - 1) * var2 / n1 + n2 -2\n",
        "pe = ((male_n - 1) * male_var + (female_n - 1) * female_var ) / (male_n + female_n - 2)\n",
        "\n",
        "# 6)신뢰구간\n",
        "conf_int = stats.t.interval(0.95,\n",
        "                            df ,\n",
        "                            loc = diff,\n",
        "                            scale = (pe * (1/male_n + 1/female_n) ) ** 0.5)\n",
        "print(conf_int)"
      ],
      "metadata": {
        "colab": {
          "base_uri": "https://localhost:8080/"
        },
        "id": "zYlUJhbchJYL",
        "outputId": "e6f03034-b203-4388-8f3d-db5114431727"
      },
      "execution_count": 140,
      "outputs": [
        {
          "output_type": "stream",
          "name": "stdout",
          "text": [
            "gender\n",
            "male      16\n",
            "female     9\n",
            "Name: count, dtype: int64\n",
            "0.12361716364314851\n",
            "(-1.8560720920085423, 14.471349869786348)\n"
          ]
        }
      ]
    },
    {
      "cell_type": "code",
      "source": [
        "df = pd.read_csv('https://raw.githubusercontent.com/Datamanim/datarepo/main/adp/26/pressure.csv')\n",
        "df"
      ],
      "metadata": {
        "colab": {
          "base_uri": "https://localhost:8080/",
          "height": 833
        },
        "id": "ztU3UJetiNBv",
        "outputId": "e13960f8-ad11-413c-c3b7-1604cceea63f"
      },
      "execution_count": 137,
      "outputs": [
        {
          "output_type": "execute_result",
          "data": {
            "text/plain": [
              "    gender  pressure\n",
              "0     male     106.8\n",
              "1     male     100.8\n",
              "2     male      84.5\n",
              "3     male     104.2\n",
              "4     male     107.0\n",
              "5     male      83.9\n",
              "6     male      91.2\n",
              "7     male     103.2\n",
              "8     male      83.0\n",
              "9     male     101.2\n",
              "10    male      97.1\n",
              "11    male      90.9\n",
              "12    male      85.2\n",
              "13    male     106.2\n",
              "14    male     103.1\n",
              "15    male      91.2\n",
              "16  female      92.7\n",
              "17  female      89.1\n",
              "18  female      81.1\n",
              "19  female      80.2\n",
              "20  female      85.3\n",
              "21  female      82.8\n",
              "22  female     108.8\n",
              "23  female      84.3\n",
              "24  female     104.9"
            ],
            "text/html": [
              "\n",
              "  <div id=\"df-565dd5a4-1d33-45f4-a9cc-f536236f15c5\" class=\"colab-df-container\">\n",
              "    <div>\n",
              "<style scoped>\n",
              "    .dataframe tbody tr th:only-of-type {\n",
              "        vertical-align: middle;\n",
              "    }\n",
              "\n",
              "    .dataframe tbody tr th {\n",
              "        vertical-align: top;\n",
              "    }\n",
              "\n",
              "    .dataframe thead th {\n",
              "        text-align: right;\n",
              "    }\n",
              "</style>\n",
              "<table border=\"1\" class=\"dataframe\">\n",
              "  <thead>\n",
              "    <tr style=\"text-align: right;\">\n",
              "      <th></th>\n",
              "      <th>gender</th>\n",
              "      <th>pressure</th>\n",
              "    </tr>\n",
              "  </thead>\n",
              "  <tbody>\n",
              "    <tr>\n",
              "      <th>0</th>\n",
              "      <td>male</td>\n",
              "      <td>106.8</td>\n",
              "    </tr>\n",
              "    <tr>\n",
              "      <th>1</th>\n",
              "      <td>male</td>\n",
              "      <td>100.8</td>\n",
              "    </tr>\n",
              "    <tr>\n",
              "      <th>2</th>\n",
              "      <td>male</td>\n",
              "      <td>84.5</td>\n",
              "    </tr>\n",
              "    <tr>\n",
              "      <th>3</th>\n",
              "      <td>male</td>\n",
              "      <td>104.2</td>\n",
              "    </tr>\n",
              "    <tr>\n",
              "      <th>4</th>\n",
              "      <td>male</td>\n",
              "      <td>107.0</td>\n",
              "    </tr>\n",
              "    <tr>\n",
              "      <th>5</th>\n",
              "      <td>male</td>\n",
              "      <td>83.9</td>\n",
              "    </tr>\n",
              "    <tr>\n",
              "      <th>6</th>\n",
              "      <td>male</td>\n",
              "      <td>91.2</td>\n",
              "    </tr>\n",
              "    <tr>\n",
              "      <th>7</th>\n",
              "      <td>male</td>\n",
              "      <td>103.2</td>\n",
              "    </tr>\n",
              "    <tr>\n",
              "      <th>8</th>\n",
              "      <td>male</td>\n",
              "      <td>83.0</td>\n",
              "    </tr>\n",
              "    <tr>\n",
              "      <th>9</th>\n",
              "      <td>male</td>\n",
              "      <td>101.2</td>\n",
              "    </tr>\n",
              "    <tr>\n",
              "      <th>10</th>\n",
              "      <td>male</td>\n",
              "      <td>97.1</td>\n",
              "    </tr>\n",
              "    <tr>\n",
              "      <th>11</th>\n",
              "      <td>male</td>\n",
              "      <td>90.9</td>\n",
              "    </tr>\n",
              "    <tr>\n",
              "      <th>12</th>\n",
              "      <td>male</td>\n",
              "      <td>85.2</td>\n",
              "    </tr>\n",
              "    <tr>\n",
              "      <th>13</th>\n",
              "      <td>male</td>\n",
              "      <td>106.2</td>\n",
              "    </tr>\n",
              "    <tr>\n",
              "      <th>14</th>\n",
              "      <td>male</td>\n",
              "      <td>103.1</td>\n",
              "    </tr>\n",
              "    <tr>\n",
              "      <th>15</th>\n",
              "      <td>male</td>\n",
              "      <td>91.2</td>\n",
              "    </tr>\n",
              "    <tr>\n",
              "      <th>16</th>\n",
              "      <td>female</td>\n",
              "      <td>92.7</td>\n",
              "    </tr>\n",
              "    <tr>\n",
              "      <th>17</th>\n",
              "      <td>female</td>\n",
              "      <td>89.1</td>\n",
              "    </tr>\n",
              "    <tr>\n",
              "      <th>18</th>\n",
              "      <td>female</td>\n",
              "      <td>81.1</td>\n",
              "    </tr>\n",
              "    <tr>\n",
              "      <th>19</th>\n",
              "      <td>female</td>\n",
              "      <td>80.2</td>\n",
              "    </tr>\n",
              "    <tr>\n",
              "      <th>20</th>\n",
              "      <td>female</td>\n",
              "      <td>85.3</td>\n",
              "    </tr>\n",
              "    <tr>\n",
              "      <th>21</th>\n",
              "      <td>female</td>\n",
              "      <td>82.8</td>\n",
              "    </tr>\n",
              "    <tr>\n",
              "      <th>22</th>\n",
              "      <td>female</td>\n",
              "      <td>108.8</td>\n",
              "    </tr>\n",
              "    <tr>\n",
              "      <th>23</th>\n",
              "      <td>female</td>\n",
              "      <td>84.3</td>\n",
              "    </tr>\n",
              "    <tr>\n",
              "      <th>24</th>\n",
              "      <td>female</td>\n",
              "      <td>104.9</td>\n",
              "    </tr>\n",
              "  </tbody>\n",
              "</table>\n",
              "</div>\n",
              "    <div class=\"colab-df-buttons\">\n",
              "\n",
              "  <div class=\"colab-df-container\">\n",
              "    <button class=\"colab-df-convert\" onclick=\"convertToInteractive('df-565dd5a4-1d33-45f4-a9cc-f536236f15c5')\"\n",
              "            title=\"Convert this dataframe to an interactive table.\"\n",
              "            style=\"display:none;\">\n",
              "\n",
              "  <svg xmlns=\"http://www.w3.org/2000/svg\" height=\"24px\" viewBox=\"0 -960 960 960\">\n",
              "    <path d=\"M120-120v-720h720v720H120Zm60-500h600v-160H180v160Zm220 220h160v-160H400v160Zm0 220h160v-160H400v160ZM180-400h160v-160H180v160Zm440 0h160v-160H620v160ZM180-180h160v-160H180v160Zm440 0h160v-160H620v160Z\"/>\n",
              "  </svg>\n",
              "    </button>\n",
              "\n",
              "  <style>\n",
              "    .colab-df-container {\n",
              "      display:flex;\n",
              "      gap: 12px;\n",
              "    }\n",
              "\n",
              "    .colab-df-convert {\n",
              "      background-color: #E8F0FE;\n",
              "      border: none;\n",
              "      border-radius: 50%;\n",
              "      cursor: pointer;\n",
              "      display: none;\n",
              "      fill: #1967D2;\n",
              "      height: 32px;\n",
              "      padding: 0 0 0 0;\n",
              "      width: 32px;\n",
              "    }\n",
              "\n",
              "    .colab-df-convert:hover {\n",
              "      background-color: #E2EBFA;\n",
              "      box-shadow: 0px 1px 2px rgba(60, 64, 67, 0.3), 0px 1px 3px 1px rgba(60, 64, 67, 0.15);\n",
              "      fill: #174EA6;\n",
              "    }\n",
              "\n",
              "    .colab-df-buttons div {\n",
              "      margin-bottom: 4px;\n",
              "    }\n",
              "\n",
              "    [theme=dark] .colab-df-convert {\n",
              "      background-color: #3B4455;\n",
              "      fill: #D2E3FC;\n",
              "    }\n",
              "\n",
              "    [theme=dark] .colab-df-convert:hover {\n",
              "      background-color: #434B5C;\n",
              "      box-shadow: 0px 1px 3px 1px rgba(0, 0, 0, 0.15);\n",
              "      filter: drop-shadow(0px 1px 2px rgba(0, 0, 0, 0.3));\n",
              "      fill: #FFFFFF;\n",
              "    }\n",
              "  </style>\n",
              "\n",
              "    <script>\n",
              "      const buttonEl =\n",
              "        document.querySelector('#df-565dd5a4-1d33-45f4-a9cc-f536236f15c5 button.colab-df-convert');\n",
              "      buttonEl.style.display =\n",
              "        google.colab.kernel.accessAllowed ? 'block' : 'none';\n",
              "\n",
              "      async function convertToInteractive(key) {\n",
              "        const element = document.querySelector('#df-565dd5a4-1d33-45f4-a9cc-f536236f15c5');\n",
              "        const dataTable =\n",
              "          await google.colab.kernel.invokeFunction('convertToInteractive',\n",
              "                                                    [key], {});\n",
              "        if (!dataTable) return;\n",
              "\n",
              "        const docLinkHtml = 'Like what you see? Visit the ' +\n",
              "          '<a target=\"_blank\" href=https://colab.research.google.com/notebooks/data_table.ipynb>data table notebook</a>'\n",
              "          + ' to learn more about interactive tables.';\n",
              "        element.innerHTML = '';\n",
              "        dataTable['output_type'] = 'display_data';\n",
              "        await google.colab.output.renderOutput(dataTable, element);\n",
              "        const docLink = document.createElement('div');\n",
              "        docLink.innerHTML = docLinkHtml;\n",
              "        element.appendChild(docLink);\n",
              "      }\n",
              "    </script>\n",
              "  </div>\n",
              "\n",
              "\n",
              "<div id=\"df-b3233fd4-7031-41f0-b9fc-8cc1ab7918e7\">\n",
              "  <button class=\"colab-df-quickchart\" onclick=\"quickchart('df-b3233fd4-7031-41f0-b9fc-8cc1ab7918e7')\"\n",
              "            title=\"Suggest charts\"\n",
              "            style=\"display:none;\">\n",
              "\n",
              "<svg xmlns=\"http://www.w3.org/2000/svg\" height=\"24px\"viewBox=\"0 0 24 24\"\n",
              "     width=\"24px\">\n",
              "    <g>\n",
              "        <path d=\"M19 3H5c-1.1 0-2 .9-2 2v14c0 1.1.9 2 2 2h14c1.1 0 2-.9 2-2V5c0-1.1-.9-2-2-2zM9 17H7v-7h2v7zm4 0h-2V7h2v10zm4 0h-2v-4h2v4z\"/>\n",
              "    </g>\n",
              "</svg>\n",
              "  </button>\n",
              "\n",
              "<style>\n",
              "  .colab-df-quickchart {\n",
              "      --bg-color: #E8F0FE;\n",
              "      --fill-color: #1967D2;\n",
              "      --hover-bg-color: #E2EBFA;\n",
              "      --hover-fill-color: #174EA6;\n",
              "      --disabled-fill-color: #AAA;\n",
              "      --disabled-bg-color: #DDD;\n",
              "  }\n",
              "\n",
              "  [theme=dark] .colab-df-quickchart {\n",
              "      --bg-color: #3B4455;\n",
              "      --fill-color: #D2E3FC;\n",
              "      --hover-bg-color: #434B5C;\n",
              "      --hover-fill-color: #FFFFFF;\n",
              "      --disabled-bg-color: #3B4455;\n",
              "      --disabled-fill-color: #666;\n",
              "  }\n",
              "\n",
              "  .colab-df-quickchart {\n",
              "    background-color: var(--bg-color);\n",
              "    border: none;\n",
              "    border-radius: 50%;\n",
              "    cursor: pointer;\n",
              "    display: none;\n",
              "    fill: var(--fill-color);\n",
              "    height: 32px;\n",
              "    padding: 0;\n",
              "    width: 32px;\n",
              "  }\n",
              "\n",
              "  .colab-df-quickchart:hover {\n",
              "    background-color: var(--hover-bg-color);\n",
              "    box-shadow: 0 1px 2px rgba(60, 64, 67, 0.3), 0 1px 3px 1px rgba(60, 64, 67, 0.15);\n",
              "    fill: var(--button-hover-fill-color);\n",
              "  }\n",
              "\n",
              "  .colab-df-quickchart-complete:disabled,\n",
              "  .colab-df-quickchart-complete:disabled:hover {\n",
              "    background-color: var(--disabled-bg-color);\n",
              "    fill: var(--disabled-fill-color);\n",
              "    box-shadow: none;\n",
              "  }\n",
              "\n",
              "  .colab-df-spinner {\n",
              "    border: 2px solid var(--fill-color);\n",
              "    border-color: transparent;\n",
              "    border-bottom-color: var(--fill-color);\n",
              "    animation:\n",
              "      spin 1s steps(1) infinite;\n",
              "  }\n",
              "\n",
              "  @keyframes spin {\n",
              "    0% {\n",
              "      border-color: transparent;\n",
              "      border-bottom-color: var(--fill-color);\n",
              "      border-left-color: var(--fill-color);\n",
              "    }\n",
              "    20% {\n",
              "      border-color: transparent;\n",
              "      border-left-color: var(--fill-color);\n",
              "      border-top-color: var(--fill-color);\n",
              "    }\n",
              "    30% {\n",
              "      border-color: transparent;\n",
              "      border-left-color: var(--fill-color);\n",
              "      border-top-color: var(--fill-color);\n",
              "      border-right-color: var(--fill-color);\n",
              "    }\n",
              "    40% {\n",
              "      border-color: transparent;\n",
              "      border-right-color: var(--fill-color);\n",
              "      border-top-color: var(--fill-color);\n",
              "    }\n",
              "    60% {\n",
              "      border-color: transparent;\n",
              "      border-right-color: var(--fill-color);\n",
              "    }\n",
              "    80% {\n",
              "      border-color: transparent;\n",
              "      border-right-color: var(--fill-color);\n",
              "      border-bottom-color: var(--fill-color);\n",
              "    }\n",
              "    90% {\n",
              "      border-color: transparent;\n",
              "      border-bottom-color: var(--fill-color);\n",
              "    }\n",
              "  }\n",
              "</style>\n",
              "\n",
              "  <script>\n",
              "    async function quickchart(key) {\n",
              "      const quickchartButtonEl =\n",
              "        document.querySelector('#' + key + ' button');\n",
              "      quickchartButtonEl.disabled = true;  // To prevent multiple clicks.\n",
              "      quickchartButtonEl.classList.add('colab-df-spinner');\n",
              "      try {\n",
              "        const charts = await google.colab.kernel.invokeFunction(\n",
              "            'suggestCharts', [key], {});\n",
              "      } catch (error) {\n",
              "        console.error('Error during call to suggestCharts:', error);\n",
              "      }\n",
              "      quickchartButtonEl.classList.remove('colab-df-spinner');\n",
              "      quickchartButtonEl.classList.add('colab-df-quickchart-complete');\n",
              "    }\n",
              "    (() => {\n",
              "      let quickchartButtonEl =\n",
              "        document.querySelector('#df-b3233fd4-7031-41f0-b9fc-8cc1ab7918e7 button');\n",
              "      quickchartButtonEl.style.display =\n",
              "        google.colab.kernel.accessAllowed ? 'block' : 'none';\n",
              "    })();\n",
              "  </script>\n",
              "</div>\n",
              "\n",
              "  <div id=\"id_fa34c573-5ca9-496a-90ae-f20b0fb24cd4\">\n",
              "    <style>\n",
              "      .colab-df-generate {\n",
              "        background-color: #E8F0FE;\n",
              "        border: none;\n",
              "        border-radius: 50%;\n",
              "        cursor: pointer;\n",
              "        display: none;\n",
              "        fill: #1967D2;\n",
              "        height: 32px;\n",
              "        padding: 0 0 0 0;\n",
              "        width: 32px;\n",
              "      }\n",
              "\n",
              "      .colab-df-generate:hover {\n",
              "        background-color: #E2EBFA;\n",
              "        box-shadow: 0px 1px 2px rgba(60, 64, 67, 0.3), 0px 1px 3px 1px rgba(60, 64, 67, 0.15);\n",
              "        fill: #174EA6;\n",
              "      }\n",
              "\n",
              "      [theme=dark] .colab-df-generate {\n",
              "        background-color: #3B4455;\n",
              "        fill: #D2E3FC;\n",
              "      }\n",
              "\n",
              "      [theme=dark] .colab-df-generate:hover {\n",
              "        background-color: #434B5C;\n",
              "        box-shadow: 0px 1px 3px 1px rgba(0, 0, 0, 0.15);\n",
              "        filter: drop-shadow(0px 1px 2px rgba(0, 0, 0, 0.3));\n",
              "        fill: #FFFFFF;\n",
              "      }\n",
              "    </style>\n",
              "    <button class=\"colab-df-generate\" onclick=\"generateWithVariable('df')\"\n",
              "            title=\"Generate code using this dataframe.\"\n",
              "            style=\"display:none;\">\n",
              "\n",
              "  <svg xmlns=\"http://www.w3.org/2000/svg\" height=\"24px\"viewBox=\"0 0 24 24\"\n",
              "       width=\"24px\">\n",
              "    <path d=\"M7,19H8.4L18.45,9,17,7.55,7,17.6ZM5,21V16.75L18.45,3.32a2,2,0,0,1,2.83,0l1.4,1.43a1.91,1.91,0,0,1,.58,1.4,1.91,1.91,0,0,1-.58,1.4L9.25,21ZM18.45,9,17,7.55Zm-12,3A5.31,5.31,0,0,0,4.9,8.1,5.31,5.31,0,0,0,1,6.5,5.31,5.31,0,0,0,4.9,4.9,5.31,5.31,0,0,0,6.5,1,5.31,5.31,0,0,0,8.1,4.9,5.31,5.31,0,0,0,12,6.5,5.46,5.46,0,0,0,6.5,12Z\"/>\n",
              "  </svg>\n",
              "    </button>\n",
              "    <script>\n",
              "      (() => {\n",
              "      const buttonEl =\n",
              "        document.querySelector('#id_fa34c573-5ca9-496a-90ae-f20b0fb24cd4 button.colab-df-generate');\n",
              "      buttonEl.style.display =\n",
              "        google.colab.kernel.accessAllowed ? 'block' : 'none';\n",
              "\n",
              "      buttonEl.onclick = () => {\n",
              "        google.colab.notebook.generateWithVariable('df');\n",
              "      }\n",
              "      })();\n",
              "    </script>\n",
              "  </div>\n",
              "\n",
              "    </div>\n",
              "  </div>\n"
            ],
            "application/vnd.google.colaboratory.intrinsic+json": {
              "type": "dataframe",
              "variable_name": "df",
              "summary": "{\n  \"name\": \"df\",\n  \"rows\": 25,\n  \"fields\": [\n    {\n      \"column\": \"gender\",\n      \"properties\": {\n        \"dtype\": \"category\",\n        \"num_unique_values\": 2,\n        \"samples\": [\n          \"female\",\n          \"male\"\n        ],\n        \"semantic_type\": \"\",\n        \"description\": \"\"\n      }\n    },\n    {\n      \"column\": \"pressure\",\n      \"properties\": {\n        \"dtype\": \"number\",\n        \"std\": 9.7732679624917,\n        \"min\": 80.2,\n        \"max\": 108.8,\n        \"num_unique_values\": 24,\n        \"samples\": [\n          83.0,\n          89.1\n        ],\n        \"semantic_type\": \"\",\n        \"description\": \"\"\n      }\n    }\n  ]\n}"
            }
          },
          "metadata": {},
          "execution_count": 137
        }
      ]
    },
    {
      "cell_type": "markdown",
      "source": [
        "### 대응표본 모평균의 차이 추청과 가설 검정 : Z, t분포"
      ],
      "metadata": {
        "id": "NS3KKoXbtEKL"
      }
    },
    {
      "cell_type": "code",
      "source": [
        "from scipy.stats import t\n",
        "import numpy as np\n",
        "x1 = np.array([75, 83, 96, 77, 81, 90, 82, 67, 94, 85, 78, 82, 96, 80, 87, 81])\n",
        "x2 = np.array([80, 90, 92, 75, 86, 90, 81, 70, 89, 88, 82, 79, 91, 90, 78, 89])\n",
        "\n",
        "\n",
        "# 1) N < 30\n",
        "n = len(x1)\n",
        "df = n - 1\n",
        "conf_a = 0.05\n",
        "\n",
        "## 점추정/구간/오차의 한계\n",
        "d = x1 - x2\n",
        "d_mean = np.mean(d)   # 두 데이터 차이의 평균\n",
        "std = np.sqrt(1 / df * sum((d - d_mean)**2))\n",
        "\n",
        "se = std / np.sqrt(n)\n",
        "conf_t = t.ppf(1 - conf_a / 2, df)\n",
        "ME = se * conf_t\n",
        "\n",
        "print(d_mean - ME , d_mean + ME)\n",
        "\n",
        "# 가설 검정\n",
        "d0 = 0\n",
        "\n",
        "tstat = (d_mean - d0) / se\n",
        "print(tstat)\n",
        "\n",
        "from scipy.stats import ttest_rel\n",
        "stat, p = ttest_rel(x1, x2 , alternative = \"two-sided\")\n",
        "print(stat, p)"
      ],
      "metadata": {
        "colab": {
          "base_uri": "https://localhost:8080/"
        },
        "id": "Hw4hmJyqWd8W",
        "outputId": "9e35d34d-c80e-4013-ac86-a4b9b567a233"
      },
      "execution_count": 96,
      "outputs": [
        {
          "output_type": "stream",
          "name": "stdout",
          "text": [
            "-3.892547973562949 1.892547973562949\n",
            "-0.7368761261836121\n",
            "-0.7368761261836121 0.4725666261759255\n"
          ]
        }
      ]
    },
    {
      "cell_type": "markdown",
      "source": [
        "ADP_기출 25)\n",
        "- 임상 대상 20명에 대해 혈압약 투약 이전과 이후의 차이가 24, 표준편차 9 신뢰구간 95%, 차이가 존재하는지 확인하려한다"
      ],
      "metadata": {
        "id": "-3jgmpJTeQ52"
      }
    },
    {
      "cell_type": "code",
      "source": [
        "diff = 24\n",
        "s = 9\n",
        "n = 20\n",
        "df = n - 1\n",
        "conf_a = 0.05\n",
        "\n",
        "# se\n",
        "se = s / np.sqrt(n)\n",
        "\n",
        "# 검정통계량\n",
        "t = diff/ se\n",
        "\n",
        "# 기각역\n",
        "cv = stats.t.ppf(1 - conf_a / 2, df)\n",
        "sp = (1 - stats.t.cdf(np.abs(t), df))\n",
        "\n",
        "if abs(t) > cv :\n",
        "      print(\"귀무가설을 기각합니다. 투약 이전과 이후의 차이가 존재합니다.\")\n",
        "else:\n",
        "    print(\"귀무가설을 채택합니다. 투약 이전과 이후의 차이는 존재하지 않습니다.\")"
      ],
      "metadata": {
        "colab": {
          "base_uri": "https://localhost:8080/"
        },
        "id": "Ik0hMOJ6eQQd",
        "outputId": "5c94d9af-3289-4b7f-f050-bd03cf66e630"
      },
      "execution_count": 131,
      "outputs": [
        {
          "output_type": "stream",
          "name": "stdout",
          "text": [
            "귀무가설을 기각합니다. 투약 이전과 이후의 차이가 존재합니다.\n"
          ]
        }
      ]
    },
    {
      "cell_type": "markdown",
      "source": [
        "### 모비율 추청 , 가설 검정 : Z 검정"
      ],
      "metadata": {
        "id": "os0indmUjLzn"
      }
    },
    {
      "cell_type": "markdown",
      "source": [
        "ONE SAMPLE - 구간 추정"
      ],
      "metadata": {
        "id": "4I5vg91JuXun"
      }
    },
    {
      "cell_type": "code",
      "source": [
        "# 1) 모비율 구간추정 - Z분포\n",
        "n = 500 #표본 크기\n",
        "p = 220/500 #표본 비율\n",
        "conf_a = 0.05\n",
        "\n",
        "from scipy.stats import norm\n",
        "\n",
        "# SE\n",
        "se = np.sqrt(p * (1 - p) / n)\n",
        "# conf_z\n",
        "conf_z = norm.ppf(1 - conf_a/2)\n",
        "# ME\n",
        "ME = se * conf_z\n",
        "print(p - ME, p + ME)"
      ],
      "metadata": {
        "colab": {
          "base_uri": "https://localhost:8080/"
        },
        "id": "fkb29Gtba5lz",
        "outputId": "885d077f-cadb-4ac1-f04f-a917e479295e"
      },
      "execution_count": 15,
      "outputs": [
        {
          "output_type": "stream",
          "name": "stdout",
          "text": [
            "0.3964905653123594 0.4835094346876406\n"
          ]
        }
      ]
    },
    {
      "cell_type": "code",
      "source": [
        "# 라이브러리 - One Sample\n",
        "p = 41/ 500\n",
        "n = 500\n",
        "\n",
        "se = np.sqrt(p * (1-p) / n)\n",
        "print(stats.norm.interval(confidence = 0.95, loc = p , scale = se))\n",
        "\n",
        "from statsmodels.stats.proportion import proportion_confint\n",
        "print(proportion_confint(41, 500, alpha = 0.05 , method = 'normal'))"
      ],
      "metadata": {
        "colab": {
          "base_uri": "https://localhost:8080/"
        },
        "id": "Pfu671uwvaw9",
        "outputId": "b97eb326-5cd3-409c-e4a3-56f560592b88"
      },
      "execution_count": 16,
      "outputs": [
        {
          "output_type": "stream",
          "name": "stdout",
          "text": [
            "(0.05795131379112069, 0.10604868620887932)\n",
            "(0.05795131379112069, 0.10604868620887932)\n"
          ]
        }
      ]
    },
    {
      "cell_type": "markdown",
      "source": [
        "모비율 구간 추정 예제 문제 1)\n",
        "- 한 대학교에서 3월 한 달간 신입학생 325명을 대상으로 일주일에 1회 이하로 술을 마시는 사람을 조사해본 결과 25명이었다. 99% 신뢰수준에서 모비율을 추정"
      ],
      "metadata": {
        "id": "v6ncCo8L_Crb"
      }
    },
    {
      "cell_type": "code",
      "source": [
        "n = 325\n",
        "p = 25 / 325\n",
        "conf_a = 0.01\n",
        "\n",
        "# se\n",
        "se = np.sqrt(p * (1-p) / n)\n",
        "# conf_a\n",
        "conf_z = norm.ppf(1- conf_a / 2)\n",
        "# ME (오차의 한계)\n",
        "ME = conf_z * se\n",
        "print(p- ME, p+ ME)\n",
        "\n",
        "# 라이브러리 검정\n",
        "print(stats.norm.interval(confidence = 0.99, loc = p, scale = se))"
      ],
      "metadata": {
        "colab": {
          "base_uri": "https://localhost:8080/"
        },
        "id": "f_UQ-s7N_KYs",
        "outputId": "fc3ea2cf-2d2f-435f-a63b-0fa30a593da2"
      },
      "execution_count": 17,
      "outputs": [
        {
          "output_type": "stream",
          "name": "stdout",
          "text": [
            "0.03884958853283119 0.11499656531332267\n",
            "(0.03884958853283119, 0.11499656531332267)\n"
          ]
        }
      ]
    },
    {
      "cell_type": "markdown",
      "source": [
        "모비율 구간 추정 예제 문제 2)\n",
        "- 시중에서 판매되는 한 제품의 불량률을 추정하려고 한다. 900대의 제품을 랜덤하게 조사하였더니 불량률이 450대였다. 판매되는 제품되는 불량률에 대한 90% 신뢰구간을"
      ],
      "metadata": {
        "id": "dm2CmO9a_zmO"
      }
    },
    {
      "cell_type": "code",
      "source": [
        "n = 900\n",
        "p = 450 / 900\n",
        "conf_a = 0.90\n",
        "\n",
        "# 1) SE\n",
        "se = np.sqrt(p * (1 - p) / n)\n",
        "\n",
        "stats.norm.interval(confidence = conf_a , loc = p , scale = se)"
      ],
      "metadata": {
        "colab": {
          "base_uri": "https://localhost:8080/"
        },
        "id": "JL4OG6R-_3Is",
        "outputId": "cc7b8cac-100b-4f3b-e915-d62a69ecd6ad"
      },
      "execution_count": 18,
      "outputs": [
        {
          "output_type": "execute_result",
          "data": {
            "text/plain": [
              "(0.4725857728841421, 0.5274142271158578)"
            ]
          },
          "metadata": {},
          "execution_count": 18
        }
      ]
    },
    {
      "cell_type": "markdown",
      "source": [
        "ONE SAMPLE - 표본 규모 계산"
      ],
      "metadata": {
        "id": "gENZQJIQuWiE"
      }
    },
    {
      "cell_type": "code",
      "source": [
        "# 2) 모비율 표본 규모 계산\n",
        "# 오차의 한계가 0.3이하일 확률이 0.99가 되도록\n",
        "ME2 = 0.03\n",
        "conf_a = 1 - 0.99\n",
        "conf_z = norm.ppf(1 - conf_a/ 2)\n",
        "\n",
        "ssize = conf_z **2 * p * (1- p) / ME2 **2\n",
        "print(ssize)"
      ],
      "metadata": {
        "colab": {
          "base_uri": "https://localhost:8080/"
        },
        "id": "S7uzLUhaa5jJ",
        "outputId": "ce0da5cc-b4ee-4a7e-cc13-96dde73b06c5"
      },
      "execution_count": 19,
      "outputs": [
        {
          "output_type": "stream",
          "name": "stdout",
          "text": [
            "1843.0268336170038\n"
          ]
        }
      ]
    },
    {
      "cell_type": "markdown",
      "source": [
        "모비율 표본의 크기 예제 문제 1)\n",
        "- 철강제품의 불량률을 조사하고자 한다. 이 때, 불량률의 90% 신뢰수준, 추정오차한계가 5% 이내가 되기 위하여 적절한 표본의 크기 중 최소값은 얼마인가?"
      ],
      "metadata": {
        "id": "doKeST08APAk"
      }
    },
    {
      "cell_type": "code",
      "source": [
        "ME = 0.05\n",
        "conf_a = 1- 0.90\n",
        "p = 0.5\n",
        "# conf_z\n",
        "conf_z = norm.ppf(1 - conf_a/2)\n",
        "\n",
        "ssize = conf_z**2 * p * (1-p)/ ME **2\n",
        "\n"
      ],
      "metadata": {
        "id": "ZUWipZWuAUV1"
      },
      "execution_count": 20,
      "outputs": []
    },
    {
      "cell_type": "markdown",
      "source": [
        "ONE SAMPLE -가설 검정"
      ],
      "metadata": {
        "id": "ZBBXaX31uZx3"
      }
    },
    {
      "cell_type": "code",
      "source": [
        "# 모비율의 가설검정\n",
        "# H0: P = P0,\n",
        "# H1: P != P0\n",
        "n = 500 #표본 크기\n",
        "p = 220/500 #표본 비율\n",
        "P0 = 0.5 #귀무가설의 모비율\n",
        "conf_a = 0.05\n",
        "\n",
        "# 1) SE : 귀무가설의 모비율을 계산한다.\n",
        "se = np.sqrt(P0 * (1- P0) / n)\n",
        "\n",
        "# 2) z_stat\n",
        "z_stat = (p -P0 ) / se\n",
        "\n",
        "# 3) two_way\n",
        "sp = 1 - (norm.cdf(np.abs(z_stat))) ** 2\n",
        "cv = norm.ppf(1- conf_a / 2)\n",
        "print(f\"유의확률 {sp}\")\n",
        "print(f\"임계값 {cv}에서의 검정통계량 {z_stat}\")"
      ],
      "metadata": {
        "colab": {
          "base_uri": "https://localhost:8080/"
        },
        "id": "TBjoLl0TuUEm",
        "outputId": "28c16e9a-034d-46ed-ed56-e099f2e6ad3e"
      },
      "execution_count": 21,
      "outputs": [
        {
          "output_type": "stream",
          "name": "stdout",
          "text": [
            "유의확률 0.0072770707612598295\n",
            "임계값 1.959963984540054에서의 검정통계량 -2.6832815729997477\n"
          ]
        }
      ]
    },
    {
      "cell_type": "markdown",
      "source": [
        "모비율 예제 문제 1)\n",
        "- 시중에 팔리고 있는 주사위들 중에서 많은 것들이 공평하지 못하다고 사람들이 말한다. 왜냐하면 주사위에 표시된 점들이 실제로는 음각된 것이기 때문이다. 예를 들어 6이 나오는 면이 1이 나오는 면보다 가볍다. p를 6이 나오는 확률이라고 하자. *H1 : p > 1/ 6* 에 대하여 *H0 : p = 1/ 6*을 검정하기 위하여, 여러 개의 주사위를 던져 총 n=8000개의 관측치 중 1389개의 주사위 눈이 6인 결과를 얻었다. 유의수준 0.05 하에서 가설검정을 진행하라"
      ],
      "metadata": {
        "id": "StK6ox6x8-au"
      }
    },
    {
      "cell_type": "code",
      "source": [
        "n = 8000\n",
        "p = 1389/ 8000\n",
        "p_hat = 1/6\n",
        "\n",
        "# 귀무 : p = 1/6\n",
        "# 대립 : p > 1/6\n",
        "# One -Right 부등호가 표족한 방향으로 기억\n",
        "\n",
        "# 1) SE\n",
        "se = np.sqrt(p_hat * (1 - p_hat) / n)\n",
        "\n",
        "# 2) 검정\n",
        "z_stat = (p - p_hat) / se\n",
        "\n",
        "\n",
        "sp = 1 - norm.cdf(z_stat)\n",
        "cv = norm.ppf(1 - conf_a)\n",
        "\n",
        "print(\"검정통계량 \", z_stat)\n",
        "print(\"유의확률\", sp)\n",
        "print(\"기각값\", cv)"
      ],
      "metadata": {
        "colab": {
          "base_uri": "https://localhost:8080/"
        },
        "id": "dTG2f0h18-EZ",
        "outputId": "eabfbc14-237e-44a7-eddb-826b43f098f4"
      },
      "execution_count": 22,
      "outputs": [
        {
          "output_type": "stream",
          "name": "stdout",
          "text": [
            "검정통계량  1.6700000000000026\n",
            "유의확률 0.04745968180294702\n",
            "기각값 1.6448536269514722\n"
          ]
        }
      ]
    },
    {
      "cell_type": "markdown",
      "source": [
        "모비율 예제 문제 2)\n",
        "- 한 지역의 국회의원 선거여론조사를 지난달 실시한 결과 특정후보의 지지율이 60%이었다. 최근에 지지율에 변동이 있는지 알아보기 위해 100명을 단순임의추출하였더니 55명이 지지를 하였다. 특정후보에 대한 현재 지지율이 60%에서 변동이 있는지 유의수준 5%로 가설검정"
      ],
      "metadata": {
        "id": "FLnRksKx-MBe"
      }
    },
    {
      "cell_type": "code",
      "source": [
        "n = 100\n",
        "p_hat = 0.6\n",
        "p = 55 /100\n",
        "conf_a = 0.05\n",
        "\n",
        "# 귀무가설은 : 지지율이 60%이다\n",
        "# 대립가설은 : 지지율이 60&가 아니다. (양측검정)\n",
        "\n",
        "# 1) SE\n",
        "se = np.sqrt(p_hat * (1 - p_hat) / n)\n",
        "\n",
        "# 2) z_stat\n",
        "z_stat = (p - p_hat) / se\n",
        "\n",
        "sp = 1 - (norm.cdf(np.abs(z_stat))) * 2\n",
        "cv = norm.ppf(1 - conf_a / 2)\n",
        "\n",
        "print(\"검정통계량 \", z_stat)\n",
        "print(\"유의확률\", sp)\n",
        "print(\"기각값\", cv)"
      ],
      "metadata": {
        "colab": {
          "base_uri": "https://localhost:8080/"
        },
        "id": "PgO8IRUd-X6t",
        "outputId": "40c15e0e-0553-492d-ac09-1be707106de8"
      },
      "execution_count": 23,
      "outputs": [
        {
          "output_type": "stream",
          "name": "stdout",
          "text": [
            "검정통계량  -1.0206207261596563\n",
            "유의확률 -0.692565834072604\n",
            "기각값 1.959963984540054\n"
          ]
        }
      ]
    },
    {
      "cell_type": "markdown",
      "source": [
        "모비율 확률 예제 문제 3)\n",
        "- 어느 도시에서 성인 전체의 25%가 흡연자라고 한다. 만약 현재도 이와 비슷한 비율이 유지된다면 1300명의 성인표본에서 흡연자가 317명보다 작을 확률은"
      ],
      "metadata": {
        "id": "5SnX903Tn07e"
      }
    },
    {
      "cell_type": "code",
      "source": [
        "# 주어진 값\n",
        "n = 1300  # 표본 크기\n",
        "p = 0.25  # 흡연자의 비율\n",
        "x = 317  # 흡연자 수\n",
        "p_hat = 317 / 1300\n",
        "\n",
        "\n",
        "Z = (p_hat - p) / np.sqrt(p * (1 - p) / n)\n",
        "\n",
        "# 단측 검정\n",
        "print(norm.cdf(Z))\n",
        "\n",
        "\n",
        "\n",
        "# 이항분포로 풀기\n",
        "mean = n * p\n",
        "std = np.sqrt(n * p * (1-p))\n",
        "print(norm.cdf(317, mean, std))\n"
      ],
      "metadata": {
        "colab": {
          "base_uri": "https://localhost:8080/"
        },
        "id": "sAPqp_WWn65W",
        "outputId": "b127ce1f-064c-4e9f-d6df-acf364219a9a"
      },
      "execution_count": 149,
      "outputs": [
        {
          "output_type": "stream",
          "name": "stdout",
          "text": [
            "0.30418201463044886\n",
            "0.3041820146304487\n"
          ]
        }
      ]
    },
    {
      "cell_type": "markdown",
      "source": [
        "TWO SAMPLE - 구간 추청"
      ],
      "metadata": {
        "id": "zY2bwewuwU20"
      }
    },
    {
      "cell_type": "code",
      "source": [
        "# 독립표본 모비율 차이의 추정\n",
        "n1 = 250 # 캠페인 후의 인지도 (관심 있는 대상)\n",
        "p1 = 120/250\n",
        "\n",
        "n2 = 150 # 캠페인 전의 인지도\n",
        "p2 = 60/150\n",
        "conf_a = 0.05\n",
        "\n",
        "# 1) d\n",
        "d = p1 - p2\n",
        "# 2) conf_z\n",
        "conf_z = norm.ppf(1- conf_a/2)\n",
        "# 3) SE\n",
        "se = np.sqrt(p1 * (1 - p1)/ n1 + p2 * (1 - p2)/ n2 )\n",
        "# 4) 오차의 한계\n",
        "ME = se * conf_z\n",
        "\n",
        "# 5) 구간 추정\n",
        "print(d - ME, d + ME)\n",
        "\n",
        "\n",
        "# 6) 라이브러리\n",
        "stats.norm.interval(confidence = 0.95 , loc = d , scale = se)"
      ],
      "metadata": {
        "colab": {
          "base_uri": "https://localhost:8080/"
        },
        "id": "cg5CzrmCwOk3",
        "outputId": "c7850847-d773-4c95-c050-254bccfb55b7"
      },
      "execution_count": 24,
      "outputs": [
        {
          "output_type": "stream",
          "name": "stdout",
          "text": [
            "-0.01990819085386153 0.17990819085386145\n"
          ]
        },
        {
          "output_type": "execute_result",
          "data": {
            "text/plain": [
              "(-0.01990819085386153, 0.17990819085386145)"
            ]
          },
          "metadata": {},
          "execution_count": 24
        }
      ]
    },
    {
      "cell_type": "markdown",
      "source": [
        "모비율 구간 추정 예제 문제 3)\n",
        "- p1 과 p2 를 각각 어느 새의 수컷과 암컷이 그들이 부화한 장소로 돌아오는 비율을 나타낸다고 하자. 894마리 수컷 중 124마리가 돌아왔고, 700마리 암컷 중 70마리가 돌아왔을 때 두 비율 차이에 대한 95% 신뢰구간을 구하여라."
      ],
      "metadata": {
        "id": "6Qmi1Lr8Krme"
      }
    },
    {
      "cell_type": "code",
      "source": [
        "n1 = 894\n",
        "p1 = 124 / 894\n",
        "\n",
        "n2 = 700\n",
        "p2 = 70 / 700\n",
        "\n",
        "conf_a = 0.05\n",
        "#1 ) d\n",
        "d = p1 - p2\n",
        "#2) se\n",
        "se = np.sqrt(p1 * (1- p1)/ n1 + p2 * (1 - p2)/ n2)\n",
        "\n",
        "#3)z_confa\n",
        "z_confa = norm.ppf(1 - conf_a /2)\n",
        "\n",
        "# 4) ME\n",
        "ME = se * z_confa\n",
        "print(d- ME, d + ME)\n",
        "print(ME)"
      ],
      "metadata": {
        "colab": {
          "base_uri": "https://localhost:8080/"
        },
        "id": "zOswXTTHKso3",
        "outputId": "3634270d-391d-4086-ac06-01cd711152c2"
      },
      "execution_count": 25,
      "outputs": [
        {
          "output_type": "stream",
          "name": "stdout",
          "text": [
            "0.006965556033592134 0.07043936566663159\n",
            "0.03173690481651973\n"
          ]
        }
      ]
    },
    {
      "cell_type": "markdown",
      "source": [
        "TWO SAMPLE 비율 - 가설 검증 (수기)"
      ],
      "metadata": {
        "id": "kgR45UG_xNEo"
      }
    },
    {
      "cell_type": "code",
      "source": [
        "# count : 성공 횟수\n",
        "# nobs :전체 시행 횟수\n",
        "# nobs / counts : 표본 비율\n",
        "\n",
        "n1 = 250 # 캠페인 후의 인지도 (관심 있는 대상)\n",
        "p1 = 120/250\n",
        "\n",
        "n2 = 150 # 캠페인 전의 인지도\n",
        "p2 = 60/150\n",
        "conf_a = 0.05\n",
        "\n",
        "# H0 : 차이는 0 이다.\n",
        "# H1 : 모비율의 차이 > 0 (오른쪽)\n",
        "d0 = 0\n",
        "\n",
        "# 1) 합동 표본 비율\n",
        "pe = (n1*p1 + n2 * p2) / (n1 + n2)\n",
        "SE = np.sqrt(pe * (1- pe) * (1/n1 + 1/n2))\n",
        "\n",
        "# 2) 검정\n",
        "z_stat = (d-d0)/SE\n",
        "\n",
        "\n",
        "# 3) 오른쪽 검정\n",
        "sp = 1 - norm.cdf(z_stat)\n",
        "cv = norm.ppf(1 - conf_a)\n",
        "\n",
        "print(cv, z_stat)\n",
        "print(conf_a, sp)\n"
      ],
      "metadata": {
        "colab": {
          "base_uri": "https://localhost:8080/"
        },
        "id": "PhLBcQx7vVG3",
        "outputId": "d6a0a128-3db9-4e46-c898-9f2cef061fe8"
      },
      "execution_count": 26,
      "outputs": [
        {
          "output_type": "stream",
          "name": "stdout",
          "text": [
            "1.6448536269514722 0.7532456227066191\n",
            "0.05 0.22565116421312115\n"
          ]
        }
      ]
    },
    {
      "cell_type": "markdown",
      "source": [
        "TWO SAMPLE 비율 - 가설 검증 (라이브러리)"
      ],
      "metadata": {
        "id": "PLf2fmgm1pin"
      }
    },
    {
      "cell_type": "code",
      "source": [
        "n1 = 250  # 캠페인 후의 표본 수\n",
        "count1 = 120  # 캠페인 후 성공 횟수\n",
        "\n",
        "n2 = 150  # 캠페인 전의 표본 수\n",
        "count2 = 60  # 캠페인 전 성공 횟수\n",
        "\n",
        "# 2. 검정 설정\n",
        "conf_a = 0.05  # 유의수준 (알파값)\n",
        "alternative = 'larger'  # H1: p1 > p2\n",
        "\n",
        "# 3. z_검정\n",
        "count = np.array([count1 , count2])\n",
        "nobs = np.array([n1, n2])\n",
        "\n",
        "\n",
        "z_stat , p_val = statsmodels.stats.proportion.proportions_ztest(count=count,\n",
        "                                                                nobs=nobs,\n",
        "                                                                alternative='larger')\n",
        "# 임계값 - 오른쪽\n",
        "cv = norm.ppf(1 - conf_a)\n",
        "print(cv , z_stat)\n",
        "print(p_val)"
      ],
      "metadata": {
        "colab": {
          "base_uri": "https://localhost:8080/"
        },
        "id": "WASnS10Jx1H6",
        "outputId": "6939231f-7803-47b7-d023-8cd4479d4d92"
      },
      "execution_count": 27,
      "outputs": [
        {
          "output_type": "stream",
          "name": "stdout",
          "text": [
            "1.6448536269514722 1.556997888323045\n",
            "0.05973549338585045\n"
          ]
        }
      ]
    },
    {
      "cell_type": "code",
      "source": [
        "# 두 개의 모비율 검정\n",
        "success_cnts = np.array([70, 80])\n",
        "total_cnts = np.array([100, 120])\n",
        "\n",
        "stat, p_val = statsmodels.stats.proportion.proportions_ztest(count = success_cnts,\n",
        "                                                            nobs = total_cnts,\n",
        "                                                            alternative='two-sided')\n",
        "\n",
        "print(stat, p_val)"
      ],
      "metadata": {
        "colab": {
          "base_uri": "https://localhost:8080/"
        },
        "id": "4hnkMZK58OIj",
        "outputId": "24aef201-a8f8-449a-e49d-4092b4d82cdf"
      },
      "execution_count": 28,
      "outputs": [
        {
          "output_type": "stream",
          "name": "stdout",
          "text": [
            "0.5285499781147278 0.5971176684141065\n"
          ]
        }
      ]
    },
    {
      "cell_type": "markdown",
      "source": [
        "이표본 모비율 가설 검증 예제 문제 1) ADP_29회\n",
        "- C사 생산 제품 1000개 중 양품이 600개, D사 생산 제품 500개 중 양품이 200개 이다. 두 회사의 양품률에 차이가 있는지 검정하여라.\n",
        "\n",
        "- 귀무가설 : 두 회사의 양품률의 차이는 없다.\n",
        "- 대립가설 : 두 회사의 양품률에는 차이가 있다."
      ],
      "metadata": {
        "id": "Tt07oWiZB3qg"
      }
    },
    {
      "cell_type": "code",
      "source": [
        "n1 = 1000\n",
        "p1 = 600 / 1000\n",
        "\n",
        "n2 = 500\n",
        "p2 = 200/ 500\n",
        "\n",
        "conf_a = 0.05\n",
        "\n",
        "# 1) d\n",
        "d = p1 - p2\n",
        "# 2) 합동 표본 비율\n",
        "pe = (n1 * p1 + n2 * p2) / (n1 + n2)\n",
        "se = np.sqrt(pe * (1 - pe) * (1/n1 + 1/n2))\n",
        "\n",
        "z_stat = d / se\n",
        "\n",
        "\n",
        "# 양측 검정\n",
        "sp = 1 - norm.cdf(np.abs(z_stat)) * 2\n",
        "cv = norm.ppf(1 - conf_a / 2)\n",
        "\n",
        "print(f\"임계값 {cv}, 검정통계량 {z_stat}\")\n",
        "print(f\"유의수준 {conf_a} , 유의확률 {sp}\")\n",
        "\n",
        "## 라이브러리 검정\n",
        "\n",
        "from statsmodels.stats.proportion import proportions_ztest\n",
        "\n",
        "n1 = 1000\n",
        "success1 = 600\n",
        "\n",
        "n2 = 500\n",
        "success2 = 200\n",
        "\n",
        "count = np.array([success1, success2])  # 양품 개수\n",
        "nobs = np.array([n1, n2])  # 제품 개수\n",
        "\n",
        "# 이표본 z-검정 수행\n",
        "stat, p_value = proportions_ztest(count, nobs)\n",
        "\n",
        "# 결과 출력\n",
        "print(\"\")\n",
        "print(f\"Z-statistic: {stat:.4f}\")\n",
        "print(f\"P-value: {p_value:.4f}\")\n"
      ],
      "metadata": {
        "colab": {
          "base_uri": "https://localhost:8080/"
        },
        "id": "vy1MQvMhCDx8",
        "outputId": "e8569d51-34bd-4820-806a-297dbba6880f"
      },
      "execution_count": 29,
      "outputs": [
        {
          "output_type": "stream",
          "name": "stdout",
          "text": [
            "임계값 1.959963984540054, 검정통계량 7.319250547113997\n",
            "유의수준 0.05 , 유의확률 -0.9999999999997506\n",
            "\n",
            "Z-statistic: 7.3193\n",
            "P-value: 0.0000\n"
          ]
        }
      ]
    },
    {
      "cell_type": "markdown",
      "source": [
        "이표본 모비율 가설 검증 예제 문제 2)\n",
        "- 금년도 대통령 선거에서 특정후보의 지지율에 대해 남녀별로 독립적으로 표본을 추출해 조사하였더니 남자 225명 중 54명이 지지를 하였고, 여자 175명 중 52명이 지지를 하였다. 남녀의 지지율에 차이가 있다고 할 수 있는지 유의수준 5％에서 검정하라."
      ],
      "metadata": {
        "id": "M6fT6SDgFMlE"
      }
    },
    {
      "cell_type": "code",
      "source": [
        "n1 = 225\n",
        "p1 = 54/225\n",
        "\n",
        "n2 = 175\n",
        "p2 = 52/175\n",
        "\n",
        "conf_a = 0.05\n",
        "\n",
        "# 1) diff\n",
        "d = p1 - p2\n",
        "# 2) pe\n",
        "pe = (n1 * p1 + n2 * p2) / (n1 + n2)\n",
        "se = np.sqrt(pe * (1 - pe) * (1/n1 + 1/n2))\n",
        "# 3) z_stat\n",
        "\n",
        "z_stat = d / se\n",
        "\n",
        "# 양측 검정\n",
        "sp = 1 - (norm.cdf(np.abs(z_stat)))\n",
        "cv = norm.ppf(1 - conf_a / 2)\n",
        "\n",
        "print(f\"임계값 {cv}, 검정통계량 {z_stat}\")\n",
        "print(f\"유의수준 {conf_a} , 유의확률 {sp}\")\n",
        "\n",
        "\n",
        "from statsmodels.stats.proportion import proportions_ztest\n",
        "n1 , n2 = 225, 175\n",
        "s1 , s2 = 54, 52\n",
        "\n",
        "nobs = np.array([n1, n2])\n",
        "success = np.array([s1, s2])\n",
        "\n",
        "stats, p_val = proportions_ztest(success, nobs)\n",
        "print(\"\")\n",
        "print(f\"Z-statistic: {stats:.4f}\")\n",
        "print(f\"P-value: {p_val:.4f}\")"
      ],
      "metadata": {
        "colab": {
          "base_uri": "https://localhost:8080/"
        },
        "id": "f6TECRjKFTqh",
        "outputId": "9df28002-dbbd-46f0-df7f-b864077623ed"
      },
      "execution_count": 30,
      "outputs": [
        {
          "output_type": "stream",
          "name": "stdout",
          "text": [
            "임계값 1.959963984540054, 검정통계량 -1.2846228199932448\n",
            "유의수준 0.05 , 유의확률 0.09946206016610293\n",
            "\n",
            "Z-statistic: -1.2846\n",
            "P-value: 0.1989\n"
          ]
        }
      ]
    },
    {
      "cell_type": "markdown",
      "source": [
        "이표본 모비율 가설 검증 예제 문제 3)\n",
        "- 공구를 생산하는 어느 공장은 주간 생산조와 야간 생산조를 운영하고 있다.\n",
        "p1과 p2를 각각 주간 생산조와 야간 생산조가 생산한 공구의 불량률이라고하자. 각 생산조에 의해 생산된 공구를 무작위로 1000개씩 뽑아서 H0 : p1 = p2 대\n",
        "H1 : p1 != p2를 검정하려고 한다. 주간 생산 공구와 야간 생산 공구로부터 각각\n",
        "y1 =37, y2 = 53 개의 불량품들이 관측되었다. 유의수준 0.05하에서 가설을 검정하라."
      ],
      "metadata": {
        "id": "jUQEOHpDHQHT"
      }
    },
    {
      "cell_type": "code",
      "source": [
        "n1, n2 = 1000, 1000\n",
        "p1 ,p2 = 37/1000, 53/1000\n",
        "conf_a = 0.05\n",
        "\n",
        "#1) diff\n",
        "d = p1 - p2\n",
        "# 2) pe\n",
        "pe = (n1 * p1 + n2 * p2) / (n1 + n2)\n",
        "se = np.sqrt(pe * (1 - pe) * (1/n1 + 1/n2))\n",
        "# 3) z_stat\n",
        "z_stat = d / se\n",
        "# 양측검정\n",
        "sp = 1 - norm.cdf(np.abs(z_stat))\n",
        "cv = round(norm.ppf(1 - conf_a /2),2)\n",
        "\n",
        "print(f\"임계값 {cv}, 검정통계량 {z_stat}\")\n",
        "print(f\"유의수준 {conf_a} , 유의확률 {sp}\")\n",
        "\n",
        "# 라이브러리 검정\n",
        "n1 = 1000\n",
        "n2 = 1000\n",
        "s1 =  37\n",
        "s2 =  53\n",
        "\n",
        "sucess = np.array([s1, s2]) # 불량품\n",
        "n_obs = np.array([n1, n2])  # 샘플 크기\n",
        "\n",
        "stats, p_val = proportions_ztest(sucess, n_obs)\n",
        "print(\"\")\n",
        "print(f\"Z-statistic: {stats:.4f}\")\n",
        "print(f\"P-value: {p_val:.4f}\")"
      ],
      "metadata": {
        "colab": {
          "base_uri": "https://localhost:8080/"
        },
        "id": "sLbg5ALJHie7",
        "outputId": "1dc63fe6-e23e-4411-f99f-37dbc35d74e4"
      },
      "execution_count": 31,
      "outputs": [
        {
          "output_type": "stream",
          "name": "stdout",
          "text": [
            "임계값 1.96, 검정통계량 -1.7258261378415294\n",
            "유의수준 0.05 , 유의확률 0.04218934800553331\n",
            "\n",
            "Z-statistic: -1.7258\n",
            "P-value: 0.0844\n"
          ]
        }
      ]
    },
    {
      "cell_type": "markdown",
      "source": [
        "### 모분산 ONE-SAMPLE - 카이제곱 분포\n",
        "- 구간 추정"
      ],
      "metadata": {
        "id": "_Uy9cg262B2i"
      }
    },
    {
      "cell_type": "code",
      "source": [
        "n = 10\n",
        "v = 3.4\n",
        "df = n - 1\n",
        "conf_a = 0.05\n",
        "\n",
        "from scipy.stats import chi2\n",
        "c1 = chi2.ppf(1 - conf_a /2, df)\n",
        "c2 = chi2.ppf(conf_a/2, df)\n",
        "\n",
        "# 자유도 * 분산 / 검정방향\n",
        "cr1 = df * v / c1\n",
        "cr2 = df * v / c2\n",
        "\n",
        "print(cr1, cr2)"
      ],
      "metadata": {
        "colab": {
          "base_uri": "https://localhost:8080/"
        },
        "id": "a5hKxJ4e2TTL",
        "outputId": "0028ecb9-6d6f-47f2-92e2-6db684b13044"
      },
      "execution_count": 32,
      "outputs": [
        {
          "output_type": "stream",
          "name": "stdout",
          "text": [
            "1.608598723587693 11.331698630965114\n"
          ]
        }
      ]
    },
    {
      "cell_type": "markdown",
      "source": [
        "- 가설 검증"
      ],
      "metadata": {
        "id": "zCLU7IOR5GJe"
      }
    },
    {
      "cell_type": "code",
      "source": [
        "# H0 : sigma 제곱 = v0\n",
        "# H1 : sigma 제곱 < v0\n",
        "\n",
        "n = 10     #표본 크기\n",
        "v = 3.4    #표본 분산\n",
        "df = n-1   # 자유도 (degree of freedom)\n",
        "v0 = 3.6   #귀무가설의 모분산\n",
        "test_a = 0.05\n",
        "\n",
        "# 카이제곱 통계량\n",
        "# 자유도 * 분산 / 모분산\n",
        "c_stat = df * v / v0\n",
        "\n",
        "# 왼쪽 검정\n",
        "sp  = chi2.cdf(c_stat, df)\n",
        "cv = chi2.ppf(test_a, df)\n",
        "\n",
        "print(cv, c_stat)\n",
        "print(test_a, sp)"
      ],
      "metadata": {
        "colab": {
          "base_uri": "https://localhost:8080/"
        },
        "id": "BC7LDy-o17kU",
        "outputId": "61e2f9bf-4da9-458e-a181-a0082affa262"
      },
      "execution_count": 33,
      "outputs": [
        {
          "output_type": "stream",
          "name": "stdout",
          "text": [
            "3.325112843066815 8.5\n",
            "0.05 0.5153541141736069\n"
          ]
        }
      ]
    },
    {
      "cell_type": "markdown",
      "source": [
        "ADP_기출 25)\n",
        "- 표본 10개의 분산이 90일 때 신뢰도 95%로 모분산의 신뢰구간을 추정"
      ],
      "metadata": {
        "id": "bh7bsoYUHMAN"
      }
    },
    {
      "cell_type": "code",
      "source": [
        "n = 10\n",
        "var = 90\n",
        "conf_a = 0.05\n",
        "\n",
        "df = n - 1\n",
        "\n",
        "c1 = chi2.ppf(1 - conf_a/2 , df)\n",
        "c2 = chi2.ppf(conf_a/ 2 , df)\n",
        "\n",
        "cr1 = df * var / c1\n",
        "cr2 = df * var / c2\n",
        "\n",
        "print(cr1, cr2)"
      ],
      "metadata": {
        "colab": {
          "base_uri": "https://localhost:8080/"
        },
        "id": "X_tso5Nld0re",
        "outputId": "16f33f63-4796-4e0b-9089-7a3fb4f5a23e"
      },
      "execution_count": 126,
      "outputs": [
        {
          "output_type": "stream",
          "name": "stdout",
          "text": [
            "42.58055444790953 299.95672846672363\n"
          ]
        }
      ]
    },
    {
      "cell_type": "markdown",
      "source": [
        "### 모분산 TWO-SAMPLE - F 분포\n",
        "- 구간 추정"
      ],
      "metadata": {
        "id": "mEbAgwvC6Cue"
      }
    },
    {
      "cell_type": "code",
      "source": [
        "from scipy.stats import f\n",
        "sample1 = [272, 255, 278, 282, 296, 312, 356, 296, 302, 312]\n",
        "sample2 = [276, 280, 369, 285, 303, 317, 290, 250, 313, 307]\n",
        "\n",
        "n1 = len(sample1)\n",
        "n2 = len(sample2)\n",
        "\n",
        "df1 = n1 - 1\n",
        "df2 = n2 - 1\n",
        "\n",
        "v1 = np.std(sample1, ddof = 1) ** 2  # ddof=1로 표본분산 사용\n",
        "v2 = np.std(sample2,  ddof = 1) ** 2\n",
        "\n",
        "conf_a = 0.05\n",
        "\n",
        "# f 검정\n",
        "f_stat = v1 / v2\n",
        "\n",
        "# 검정방향\n",
        "f1 = f.ppf(1- f_stat / 2, df2, df1) # 우측 임계값\n",
        "f2 = f.ppf(f_stat, df2 , df1) # 좌측 임계값\n",
        "\n",
        "# 신뢰구간 산출\n",
        "fr1 = f1 * f_stat\n",
        "fr2 = f2 * f_stat\n",
        "\n",
        "print(fr1, fr2)"
      ],
      "metadata": {
        "colab": {
          "base_uri": "https://localhost:8080/"
        },
        "id": "rqa3llTXz8yK",
        "outputId": "6ea7bc76-9282-4594-fa07-d877cf58fc23"
      },
      "execution_count": 34,
      "outputs": [
        {
          "output_type": "stream",
          "name": "stdout",
          "text": [
            "0.9385984261724408 1.252324770600413\n"
          ]
        }
      ]
    },
    {
      "cell_type": "markdown",
      "source": [
        "- 가설검증"
      ],
      "metadata": {
        "id": "4g_3TXA87Ew5"
      }
    },
    {
      "cell_type": "code",
      "source": [
        "v0 = 1\n",
        "test_a = 0.05\n",
        "\n",
        "# H0 : 모분산1 = 모분산2\n",
        "# H1 : 모분산 < 모분산2\n",
        "# 좌측 검정\n",
        "\n",
        "sp = f.cdf(f_stat, df1, df2)\n",
        "cv = f.ppf(test_a, df1, df2)\n",
        "\n",
        "print(cv, f_stat)\n",
        "print(test_a, sp )"
      ],
      "metadata": {
        "colab": {
          "base_uri": "https://localhost:8080/"
        },
        "id": "Qj6zp1Ud6qGB",
        "outputId": "b374caca-c922-4234-8e73-adedcc4988e9"
      },
      "execution_count": 35,
      "outputs": [
        {
          "output_type": "stream",
          "name": "stdout",
          "text": [
            "0.31457490615130795 0.7636634318482576\n",
            "0.05 0.3472305128853311\n"
          ]
        }
      ]
    },
    {
      "cell_type": "markdown",
      "source": [
        "### 분산분석\n",
        "- 1. 정규성\n",
        "  * 귀무 : 데이터가 정규분포이다.\n",
        "  * 대립 : 데이터가 정규 분포를 따르지 않는다."
      ],
      "metadata": {
        "id": "-tWs_mg7vqc-"
      }
    },
    {
      "cell_type": "code",
      "source": [
        "# 정규성 검정\n",
        "from scipy.stats import shapiro, anderson, jarque_bera, kstest, zscore, probplot\n",
        "\n",
        "data = norm.rvs(size=100, random_state=0) # 정규성을 만족하는 크기 100의 표본 생성\n",
        "\n",
        "# 1) Shaprio\n",
        "stat , p = shapiro(data)\n",
        "\n",
        "# 2) Derling Anderson : 검정통계량, 임계치, 유의수준\n",
        "dstat, cv, sl = anderson(data, dist = 'norm')\n",
        "print(dstat, cv[2], sl[2]*0.01)\n",
        "\n",
        "# 3) Kstest (콜모고로프 스미르노프) : 검정통계량, p-value\n",
        "kstat, p = kstest(data, cdf = norm.cdf)\n",
        "\n",
        "# 4) Jarque_bera : 검정통계량, P-value , 왜도(skew) , 첨도(kurtosis)를 반환\n",
        "jstat, p = jarque_bera(data)\n",
        "\n",
        "# 5) QQ Plot and histogram\n",
        "from matplotlib import pyplot as plt\n",
        "zdata = zscore(data)\n",
        "fig, ax = plt.subplots(1,2, figsize  = (7,3))\n",
        "\n",
        "(osm, odr) , (slope, intercept, r) = probplot(zdata, plot = ax[0])\n",
        "ax[0].set_title('QQ plot')\n",
        "ax[1].hist(data)\n",
        "ax[1].set_title('histogram')\n",
        "\n",
        "plt.show()"
      ],
      "metadata": {
        "id": "6H9RownQ7Y7w",
        "colab": {
          "base_uri": "https://localhost:8080/",
          "height": 350
        },
        "outputId": "0677fc2c-c6c6-42dc-829b-951cdfd90e68"
      },
      "execution_count": 36,
      "outputs": [
        {
          "output_type": "stream",
          "name": "stdout",
          "text": [
            "0.18097695613924714 0.759 0.05\n"
          ]
        },
        {
          "output_type": "display_data",
          "data": {
            "text/plain": [
              "<Figure size 700x300 with 2 Axes>"
            ],
            "image/png": "[encoded data removed]"
          },
          "metadata": {}
        }
      ]
    },
    {
      "cell_type": "markdown",
      "source": [
        "- 2. 등분산성 : y 의 분산은 동일하다.\n",
        "  * 귀무 : 등분산이다.\n",
        "  * 대립 : 등분산이 아니다.\n",
        "  * 정규성 만족 : Barlett 검정  / 정규성 만족 X : Levene 검"
      ],
      "metadata": {
        "id": "LVtW6c2m1EEg"
      }
    },
    {
      "cell_type": "code",
      "source": [
        "from scipy.stats import levene\n",
        "data1 = norm.rvs(size=100, random_state=0)\n",
        "data2 = norm.rvs(size=100, random_state=0)\n",
        "\n",
        "levene(data1, data2)\n",
        "from scipy.stats import bartlett\n",
        "s, p = bartlett(data1, data2)"
      ],
      "metadata": {
        "id": "238p9oK3waZh"
      },
      "execution_count": 37,
      "outputs": []
    },
    {
      "cell_type": "markdown",
      "source": [
        "###  ONE WAY ANOVA\n",
        "* Anova_oneway : 정규성, 등분산, 샘플 사이즈 같음 - Tukey HSD"
      ],
      "metadata": {
        "id": "qWNL1MmK1x9a"
      }
    },
    {
      "cell_type": "code",
      "source": [
        "data = pd.DataFrame({\"A0\":[76,80,78,79,83,74],\n",
        "                  'A1':[82,75,83,78,85,80],\n",
        "                  'A2':[79,87,88,86,84,82],\n",
        "                  'A3':[81,74,76,78,73,70]})\n",
        "\n",
        "\n",
        "# 데이터를 행과 열 variable, value 으로 melt\n",
        "# 1) avona_onway 함수\n",
        "from statsmodels.stats.oneway import anova_oneway\n",
        "melt_df = data.melt()\n",
        "\n",
        "oa = anova_oneway(data = melt_df['value'] ,\n",
        "                  groups = melt_df['variable'],\n",
        "                  use_var = 'equal')\n",
        "\n",
        "print(oa.statistic , oa.pvalue)\n",
        "\n",
        "# 2) anova_lm\n",
        "from statsmodels.stats.anova import anova_lm\n",
        "anova_model = smf.ols(\"value ~ variable\", data = melt_df).fit()\n",
        "anova_model.summary()\n",
        "\n",
        "\n",
        "# 3) 사후검정\n",
        "from statsmodels.stats.multicomp import MultiComparison\n",
        "mc = MultiComparison(data = melt_df['value'] ,\n",
        "                     groups  = melt_df['variable']).tukeyhsd(alpha = 0.05)\n",
        "print(mc.summary())\n",
        "mc.plot_simultaneous()\n",
        "plt.show()"
      ],
      "metadata": {
        "colab": {
          "base_uri": "https://localhost:8080/",
          "height": 753
        },
        "id": "ahoFllr511ap",
        "outputId": "d38363cb-9801-42be-b3f9-c870fd0e06e0"
      },
      "execution_count": 38,
      "outputs": [
        {
          "output_type": "stream",
          "name": "stdout",
          "text": [
            "6.952861952861953 0.002175486114794491\n",
            " Multiple Comparison of Means - Tukey HSD, FWER=0.05 \n",
            "=====================================================\n",
            "group1 group2 meandiff p-adj   lower    upper  reject\n",
            "-----------------------------------------------------\n",
            "    A0     A1   2.1667  0.713   -3.518  7.8513  False\n",
            "    A0     A2      6.0 0.0363   0.3153 11.6847   True\n",
            "    A0     A3     -3.0  0.469  -8.6847  2.6847  False\n",
            "    A1     A2   3.8333 0.2647  -1.8513   9.518  False\n",
            "    A1     A3  -5.1667 0.0831 -10.8513   0.518  False\n",
            "    A2     A3     -9.0 0.0014 -14.6847 -3.3153   True\n",
            "-----------------------------------------------------\n"
          ]
        },
        {
          "output_type": "display_data",
          "data": {
            "text/plain": [
              "<Figure size 1000x600 with 1 Axes>"
            ],
            "image/png": "[encoded data removed]"
          },
          "metadata": {}
        }
      ]
    },
    {
      "cell_type": "markdown",
      "source": [
        "* Anova_oneway : 정규성, 등분산, 샘플 사이즈 다름"
      ],
      "metadata": {
        "id": "I4YzkNXS4TQ9"
      }
    },
    {
      "cell_type": "code",
      "source": [
        "data = [[81,75,69,90,72,83],[65,80,73,79,81,69],[72,67,62,76,80],[89,94,79,88]]\n",
        "data =  pd.DataFrame(data, index = ['A%d' %i for i in range(len(data))])\n",
        "print(data)\n",
        "\n",
        "import statsmodels.api as sm\n",
        "from statsmodels.formula.api import ols\n",
        "\n",
        "model = ols('value ~ variable', data = data.melt().dropna()).fit()\n",
        "anova_table = sm.stats.anova_lm(model)\n",
        "anova_table\n",
        "\n",
        "from statsmodels.stats.multicomp import pairwise_tukeyhsd\n",
        "posthoc = pairwise_tukeyhsd( data.melt().dropna()['value'],\n",
        "                             data.melt().dropna()['variable'])\n",
        "\n",
        "print(posthoc)\n",
        "posthoc.plot_simultaneous()\n",
        "plt.show()"
      ],
      "metadata": {
        "colab": {
          "base_uri": "https://localhost:8080/",
          "height": 979
        },
        "id": "xyyotLAz15mr",
        "outputId": "2cad7f95-bef9-4e3d-bde0-3dd86f439a53"
      },
      "execution_count": 39,
      "outputs": [
        {
          "output_type": "stream",
          "name": "stdout",
          "text": [
            "     0   1   2   3     4     5\n",
            "A0  81  75  69  90  72.0  83.0\n",
            "A1  65  80  73  79  81.0  69.0\n",
            "A2  72  67  62  76  80.0   NaN\n",
            "A3  89  94  79  88   NaN   NaN\n",
            " Multiple Comparison of Means - Tukey HSD, FWER=0.05 \n",
            "=====================================================\n",
            "group1 group2 meandiff p-adj   lower    upper  reject\n",
            "-----------------------------------------------------\n",
            "     0      1     2.25  0.999 -17.8911 22.3911  False\n",
            "     0      2     -6.0 0.9212 -26.1411 14.1411  False\n",
            "     0      3      6.5 0.8938 -13.6411 26.6411  False\n",
            "     0      4   0.9167    1.0 -20.8382 22.6716  False\n",
            "     0      5    -0.75    1.0 -25.4177 23.9177  False\n",
            "     1      2    -8.25 0.7645 -28.3911 11.8911  False\n",
            "     1      3     4.25 0.9809 -15.8911 24.3911  False\n",
            "     1      4  -1.3333 0.9999 -23.0882 20.4216  False\n",
            "     1      5     -3.0 0.9985 -27.6677 21.6677  False\n",
            "     2      3     12.5 0.3781  -7.6411 32.6411  False\n",
            "     2      4   6.9167 0.8995 -14.8382 28.6716  False\n",
            "     2      5     5.25 0.9802 -19.4177 29.9177  False\n",
            "     3      4  -5.5833 0.9563 -27.3382 16.1716  False\n",
            "     3      5    -7.25 0.9252 -31.9177 17.4177  False\n",
            "     4      5  -1.6667 0.9999 -27.6688 24.3354  False\n",
            "-----------------------------------------------------\n"
          ]
        },
        {
          "output_type": "display_data",
          "data": {
            "text/plain": [
              "<Figure size 1000x600 with 1 Axes>"
            ],
            "image/png": "[encoded data removed]"
          },
          "metadata": {}
        }
      ]
    },
    {
      "cell_type": "markdown",
      "source": [
        "기출 예제 문제 ADP 29회\n",
        "- 아래 데이터는 a,b,c,d 네 차종 각각 5회 실험 시 범퍼 파손 정도이다.</br>\n",
        " (단, 각 모집단은 정규분포를 따르며 모집단 간 등분산성을 가정한다.)"
      ],
      "metadata": {
        "id": "014-cqKk6ua7"
      }
    },
    {
      "cell_type": "code",
      "source": [
        "df = pd.read_csv('https://raw.githubusercontent.com/Datamanim/datarepo/main/adp/29/p7.csv')\n",
        "\n",
        "# 귀무가설 : 차종별 범퍼 파손 정도는 같다.\n",
        "# 대립가설 : 적어도 하나의 차종의 범퍼 파손 정도는 다르다.\n",
        "\n",
        "from statsmodels.formula.api import ols\n",
        "\n",
        "model = ols('ratio ~ name', data = df).fit()\n",
        "anova_table =  sm.stats.anova_lm(model)\n",
        "print(anova_table )\n",
        "\n",
        "from statsmodels.stats.multicomp import pairwise_tukeyhsd\n",
        "tukey = pairwise_tukeyhsd(df['ratio'] , df['name'], alpha = 0.05)\n",
        "tukey.summary()\n",
        "\n",
        "tukey.plot_simultaneous()\n",
        "plt.show()"
      ],
      "metadata": {
        "colab": {
          "base_uri": "https://localhost:8080/",
          "height": 597
        },
        "id": "UlAH0FX74rfl",
        "outputId": "8f06acf3-6a8f-4d4c-f925-6b355be5335d"
      },
      "execution_count": 40,
      "outputs": [
        {
          "output_type": "stream",
          "name": "stdout",
          "text": [
            "            df      sum_sq    mean_sq          F    PR(>F)\n",
            "name       3.0  236.534027  78.844676  24.976953  0.000003\n",
            "Residual  16.0   50.507154   3.156697        NaN       NaN\n"
          ]
        },
        {
          "output_type": "display_data",
          "data": {
            "text/plain": [
              "<Figure size 1000x600 with 1 Axes>"
            ],
            "image/png": "[encoded data removed]"
          },
          "metadata": {}
        }
      ]
    },
    {
      "cell_type": "markdown",
      "source": [
        "###  TWO WAY ANOVA\n",
        "* 요인이 2개\n",
        "- 교호작용검정  \n",
        " * 귀무 : am과 cyl 사이에는 교호작용 효과가 있다.\n",
        " * 대립 : am과 cyl 사이에는 교호작용 효과가 없다.\n",
        "\n",
        "- 주효과 검정\n",
        " * 1) 귀무 : am에 따른 mpg의 차이가 존재한다.\n",
        " * 2) 대립 : am에 따른 mpg의 차이가 존재하지 않는다.\n",
        " * 3) 귀무 : cyl에 따른 mpg의 차이가 존재한다.\n",
        " * 4) 대립 : cyl에 따른 mpg의 차이가 존재하지 않는다."
      ],
      "metadata": {
        "id": "mzkjBzg18Jtf"
      }
    },
    {
      "cell_type": "code",
      "source": [
        "df = pd.read_csv('https://gist.githubusercontent.com/seankross/a412dfbd88b3db70b74b/raw/5f23f993cd87c283ce766e7ac6b329ee7cc2e1d1/mtcars.csv')\n",
        "\n",
        "# am/ cyl 별 (요인 2개)별 mpg 값의 차이\n",
        "\n",
        "# 1) 정규성 검정\n",
        "lst =[]\n",
        "cyl_lst = df['cyl'].unique()\n",
        "am_lst = df['am'].unique()\n",
        "\n",
        "for cyl in cyl_lst:\n",
        "    for am in am_lst:\n",
        "      if (cyl, am) not in lst :\n",
        "        stat, p = shapiro(df[df['cyl'] == cyl]['mpg'])\n",
        "        lst.append([cyl, stat, p])\n",
        "        stat, p = shapiro(df[df['am'] == am]['mpg'])\n",
        "        lst.append([am, stat, p])\n",
        "\n",
        "res = pd.DataFrame(lst, columns  = ['Groups','Stats','P_val'])\n",
        "print('정규성 검정')\n",
        "print(res.drop_duplicates(subset = ['Groups']))\n",
        "\n",
        "\n",
        "# 2) 등분산 검정\n",
        "lst_2 = []\n",
        "for cyl in cyl_lst :\n",
        "  for am in am_lst :\n",
        "    cyl_group_data = df[df['cyl'] == cyl]['mpg']\n",
        "    cyl_not_group_data = df[df['cyl'] != cyl]['mpg']\n",
        "\n",
        "    stat, p = levene(cyl_group_data ,cyl_not_group_data )\n",
        "    lst_2.append([cyl, stat, p])\n",
        "\n",
        "    am_group_data = df[df['am'] == am]['mpg']\n",
        "    am_not_group_data = df[df['am'] != am]['mpg']\n",
        "\n",
        "    stat, p = levene(am_group_data ,am_not_group_data )\n",
        "    lst_2.append([am, stat, p])\n",
        "\n",
        "\n",
        "le_rest= pd.DataFrame(lst_2, columns = ['Variable', 'Stat', 'P_val'])\n",
        "print(\"\")\n",
        "print(\"등분산검정\")\n",
        "print(le_rest.drop_duplicates(subset= 'Variable'))\n"
      ],
      "metadata": {
        "colab": {
          "base_uri": "https://localhost:8080/"
        },
        "id": "95DaPvUm7uR4",
        "outputId": "51a974d4-ea86-4888-ab6a-ae0732ae51b7"
      },
      "execution_count": 41,
      "outputs": [
        {
          "output_type": "stream",
          "name": "stdout",
          "text": [
            "정규성 검정\n",
            "   Groups     Stats     P_val\n",
            "0       6  0.899035  0.325178\n",
            "1       1  0.945804  0.536273\n",
            "3       0  0.976774  0.898736\n",
            "4       4  0.912439  0.260593\n",
            "8       8  0.931753  0.322856\n",
            "\n",
            "등분산검정\n",
            "   Variable      Stat     P_val\n",
            "0         6  7.894492  0.008645\n",
            "1         1  4.187626  0.049571\n",
            "3         0  4.187626  0.049571\n",
            "4         4  2.813915  0.103841\n",
            "8         8  3.997627  0.054693\n"
          ]
        }
      ]
    },
    {
      "cell_type": "code",
      "source": [
        "from statsmodels.formula.api import ols\n",
        "from statsmodels.stats.anova import anova_lm\n",
        "\n",
        "f =  'mpg ~ C(cyl) + C(am) + C(cyl):C(am)'\n",
        "model = ols(f, data = df).fit()\n",
        "anova_table = anova_lm(model)\n",
        "print(anova_table)\n",
        "\n",
        "\n",
        "from statsmodels.graphics.factorplots import interaction_plot\n",
        "\n",
        "interaction_plot(df['cyl'], df['am'], df['mpg'] , colors = ['red','blue'])\n",
        "plt.show()"
      ],
      "metadata": {
        "colab": {
          "base_uri": "https://localhost:8080/",
          "height": 536
        },
        "id": "re8bPr-r-gz-",
        "outputId": "b7ea4da5-48fd-4caa-f750-1c918851bcda"
      },
      "execution_count": 42,
      "outputs": [
        {
          "output_type": "stream",
          "name": "stdout",
          "text": [
            "                df      sum_sq     mean_sq          F        PR(>F)\n",
            "C(cyl)         2.0  824.784590  412.392295  44.851657  3.725274e-09\n",
            "C(am)          1.0   36.766919   36.766919   3.998759  5.608373e-02\n",
            "C(cyl):C(am)   2.0   25.436511   12.718256   1.383233  2.686140e-01\n",
            "Residual      26.0  239.059167    9.194583        NaN           NaN\n"
          ]
        },
        {
          "output_type": "display_data",
          "data": {
            "text/plain": [
              "<Figure size 640x480 with 1 Axes>"
            ],
            "image/png": "[encoded data removed]"
          },
          "metadata": {}
        }
      ]
    },
    {
      "cell_type": "markdown",
      "source": [
        "기출 예제 문제 2) </br>\n",
        " 네 가지 종류의 비료와 세 가지 벼품종에 대한 쌀 수확량을 조사하기 위하여 한 농업 시험장에서 각 수준에 대한 3회 반복 실험을 한 자료\n",
        "* 비료와 벼의 각 수준별 조합에 대한 수확량 평균을 구하라.\n",
        "* 비료와 벼품종의 주효과를 검정하고 두 인자의 교호작용에 대하여 검정하라.\n",
        "* 이원분산분석 검정 결과를 확인하라"
      ],
      "metadata": {
        "id": "W2wJFl_0F1q9"
      }
    },
    {
      "cell_type": "code",
      "source": [
        "df = pd.DataFrame(\n",
        "    {\n",
        "        '벼품종1': [[64, 66, 70], [65, 63, 58], [59, 68, 65], [58, 50, 49]],\n",
        "        '벼품종2': [[72, 81, 64], [57, 43, 52], [66, 71, 59], [57, 61, 53]],\n",
        "        '벼품종3': [[74, 51, 65], [47, 58, 67], [58, 45, 42], [53, 59, 38]],\n",
        "    }\n",
        ")\n",
        "df\n",
        "\n",
        "data = {'비료' : [], '벼품종' : [] , '수확량' : [] }\n",
        "\n",
        "for 비료_index, 벼품종_value in enumerate(df.values) :\n",
        "  for 벼품종, 수확량_list in enumerate(벼품종_value , start = 1) :\n",
        "    for 수확량 in 수확량_list :\n",
        "      data['비료'].append(비료_index + 1)\n",
        "      data['벼품종'].append(벼품종)\n",
        "      data['수확량'].append(수확량)\n",
        "\n",
        "df2 = pd.DataFrame(data)\n",
        "df2.head(4)"
      ],
      "metadata": {
        "colab": {
          "base_uri": "https://localhost:8080/",
          "height": 175
        },
        "id": "zqoSD3o0GBV0",
        "outputId": "e9dc8c3d-2b94-46ce-a106-b8b1fdbd40a9"
      },
      "execution_count": 43,
      "outputs": [
        {
          "output_type": "execute_result",
          "data": {
            "text/plain": [
              "   비료  벼품종  수확량\n",
              "0   1    1   64\n",
              "1   1    1   66\n",
              "2   1    1   70\n",
              "3   1    2   72"
            ],
            "text/html": [
              "\n",
              "  <div id=\"df-61f3904f-795d-44db-8602-f074ee9859f7\" class=\"colab-df-container\">\n",
              "    <div>\n",
              "<style scoped>\n",
              "    .dataframe tbody tr th:only-of-type {\n",
              "        vertical-align: middle;\n",
              "    }\n",
              "\n",
              "    .dataframe tbody tr th {\n",
              "        vertical-align: top;\n",
              "    }\n",
              "\n",
              "    .dataframe thead th {\n",
              "        text-align: right;\n",
              "    }\n",
              "</style>\n",
              "<table border=\"1\" class=\"dataframe\">\n",
              "  <thead>\n",
              "    <tr style=\"text-align: right;\">\n",
              "      <th></th>\n",
              "      <th>비료</th>\n",
              "      <th>벼품종</th>\n",
              "      <th>수확량</th>\n",
              "    </tr>\n",
              "  </thead>\n",
              "  <tbody>\n",
              "    <tr>\n",
              "      <th>0</th>\n",
              "      <td>1</td>\n",
              "      <td>1</td>\n",
              "      <td>64</td>\n",
              "    </tr>\n",
              "    <tr>\n",
              "      <th>1</th>\n",
              "      <td>1</td>\n",
              "      <td>1</td>\n",
              "      <td>66</td>\n",
              "    </tr>\n",
              "    <tr>\n",
              "      <th>2</th>\n",
              "      <td>1</td>\n",
              "      <td>1</td>\n",
              "      <td>70</td>\n",
              "    </tr>\n",
              "    <tr>\n",
              "      <th>3</th>\n",
              "      <td>1</td>\n",
              "      <td>2</td>\n",
              "      <td>72</td>\n",
              "    </tr>\n",
              "  </tbody>\n",
              "</table>\n",
              "</div>\n",
              "    <div class=\"colab-df-buttons\">\n",
              "\n",
              "  <div class=\"colab-df-container\">\n",
              "    <button class=\"colab-df-convert\" onclick=\"convertToInteractive('df-61f3904f-795d-44db-8602-f074ee9859f7')\"\n",
              "            title=\"Convert this dataframe to an interactive table.\"\n",
              "            style=\"display:none;\">\n",
              "\n",
              "  <svg xmlns=\"http://www.w3.org/2000/svg\" height=\"24px\" viewBox=\"0 -960 960 960\">\n",
              "    <path d=\"M120-120v-720h720v720H120Zm60-500h600v-160H180v160Zm220 220h160v-160H400v160Zm0 220h160v-160H400v160ZM180-400h160v-160H180v160Zm440 0h160v-160H620v160ZM180-180h160v-160H180v160Zm440 0h160v-160H620v160Z\"/>\n",
              "  </svg>\n",
              "    </button>\n",
              "\n",
              "  <style>\n",
              "    .colab-df-container {\n",
              "      display:flex;\n",
              "      gap: 12px;\n",
              "    }\n",
              "\n",
              "    .colab-df-convert {\n",
              "      background-color: #E8F0FE;\n",
              "      border: none;\n",
              "      border-radius: 50%;\n",
              "      cursor: pointer;\n",
              "      display: none;\n",
              "      fill: #1967D2;\n",
              "      height: 32px;\n",
              "      padding: 0 0 0 0;\n",
              "      width: 32px;\n",
              "    }\n",
              "\n",
              "    .colab-df-convert:hover {\n",
              "      background-color: #E2EBFA;\n",
              "      box-shadow: 0px 1px 2px rgba(60, 64, 67, 0.3), 0px 1px 3px 1px rgba(60, 64, 67, 0.15);\n",
              "      fill: #174EA6;\n",
              "    }\n",
              "\n",
              "    .colab-df-buttons div {\n",
              "      margin-bottom: 4px;\n",
              "    }\n",
              "\n",
              "    [theme=dark] .colab-df-convert {\n",
              "      background-color: #3B4455;\n",
              "      fill: #D2E3FC;\n",
              "    }\n",
              "\n",
              "    [theme=dark] .colab-df-convert:hover {\n",
              "      background-color: #434B5C;\n",
              "      box-shadow: 0px 1px 3px 1px rgba(0, 0, 0, 0.15);\n",
              "      filter: drop-shadow(0px 1px 2px rgba(0, 0, 0, 0.3));\n",
              "      fill: #FFFFFF;\n",
              "    }\n",
              "  </style>\n",
              "\n",
              "    <script>\n",
              "      const buttonEl =\n",
              "        document.querySelector('#df-61f3904f-795d-44db-8602-f074ee9859f7 button.colab-df-convert');\n",
              "      buttonEl.style.display =\n",
              "        google.colab.kernel.accessAllowed ? 'block' : 'none';\n",
              "\n",
              "      async function convertToInteractive(key) {\n",
              "        const element = document.querySelector('#df-61f3904f-795d-44db-8602-f074ee9859f7');\n",
              "        const dataTable =\n",
              "          await google.colab.kernel.invokeFunction('convertToInteractive',\n",
              "                                                    [key], {});\n",
              "        if (!dataTable) return;\n",
              "\n",
              "        const docLinkHtml = 'Like what you see? Visit the ' +\n",
              "          '<a target=\"_blank\" href=https://colab.research.google.com/notebooks/data_table.ipynb>data table notebook</a>'\n",
              "          + ' to learn more about interactive tables.';\n",
              "        element.innerHTML = '';\n",
              "        dataTable['output_type'] = 'display_data';\n",
              "        await google.colab.output.renderOutput(dataTable, element);\n",
              "        const docLink = document.createElement('div');\n",
              "        docLink.innerHTML = docLinkHtml;\n",
              "        element.appendChild(docLink);\n",
              "      }\n",
              "    </script>\n",
              "  </div>\n",
              "\n",
              "\n",
              "<div id=\"df-cea32f02-6616-4bef-a213-16e9cad201a5\">\n",
              "  <button class=\"colab-df-quickchart\" onclick=\"quickchart('df-cea32f02-6616-4bef-a213-16e9cad201a5')\"\n",
              "            title=\"Suggest charts\"\n",
              "            style=\"display:none;\">\n",
              "\n",
              "<svg xmlns=\"http://www.w3.org/2000/svg\" height=\"24px\"viewBox=\"0 0 24 24\"\n",
              "     width=\"24px\">\n",
              "    <g>\n",
              "        <path d=\"M19 3H5c-1.1 0-2 .9-2 2v14c0 1.1.9 2 2 2h14c1.1 0 2-.9 2-2V5c0-1.1-.9-2-2-2zM9 17H7v-7h2v7zm4 0h-2V7h2v10zm4 0h-2v-4h2v4z\"/>\n",
              "    </g>\n",
              "</svg>\n",
              "  </button>\n",
              "\n",
              "<style>\n",
              "  .colab-df-quickchart {\n",
              "      --bg-color: #E8F0FE;\n",
              "      --fill-color: #1967D2;\n",
              "      --hover-bg-color: #E2EBFA;\n",
              "      --hover-fill-color: #174EA6;\n",
              "      --disabled-fill-color: #AAA;\n",
              "      --disabled-bg-color: #DDD;\n",
              "  }\n",
              "\n",
              "  [theme=dark] .colab-df-quickchart {\n",
              "      --bg-color: #3B4455;\n",
              "      --fill-color: #D2E3FC;\n",
              "      --hover-bg-color: #434B5C;\n",
              "      --hover-fill-color: #FFFFFF;\n",
              "      --disabled-bg-color: #3B4455;\n",
              "      --disabled-fill-color: #666;\n",
              "  }\n",
              "\n",
              "  .colab-df-quickchart {\n",
              "    background-color: var(--bg-color);\n",
              "    border: none;\n",
              "    border-radius: 50%;\n",
              "    cursor: pointer;\n",
              "    display: none;\n",
              "    fill: var(--fill-color);\n",
              "    height: 32px;\n",
              "    padding: 0;\n",
              "    width: 32px;\n",
              "  }\n",
              "\n",
              "  .colab-df-quickchart:hover {\n",
              "    background-color: var(--hover-bg-color);\n",
              "    box-shadow: 0 1px 2px rgba(60, 64, 67, 0.3), 0 1px 3px 1px rgba(60, 64, 67, 0.15);\n",
              "    fill: var(--button-hover-fill-color);\n",
              "  }\n",
              "\n",
              "  .colab-df-quickchart-complete:disabled,\n",
              "  .colab-df-quickchart-complete:disabled:hover {\n",
              "    background-color: var(--disabled-bg-color);\n",
              "    fill: var(--disabled-fill-color);\n",
              "    box-shadow: none;\n",
              "  }\n",
              "\n",
              "  .colab-df-spinner {\n",
              "    border: 2px solid var(--fill-color);\n",
              "    border-color: transparent;\n",
              "    border-bottom-color: var(--fill-color);\n",
              "    animation:\n",
              "      spin 1s steps(1) infinite;\n",
              "  }\n",
              "\n",
              "  @keyframes spin {\n",
              "    0% {\n",
              "      border-color: transparent;\n",
              "      border-bottom-color: var(--fill-color);\n",
              "      border-left-color: var(--fill-color);\n",
              "    }\n",
              "    20% {\n",
              "      border-color: transparent;\n",
              "      border-left-color: var(--fill-color);\n",
              "      border-top-color: var(--fill-color);\n",
              "    }\n",
              "    30% {\n",
              "      border-color: transparent;\n",
              "      border-left-color: var(--fill-color);\n",
              "      border-top-color: var(--fill-color);\n",
              "      border-right-color: var(--fill-color);\n",
              "    }\n",
              "    40% {\n",
              "      border-color: transparent;\n",
              "      border-right-color: var(--fill-color);\n",
              "      border-top-color: var(--fill-color);\n",
              "    }\n",
              "    60% {\n",
              "      border-color: transparent;\n",
              "      border-right-color: var(--fill-color);\n",
              "    }\n",
              "    80% {\n",
              "      border-color: transparent;\n",
              "      border-right-color: var(--fill-color);\n",
              "      border-bottom-color: var(--fill-color);\n",
              "    }\n",
              "    90% {\n",
              "      border-color: transparent;\n",
              "      border-bottom-color: var(--fill-color);\n",
              "    }\n",
              "  }\n",
              "</style>\n",
              "\n",
              "  <script>\n",
              "    async function quickchart(key) {\n",
              "      const quickchartButtonEl =\n",
              "        document.querySelector('#' + key + ' button');\n",
              "      quickchartButtonEl.disabled = true;  // To prevent multiple clicks.\n",
              "      quickchartButtonEl.classList.add('colab-df-spinner');\n",
              "      try {\n",
              "        const charts = await google.colab.kernel.invokeFunction(\n",
              "            'suggestCharts', [key], {});\n",
              "      } catch (error) {\n",
              "        console.error('Error during call to suggestCharts:', error);\n",
              "      }\n",
              "      quickchartButtonEl.classList.remove('colab-df-spinner');\n",
              "      quickchartButtonEl.classList.add('colab-df-quickchart-complete');\n",
              "    }\n",
              "    (() => {\n",
              "      let quickchartButtonEl =\n",
              "        document.querySelector('#df-cea32f02-6616-4bef-a213-16e9cad201a5 button');\n",
              "      quickchartButtonEl.style.display =\n",
              "        google.colab.kernel.accessAllowed ? 'block' : 'none';\n",
              "    })();\n",
              "  </script>\n",
              "</div>\n",
              "\n",
              "    </div>\n",
              "  </div>\n"
            ],
            "application/vnd.google.colaboratory.intrinsic+json": {
              "type": "dataframe",
              "variable_name": "df2",
              "summary": "{\n  \"name\": \"df2\",\n  \"rows\": 36,\n  \"fields\": [\n    {\n      \"column\": \"\\ube44\\ub8cc\",\n      \"properties\": {\n        \"dtype\": \"number\",\n        \"std\": 1,\n        \"min\": 1,\n        \"max\": 4,\n        \"num_unique_values\": 4,\n        \"samples\": [\n          2,\n          4,\n          1\n        ],\n        \"semantic_type\": \"\",\n        \"description\": \"\"\n      }\n    },\n    {\n      \"column\": \"\\ubcbc\\ud488\\uc885\",\n      \"properties\": {\n        \"dtype\": \"number\",\n        \"std\": 0,\n        \"min\": 1,\n        \"max\": 3,\n        \"num_unique_values\": 3,\n        \"samples\": [\n          1,\n          2,\n          3\n        ],\n        \"semantic_type\": \"\",\n        \"description\": \"\"\n      }\n    },\n    {\n      \"column\": \"\\uc218\\ud655\\ub7c9\",\n      \"properties\": {\n        \"dtype\": \"number\",\n        \"std\": 9,\n        \"min\": 38,\n        \"max\": 81,\n        \"num_unique_values\": 25,\n        \"samples\": [\n          63,\n          68,\n          64\n        ],\n        \"semantic_type\": \"\",\n        \"description\": \"\"\n      }\n    }\n  ]\n}"
            }
          },
          "metadata": {},
          "execution_count": 43
        }
      ]
    },
    {
      "cell_type": "code",
      "source": [
        "from statsmodels.formula.api import ols\n",
        "from statsmodels.stats.anova import anova_lm\n",
        "from statsmodels.graphics.factorplots import interaction_plot\n",
        "\n",
        "f = \"수확량 ~ C(비료) + C(벼품종) + C(비료):C(벼품종)\"\n",
        "model = ols(f, data = df2).fit()\n",
        "table = anova_lm(model)\n",
        "print(table)\n",
        "\n",
        "interaction_plot(df2['벼품종'], df2['비료'], df2['수확량'])\n",
        "plt.show()\n",
        "\n"
      ],
      "metadata": {
        "colab": {
          "base_uri": "https://localhost:8080/",
          "height": 536
        },
        "id": "dYggxPBFG6nz",
        "outputId": "a1163d48-7069-4e2c-8d5d-77dda3f9754e"
      },
      "execution_count": 44,
      "outputs": [
        {
          "output_type": "stream",
          "name": "stdout",
          "text": [
            "                df       sum_sq     mean_sq         F    PR(>F)\n",
            "C(비료)          3.0  1002.888889  334.296296  6.017333  0.003307\n",
            "C(벼품종)         2.0   342.388889  171.194444  3.081500  0.064393\n",
            "C(비료):C(벼품종)   6.0   588.944444   98.157407  1.766833  0.148795\n",
            "Residual      24.0  1333.333333   55.555556       NaN       NaN\n"
          ]
        },
        {
          "output_type": "display_data",
          "data": {
            "text/plain": [
              "<Figure size 640x480 with 1 Axes>"
            ],
            "image/png": "[encoded data removed]"
          },
          "metadata": {}
        }
      ]
    },
    {
      "cell_type": "markdown",
      "source": [
        "Type III ANOVA : 비균형설계자료"
      ],
      "metadata": {
        "id": "6OdA5y97IQAY"
      }
    },
    {
      "cell_type": "code",
      "source": [
        "df_poison = pd.read_csv(\"https://raw.githubusercontent.com/guru99-edu/R-Programming/master/poisons.csv\", index_col=0)\n",
        "df_poison = df_poison.iloc[1:,:].reset_index(drop=True)\n",
        "print(df_poison[\"treat\"].value_counts())"
      ],
      "metadata": {
        "colab": {
          "base_uri": "https://localhost:8080/"
        },
        "id": "Kqim6DvHG6lj",
        "outputId": "12a99520-2c49-4f22-c9fc-565ec2f1d6a3"
      },
      "execution_count": 45,
      "outputs": [
        {
          "output_type": "stream",
          "name": "stdout",
          "text": [
            "treat\n",
            "B    12\n",
            "C    12\n",
            "D    12\n",
            "A    11\n",
            "Name: count, dtype: int64\n"
          ]
        }
      ]
    },
    {
      "cell_type": "code",
      "source": [
        "# 데이터가 불균형 자료 일 경우 typ = 3 으로 지정\n",
        "from statsmodels.formula.api import ols\n",
        "from statsmodels.stats.anova import anova_lm\n",
        "\n",
        "model = ols('time ~ C(poison) * C(treat)', df_poison).fit()\n",
        "anova_lm(model, typ=3)"
      ],
      "metadata": {
        "colab": {
          "base_uri": "https://localhost:8080/",
          "height": 206
        },
        "id": "NduOLnLoG6i2",
        "outputId": "86e09eac-f5dc-4123-edc4-c79234c46dfd"
      },
      "execution_count": 46,
      "outputs": [
        {
          "output_type": "execute_result",
          "data": {
            "text/plain": [
              "                      sum_sq    df          F    PR(>F)\n",
              "Intercept           0.598533   1.0  26.627969  0.000010\n",
              "C(poison)           0.096206   2.0   2.140041  0.132793\n",
              "C(treat)            0.367098   3.0   5.443909  0.003525\n",
              "C(poison):C(treat)  0.241006   6.0   1.787011  0.130406\n",
              "Residual            0.786717  35.0        NaN       NaN"
            ],
            "text/html": [
              "\n",
              "  <div id=\"df-5b08cb9b-aba3-4716-8474-933e0e79ed54\" class=\"colab-df-container\">\n",
              "    <div>\n",
              "<style scoped>\n",
              "    .dataframe tbody tr th:only-of-type {\n",
              "        vertical-align: middle;\n",
              "    }\n",
              "\n",
              "    .dataframe tbody tr th {\n",
              "        vertical-align: top;\n",
              "    }\n",
              "\n",
              "    .dataframe thead th {\n",
              "        text-align: right;\n",
              "    }\n",
              "</style>\n",
              "<table border=\"1\" class=\"dataframe\">\n",
              "  <thead>\n",
              "    <tr style=\"text-align: right;\">\n",
              "      <th></th>\n",
              "      <th>sum_sq</th>\n",
              "      <th>df</th>\n",
              "      <th>F</th>\n",
              "      <th>PR(&gt;F)</th>\n",
              "    </tr>\n",
              "  </thead>\n",
              "  <tbody>\n",
              "    <tr>\n",
              "      <th>Intercept</th>\n",
              "      <td>0.598533</td>\n",
              "      <td>1.0</td>\n",
              "      <td>26.627969</td>\n",
              "      <td>0.000010</td>\n",
              "    </tr>\n",
              "    <tr>\n",
              "      <th>C(poison)</th>\n",
              "      <td>0.096206</td>\n",
              "      <td>2.0</td>\n",
              "      <td>2.140041</td>\n",
              "      <td>0.132793</td>\n",
              "    </tr>\n",
              "    <tr>\n",
              "      <th>C(treat)</th>\n",
              "      <td>0.367098</td>\n",
              "      <td>3.0</td>\n",
              "      <td>5.443909</td>\n",
              "      <td>0.003525</td>\n",
              "    </tr>\n",
              "    <tr>\n",
              "      <th>C(poison):C(treat)</th>\n",
              "      <td>0.241006</td>\n",
              "      <td>6.0</td>\n",
              "      <td>1.787011</td>\n",
              "      <td>0.130406</td>\n",
              "    </tr>\n",
              "    <tr>\n",
              "      <th>Residual</th>\n",
              "      <td>0.786717</td>\n",
              "      <td>35.0</td>\n",
              "      <td>NaN</td>\n",
              "      <td>NaN</td>\n",
              "    </tr>\n",
              "  </tbody>\n",
              "</table>\n",
              "</div>\n",
              "    <div class=\"colab-df-buttons\">\n",
              "\n",
              "  <div class=\"colab-df-container\">\n",
              "    <button class=\"colab-df-convert\" onclick=\"convertToInteractive('df-5b08cb9b-aba3-4716-8474-933e0e79ed54')\"\n",
              "            title=\"Convert this dataframe to an interactive table.\"\n",
              "            style=\"display:none;\">\n",
              "\n",
              "  <svg xmlns=\"http://www.w3.org/2000/svg\" height=\"24px\" viewBox=\"0 -960 960 960\">\n",
              "    <path d=\"M120-120v-720h720v720H120Zm60-500h600v-160H180v160Zm220 220h160v-160H400v160Zm0 220h160v-160H400v160ZM180-400h160v-160H180v160Zm440 0h160v-160H620v160ZM180-180h160v-160H180v160Zm440 0h160v-160H620v160Z\"/>\n",
              "  </svg>\n",
              "    </button>\n",
              "\n",
              "  <style>\n",
              "    .colab-df-container {\n",
              "      display:flex;\n",
              "      gap: 12px;\n",
              "    }\n",
              "\n",
              "    .colab-df-convert {\n",
              "      background-color: #E8F0FE;\n",
              "      border: none;\n",
              "      border-radius: 50%;\n",
              "      cursor: pointer;\n",
              "      display: none;\n",
              "      fill: #1967D2;\n",
              "      height: 32px;\n",
              "      padding: 0 0 0 0;\n",
              "      width: 32px;\n",
              "    }\n",
              "\n",
              "    .colab-df-convert:hover {\n",
              "      background-color: #E2EBFA;\n",
              "      box-shadow: 0px 1px 2px rgba(60, 64, 67, 0.3), 0px 1px 3px 1px rgba(60, 64, 67, 0.15);\n",
              "      fill: #174EA6;\n",
              "    }\n",
              "\n",
              "    .colab-df-buttons div {\n",
              "      margin-bottom: 4px;\n",
              "    }\n",
              "\n",
              "    [theme=dark] .colab-df-convert {\n",
              "      background-color: #3B4455;\n",
              "      fill: #D2E3FC;\n",
              "    }\n",
              "\n",
              "    [theme=dark] .colab-df-convert:hover {\n",
              "      background-color: #434B5C;\n",
              "      box-shadow: 0px 1px 3px 1px rgba(0, 0, 0, 0.15);\n",
              "      filter: drop-shadow(0px 1px 2px rgba(0, 0, 0, 0.3));\n",
              "      fill: #FFFFFF;\n",
              "    }\n",
              "  </style>\n",
              "\n",
              "    <script>\n",
              "      const buttonEl =\n",
              "        document.querySelector('#df-5b08cb9b-aba3-4716-8474-933e0e79ed54 button.colab-df-convert');\n",
              "      buttonEl.style.display =\n",
              "        google.colab.kernel.accessAllowed ? 'block' : 'none';\n",
              "\n",
              "      async function convertToInteractive(key) {\n",
              "        const element = document.querySelector('#df-5b08cb9b-aba3-4716-8474-933e0e79ed54');\n",
              "        const dataTable =\n",
              "          await google.colab.kernel.invokeFunction('convertToInteractive',\n",
              "                                                    [key], {});\n",
              "        if (!dataTable) return;\n",
              "\n",
              "        const docLinkHtml = 'Like what you see? Visit the ' +\n",
              "          '<a target=\"_blank\" href=https://colab.research.google.com/notebooks/data_table.ipynb>data table notebook</a>'\n",
              "          + ' to learn more about interactive tables.';\n",
              "        element.innerHTML = '';\n",
              "        dataTable['output_type'] = 'display_data';\n",
              "        await google.colab.output.renderOutput(dataTable, element);\n",
              "        const docLink = document.createElement('div');\n",
              "        docLink.innerHTML = docLinkHtml;\n",
              "        element.appendChild(docLink);\n",
              "      }\n",
              "    </script>\n",
              "  </div>\n",
              "\n",
              "\n",
              "<div id=\"df-c5e552aa-7d36-4f41-9c84-27a37ac72487\">\n",
              "  <button class=\"colab-df-quickchart\" onclick=\"quickchart('df-c5e552aa-7d36-4f41-9c84-27a37ac72487')\"\n",
              "            title=\"Suggest charts\"\n",
              "            style=\"display:none;\">\n",
              "\n",
              "<svg xmlns=\"http://www.w3.org/2000/svg\" height=\"24px\"viewBox=\"0 0 24 24\"\n",
              "     width=\"24px\">\n",
              "    <g>\n",
              "        <path d=\"M19 3H5c-1.1 0-2 .9-2 2v14c0 1.1.9 2 2 2h14c1.1 0 2-.9 2-2V5c0-1.1-.9-2-2-2zM9 17H7v-7h2v7zm4 0h-2V7h2v10zm4 0h-2v-4h2v4z\"/>\n",
              "    </g>\n",
              "</svg>\n",
              "  </button>\n",
              "\n",
              "<style>\n",
              "  .colab-df-quickchart {\n",
              "      --bg-color: #E8F0FE;\n",
              "      --fill-color: #1967D2;\n",
              "      --hover-bg-color: #E2EBFA;\n",
              "      --hover-fill-color: #174EA6;\n",
              "      --disabled-fill-color: #AAA;\n",
              "      --disabled-bg-color: #DDD;\n",
              "  }\n",
              "\n",
              "  [theme=dark] .colab-df-quickchart {\n",
              "      --bg-color: #3B4455;\n",
              "      --fill-color: #D2E3FC;\n",
              "      --hover-bg-color: #434B5C;\n",
              "      --hover-fill-color: #FFFFFF;\n",
              "      --disabled-bg-color: #3B4455;\n",
              "      --disabled-fill-color: #666;\n",
              "  }\n",
              "\n",
              "  .colab-df-quickchart {\n",
              "    background-color: var(--bg-color);\n",
              "    border: none;\n",
              "    border-radius: 50%;\n",
              "    cursor: pointer;\n",
              "    display: none;\n",
              "    fill: var(--fill-color);\n",
              "    height: 32px;\n",
              "    padding: 0;\n",
              "    width: 32px;\n",
              "  }\n",
              "\n",
              "  .colab-df-quickchart:hover {\n",
              "    background-color: var(--hover-bg-color);\n",
              "    box-shadow: 0 1px 2px rgba(60, 64, 67, 0.3), 0 1px 3px 1px rgba(60, 64, 67, 0.15);\n",
              "    fill: var(--button-hover-fill-color);\n",
              "  }\n",
              "\n",
              "  .colab-df-quickchart-complete:disabled,\n",
              "  .colab-df-quickchart-complete:disabled:hover {\n",
              "    background-color: var(--disabled-bg-color);\n",
              "    fill: var(--disabled-fill-color);\n",
              "    box-shadow: none;\n",
              "  }\n",
              "\n",
              "  .colab-df-spinner {\n",
              "    border: 2px solid var(--fill-color);\n",
              "    border-color: transparent;\n",
              "    border-bottom-color: var(--fill-color);\n",
              "    animation:\n",
              "      spin 1s steps(1) infinite;\n",
              "  }\n",
              "\n",
              "  @keyframes spin {\n",
              "    0% {\n",
              "      border-color: transparent;\n",
              "      border-bottom-color: var(--fill-color);\n",
              "      border-left-color: var(--fill-color);\n",
              "    }\n",
              "    20% {\n",
              "      border-color: transparent;\n",
              "      border-left-color: var(--fill-color);\n",
              "      border-top-color: var(--fill-color);\n",
              "    }\n",
              "    30% {\n",
              "      border-color: transparent;\n",
              "      border-left-color: var(--fill-color);\n",
              "      border-top-color: var(--fill-color);\n",
              "      border-right-color: var(--fill-color);\n",
              "    }\n",
              "    40% {\n",
              "      border-color: transparent;\n",
              "      border-right-color: var(--fill-color);\n",
              "      border-top-color: var(--fill-color);\n",
              "    }\n",
              "    60% {\n",
              "      border-color: transparent;\n",
              "      border-right-color: var(--fill-color);\n",
              "    }\n",
              "    80% {\n",
              "      border-color: transparent;\n",
              "      border-right-color: var(--fill-color);\n",
              "      border-bottom-color: var(--fill-color);\n",
              "    }\n",
              "    90% {\n",
              "      border-color: transparent;\n",
              "      border-bottom-color: var(--fill-color);\n",
              "    }\n",
              "  }\n",
              "</style>\n",
              "\n",
              "  <script>\n",
              "    async function quickchart(key) {\n",
              "      const quickchartButtonEl =\n",
              "        document.querySelector('#' + key + ' button');\n",
              "      quickchartButtonEl.disabled = true;  // To prevent multiple clicks.\n",
              "      quickchartButtonEl.classList.add('colab-df-spinner');\n",
              "      try {\n",
              "        const charts = await google.colab.kernel.invokeFunction(\n",
              "            'suggestCharts', [key], {});\n",
              "      } catch (error) {\n",
              "        console.error('Error during call to suggestCharts:', error);\n",
              "      }\n",
              "      quickchartButtonEl.classList.remove('colab-df-spinner');\n",
              "      quickchartButtonEl.classList.add('colab-df-quickchart-complete');\n",
              "    }\n",
              "    (() => {\n",
              "      let quickchartButtonEl =\n",
              "        document.querySelector('#df-c5e552aa-7d36-4f41-9c84-27a37ac72487 button');\n",
              "      quickchartButtonEl.style.display =\n",
              "        google.colab.kernel.accessAllowed ? 'block' : 'none';\n",
              "    })();\n",
              "  </script>\n",
              "</div>\n",
              "\n",
              "    </div>\n",
              "  </div>\n"
            ],
            "application/vnd.google.colaboratory.intrinsic+json": {
              "type": "dataframe",
              "summary": "{\n  \"name\": \"anova_lm(model, typ=3)\",\n  \"rows\": 5,\n  \"fields\": [\n    {\n      \"column\": \"sum_sq\",\n      \"properties\": {\n        \"dtype\": \"number\",\n        \"std\": 0.27659231958053754,\n        \"min\": 0.0962060606060589,\n        \"max\": 0.7867166666666668,\n        \"num_unique_values\": 5,\n        \"samples\": [\n          0.0962060606060589,\n          0.7867166666666668,\n          0.3670983333333345\n        ],\n        \"semantic_type\": \"\",\n        \"description\": \"\"\n      }\n    },\n    {\n      \"column\": \"df\",\n      \"properties\": {\n        \"dtype\": \"number\",\n        \"std\": 14.43260198301055,\n        \"min\": 1.0,\n        \"max\": 35.0,\n        \"num_unique_values\": 5,\n        \"samples\": [\n          2.0,\n          35.0,\n          3.0\n        ],\n        \"semantic_type\": \"\",\n        \"description\": \"\"\n      }\n    },\n    {\n      \"column\": \"F\",\n      \"properties\": {\n        \"dtype\": \"number\",\n        \"std\": 11.867003359243451,\n        \"min\": 1.787010874426534,\n        \"max\": 26.627968561320333,\n        \"num_unique_values\": 4,\n        \"samples\": [\n          2.140041176119353,\n          1.787010874426534,\n          26.627968561320333\n        ],\n        \"semantic_type\": \"\",\n        \"description\": \"\"\n      }\n    },\n    {\n      \"column\": \"PR(>F)\",\n      \"properties\": {\n        \"dtype\": \"number\",\n        \"std\": 0.0749783680189028,\n        \"min\": 9.880840924733214e-06,\n        \"max\": 0.13279262549110757,\n        \"num_unique_values\": 4,\n        \"samples\": [\n          0.13279262549110757,\n          0.13040557924821317,\n          9.880840924733214e-06\n        ],\n        \"semantic_type\": \"\",\n        \"description\": \"\"\n      }\n    }\n  ]\n}"
            }
          },
          "metadata": {},
          "execution_count": 46
        }
      ]
    },
    {
      "cell_type": "markdown",
      "source": [
        "기출 예제 문제 ADP_27) </br>\n",
        "지하철 호선과 월별, 승객 수 간 상관관계가 있는 지 확인\n",
        "1. 귀무가설과 대립가설을 설정하라\n",
        "2. 검정통계량과 유의확률을 구하고, 대립가설 채택여부를 기술하라 (반올림하여 소수점 아래 둘째자리까지 표기하시오)"
      ],
      "metadata": {
        "id": "nZCd0bX9Im8w"
      }
    },
    {
      "cell_type": "markdown",
      "source": [
        "귀무 : 지하철호선과 월별은 승객 수와 상관관계가 있다. </br>\n",
        "대립 : 지하철호선과 월별은 승객 수와 상관관계가 없다. </br>\n",
        "\n",
        "* 주효과 </br>\n",
        "귀무 : 지하철호선별로 승객수의 차이가 없다. </br>\n",
        "대립 : 적어도 하나의 지하철 호선에서 승객수의 차이가 있다. </br>\n",
        "\n",
        "귀무 : 월별로 승객수의 차이가 없다. </br>\n",
        "대립 : 적어도 하나의 월별로 호선에서 승객수의 차이가 있다."
      ],
      "metadata": {
        "id": "i3dYtR3ZJB2Z"
      }
    },
    {
      "cell_type": "code",
      "source": [
        "import pandas as pd\n",
        "df_subway = pd.read_csv('https://github.com/johyunkang/adp_certificate/files/10883822/subway.csv')\n",
        "df_subway.head()\n",
        "\n",
        "print(df_subway.line.value_counts())\n",
        "print(df_subway.month.value_counts())"
      ],
      "metadata": {
        "colab": {
          "base_uri": "https://localhost:8080/"
        },
        "id": "s7OB_XiaIxb-",
        "outputId": "2b2faeea-b44d-428e-8843-a57e83238e73"
      },
      "execution_count": 47,
      "outputs": [
        {
          "output_type": "stream",
          "name": "stdout",
          "text": [
            "line\n",
            "1    24\n",
            "2    24\n",
            "3    24\n",
            "Name: count, dtype: int64\n",
            "month\n",
            "1     6\n",
            "2     6\n",
            "3     6\n",
            "4     6\n",
            "5     6\n",
            "6     6\n",
            "7     6\n",
            "8     6\n",
            "9     6\n",
            "10    6\n",
            "11    6\n",
            "12    6\n",
            "Name: count, dtype: int64\n"
          ]
        }
      ]
    },
    {
      "cell_type": "code",
      "source": [
        "f = \"total ~ C(line) * C(month)\"\n",
        "m = ols(f, data = df_subway).fit()\n",
        "print(anova_lm(m))\n",
        "\n",
        "interaction_plot(df_subway['month'],df_subway['line'], df_subway['total'] ,ms=10)\n",
        "plt.show()"
      ],
      "metadata": {
        "colab": {
          "base_uri": "https://localhost:8080/",
          "height": 536
        },
        "id": "QZukrdkNJmqC",
        "outputId": "7e9e9784-bdb2-4bed-936f-856f23737afc"
      },
      "execution_count": 48,
      "outputs": [
        {
          "output_type": "stream",
          "name": "stdout",
          "text": [
            "                    df        sum_sq       mean_sq             F        PR(>F)\n",
            "C(line)            2.0  2.147444e+06  1.073722e+06  10362.998525  2.007247e-50\n",
            "C(month)          11.0  3.206533e+04  2.915030e+03     28.134341  2.103496e-14\n",
            "C(line):C(month)  22.0  9.696908e+04  4.407686e+03     42.540665  1.582232e-19\n",
            "Residual          36.0  3.730000e+03  1.036111e+02           NaN           NaN\n"
          ]
        },
        {
          "output_type": "display_data",
          "data": {
            "text/plain": [
              "<Figure size 640x480 with 1 Axes>"
            ],
            "image/png": "[encoded data removed]"
          },
          "metadata": {}
        }
      ]
    },
    {
      "cell_type": "markdown",
      "source": [
        "연습 문제 1)\n",
        "- 모분산의 정보가 없을때, 모평균에 대한 95% 신뢰수준의 신뢰 구간을 구하라. </br>\n",
        "  다음 데이터의 모표준편차가 3이라는 것을 알고 있을때 모평균에 대한 95% 신뢰구간을 구하라."
      ],
      "metadata": {
        "id": "2-60RwcjLGPF"
      }
    },
    {
      "cell_type": "code",
      "source": [
        "data = [10, 19, 15, 11, 13, 14, 18]\n",
        "\n",
        "x = np.mean(data)\n",
        "s = np.std(data, ddof =1)\n",
        "n = len(data)\n",
        "df = n - 1\n",
        "conf_a = 0.05\n",
        "\n",
        "from scipy.stats import t\n",
        "# 1) 모분산을 모를때\n",
        "# SE\n",
        "se = s / np.sqrt(n)\n",
        "# t_confa\n",
        "conf_t =  t.ppf(1 - conf_a / 2, df)\n",
        "# ME\n",
        "ME = se * conf_t\n",
        "print(x-ME, x + ME)\n",
        "\n",
        "\n",
        "# 2) 모표준편차가 3일때 - norm\n",
        "conf_z = norm.ppf(1 - conf_a /2)\n",
        "\n",
        "ME2 = se * conf_z\n",
        "print(x - ME2, x + ME2)"
      ],
      "metadata": {
        "colab": {
          "base_uri": "https://localhost:8080/"
        },
        "id": "V5P_IT43LVfn",
        "outputId": "517afe41-1938-4f0b-da24-b985031f7473"
      },
      "execution_count": 49,
      "outputs": [
        {
          "output_type": "stream",
          "name": "stdout",
          "text": [
            "11.185329061331894 17.386099510096678\n",
            "11.802321442957727 16.769107128470846\n"
          ]
        }
      ]
    },
    {
      "cell_type": "markdown",
      "source": [
        "ADP_기출 24)\n",
        "- 모분산을 모르는 경우 데이터의 95% 신뢰구간"
      ],
      "metadata": {
        "id": "Efnj8wlbbJSK"
      }
    },
    {
      "cell_type": "code",
      "source": [
        "data = [3.1, 3.3, 3.5, 3.7, 3.9, 4.1, 4.3, 4.4, 4.7]\n",
        "\n",
        "n = len(data)\n",
        "mean = np.mean(data)\n",
        "s = np.std(data)\n",
        "df = n - 1\n",
        "conf_a = 0.05\n",
        "\n",
        "# SE\n",
        "se = s / np.sqrt(n)\n",
        "# t_confa\n",
        "conf_t = stats.t.ppf(1 - conf_a / 2, df)\n",
        "# ME\n",
        "ME = se * conf_t\n",
        "print(mean - ME, mean + ME)\n"
      ],
      "metadata": {
        "colab": {
          "base_uri": "https://localhost:8080/"
        },
        "id": "Avc3a1ZYbIoK",
        "outputId": "d2a26c99-a015-4893-84f1-a37e4544782f"
      },
      "execution_count": 125,
      "outputs": [
        {
          "output_type": "stream",
          "name": "stdout",
          "text": [
            "3.501247690268752 4.276530087509026\n"
          ]
        }
      ]
    },
    {
      "cell_type": "markdown",
      "source": [
        "연습 문제 2)\n",
        "- 어느 제조회사의 불량률이 5%으로 알려져 있다면 95% 신뢰수준에서 오차의 한계가 3%가 되로록 하는 최소 표본 사이즈를 구하시오."
      ],
      "metadata": {
        "id": "cAy542pmMWso"
      }
    },
    {
      "cell_type": "code",
      "source": [
        "p = 0.05\n",
        "conf_a = 0.05\n",
        "ME = 0.03\n",
        "\n",
        "# conf_z\n",
        "conf_z = norm.ppf(1 - conf_a/2)\n",
        "\n",
        "size = conf_z **2 * p * (1-p)  / ME**2\n",
        "print(size)"
      ],
      "metadata": {
        "colab": {
          "base_uri": "https://localhost:8080/"
        },
        "id": "yyOTKeYvMfqI",
        "outputId": "6addd260-1fb3-4ba1-8110-549f77c683dd"
      },
      "execution_count": 50,
      "outputs": [
        {
          "output_type": "stream",
          "name": "stdout",
          "text": [
            "202.74365998107885\n"
          ]
        }
      ]
    },
    {
      "cell_type": "markdown",
      "source": [
        "연습 문제 3)\n",
        "- 임의로 추출한 표본 30개의 분산을 계산 했더니 50일떄, 신뢰도 95%의 신뢰구간을 추정하시오."
      ],
      "metadata": {
        "id": "ocTkg5UIM2Pg"
      }
    },
    {
      "cell_type": "code",
      "source": [
        "n = 30\n",
        "var = 50\n",
        "conf_a = 0.05\n",
        "df = n - 1\n",
        "\n",
        "from scipy.stats import chi2\n",
        "c1 = chi2.ppf(1 - conf_a / 2, df)\n",
        "c2 = chi2.ppf(conf_a/2, df)\n",
        "\n",
        "cr1 = df * var / c1\n",
        "cr2 = df * var / c2\n",
        "\n",
        "print(round(cr1,2), round(cr2, 2))"
      ],
      "metadata": {
        "colab": {
          "base_uri": "https://localhost:8080/"
        },
        "id": "ZH_w9ba0M7vD",
        "outputId": "99527ed6-7317-4250-e9f5-24840df9e1d0"
      },
      "execution_count": 51,
      "outputs": [
        {
          "output_type": "stream",
          "name": "stdout",
          "text": [
            "31.71 90.36\n"
          ]
        }
      ]
    },
    {
      "cell_type": "markdown",
      "source": [
        "연습 문제 4)\n",
        "- 뽑기 기계에서 20번 뽑기를 했더니 그 중 5개는 미니카였다. 장남감들 중 미니카의 비율을 P라고 한다면 모비율 P에 대한 95% 신뢰구간을 구하시오"
      ],
      "metadata": {
        "id": "6PNm0D34Nbrg"
      }
    },
    {
      "cell_type": "code",
      "source": [
        "# 표본 비율로 모비율을 추정\n",
        "p = 5 / 20\n",
        "n = 20\n",
        "conf_a = 0.05\n",
        "\n",
        "# se\n",
        "se = np.sqrt(p * (1-p) / n)\n",
        "# conf_z\n",
        "conf_z = norm.ppf(1- conf_a / 2)\n",
        "# ME\n",
        "ME = se * conf_z\n",
        "print(p - ME, p + ME)"
      ],
      "metadata": {
        "colab": {
          "base_uri": "https://localhost:8080/"
        },
        "id": "stIdUQgkNoqC",
        "outputId": "c8d188d3-7d98-436f-e786-f9304c92d070"
      },
      "execution_count": 52,
      "outputs": [
        {
          "output_type": "stream",
          "name": "stdout",
          "text": [
            "0.060227303217750994 0.439772696782249\n"
          ]
        }
      ]
    },
    {
      "cell_type": "markdown",
      "source": [
        "연습 문제 5)\n",
        "- A 국가의 성인 남성의 흡연율이 35%이라고 했으나, B는 그것보다 높은 수치를 예상했다. 남성 중 450명을 임의 추출하여 조사한 결과 180명이 흡연자인것을 확인했따. 이에 대해 귀무/대립가설을 세우고, 검정통계량을 계산하라."
      ],
      "metadata": {
        "id": "EOP1-CL7J5sq"
      }
    },
    {
      "cell_type": "code",
      "source": [
        "p0 = 0.35\n",
        "n = 450\n",
        "p = 180 / 450\n",
        "conf_a = 0.05\n",
        "# 귀무 가설 : 남성의 흡연율을 35%와 차이가 없다.\n",
        "# 대립 가설 : 남성의 흡연율을 35%보다 높다. x > 35 (우측 검정)\n",
        "\n",
        "from scipy.stats import norm\n",
        "\n",
        "# se\n",
        "se = np.sqrt(p0 * (1 - p0) / n)\n",
        "\n",
        "# zstat\n",
        "zstat = (p - p0) / se\n",
        "\n",
        "sp = 1 - norm.cdf(zstat)\n",
        "cv = norm.ppf(1 - conf_a)\n",
        "\n",
        "\n",
        "print(f\"유의수준 {conf_a} , 유의확률 {sp}\")\n",
        "print(f\"임계값 {cv}, 검정 통계량 {zstat}\")"
      ],
      "metadata": {
        "colab": {
          "base_uri": "https://localhost:8080/"
        },
        "id": "8lEP-4LzJ5Mr",
        "outputId": "ab97cb70-65fa-4243-c2a1-5bc1ca10f234"
      },
      "execution_count": 61,
      "outputs": [
        {
          "output_type": "stream",
          "name": "stdout",
          "text": [
            "유의수준 0.05 , 유의확률 0.013082703570710397\n",
            "임계값 1.6448536269514722, 검정 통계량 2.2237479499833053\n"
          ]
        }
      ]
    },
    {
      "cell_type": "markdown",
      "source": [
        "연습 문제 6)\n",
        "- 모평균을 모르는 상황에서 표본의 정보를 통해 모분산 10인지 아닌지 여부를 검정.\n",
        "50개의 표본을 임의로 추출한 결과 표본의 부산은 8.8이였다. 귀무/대립 가설을 세우고, 검정 통계량을 계산하여 검정 결과를 서술하시오 (유의수준 0.05)"
      ],
      "metadata": {
        "id": "o1X5AtRZL28V"
      }
    },
    {
      "cell_type": "code",
      "source": [
        "import scipy.stats as stats\n",
        "\n",
        "n = 50\n",
        "v = 8.8\n",
        "v0 = 10\n",
        "df = n-1\n",
        "conf_a = 0.05\n",
        "\n",
        "# 귀무: 모분산은 10이다\n",
        "# 대립: 모분산은 10이 아니다.\n",
        "\n",
        "# 검정 통계량 계산\n",
        "cstat = df * v / v0\n",
        "\n",
        "# 양측 검정\n",
        "cv1 = stats.chi2.ppf(conf_a / 2, df=n-1)\n",
        "cv2 = stats.chi2.ppf(1 - conf_a / 2, df=n-1)\n",
        "\n",
        "if chi2.cdf(cstat, df) < 0.5 :\n",
        "  sp = (chi2.cdf(cstat, df)) * 2\n",
        "\n",
        "else :\n",
        "  sp = (1 - chi2.cdf(cstat,df)) * 2\n",
        "\n",
        "if cstat < cv1 or cstat > cv2 :\n",
        "  print('귀무가설 기각')\n",
        "else :\n",
        "  print('귀무가설 채택')\n",
        "\n",
        "print(\"1. 유의수준 {:.3f}와 유의확률 {:.3f}를 비교\".format(conf_a, sp))\n",
        "print(\"2. 임곗값 {:.3f}, {:.3f}와 검정통계량 {:.3f}를 비교\".format(cv1,cv2, cstat))"
      ],
      "metadata": {
        "colab": {
          "base_uri": "https://localhost:8080/"
        },
        "id": "P-1gqkx_LI4L",
        "outputId": "cdf7ab10-474b-4d6c-8cc1-2c5fcb1217eb"
      },
      "execution_count": 72,
      "outputs": [
        {
          "output_type": "stream",
          "name": "stdout",
          "text": [
            "귀무가설 채택\n",
            "1. 유의수준 0.050와 유의확률 0.581를 비교\n",
            "2. 임곗값 31.555, 70.222와 검정통계량 43.120를 비교\n"
          ]
        }
      ]
    },
    {
      "cell_type": "markdown",
      "source": [
        "연습문제 7)\n",
        "- 50명의 당뇨 환자에 대해 신약 투약 이전과 이후의 평균 혈당 차이가 15, 표준편차 4일 때, 투약 전후의 평균 혈당의 차이가 존재하는지 확인하고자한다."
      ],
      "metadata": {
        "id": "sEW3oJflP2tZ"
      }
    },
    {
      "cell_type": "code",
      "source": [
        "# 귀무 : 차이가 없다\n",
        "# 대립 : 차이가 있다.\n",
        "\n",
        "n = 50\n",
        "diff = 15\n",
        "s = 4\n",
        "conf_a = 0.05\n",
        "df = n -1\n",
        "d0 = 0\n",
        "\n",
        "# se\n",
        "se = s / np.sqrt(n)\n",
        "\n",
        "# tstat\n",
        "tstat = (diff - d0) / se\n",
        "\n",
        "sp =( 1 - t.cdf(np.abs(tstat), df)) * 2\n",
        "cv = t.ppf(1 - conf_a / 2, df)\n",
        "\n",
        "print(conf_a, sp)\n",
        "print(cv, tstat)\n",
        "print(f\"유의확률인 {sp}가 0.05보다 작기 때문에 귀무가설을 기각 할 수 있다\")"
      ],
      "metadata": {
        "colab": {
          "base_uri": "https://localhost:8080/"
        },
        "id": "L0XFSRD0LkFZ",
        "outputId": "76831350-8800-4b2c-e159-02cc2ef34d40"
      },
      "execution_count": 74,
      "outputs": [
        {
          "output_type": "stream",
          "name": "stdout",
          "text": [
            "0.05 0.0\n",
            "2.0095752371292397 26.516504294495533\n"
          ]
        }
      ]
    },
    {
      "cell_type": "markdown",
      "source": [
        "연습 문제 8) </br>\n",
        "가수 A에 대한 호감도가 남녀별로 다른지 알아보고자 다음과 같은 데이터, 남녀 별 지지율에 대한 차이가 있는 지 검정 </br>\n",
        "\n",
        "* 남성 (100명) 30% 호감\n",
        "* 여성 (180명) 35% 호감"
      ],
      "metadata": {
        "id": "I4F8cF0-REDj"
      }
    },
    {
      "cell_type": "code",
      "source": [
        "n1 = 100\n",
        "p1 = 0.3\n",
        "\n",
        "n2 = 180\n",
        "p2 = 0.35\n",
        "\n",
        "conf_a = 0.05\n",
        "\n",
        "# 귀무 : 차이가 없다\n",
        "# 대립 : 차이가 있다.\n",
        "d0 = 0\n",
        "\n",
        "# 합동비율\n",
        "pe = (n1 * p1 + n2 * p2) / (n1 + n2)\n",
        "se = np.sqrt(pe * (1 - pe) * (1/n1 + 1/n2))\n",
        "\n",
        "z_stat = (p1 - p2) / se\n",
        "\n",
        "sp = (1 - norm.cdf(abs(z_stat))) * 2\n",
        "print(z_stat, sp)"
      ],
      "metadata": {
        "colab": {
          "base_uri": "https://localhost:8080/"
        },
        "id": "2ZSdjuK-Q1Wu",
        "outputId": "c598e163-3246-4248-e4f4-6af593e9d247"
      },
      "execution_count": 75,
      "outputs": [
        {
          "output_type": "stream",
          "name": "stdout",
          "text": [
            "-0.8511831054314234 0.3946676461708256\n"
          ]
        }
      ]
    },
    {
      "cell_type": "markdown",
      "source": [
        "연습 문제 9)\n",
        "- A 브랜드의 제품 14개를 추출하여 구한 평균과 표준 편차는 100, 5 이고, B 브랜드의 제품 12개를 구한 평균과 표준편차는 110, 6이면 두 제품의 평균 차이가 있는가."
      ],
      "metadata": {
        "id": "AV8mSDQPSCeH"
      }
    },
    {
      "cell_type": "code",
      "source": [
        "# 모분산이 다른 독립표본 t검정\n",
        "n1 , n2 = 14 , 12\n",
        "x1 , x2 = 100 , 110\n",
        "s1 , s2 = 5 , 6\n",
        "\n",
        "d0 =0\n",
        "# 차이\n",
        "diff = x1 - x2\n",
        "\n",
        "df = ((s1**2)/n1 + (s2**2)/n2)**2 / (1/(n1-1)*((s1**2)/n1)**2 + 1/(n2-1)*((s2**2/n2)**2))\n",
        "SE = np.sqrt(s1**2/n1 + s2**2/n2)\n",
        "tstat = (x1-x2-d0)/SE\n",
        "sp = (1-t.cdf(np.abs(tstat), df))*2 # two-way\n",
        "print(\"검정통계량 {:.3f}, 유의확률 {:.3f}\".format(tstat, sp))\n",
        "# 검정통계량의 유의확률이 유의수준인 0.05보다 작기 때문에 귀무가설을 기각할 수 있다.\n",
        "# 즉, 두 제품의 평균은 차이가 있다."
      ],
      "metadata": {
        "colab": {
          "base_uri": "https://localhost:8080/"
        },
        "id": "GoNTCAVuRW0Z",
        "outputId": "5941d487-7418-4c52-83e3-240559bf896f"
      },
      "execution_count": 76,
      "outputs": [
        {
          "output_type": "stream",
          "name": "stdout",
          "text": [
            "검정통계량 -4.571, 유의확률 0.000\n"
          ]
        }
      ]
    },
    {
      "cell_type": "markdown",
      "source": [
        "ADP_기출 24)\n",
        "- 생산라인의 12개 제품 평균은 5.7mm이고 표준편차는 0.03, B생산라인의 12개 제품 평균은 5.6mm이고 표준편차는 0.04이다. 5%유의수준으로 두 제품의 평균이 차이가 있는지 여부를 검정하라 Z(0.05) = 1.96"
      ],
      "metadata": {
        "id": "bnG8Lq5-X4on"
      }
    },
    {
      "cell_type": "code",
      "source": [
        "x1 = 5.7\n",
        "s1 = 0.03\n",
        "\n",
        "x2 = 5.6\n",
        "s2 = 0.04\n",
        "\n",
        "n = 12\n",
        "df = 2*n - 2\n",
        "conf_a = 0.05\n",
        "# 1) se\n",
        "se = np.sqrt(s1**2/n + s2**2/n)\n",
        "# t_stat\n",
        "t_stat = (x1 - x2) / se\n",
        "\n",
        "\n",
        "sp = (1 - stats.t.cdf(np.abs(t_stat),df)) * 2\n",
        "cv = stats.t.ppf(1 - conf_a/2, df)\n",
        "\n",
        "print(t_stat, sp)"
      ],
      "metadata": {
        "colab": {
          "base_uri": "https://localhost:8080/"
        },
        "id": "ctMzmzidaSos",
        "outputId": "43b1555b-3e30-4dfe-f91d-a1b7fdeba43a"
      },
      "execution_count": 122,
      "outputs": [
        {
          "output_type": "stream",
          "name": "stdout",
          "text": [
            "6.928203230275546 5.892973662380285e-07\n"
          ]
        }
      ]
    },
    {
      "cell_type": "markdown",
      "source": [
        "연습 문제 10 )\n",
        "- iris target별로 sepal length의 평균의 차이가 있는 검정하고, 사후 검정"
      ],
      "metadata": {
        "id": "qvQ4NFEBS4sz"
      }
    },
    {
      "cell_type": "code",
      "source": [
        "from sklearn.datasets import load_iris\n",
        "load = load_iris()\n",
        "feature_names = list(map(lambda x : x.replace(\"(cm)\",\"\").replace(' ', '') , load['feature_names']))\n",
        "\n",
        "data = pd.DataFrame(np.c_[load['data'], load['target']] , columns = feature_names + ['target'])\n",
        "data['target'] = data['target'].map({0 : load['target_names'][0] ,1: load['target_names'][1] , 2 : load['target_names'][2]})\n",
        "\n",
        "\n",
        "from statsmodels.stats.anova import anova_lm\n",
        "anova_model = smf.ols(\"sepallength ~  target\", data = data).fit()\n",
        "\n",
        "\n",
        "import statsmodels.api as sm\n",
        "from statsmodels.formula.api import ols\n",
        "\n",
        "model = ols('sepallength ~  C(target)', data = data).fit()\n",
        "anova_table = sm.stats.anova_lm(model)\n",
        "anova_table"
      ],
      "metadata": {
        "colab": {
          "base_uri": "https://localhost:8080/",
          "height": 125
        },
        "id": "nTtakZDaRWx-",
        "outputId": "785d1a75-dbe7-4280-fff8-520d766c324d"
      },
      "execution_count": 91,
      "outputs": [
        {
          "output_type": "execute_result",
          "data": {
            "text/plain": [
              "              df     sum_sq    mean_sq           F        PR(>F)\n",
              "C(target)    2.0  63.212133  31.606067  119.264502  1.669669e-31\n",
              "Residual   147.0  38.956200   0.265008         NaN           NaN"
            ],
            "text/html": [
              "\n",
              "  <div id=\"df-3c01a831-7ceb-403a-901a-a5b89aa503a4\" class=\"colab-df-container\">\n",
              "    <div>\n",
              "<style scoped>\n",
              "    .dataframe tbody tr th:only-of-type {\n",
              "        vertical-align: middle;\n",
              "    }\n",
              "\n",
              "    .dataframe tbody tr th {\n",
              "        vertical-align: top;\n",
              "    }\n",
              "\n",
              "    .dataframe thead th {\n",
              "        text-align: right;\n",
              "    }\n",
              "</style>\n",
              "<table border=\"1\" class=\"dataframe\">\n",
              "  <thead>\n",
              "    <tr style=\"text-align: right;\">\n",
              "      <th></th>\n",
              "      <th>df</th>\n",
              "      <th>sum_sq</th>\n",
              "      <th>mean_sq</th>\n",
              "      <th>F</th>\n",
              "      <th>PR(&gt;F)</th>\n",
              "    </tr>\n",
              "  </thead>\n",
              "  <tbody>\n",
              "    <tr>\n",
              "      <th>C(target)</th>\n",
              "      <td>2.0</td>\n",
              "      <td>63.212133</td>\n",
              "      <td>31.606067</td>\n",
              "      <td>119.264502</td>\n",
              "      <td>1.669669e-31</td>\n",
              "    </tr>\n",
              "    <tr>\n",
              "      <th>Residual</th>\n",
              "      <td>147.0</td>\n",
              "      <td>38.956200</td>\n",
              "      <td>0.265008</td>\n",
              "      <td>NaN</td>\n",
              "      <td>NaN</td>\n",
              "    </tr>\n",
              "  </tbody>\n",
              "</table>\n",
              "</div>\n",
              "    <div class=\"colab-df-buttons\">\n",
              "\n",
              "  <div class=\"colab-df-container\">\n",
              "    <button class=\"colab-df-convert\" onclick=\"convertToInteractive('df-3c01a831-7ceb-403a-901a-a5b89aa503a4')\"\n",
              "            title=\"Convert this dataframe to an interactive table.\"\n",
              "            style=\"display:none;\">\n",
              "\n",
              "  <svg xmlns=\"http://www.w3.org/2000/svg\" height=\"24px\" viewBox=\"0 -960 960 960\">\n",
              "    <path d=\"M120-120v-720h720v720H120Zm60-500h600v-160H180v160Zm220 220h160v-160H400v160Zm0 220h160v-160H400v160ZM180-400h160v-160H180v160Zm440 0h160v-160H620v160ZM180-180h160v-160H180v160Zm440 0h160v-160H620v160Z\"/>\n",
              "  </svg>\n",
              "    </button>\n",
              "\n",
              "  <style>\n",
              "    .colab-df-container {\n",
              "      display:flex;\n",
              "      gap: 12px;\n",
              "    }\n",
              "\n",
              "    .colab-df-convert {\n",
              "      background-color: #E8F0FE;\n",
              "      border: none;\n",
              "      border-radius: 50%;\n",
              "      cursor: pointer;\n",
              "      display: none;\n",
              "      fill: #1967D2;\n",
              "      height: 32px;\n",
              "      padding: 0 0 0 0;\n",
              "      width: 32px;\n",
              "    }\n",
              "\n",
              "    .colab-df-convert:hover {\n",
              "      background-color: #E2EBFA;\n",
              "      box-shadow: 0px 1px 2px rgba(60, 64, 67, 0.3), 0px 1px 3px 1px rgba(60, 64, 67, 0.15);\n",
              "      fill: #174EA6;\n",
              "    }\n",
              "\n",
              "    .colab-df-buttons div {\n",
              "      margin-bottom: 4px;\n",
              "    }\n",
              "\n",
              "    [theme=dark] .colab-df-convert {\n",
              "      background-color: #3B4455;\n",
              "      fill: #D2E3FC;\n",
              "    }\n",
              "\n",
              "    [theme=dark] .colab-df-convert:hover {\n",
              "      background-color: #434B5C;\n",
              "      box-shadow: 0px 1px 3px 1px rgba(0, 0, 0, 0.15);\n",
              "      filter: drop-shadow(0px 1px 2px rgba(0, 0, 0, 0.3));\n",
              "      fill: #FFFFFF;\n",
              "    }\n",
              "  </style>\n",
              "\n",
              "    <script>\n",
              "      const buttonEl =\n",
              "        document.querySelector('#df-3c01a831-7ceb-403a-901a-a5b89aa503a4 button.colab-df-convert');\n",
              "      buttonEl.style.display =\n",
              "        google.colab.kernel.accessAllowed ? 'block' : 'none';\n",
              "\n",
              "      async function convertToInteractive(key) {\n",
              "        const element = document.querySelector('#df-3c01a831-7ceb-403a-901a-a5b89aa503a4');\n",
              "        const dataTable =\n",
              "          await google.colab.kernel.invokeFunction('convertToInteractive',\n",
              "                                                    [key], {});\n",
              "        if (!dataTable) return;\n",
              "\n",
              "        const docLinkHtml = 'Like what you see? Visit the ' +\n",
              "          '<a target=\"_blank\" href=https://colab.research.google.com/notebooks/data_table.ipynb>data table notebook</a>'\n",
              "          + ' to learn more about interactive tables.';\n",
              "        element.innerHTML = '';\n",
              "        dataTable['output_type'] = 'display_data';\n",
              "        await google.colab.output.renderOutput(dataTable, element);\n",
              "        const docLink = document.createElement('div');\n",
              "        docLink.innerHTML = docLinkHtml;\n",
              "        element.appendChild(docLink);\n",
              "      }\n",
              "    </script>\n",
              "  </div>\n",
              "\n",
              "\n",
              "<div id=\"df-90995821-bf92-4ad4-a604-70529b4c7d01\">\n",
              "  <button class=\"colab-df-quickchart\" onclick=\"quickchart('df-90995821-bf92-4ad4-a604-70529b4c7d01')\"\n",
              "            title=\"Suggest charts\"\n",
              "            style=\"display:none;\">\n",
              "\n",
              "<svg xmlns=\"http://www.w3.org/2000/svg\" height=\"24px\"viewBox=\"0 0 24 24\"\n",
              "     width=\"24px\">\n",
              "    <g>\n",
              "        <path d=\"M19 3H5c-1.1 0-2 .9-2 2v14c0 1.1.9 2 2 2h14c1.1 0 2-.9 2-2V5c0-1.1-.9-2-2-2zM9 17H7v-7h2v7zm4 0h-2V7h2v10zm4 0h-2v-4h2v4z\"/>\n",
              "    </g>\n",
              "</svg>\n",
              "  </button>\n",
              "\n",
              "<style>\n",
              "  .colab-df-quickchart {\n",
              "      --bg-color: #E8F0FE;\n",
              "      --fill-color: #1967D2;\n",
              "      --hover-bg-color: #E2EBFA;\n",
              "      --hover-fill-color: #174EA6;\n",
              "      --disabled-fill-color: #AAA;\n",
              "      --disabled-bg-color: #DDD;\n",
              "  }\n",
              "\n",
              "  [theme=dark] .colab-df-quickchart {\n",
              "      --bg-color: #3B4455;\n",
              "      --fill-color: #D2E3FC;\n",
              "      --hover-bg-color: #434B5C;\n",
              "      --hover-fill-color: #FFFFFF;\n",
              "      --disabled-bg-color: #3B4455;\n",
              "      --disabled-fill-color: #666;\n",
              "  }\n",
              "\n",
              "  .colab-df-quickchart {\n",
              "    background-color: var(--bg-color);\n",
              "    border: none;\n",
              "    border-radius: 50%;\n",
              "    cursor: pointer;\n",
              "    display: none;\n",
              "    fill: var(--fill-color);\n",
              "    height: 32px;\n",
              "    padding: 0;\n",
              "    width: 32px;\n",
              "  }\n",
              "\n",
              "  .colab-df-quickchart:hover {\n",
              "    background-color: var(--hover-bg-color);\n",
              "    box-shadow: 0 1px 2px rgba(60, 64, 67, 0.3), 0 1px 3px 1px rgba(60, 64, 67, 0.15);\n",
              "    fill: var(--button-hover-fill-color);\n",
              "  }\n",
              "\n",
              "  .colab-df-quickchart-complete:disabled,\n",
              "  .colab-df-quickchart-complete:disabled:hover {\n",
              "    background-color: var(--disabled-bg-color);\n",
              "    fill: var(--disabled-fill-color);\n",
              "    box-shadow: none;\n",
              "  }\n",
              "\n",
              "  .colab-df-spinner {\n",
              "    border: 2px solid var(--fill-color);\n",
              "    border-color: transparent;\n",
              "    border-bottom-color: var(--fill-color);\n",
              "    animation:\n",
              "      spin 1s steps(1) infinite;\n",
              "  }\n",
              "\n",
              "  @keyframes spin {\n",
              "    0% {\n",
              "      border-color: transparent;\n",
              "      border-bottom-color: var(--fill-color);\n",
              "      border-left-color: var(--fill-color);\n",
              "    }\n",
              "    20% {\n",
              "      border-color: transparent;\n",
              "      border-left-color: var(--fill-color);\n",
              "      border-top-color: var(--fill-color);\n",
              "    }\n",
              "    30% {\n",
              "      border-color: transparent;\n",
              "      border-left-color: var(--fill-color);\n",
              "      border-top-color: var(--fill-color);\n",
              "      border-right-color: var(--fill-color);\n",
              "    }\n",
              "    40% {\n",
              "      border-color: transparent;\n",
              "      border-right-color: var(--fill-color);\n",
              "      border-top-color: var(--fill-color);\n",
              "    }\n",
              "    60% {\n",
              "      border-color: transparent;\n",
              "      border-right-color: var(--fill-color);\n",
              "    }\n",
              "    80% {\n",
              "      border-color: transparent;\n",
              "      border-right-color: var(--fill-color);\n",
              "      border-bottom-color: var(--fill-color);\n",
              "    }\n",
              "    90% {\n",
              "      border-color: transparent;\n",
              "      border-bottom-color: var(--fill-color);\n",
              "    }\n",
              "  }\n",
              "</style>\n",
              "\n",
              "  <script>\n",
              "    async function quickchart(key) {\n",
              "      const quickchartButtonEl =\n",
              "        document.querySelector('#' + key + ' button');\n",
              "      quickchartButtonEl.disabled = true;  // To prevent multiple clicks.\n",
              "      quickchartButtonEl.classList.add('colab-df-spinner');\n",
              "      try {\n",
              "        const charts = await google.colab.kernel.invokeFunction(\n",
              "            'suggestCharts', [key], {});\n",
              "      } catch (error) {\n",
              "        console.error('Error during call to suggestCharts:', error);\n",
              "      }\n",
              "      quickchartButtonEl.classList.remove('colab-df-spinner');\n",
              "      quickchartButtonEl.classList.add('colab-df-quickchart-complete');\n",
              "    }\n",
              "    (() => {\n",
              "      let quickchartButtonEl =\n",
              "        document.querySelector('#df-90995821-bf92-4ad4-a604-70529b4c7d01 button');\n",
              "      quickchartButtonEl.style.display =\n",
              "        google.colab.kernel.accessAllowed ? 'block' : 'none';\n",
              "    })();\n",
              "  </script>\n",
              "</div>\n",
              "\n",
              "  <div id=\"id_11d8497b-1aaf-45e0-990d-9be4a7c089b0\">\n",
              "    <style>\n",
              "      .colab-df-generate {\n",
              "        background-color: #E8F0FE;\n",
              "        border: none;\n",
              "        border-radius: 50%;\n",
              "        cursor: pointer;\n",
              "        display: none;\n",
              "        fill: #1967D2;\n",
              "        height: 32px;\n",
              "        padding: 0 0 0 0;\n",
              "        width: 32px;\n",
              "      }\n",
              "\n",
              "      .colab-df-generate:hover {\n",
              "        background-color: #E2EBFA;\n",
              "        box-shadow: 0px 1px 2px rgba(60, 64, 67, 0.3), 0px 1px 3px 1px rgba(60, 64, 67, 0.15);\n",
              "        fill: #174EA6;\n",
              "      }\n",
              "\n",
              "      [theme=dark] .colab-df-generate {\n",
              "        background-color: #3B4455;\n",
              "        fill: #D2E3FC;\n",
              "      }\n",
              "\n",
              "      [theme=dark] .colab-df-generate:hover {\n",
              "        background-color: #434B5C;\n",
              "        box-shadow: 0px 1px 3px 1px rgba(0, 0, 0, 0.15);\n",
              "        filter: drop-shadow(0px 1px 2px rgba(0, 0, 0, 0.3));\n",
              "        fill: #FFFFFF;\n",
              "      }\n",
              "    </style>\n",
              "    <button class=\"colab-df-generate\" onclick=\"generateWithVariable('anova_table')\"\n",
              "            title=\"Generate code using this dataframe.\"\n",
              "            style=\"display:none;\">\n",
              "\n",
              "  <svg xmlns=\"http://www.w3.org/2000/svg\" height=\"24px\"viewBox=\"0 0 24 24\"\n",
              "       width=\"24px\">\n",
              "    <path d=\"M7,19H8.4L18.45,9,17,7.55,7,17.6ZM5,21V16.75L18.45,3.32a2,2,0,0,1,2.83,0l1.4,1.43a1.91,1.91,0,0,1,.58,1.4,1.91,1.91,0,0,1-.58,1.4L9.25,21ZM18.45,9,17,7.55Zm-12,3A5.31,5.31,0,0,0,4.9,8.1,5.31,5.31,0,0,0,1,6.5,5.31,5.31,0,0,0,4.9,4.9,5.31,5.31,0,0,0,6.5,1,5.31,5.31,0,0,0,8.1,4.9,5.31,5.31,0,0,0,12,6.5,5.46,5.46,0,0,0,6.5,12Z\"/>\n",
              "  </svg>\n",
              "    </button>\n",
              "    <script>\n",
              "      (() => {\n",
              "      const buttonEl =\n",
              "        document.querySelector('#id_11d8497b-1aaf-45e0-990d-9be4a7c089b0 button.colab-df-generate');\n",
              "      buttonEl.style.display =\n",
              "        google.colab.kernel.accessAllowed ? 'block' : 'none';\n",
              "\n",
              "      buttonEl.onclick = () => {\n",
              "        google.colab.notebook.generateWithVariable('anova_table');\n",
              "      }\n",
              "      })();\n",
              "    </script>\n",
              "  </div>\n",
              "\n",
              "    </div>\n",
              "  </div>\n"
            ],
            "application/vnd.google.colaboratory.intrinsic+json": {
              "type": "dataframe",
              "variable_name": "anova_table",
              "summary": "{\n  \"name\": \"anova_table\",\n  \"rows\": 2,\n  \"fields\": [\n    {\n      \"column\": \"df\",\n      \"properties\": {\n        \"dtype\": \"number\",\n        \"std\": 102.5304832720494,\n        \"min\": 2.0,\n        \"max\": 147.0,\n        \"num_unique_values\": 2,\n        \"samples\": [\n          147.0,\n          2.0\n        ],\n        \"semantic_type\": \"\",\n        \"description\": \"\"\n      }\n    },\n    {\n      \"column\": \"sum_sq\",\n      \"properties\": {\n        \"dtype\": \"number\",\n        \"std\": 17.1515349440084,\n        \"min\": 38.9562,\n        \"max\": 63.212133333332744,\n        \"num_unique_values\": 2,\n        \"samples\": [\n          38.9562,\n          63.212133333332744\n        ],\n        \"semantic_type\": \"\",\n        \"description\": \"\"\n      }\n    },\n    {\n      \"column\": \"mean_sq\",\n      \"properties\": {\n        \"dtype\": \"number\",\n        \"std\": 22.161474997319203,\n        \"min\": 0.26500816326530613,\n        \"max\": 31.606066666666372,\n        \"num_unique_values\": 2,\n        \"samples\": [\n          0.26500816326530613,\n          31.606066666666372\n        ],\n        \"semantic_type\": \"\",\n        \"description\": \"\"\n      }\n    },\n    {\n      \"column\": \"F\",\n      \"properties\": {\n        \"dtype\": \"number\",\n        \"std\": null,\n        \"min\": 119.26450218450353,\n        \"max\": 119.26450218450353,\n        \"num_unique_values\": 1,\n        \"samples\": [\n          119.26450218450353\n        ],\n        \"semantic_type\": \"\",\n        \"description\": \"\"\n      }\n    },\n    {\n      \"column\": \"PR(>F)\",\n      \"properties\": {\n        \"dtype\": \"number\",\n        \"std\": null,\n        \"min\": 1.669669190770133e-31,\n        \"max\": 1.669669190770133e-31,\n        \"num_unique_values\": 1,\n        \"samples\": [\n          1.669669190770133e-31\n        ],\n        \"semantic_type\": \"\",\n        \"description\": \"\"\n      }\n    }\n  ]\n}"
            }
          },
          "metadata": {},
          "execution_count": 91
        }
      ]
    },
    {
      "cell_type": "code",
      "source": [
        "# ) 사후검정\n",
        "from statsmodels.stats.multicomp import MultiComparison\n",
        "mc = MultiComparison(data = data['sepallength'] ,\n",
        "                     groups  = data['target']).tukeyhsd(alpha = 0.05)\n",
        "print(mc.summary())\n",
        "mc.plot_simultaneous()\n",
        "plt.show()"
      ],
      "metadata": {
        "colab": {
          "base_uri": "https://localhost:8080/",
          "height": 684
        },
        "id": "U9FMF0DuRWvr",
        "outputId": "3ee123e7-0589-4af2-e748-c514b623a22e"
      },
      "execution_count": 92,
      "outputs": [
        {
          "output_type": "stream",
          "name": "stdout",
          "text": [
            "   Multiple Comparison of Means - Tukey HSD, FWER=0.05   \n",
            "=========================================================\n",
            "  group1     group2   meandiff p-adj lower  upper  reject\n",
            "---------------------------------------------------------\n",
            "    setosa versicolor     0.93   0.0 0.6862 1.1738   True\n",
            "    setosa  virginica    1.582   0.0 1.3382 1.8258   True\n",
            "versicolor  virginica    0.652   0.0 0.4082 0.8958   True\n",
            "---------------------------------------------------------\n"
          ]
        },
        {
          "output_type": "display_data",
          "data": {
            "text/plain": [
              "<Figure size 1000x600 with 1 Axes>"
            ],
            "image/png": "[encoded data removed]"
          },
          "metadata": {}
        }
      ]
    },
    {
      "cell_type": "code",
      "source": [],
      "metadata": {
        "id": "g7UH3ToMRWtB"
      },
      "execution_count": null,
      "outputs": []
    }
  ]
}