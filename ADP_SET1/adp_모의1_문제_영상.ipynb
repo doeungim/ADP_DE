{
 "cells": [
  {
   "cell_type": "markdown",
   "id": "f780e49f",
   "metadata": {},
   "source": [
    "# 기계학습 (60점)"
   ]
  },
  {
   "cell_type": "markdown",
   "id": "2ff140e7",
   "metadata": {},
   "source": [
    "### 비트코인 데이터\n",
    "\n",
    "데이터 경로 : './data/bitcoin_mock.csv'\n",
    "\n",
    "1분간격의 비트코인 가격에 대한 정보이다. \n",
    "- datetime: 1분 단위의 데이터\n",
    "- open : 시작가\n",
    "- high : 최고가\n",
    "- low : 최저가\n",
    "- close : 종가\n",
    "- volume : 거래량"
   ]
  },
  {
   "cell_type": "code",
   "execution_count": 35,
   "id": "ab613bf2",
   "metadata": {},
   "outputs": [
    {
     "data": {
      "text/html": [
       "<div>\n",
       "<style scoped>\n",
       "    .dataframe tbody tr th:only-of-type {\n",
       "        vertical-align: middle;\n",
       "    }\n",
       "\n",
       "    .dataframe tbody tr th {\n",
       "        vertical-align: top;\n",
       "    }\n",
       "\n",
       "    .dataframe thead th {\n",
       "        text-align: right;\n",
       "    }\n",
       "</style>\n",
       "<table border=\"1\" class=\"dataframe\">\n",
       "  <thead>\n",
       "    <tr style=\"text-align: right;\">\n",
       "      <th></th>\n",
       "      <th>datetime</th>\n",
       "      <th>open</th>\n",
       "      <th>high</th>\n",
       "      <th>low</th>\n",
       "      <th>close</th>\n",
       "      <th>volume</th>\n",
       "    </tr>\n",
       "  </thead>\n",
       "  <tbody>\n",
       "    <tr>\n",
       "      <th>0</th>\n",
       "      <td>2022-01-01 00:00:00</td>\n",
       "      <td>46216.93</td>\n",
       "      <td>46271.08</td>\n",
       "      <td>46208.37</td>\n",
       "      <td>46250.00</td>\n",
       "      <td>40.57574</td>\n",
       "    </tr>\n",
       "    <tr>\n",
       "      <th>1</th>\n",
       "      <td>2022-01-01 00:01:00</td>\n",
       "      <td>46250.00</td>\n",
       "      <td>46344.23</td>\n",
       "      <td>46234.39</td>\n",
       "      <td>46312.76</td>\n",
       "      <td>42.38106</td>\n",
       "    </tr>\n",
       "    <tr>\n",
       "      <th>2</th>\n",
       "      <td>2022-01-01 00:02:00</td>\n",
       "      <td>46312.76</td>\n",
       "      <td>46381.69</td>\n",
       "      <td>46292.75</td>\n",
       "      <td>46368.73</td>\n",
       "      <td>51.29955</td>\n",
       "    </tr>\n",
       "    <tr>\n",
       "      <th>3</th>\n",
       "      <td>2022-01-01 00:03:00</td>\n",
       "      <td>46368.73</td>\n",
       "      <td>46391.49</td>\n",
       "      <td>46314.26</td>\n",
       "      <td>46331.08</td>\n",
       "      <td>30.45894</td>\n",
       "    </tr>\n",
       "    <tr>\n",
       "      <th>4</th>\n",
       "      <td>2022-01-01 00:04:00</td>\n",
       "      <td>46331.07</td>\n",
       "      <td>46336.10</td>\n",
       "      <td>46300.00</td>\n",
       "      <td>46321.34</td>\n",
       "      <td>20.96029</td>\n",
       "    </tr>\n",
       "  </tbody>\n",
       "</table>\n",
       "</div>"
      ],
      "text/plain": [
       "              datetime      open      high       low     close    volume\n",
       "0  2022-01-01 00:00:00  46216.93  46271.08  46208.37  46250.00  40.57574\n",
       "1  2022-01-01 00:01:00  46250.00  46344.23  46234.39  46312.76  42.38106\n",
       "2  2022-01-01 00:02:00  46312.76  46381.69  46292.75  46368.73  51.29955\n",
       "3  2022-01-01 00:03:00  46368.73  46391.49  46314.26  46331.08  30.45894\n",
       "4  2022-01-01 00:04:00  46331.07  46336.10  46300.00  46321.34  20.96029"
      ]
     },
     "execution_count": 35,
     "metadata": {},
     "output_type": "execute_result"
    }
   ],
   "source": [
    "import pandas as pd\n",
    "df =pd.read_csv('./data/bitcoin_mock.csv')\n",
    "df.head()"
   ]
  },
  {
   "cell_type": "markdown",
   "id": "6178b852",
   "metadata": {},
   "source": [
    "### 기계학습1\n",
    "모든 데이터 행이 1분간격으로 존재하는지 확인하고 그렇지 않은 경우 누락된 시각의 행을 생성하고 컬럼들의 결측치를 적절히 생성하라.      \n",
    "결측치가 존재한다면 결측치를 처리하라"
   ]
  },
  {
   "cell_type": "code",
   "execution_count": null,
   "id": "d41752e8-2ce5-41ac-8dd9-b4a485287465",
   "metadata": {},
   "outputs": [],
   "source": []
  },
  {
   "cell_type": "markdown",
   "id": "d48f6243",
   "metadata": {},
   "source": [
    "### 기계학습2\n",
    "\n",
    "t(분)까지 데이터가 확정된 시점에서 매도,매수를 판단하기 위한 알고리즘을 만들고 백테스팅을 진행하려한다.       \n",
    "아래의 과정의 전처리를 시행하고 algorithm과 result 두 범주형 컬럼의 교차테이블을 출력하라\n",
    "\n",
    "---\n",
    "알고리즘\n",
    "1. t(분)시점에서 close 값에 대한 t(분)시점의 5분,120분 이동평균값을 각각 't_5', 't_120'으로 컬럼으로 t-1(분)시점의 5분,120분 이동평균값을 각각 't-1_5', 't-1_120'으로 컬럼으로 만든다.\n",
    "---\n",
    "2. - t(분)시점에서 5분 이동평균값(t_5)은 120분 이동평균값(t_120)보다 높고 t-1의 5분 이동평균값(t-1_5)은 120분 이동평균값(t-1_120)보다 낮은 경우 : 'buy'   # 매수  \n",
    "   - t(분)시점에서 5분 이동평균값(t_5)은 120분 이동평균값(t_120 보다 낮고 t-1의 5분 이동평균값(t-1_5)은 120분 이동평균값(t-1_120)보다 높은 경우 : 'sell'  # 매도\n",
    "   - 그외 'stay'    \n",
    "   \n",
    "   위의 조건으로 buy(매수), sell(매도)를 판단하고 buy,sell,stay를 나타내는 새로운 컬럼 'algorithm'을 생성한다.\n",
    "---         \n",
    "3. t+10(분)의 open 값과 t(분)의 close값을 비교하여 새로운 컬럼 'result'를 만든다.\n",
    "   - 여부가 'buy' 이고 t+10(분) open >= t(분) close : 'profit'\n",
    "   - 여부가 'buy' 이고 t+10(분) open <  t(분) close : 'loss'\n",
    "   - 여부가 'sell' 이고 t+10(분) open >= t(분) close : 'loss'\n",
    "   - 여부가 'sell' 이고 t+10(분) open <  t(분) close : 'profit'\n",
    "   - 여부가 'stay' 이면 : 'stay' \n",
    "   \n",
    "   위의 조건으로 컬럼값을 채운다"
   ]
  },
  {
   "cell_type": "code",
   "execution_count": null,
   "id": "4b4ef642",
   "metadata": {},
   "outputs": [],
   "source": []
  },
  {
   "cell_type": "markdown",
   "id": "1f98e09e",
   "metadata": {},
   "source": [
    "### 기계학습3     \n",
    "위에서 전처리한 데이터에 대해 아래 조건으로 그래프를 출력하라\n",
    "1. 2022-01-01 08:00:00 ~ 2022-01-01 15:00:00 시간대의 close값의 선형 그래프\n",
    "2. 위 시간대에 대해 algorithm 컬럼이 buy일 경우 빨간 수직선, sell일 경우 파란 수직선\n",
    "\n",
    "<img src=\"./data/1.png\" height='300' width='1200' style=\"float: left; margin-right: 10px;\">"
   ]
  },
  {
   "cell_type": "code",
   "execution_count": null,
   "id": "db48b56d",
   "metadata": {},
   "outputs": [],
   "source": []
  },
  {
   "cell_type": "markdown",
   "id": "54b1c5b7",
   "metadata": {},
   "source": [
    "### 기계학습4\n",
    "아래의 정의된 컬럼들로 result의 loss와 profit을 예측하는 모델을 만들려고 한다.\n",
    "\n",
    "- open\n",
    "- 시작가,종가 가격차이 (open - close)\n",
    "- algorithm\n",
    "- t분과 t-5분시점의 close값의 차이\n",
    "\n",
    "2022년 2월 ~ 12월까지의 데이터를 train,  2023년 1~2월의 데이터를 평가 데이터로 하고 result의 값이 loss,profit인 데이터만 학습에 사용하여     \n",
    "랜덤포레스트와 서포트 벡터머신 분류모델을 만들고 test데이터에 대해 accuracy를 비교하라. test데이터에 대한 예측 진행시 profit일 확률이 60%이상인 경우에만 profit으로 예측한다"
   ]
  },
  {
   "cell_type": "code",
   "execution_count": null,
   "id": "4ac95527",
   "metadata": {},
   "outputs": [],
   "source": []
  },
  {
   "cell_type": "markdown",
   "id": "4a4eff2d",
   "metadata": {},
   "source": [
    "### 유저의 카드사용 데이터\n",
    "\n",
    "데이터 출처 :https://www.kaggle.com/datasets/arjunbhasin2013/ccdata     \n",
    "dataurl ='./data/user_data.csv'\n",
    "\n",
    "다음은 Credit Card 데이터셋의 데이터 사전 및 각 컬럼의 한글 번역입니다:\n",
    "\n",
    "1. **CUST_ID**: 신용카드 보유자 식별\n",
    "\n",
    "2. **BALANCE**: 계좌에 남아 있는 구매 가능 잔액\n",
    "\n",
    "3. **BALANCE_FREQUENCY**: 잔액 업데이트 빈도, 0과 1 사이의 점수 (1 = 자주 업데이트됨, 0 = 자주 업데이트되지 않음)\n",
    "\n",
    "4. **PURCHASES**: 계좌에서의 구매 금액\n",
    "\n",
    "5. **ONEOFF_PURCHASES**: 한 번에 최대 구매 금액\n",
    "\n",
    "6. **INSTALLMENTS_PURCHASES**: 할부로 구매한 금액\n",
    "\n",
    "7. **CASH_ADVANCE**: 사용자가 미리 지급한 현금\n",
    "\n",
    "8. **PURCHASES_FREQUENCY**: 구매 빈도, 0과 1 사이의 점수 (1 = 자주 구매함, 0 = 자주 구매하지 않음)\n",
    "\n",
    "9. **ONEOFFPURCHASESFREQUENCY**: 일회성 구매 빈도 (1 = 자주 구매함, 0 = 자주 구매하지 않음)\n",
    "\n",
    "10. **PURCHASESINSTALLMENTSFREQUENCY**: 할부 구매 빈도 (1 = 자주 구매함, 0 = 자주 구매하지 않음)\n",
    "\n",
    "11. **CASHADVANCEFREQUENCY**: 현금 선지급 빈도 (1 = 자주 선지급함, 0 = 자주 선지급하지 않음)\n",
    "\n",
    "12. **CASHADVANCETRX**: 현금 선지급으로 이루어진 거래 수\n",
    "\n",
    "13. **PURCHASES_TRX**: 구매 거래 수\n",
    "\n",
    "14. **CREDIT_LIMIT**: 사용자 신용카드의 한도\n",
    "\n",
    "15. **PAYMENTS**: 사용자가 지불한 금액\n",
    "\n",
    "16. **MINIMUM_PAYMENTS**: 사용자가 지불한 최소 금액\n",
    "\n",
    "17. **PRCFULLPAYMENT**: 사용자가 지불한 전체 금액의 백분율\n",
    "\n",
    "18. **TENURE**: 신용카드 서비스 사용 기간"
   ]
  },
  {
   "cell_type": "code",
   "execution_count": null,
   "id": "514883c6",
   "metadata": {},
   "outputs": [],
   "source": []
  },
  {
   "cell_type": "markdown",
   "id": "178c1717",
   "metadata": {},
   "source": [
    "### 기계학습\n",
    "데이터 EDA를 실시하고 결측치와 이상치를 처리하라 (시각화 포함)"
   ]
  },
  {
   "cell_type": "code",
   "execution_count": null,
   "id": "f34a1956",
   "metadata": {},
   "outputs": [],
   "source": []
  },
  {
   "cell_type": "markdown",
   "id": "eb80946b",
   "metadata": {},
   "source": [
    "### 기계학습6     \n",
    "PCA를 통해 적절한 차원으로 데이터를 축소하고 평가하라"
   ]
  },
  {
   "cell_type": "code",
   "execution_count": null,
   "id": "f3d885de",
   "metadata": {},
   "outputs": [],
   "source": []
  },
  {
   "cell_type": "markdown",
   "id": "cf3ac4b2",
   "metadata": {},
   "source": [
    "### 기계학습7     \n",
    "위의 차원 축소된 데이터를 바탕으로 KMeans 클러스터링을 실시하라.     \n",
    "응집도와 분리도를 기반으로 적절 클러스터 숫자를 구하고 두개의 주성분 차원에 군집 중심을 포함하여 시각화하라"
   ]
  },
  {
   "cell_type": "code",
   "execution_count": null,
   "id": "df463a9c",
   "metadata": {},
   "outputs": [],
   "source": []
  },
  {
   "cell_type": "markdown",
   "id": "a609fd12",
   "metadata": {},
   "source": [
    "### 기계학습8   \n",
    "마케팅 담당자인 당신은 KMeans 군집 결과를 통해 각 군집 특성을 파악하고 군집별 프로모션 전략을 서술하라\n",
    "    "
   ]
  },
  {
   "cell_type": "code",
   "execution_count": null,
   "id": "747812a0",
   "metadata": {},
   "outputs": [],
   "source": []
  },
  {
   "cell_type": "markdown",
   "id": "bf934d44",
   "metadata": {},
   "source": [
    "### 기계학습9\n",
    "병합적 계층군집을 실시하고 덴드로그램을 시각화하라. 군집간 거리는 ward 방식으로 업데이트하며 위 문제에서 구한 최적 군집 갯수가 만들어지 지기 위한 거리 범위를 구하라"
   ]
  },
  {
   "cell_type": "code",
   "execution_count": null,
   "id": "508a2a1c",
   "metadata": {},
   "outputs": [],
   "source": []
  },
  {
   "cell_type": "markdown",
   "id": "6c9d9832",
   "metadata": {},
   "source": [
    "# 통계 (40점)"
   ]
  },
  {
   "cell_type": "markdown",
   "id": "48bb83f6",
   "metadata": {},
   "source": [
    "### 통계1      \n",
    "어느 자동차 회사의 본사에서 여러 지방 영업소에 내려보낸 43대의 새 차 중 11대에 불량 오디오가 설치되었다고 한다. 어느 영업소가 8대를 인수하였는데 이 중에서 오디오가 불량인 차가 적어도 2대 이상이 될 확률을 구하라."
   ]
  },
  {
   "cell_type": "code",
   "execution_count": null,
   "id": "c01db42d",
   "metadata": {},
   "outputs": [],
   "source": []
  },
  {
   "cell_type": "markdown",
   "id": "9fdee47c",
   "metadata": {},
   "source": [
    "### 통계2\n",
    "data_path = ./data/stats_reg1.csv     \n",
    "종속변수 : Target   \n",
    "독립변수 : 다양한 센서데이터"
   ]
  },
  {
   "cell_type": "code",
   "execution_count": null,
   "id": "6a3782cf",
   "metadata": {},
   "outputs": [],
   "source": []
  },
  {
   "cell_type": "markdown",
   "id": "6c493f13",
   "metadata": {},
   "source": [
    "### 통계2-1\n",
    "변수들의 다중공선성을 검토하라\n"
   ]
  },
  {
   "cell_type": "code",
   "execution_count": null,
   "id": "5d8e6d91",
   "metadata": {},
   "outputs": [],
   "source": []
  },
  {
   "cell_type": "markdown",
   "id": "064fbec4",
   "metadata": {},
   "source": [
    "### 통계2-2\n",
    "다중공선성 문제를 해결하기 위한 방법 2가지를 제시하고, 하나를 선택하여 적용하라\n"
   ]
  },
  {
   "cell_type": "code",
   "execution_count": null,
   "id": "4ac6b096",
   "metadata": {},
   "outputs": [],
   "source": []
  },
  {
   "cell_type": "markdown",
   "id": "ed23efd8",
   "metadata": {},
   "source": [
    "### 통계2-3\n",
    "2-2의 방법을 전,후의 회귀 분석 모델의 결과를 비교하라\n"
   ]
  },
  {
   "cell_type": "code",
   "execution_count": null,
   "id": "6de64682",
   "metadata": {},
   "outputs": [],
   "source": []
  },
  {
   "cell_type": "markdown",
   "id": "80fa15ec",
   "metadata": {},
   "source": [
    "### 통계 3     \n",
    "data_path = ./data/learn.csv\n",
    "- 어느 학급의 학생들이 3가지(Lecture,Online,Blended)방식으로 학습하고 시험을 본 결과이다.\n"
   ]
  },
  {
   "cell_type": "code",
   "execution_count": 453,
   "id": "ddb918ba",
   "metadata": {},
   "outputs": [
    {
     "data": {
      "text/html": [
       "<div>\n",
       "<style scoped>\n",
       "    .dataframe tbody tr th:only-of-type {\n",
       "        vertical-align: middle;\n",
       "    }\n",
       "\n",
       "    .dataframe tbody tr th {\n",
       "        vertical-align: top;\n",
       "    }\n",
       "\n",
       "    .dataframe thead th {\n",
       "        text-align: right;\n",
       "    }\n",
       "</style>\n",
       "<table border=\"1\" class=\"dataframe\">\n",
       "  <thead>\n",
       "    <tr style=\"text-align: right;\">\n",
       "      <th></th>\n",
       "      <th>Student</th>\n",
       "      <th>Lecture</th>\n",
       "      <th>Online</th>\n",
       "      <th>Blended</th>\n",
       "    </tr>\n",
       "  </thead>\n",
       "  <tbody>\n",
       "    <tr>\n",
       "      <th>0</th>\n",
       "      <td>1</td>\n",
       "      <td>8.7</td>\n",
       "      <td>67.8</td>\n",
       "      <td>74.2</td>\n",
       "    </tr>\n",
       "    <tr>\n",
       "      <th>1</th>\n",
       "      <td>2</td>\n",
       "      <td>18.2</td>\n",
       "      <td>97.2</td>\n",
       "      <td>76.5</td>\n",
       "    </tr>\n",
       "    <tr>\n",
       "      <th>2</th>\n",
       "      <td>3</td>\n",
       "      <td>7.5</td>\n",
       "      <td>74.8</td>\n",
       "      <td>69.1</td>\n",
       "    </tr>\n",
       "    <tr>\n",
       "      <th>3</th>\n",
       "      <td>4</td>\n",
       "      <td>39.7</td>\n",
       "      <td>62.3</td>\n",
       "      <td>68.4</td>\n",
       "    </tr>\n",
       "    <tr>\n",
       "      <th>4</th>\n",
       "      <td>5</td>\n",
       "      <td>73.4</td>\n",
       "      <td>84.9</td>\n",
       "      <td>84.5</td>\n",
       "    </tr>\n",
       "  </tbody>\n",
       "</table>\n",
       "</div>"
      ],
      "text/plain": [
       "   Student  Lecture  Online  Blended\n",
       "0        1      8.7    67.8     74.2\n",
       "1        2     18.2    97.2     76.5\n",
       "2        3      7.5    74.8     69.1\n",
       "3        4     39.7    62.3     68.4\n",
       "4        5     73.4    84.9     84.5"
      ]
     },
     "execution_count": 453,
     "metadata": {},
     "output_type": "execute_result"
    }
   ],
   "source": [
    "import pandas as pd\n",
    "df = pd.read_csv('./data/learn.csv')\n",
    "df.head()"
   ]
  },
  {
   "cell_type": "markdown",
   "id": "084badfc",
   "metadata": {},
   "source": [
    "### 통계 3-1\n",
    "3가지 방식 각각 점수 분포가 정규성을 만족하는지와 방식들간의 분산은 동일한지 검정하라"
   ]
  },
  {
   "cell_type": "code",
   "execution_count": null,
   "id": "edb7abd8",
   "metadata": {},
   "outputs": [],
   "source": []
  },
  {
   "cell_type": "markdown",
   "id": "b9c6cfed",
   "metadata": {},
   "source": [
    "### 통계 3-2\n",
    "위 결과에 맞는 그룹간 점수 분포 차이가 존재하는지를 확인하는 통계 검정 전략을 설명하라"
   ]
  },
  {
   "cell_type": "code",
   "execution_count": null,
   "id": "6277e87e",
   "metadata": {},
   "outputs": [],
   "source": []
  },
  {
   "cell_type": "markdown",
   "id": "612eb178",
   "metadata": {},
   "source": [
    "### 통계 3-3\n",
    "가설에 따른 검정을 수행하고, 검정통계량과 p-value를 설명하라"
   ]
  },
  {
   "cell_type": "code",
   "execution_count": null,
   "id": "15c7434a",
   "metadata": {},
   "outputs": [],
   "source": []
  }
 ],
 "metadata": {
  "kernelspec": {
   "display_name": "Python 3 (ipykernel)",
   "language": "python",
   "name": "python3"
  },
  "language_info": {
   "codemirror_mode": {
    "name": "ipython",
    "version": 3
   },
   "file_extension": ".py",
   "mimetype": "text/x-python",
   "name": "python",
   "nbconvert_exporter": "python",
   "pygments_lexer": "ipython3",
   "version": "3.8.19"
  }
 },
 "nbformat": 4,
 "nbformat_minor": 5
}
