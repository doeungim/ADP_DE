{
  "nbformat": 4,
  "nbformat_minor": 0,
  "metadata": {
    "colab": {
      "provenance": [],
      "authorship_tag": "ABX9TyN+f72VM9g3iAoZg2g5DyTE",
      "include_colab_link": true
    },
    "kernelspec": {
      "name": "python3",
      "display_name": "Python 3"
    },
    "language_info": {
      "name": "python"
    }
  },
  "cells": [
    {
      "cell_type": "markdown",
      "metadata": {
        "id": "view-in-github",
        "colab_type": "text"
      },
      "source": [
        "<a href=\"https://colab.research.google.com/github/doeungim/ADP_DE/blob/main/%EB%B6%84%ED%8F%AC/%ED%86%B5%EA%B3%84%EB%AC%B8%EC%A0%9C%EB%AA%A8%EC%9D%8C.ipynb\" target=\"_parent\"><img src=\"https://colab.research.google.com/assets/colab-badge.svg\" alt=\"Open In Colab\"/></a>"
      ]
    },
    {
      "cell_type": "markdown",
      "source": [
        "## 이항분포"
      ],
      "metadata": {
        "id": "W4E7L8e2l-8I"
      }
    },
    {
      "cell_type": "code",
      "execution_count": 85,
      "metadata": {
        "id": "aedwm8Av9ptJ"
      },
      "outputs": [],
      "source": [
        "from scipy.stats import binom ,bernoulli, geom\n",
        "from scipy.stats import stats , t, norm"
      ]
    },
    {
      "cell_type": "markdown",
      "source": [
        "사회과학자가 주장하기를 대학교에 입학할 능력이 있는 실업계 고등학생 중 50%만이 대학에 진학 한다고 한다. 만약 사회과학자의 주장이 맞다면 17명의 대학교에 입학할 능력이 있는 실업계 학생 중 10명이 대학교에 진학할 확률은 얼마인가? 또한 17명 중 대학교에 진학할 학생수의 기댓값은 얼마인가?"
      ],
      "metadata": {
        "id": "LEJITVgslFsN"
      }
    },
    {
      "cell_type": "code",
      "source": [
        "rv = binom(17, 0.5)\n",
        "\n",
        "# 10명이 갈 확률\n",
        "p = rv.pmf(10)\n",
        "print(p)\n",
        "print(f\"기대값 {rv.mean()}\")"
      ],
      "metadata": {
        "colab": {
          "base_uri": "https://localhost:8080/"
        },
        "id": "2bll8ji-lGmj",
        "outputId": "9ce42e78-f64e-4adb-c8dd-84597f078af1"
      },
      "execution_count": 86,
      "outputs": [
        {
          "output_type": "stream",
          "name": "stdout",
          "text": [
            "0.14837646484375\n",
            "기대값 8.5\n"
          ]
        }
      ]
    },
    {
      "cell_type": "markdown",
      "source": [
        "어느 운전학원을 이수한 사람이 각 시험에서 운전면허를 취득할 확률이 0.8이라고 하고, 각각의 시 험이 서로 독립이라고 할 때 </br>\n",
        "(1) 두 번의 시험 안에 운전면허를 취득할 확률은? </br>\n",
        "(2) 세 번의 시험 후에도 운전면허를 취득하지 못할 확률은?"
      ],
      "metadata": {
        "id": "6IGpyAJm-7r7"
      }
    },
    {
      "cell_type": "code",
      "source": [
        "p = 0.8\n",
        "\n",
        "#1) 두 번의 시험 안에 취득\n",
        "## 1) 이항분포 : 고정횟수 2번안에 성공할 확률을 구하는 법\n",
        "rv = binom(2, 0.8)\n",
        "# rv.cdf(0) 0번 성공할 확률 = 두번의 시험에서 모두 실패할 확률 계산 후, 1- 는 두번의 시험중 적어도 한번은 성공할 확률\n",
        "p = 1- rv.cdf(0)\n",
        "print(p)\n",
        "\n",
        "## 2) 기하분포 : 처음으로 성공할 때 까지의 시행횟수\n",
        "rv = geom(0.8)\n",
        "rv.cdf(2)\n",
        "\n",
        "# 2) 세번 이후에도 취득 못함\n",
        "# 이항분포 : 3번 중 0번 성공할 확률 *\n",
        "p = binom.pmf(0,3, 0.8)\n",
        "print(p)\n",
        "\n",
        "#기하분포\n",
        "p = 1 - geom.cdf(3, 0.8)\n",
        "print(p)\n"
      ],
      "metadata": {
        "colab": {
          "base_uri": "https://localhost:8080/"
        },
        "id": "oHpXqSso-6rk",
        "outputId": "dc3a60d4-4eb9-446e-e779-988e87eaefae"
      },
      "execution_count": 87,
      "outputs": [
        {
          "output_type": "stream",
          "name": "stdout",
          "text": [
            "0.96\n",
            "0.007999999999999997\n",
            "0.008000000000000007\n"
          ]
        }
      ]
    },
    {
      "cell_type": "markdown",
      "source": [
        "멘델의 법칙에 의하면 빨간색과 흰색이 섞여 있는 꽃나무를 자가수정시켜 얻은 꽃나무의 25%는 빨간 꽃을 피우게 된다고 한다. 만약 5그루의 혼합 색의 꽃나무를 자가수정시켜 5그루의 꽃나무를 얻었 을 때 다음의 확률을 구하라.  </br>\n",
        "(1) 빨간색 꽃나무가 하나도 없다.  </br>\n",
        "(2) 빨간색 꽃나무가 4개 이상이다."
      ],
      "metadata": {
        "id": "jLlI0HQIKE3B"
      }
    },
    {
      "cell_type": "code",
      "source": [
        "rv = binom(5, 0.25)\n",
        "\n",
        "# 1) P(X = 0)\n",
        "p = rv.pmf(0)\n",
        "print(round(p),2)\n",
        "\n",
        "# 2) P(X >= 4) 즉 1 - P(X < 3)\n",
        "print(1 - rv.cdf(3))\n",
        "print(round(rv.pmf(4) + rv.pmf(5)),2)"
      ],
      "metadata": {
        "colab": {
          "base_uri": "https://localhost:8080/"
        },
        "id": "0JWTwRGk-6pN",
        "outputId": "f8365001-02ed-4585-ed61-5f889afba5bf"
      },
      "execution_count": 88,
      "outputs": [
        {
          "output_type": "stream",
          "name": "stdout",
          "text": [
            "0 2\n",
            "0.015625\n",
            "0 2\n"
          ]
        }
      ]
    },
    {
      "cell_type": "markdown",
      "source": [
        "미국의 백인 중 85%가 Rh十의 혈액형을 가지고 있다고 한다. 이 중에서 7명을 임의로 선택하였을 때 다음의 확률을 구하라. </br>\n",
        "(1) 적어도 5명이 Rh +의 혈액형을 가지고 있다. </br>\n",
        "(2) 많아야 3명이 Rh—(Rh+가 없는 것)의 혈액형을 가지고 있다."
      ],
      "metadata": {
        "id": "K9kNSzwzK5mc"
      }
    },
    {
      "cell_type": "code",
      "source": [
        "rv = binom(7, 0.85)\n",
        "\n",
        "# 1) P(X >= 5)\n",
        "print(1 - rv.cdf(5))\n",
        "print(rv.pmf(5) + rv.pmf(6) + rv.pmf(7))\n",
        "\n",
        "# 2) P(X < 3)\n",
        "rv = binom(7, 0.15)\n",
        "print(round(rv.cdf(3),4))"
      ],
      "metadata": {
        "colab": {
          "base_uri": "https://localhost:8080/"
        },
        "id": "ihNVzCVo-6m7",
        "outputId": "b7407c73-4e84-4a8c-d117-b72d7681d4e0"
      },
      "execution_count": 89,
      "outputs": [
        {
          "output_type": "stream",
          "name": "stdout",
          "text": [
            "0.7165840796874998\n",
            "0.9262348398437503\n",
            "0.9879\n"
          ]
        }
      ]
    },
    {
      "cell_type": "markdown",
      "source": [
        "정팔면체 주사위에 1~8까지 숫자가 적혀있다. 8번 주사위를 던졌을 때 다음의 확률을 구하여라 </br>\n",
        "(1) 숫자 1이 한 번만 나오는 경우 </br>\n",
        "(2) 숫자 2 또는 4가 5회 이상 나오는 경우 </br>\n",
        "(3) 숫자 3이 적어도 3회 나오는 경우 </br>\n",
        "(4) 숫자 5가 많아야 3회 나오는 경우"
      ],
      "metadata": {
        "id": "ID3k-aPTMND_"
      }
    },
    {
      "cell_type": "code",
      "source": [
        "p = 1/8\n",
        "n = 8\n",
        "\n",
        "rv = binom(n, p)\n",
        "\n",
        "# 1) P(X =1)\n",
        "p1 = rv.pmf(1)\n",
        "print(p1)\n",
        "# 2) 2 or 4 가 5회 이상 (1/4)\n",
        "p2 = 1 - binom.cdf(4, n, 2/8)\n",
        "print(p2)\n",
        "# 3) 적어도 3회 P(X <=3) : 1 - 2회 나올 확률\n",
        "print(1 - rv.cdf(2))\n",
        "# 4) 많아야 3회 : 3회 이하가 나올 확률\n",
        "print(rv.pmf(3))"
      ],
      "metadata": {
        "colab": {
          "base_uri": "https://localhost:8080/"
        },
        "id": "6hRXT5ZO-6kb",
        "outputId": "475bd34d-b725-4a78-b800-3c65dce97993"
      },
      "execution_count": 90,
      "outputs": [
        {
          "output_type": "stream",
          "name": "stdout",
          "text": [
            "0.3926959037780762\n",
            "0.0272979736328125\n",
            "0.06734722852706909\n",
            "0.05609941482543942\n"
          ]
        }
      ]
    },
    {
      "cell_type": "markdown",
      "source": [
        "어떤 병이 새로운 치료 방법으로 치유될 확률이 50%인데 15명의 환자에게 치료법을 적용"
      ],
      "metadata": {
        "id": "BByvev4dObhg"
      }
    },
    {
      "cell_type": "code",
      "source": [
        "rv = binom(15, 0.5)\n",
        "\n",
        "# 1) 6명 이하가 치유 P(X <= 6)\n",
        "rv.cdf(6)\n",
        "# 2) 6명 이상 , 10명 이하가 치유 (6 ~10) = 1- 5\n",
        "rv.pmf(6) + rv.pmf(7) + rv.pmf(8) + rv.pmf(9) + rv.pmf(10)\n",
        "rv.cdf(10) - rv.cdf(5)\n",
        "# 3) 12명 이상 : 15 - 12\n",
        "1 - rv.cdf(11)"
      ],
      "metadata": {
        "colab": {
          "base_uri": "https://localhost:8080/"
        },
        "id": "vEw7yTnF-6iZ",
        "outputId": "3319f617-fb18-4b6c-b5cc-6c45ffdd0778"
      },
      "execution_count": 91,
      "outputs": [
        {
          "output_type": "execute_result",
          "data": {
            "text/plain": [
              "0.017578125"
            ]
          },
          "metadata": {},
          "execution_count": 91
        }
      ]
    },
    {
      "cell_type": "markdown",
      "source": [
        "전체 청소년의 40%가 11시 이전에 잠을 잔다. 10명의 청소년 중에 3명이 11이전에 잠을 잘 확률"
      ],
      "metadata": {
        "id": "MkeFG9ppPyn5"
      }
    },
    {
      "cell_type": "code",
      "source": [
        "binom.pmf(3, 10, 0.4)"
      ],
      "metadata": {
        "colab": {
          "base_uri": "https://localhost:8080/"
        },
        "id": "d4zN78Gz-6dn",
        "outputId": "0697efb1-bddc-4377-8106-86098902412a"
      },
      "execution_count": 92,
      "outputs": [
        {
          "output_type": "execute_result",
          "data": {
            "text/plain": [
              "0.21499084799999976"
            ]
          },
          "metadata": {},
          "execution_count": 92
        }
      ]
    },
    {
      "cell_type": "markdown",
      "source": [
        "조사결과 70%의 성인 여성이 2년동안 적어도 1번 내과를 찾는다. 19명의 성인 여성이 임의로 추출"
      ],
      "metadata": {
        "id": "zvf-qrQzQzw7"
      }
    },
    {
      "cell_type": "code",
      "source": [
        "rv = binom(19, 0.7)\n",
        "# 1) 14명 미만이 내과를 찾음\n",
        "print(rv.cdf(13))\n",
        "\n",
        "# 2) 적어도 17명이 내과를 찾음 = 17명 이상 즉, 1- 16명\n",
        "1 - rv.cdf(16)"
      ],
      "metadata": {
        "colab": {
          "base_uri": "https://localhost:8080/"
        },
        "id": "4plmKSR6-6br",
        "outputId": "3f5d0eae-7c22-4065-ce7d-ba673a3f0f77"
      },
      "execution_count": 93,
      "outputs": [
        {
          "output_type": "stream",
          "name": "stdout",
          "text": [
            "0.526137475726486\n"
          ]
        },
        {
          "output_type": "execute_result",
          "data": {
            "text/plain": [
              "0.04622368312925795"
            ]
          },
          "metadata": {},
          "execution_count": 93
        }
      ]
    },
    {
      "cell_type": "markdown",
      "source": [
        "유전법칙에 따르면 완두콩의 우성교배를 통한 자손은 네 가지 형태이고 각각의 비율이 둥글고 노 란 것, 쭈그러지고 노란 것. 둥글고 녹색인 것, 쭈그러지고 녹색인 것이 9 : 3 : 3 : 1이라고 한다. </br>\n",
        "확률변수 X를 130개의 우성교배 자손에서 둥글고 노란 것의 개수라고 할 때, X의 평균과 표준편차를 구하라. </br>\n"
      ],
      "metadata": {
        "id": "u0S26LJSSSh8"
      }
    },
    {
      "cell_type": "code",
      "source": [
        "total = 9 + 3 + 3 + 1\n",
        "round_yellow = 9\n",
        "\n",
        "rv = binom(130 , round_yellow / total)\n",
        "print(rv.mean() , rv.std())"
      ],
      "metadata": {
        "colab": {
          "base_uri": "https://localhost:8080/"
        },
        "id": "tiuHSe75-6Ys",
        "outputId": "e8d0002b-e7d2-4cdf-90d1-7f4fdebac619"
      },
      "execution_count": 94,
      "outputs": [
        {
          "output_type": "stream",
          "name": "stdout",
          "text": [
            "73.125 5.656163673374383\n"
          ]
        }
      ]
    },
    {
      "cell_type": "markdown",
      "source": [
        "길동이는 자신이 초능력을 가지고 있다고 주장하고 있다. 이 주장을 확인하기 위해 5가지의 다른 그림이 그려진 카드를 준비하고 길동이의 눈을 가리고 5장의 카드 중 하나를 선택한 다음 5가지의 카드 중 어느 카드가 선택되었는지에 대해 물어보는 작업을 16회 실시하였다. 사실은 길동이는 초능력이 없고, 임의로 대답하였다고 하자. </br>\n",
        "(1) 카드가 무엇인지 맞추는 횟수가 3회 이하일 확률은 얼마인가? </br>\n",
        "(2) 카드가 무엇인지를 못 맞추는 횟수가 10회 이상일 확률은 얼마인가?"
      ],
      "metadata": {
        "id": "PEoX4w5amFDj"
      }
    },
    {
      "cell_type": "code",
      "source": [
        "# 16번 시도 중 5장 중에 하나를 선택\n",
        "rv = binom(16, 1/5)\n",
        "# 1) 3회 이하\n",
        "print(rv.cdf(3))\n",
        "# 2) 성공하지 못할 횟수가 10회 이상 = 6번 성공\n",
        "print(rv.cdf(6))"
      ],
      "metadata": {
        "colab": {
          "base_uri": "https://localhost:8080/"
        },
        "id": "T1Gm52YomI0O",
        "outputId": "0c8e67e9-55f2-4e02-d2ad-1b3e4010dba2"
      },
      "execution_count": 95,
      "outputs": [
        {
          "output_type": "stream",
          "name": "stdout",
          "text": [
            "0.5981343255101437\n",
            "0.973342668488704\n"
          ]
        }
      ]
    },
    {
      "cell_type": "markdown",
      "source": [
        "## 음이항 분포\n",
        "- N 번 째 성공을 얻기 위한 실패의 수 (K)\n",
        "from scipy.stats import nbinom\n"
      ],
      "metadata": {
        "id": "GFIh_ab1fFgT"
      }
    },
    {
      "cell_type": "markdown",
      "source": [
        "어떤 축구 선수의 패널티킥 성공률을 70%라고 하자. 어느날 10번 성공할때까지 패널티킥 연습을 한다고 할 때 12번 이상 시도해야할 확률"
      ],
      "metadata": {
        "id": "dAhyKV6FSuLe"
      }
    },
    {
      "cell_type": "code",
      "source": [
        "# 기하 분포 : 1st 성공을 위한 실패 횟수\n",
        "# 음이항 분포 : N 번째 성공을 위한 실패 횟수\n",
        "from scipy.stats import nbinom\n",
        "#  풀이) 음이항 분포 nbinom : 12번 이상 = 1 - 11\n",
        "1 - nbinom.cdf(11, 10, 0.7)"
      ],
      "metadata": {
        "colab": {
          "base_uri": "https://localhost:8080/"
        },
        "id": "xxpC4vB6SnKi",
        "outputId": "fc03d231-5043-4346-fd71-0ba596624a1e"
      },
      "execution_count": 96,
      "outputs": [
        {
          "output_type": "execute_result",
          "data": {
            "text/plain": [
              "0.00874015800396255"
            ]
          },
          "metadata": {},
          "execution_count": 96
        }
      ]
    },
    {
      "cell_type": "markdown",
      "source": [
        "마케팅 팀이 새로운 광고 캠페인을 시작했다. 광고를 본 후 제품을 구매하는 고객의 비율이 12%로 알려져 있다. </br>\n",
        "(1) 적어도 한 명의 고객이 제품을 구매하기까지 광고를 본 평균 고객 수는 몇 명인가? </br>\n",
        "(2) 적어도 3명의 고객이 제품을 구매하기까지 광고를 본 고객 수가 10명을 초과할 확률은 얼마인가? </br>\n",
        "(3) 5명의 고객이 제품을 구매하기 까지 필요한 광고를 본 고객수의 기대값과 분산은 얼마인가? </br>"
      ],
      "metadata": {
        "id": "uz9glvq0e-Vp"
      }
    },
    {
      "cell_type": "code",
      "source": [
        "# 1) 적어도 1명 = 1명 이상\n",
        "print(1/12)\n",
        "\n",
        "# 2) 적어도 3명 = 3명 이상\n",
        "1 - nbinom.cdf(10 , 3, 0.12)\n",
        "\n",
        "# 3) 기대값 : 5 / 0.12\n",
        "# 4) 분산\n",
        "5 * (1 - 0.12) / 0.12 **2"
      ],
      "metadata": {
        "colab": {
          "base_uri": "https://localhost:8080/"
        },
        "id": "SHs2XL64fDPv",
        "outputId": "0f8940f7-b9e8-4262-968d-88ac0ee5ca61"
      },
      "execution_count": 97,
      "outputs": [
        {
          "output_type": "stream",
          "name": "stdout",
          "text": [
            "0.08333333333333333\n"
          ]
        },
        {
          "output_type": "execute_result",
          "data": {
            "text/plain": [
              "305.5555555555556"
            ]
          },
          "metadata": {},
          "execution_count": 97
        }
      ]
    },
    {
      "cell_type": "markdown",
      "source": [
        "## 기하분포 geom\n",
        "- 1st 성공까지의 \"실패 횟수\""
      ],
      "metadata": {
        "id": "fi5UJudDUv51"
      }
    },
    {
      "cell_type": "markdown",
      "source": [
        "한 스타트업 회사가 새로운 제품을 출시하였고, 각 고객 방문 시 제품 구매 확률이 0.1이라고 한다. </br>\n",
        "(1) 최소 한 명의 고객이 제품을 구매하기 까지 방문하는 고객 수가 4명일 확률은? </br>\n",
        "(2) 회사는 최소 한 명의 고객이 제품을 구매하기까지 방문하는 고객 수가 5명 이하일 확률은? </br>"
      ],
      "metadata": {
        "id": "YyzuYtZBU5ED"
      }
    },
    {
      "cell_type": "code",
      "source": [
        "rv = geom(0.1)\n",
        "\n",
        "# 1) 4번째 방문자까지 처음 구매할 확률\n",
        "rv.pmf(4)\n",
        "\n",
        "# 2) 5명 이하일 확률 = 5명까지의 누적\n",
        "rv.cdf(5)"
      ],
      "metadata": {
        "colab": {
          "base_uri": "https://localhost:8080/"
        },
        "id": "_qPwP4e_TtRO",
        "outputId": "eaef5f36-4c71-45b6-ab05-13a3ca0605d5"
      },
      "execution_count": 98,
      "outputs": [
        {
          "output_type": "execute_result",
          "data": {
            "text/plain": [
              "0.40951000000000004"
            ]
          },
          "metadata": {},
          "execution_count": 98
        }
      ]
    },
    {
      "cell_type": "markdown",
      "source": [
        "## 초기하분포 hypergeom\n",
        "- 비복원 추출일때, 특정 성공의 횟수를 계간\n",
        "- hypergeom.cdf(k,M, n, N)"
      ],
      "metadata": {
        "id": "3DhlMKsIV2Uc"
      }
    },
    {
      "cell_type": "markdown",
      "source": [
        "특정지역의 성별에 따른 감기 검사결과이다. </br>\n",
        "\n",
        "감기\t양성\t음성 </br>\n",
        "남자\t16\t54 </br>\n",
        "여자\t12\t23 </br>\n",
        "(1) 다섯명의 사람을 임의로 선택하였을 때, 감기에 양성 반응인 사람이 1명일 확률은? </br>\n",
        "(2) 열두명의 사람을 임의로 선택하였을 때, 감기에 양성 반응인 사람이 6명 이상일 확률은? </br>\n",
        "(3) 4명의 남자, 2명의 여자가 임의로 선택되었을 때, 감기에 양성 반응인 사람이 없을 확률은? </br>"
      ],
      "metadata": {
        "id": "TPbs6FiGWPA9"
      }
    },
    {
      "cell_type": "code",
      "source": [
        "from scipy.stats import hypergeom\n",
        "\n",
        "total = 14 + 54 + 12 + 23\n",
        "positive = 16 + 12  #감기 양성\n",
        "\n",
        "# 1) N = 5, positive = 1\n",
        "hypergeom.pmf(1, total, positive, 5)\n",
        "# 2) N = 12 , positive >= 6\n",
        "1 - hypergeom.cdf(6, total, positive, 12)\n",
        "\n",
        "# 3) 남자 / 여자 / 양성 남자/ 양성 여자\n",
        "m = 16 + 54\n",
        "f = 12 + 23\n",
        "pm = 16\n",
        "pf = 12\n",
        "\n",
        "no_positive_m = hypergeom.cdf(0 , total, positive , 4)\n",
        "no_positive_f = hypergeom.cdf(0 , total, positive , 2)\n",
        "# 둘 다 양성 반응이 없음\n",
        "print(no_positive_m * no_positive_f)"
      ],
      "metadata": {
        "colab": {
          "base_uri": "https://localhost:8080/"
        },
        "id": "vqu4GnE1VLn0",
        "outputId": "07e49bd1-73b7-450e-f0c1-4a70fdee3781"
      },
      "execution_count": 99,
      "outputs": [
        {
          "output_type": "stream",
          "name": "stdout",
          "text": [
            "0.14522626097843364\n"
          ]
        }
      ]
    },
    {
      "cell_type": "markdown",
      "source": [
        "나사 생산 공장에서 52개를 생산 했는데, 이중 7개의 불량품이 섞여 있었다.\n",
        "어느 고객이 15개를 구매 했는데 이 중에서 불량인 나사가 많아야 3개일 확률을 구하여라."
      ],
      "metadata": {
        "id": "LtCUaWS4Xpgm"
      }
    },
    {
      "cell_type": "code",
      "source": [
        "hypergeom.cdf(3, 52, 7, 15)"
      ],
      "metadata": {
        "colab": {
          "base_uri": "https://localhost:8080/"
        },
        "id": "0ir8Cu3NVUIv",
        "outputId": "07f7ea1a-8de8-4995-c069-e6275b03da2e"
      },
      "execution_count": 100,
      "outputs": [
        {
          "output_type": "execute_result",
          "data": {
            "text/plain": [
              "0.9043412184485266"
            ]
          },
          "metadata": {},
          "execution_count": 100
        }
      ]
    },
    {
      "cell_type": "markdown",
      "source": [
        "어느 자동차 회사의 본사에서 여러 지방 영업소에 내려보낸 48대의 새 차 중 12대에 불량 오디오가 설치되었다고 한다. 어느 영업소가 8대를 인수하였는데 이 중에서 오디오가 불량인 차가 적어도 1 대 이상이 될 확률을 구하라."
      ],
      "metadata": {
        "id": "btp3hJ4GYB1-"
      }
    },
    {
      "cell_type": "code",
      "source": [
        "# 적어도 한대 이상 1 - cdf(0)\n",
        "1 - hypergeom.cdf(0 , 48, 12, 8)"
      ],
      "metadata": {
        "colab": {
          "base_uri": "https://localhost:8080/"
        },
        "id": "yIzk0VjBX62n",
        "outputId": "7c409941-f108-4f0c-c6dc-691eb3358413"
      },
      "execution_count": 101,
      "outputs": [
        {
          "output_type": "execute_result",
          "data": {
            "text/plain": [
              "0.9198080808981831"
            ]
          },
          "metadata": {},
          "execution_count": 101
        }
      ]
    },
    {
      "cell_type": "markdown",
      "source": [
        "어느 회사에서 사원을 8명 모집하기 위해 신문에 광고를 내었더니 15명의 남자와 8명의 여자가 지원하였다.\n",
        "임의로 8명을 선택한다고 한다면 8명 중 여자가 3명 이상일 확률을 구하라. 예상되는 여자 신입사원은 몇 명이 되겠는가?"
      ],
      "metadata": {
        "id": "GzTyrxiwYort"
      }
    },
    {
      "cell_type": "code",
      "source": [
        "total = 15 + 8\n",
        "female_total = 8\n",
        "\n",
        "# P(X >= 3) 3명 이상 = 1-2\n",
        "p = 1 - hypergeom.cdf(2 , total, female_total , 8)\n",
        "print(p)\n",
        "\n",
        "# 기대값\n",
        "(female_total / total) * 8"
      ],
      "metadata": {
        "colab": {
          "base_uri": "https://localhost:8080/"
        },
        "id": "63NzjxZAYC_5",
        "outputId": "72ea1ad1-01c5-459d-c012-fa1344f50e99"
      },
      "execution_count": 102,
      "outputs": [
        {
          "output_type": "stream",
          "name": "stdout",
          "text": [
            "0.59606497061067\n"
          ]
        },
        {
          "output_type": "execute_result",
          "data": {
            "text/plain": [
              "2.782608695652174"
            ]
          },
          "metadata": {},
          "execution_count": 102
        }
      ]
    },
    {
      "cell_type": "markdown",
      "source": [
        "어느 대학에서 전체 50명의 교수 중에서 5명을 뽑아 위원회를 구성한다. 통계학과에 6명의 교수가 있다고 하자."
      ],
      "metadata": {
        "id": "DDeF4igcZmPc"
      }
    },
    {
      "cell_type": "code",
      "source": [
        "# 1) 위원회에 통계학과 교수가 한명도 없을 경우\n",
        "print(hypergeom.pmf(0 , 50, 5 , 6))\n",
        "\n",
        "# 2) 적어도 1명 이상의 통계학과 교수가 포함될 확률\n",
        "print(1 - hypergeom.cdf(0 , 50, 5 , 6))"
      ],
      "metadata": {
        "colab": {
          "base_uri": "https://localhost:8080/"
        },
        "id": "w4CRuep8YC9a",
        "outputId": "1c855aef-239b-4b1f-8f77-d49ae2bdf185"
      },
      "execution_count": 103,
      "outputs": [
        {
          "output_type": "stream",
          "name": "stdout",
          "text": [
            "0.5125677282939077\n",
            "0.48743227170609227\n"
          ]
        }
      ]
    },
    {
      "cell_type": "markdown",
      "source": [
        "## 포아송 분포\n",
        "단위 시간 또는 공간에서 특정 사건이 발생하는 횟수를 나타내는 이산 확률 분포"
      ],
      "metadata": {
        "id": "6dozQDl_geSU"
      }
    },
    {
      "cell_type": "markdown",
      "source": [
        "어떤 골목 특정 지점에서 하루 평균 3회의 사고가 발생한다고 한다. 특정하루 동안 </br>\n",
        "(1) 0회의 사고가 발생할 확률은? </br>\n",
        "(2) 4회 이상의 사고가 발생할 확률은?"
      ],
      "metadata": {
        "id": "FpuzQ-zlgkdp"
      }
    },
    {
      "cell_type": "code",
      "source": [
        "from scipy.stats import poisson\n",
        "lamb = 3\n",
        "# 1)\n",
        "print(poisson.pmf(0, lamb))\n",
        "# 2) 4회 이상 : 1 - cdf(3)\n",
        "print(1 - poisson.cdf(3, lamb))"
      ],
      "metadata": {
        "colab": {
          "base_uri": "https://localhost:8080/"
        },
        "id": "TaNUTu4kYC4W",
        "outputId": "3064c61a-f16e-43f5-e0aa-0c6c4a9e3443"
      },
      "execution_count": 104,
      "outputs": [
        {
          "output_type": "stream",
          "name": "stdout",
          "text": [
            "0.049787068367863944\n",
            "0.35276811121776874\n"
          ]
        }
      ]
    },
    {
      "cell_type": "markdown",
      "source": [
        "어느 중학교는 지난 5년간 매년 300명(10개반, 각 반 30명)의 신입생을 받았다. 각 반에서 평균적으로 2명의 학생이 왼손잡이인 것으로 나타났다. 올해에도 왼손잡이 학생의 비율이 예년과 같다고 가정할 때, 임의로 한 개의 반 학생들 중 왼손잡이 학생이 4명 이하일 확률은 얼마인가?"
      ],
      "metadata": {
        "id": "jwqMkrZNkRKZ"
      }
    },
    {
      "cell_type": "code",
      "source": [
        "lamb = 2\n",
        "# 4명 이하일 확률 : 4까지의 누적\n",
        "poisson.cdf(4, lamb)"
      ],
      "metadata": {
        "colab": {
          "base_uri": "https://localhost:8080/"
        },
        "id": "kVrTAemPYC17",
        "outputId": "063e9361-9fb0-4a51-d4e8-1969f7def42b"
      },
      "execution_count": 105,
      "outputs": [
        {
          "output_type": "execute_result",
          "data": {
            "text/plain": [
              "0.9473469826562889"
            ]
          },
          "metadata": {},
          "execution_count": 105
        }
      ]
    },
    {
      "cell_type": "markdown",
      "source": [
        "경부고속도로상의 어느 휴게소의 주유소는 평균적으로 5분에 6대 꼴로 차들이 기름을 넣으러 온다고 하자 이때 어느 특정한 1분 동안 다음의 확률을 구하라 </br>\n",
        "(1)2대 이하가 기름을 넣으러 온다. </br>\n",
        "(2) 2대 혹은 3대가 기름을 넣으러 온다."
      ],
      "metadata": {
        "id": "mxKyBFI4klwF"
      }
    },
    {
      "cell_type": "code",
      "source": [
        "lamb = 6/5\n",
        "# 1) 2대 이하 : 2까지의 누적\n",
        "print(poisson.cdf(2, lamb))\n",
        "# 2) 2 혹은 3 : 2일때, + 3일 때\n",
        "print(poisson.pmf(2, lamb) + poisson.pmf(3, lamb))"
      ],
      "metadata": {
        "colab": {
          "base_uri": "https://localhost:8080/"
        },
        "id": "SQbWJTtykkzJ",
        "outputId": "9d11ffeb-1e20-42aa-8f1c-88bed112217c"
      },
      "execution_count": 106,
      "outputs": [
        {
          "output_type": "stream",
          "name": "stdout",
          "text": [
            "0.8794870987836302\n",
            "0.30360376560749974\n"
          ]
        }
      ]
    },
    {
      "cell_type": "markdown",
      "source": [
        "## 지수 분포\n",
        "어떤 사건이 처음 발생할 때 까지의 \"경과 시간\"에 대한 연속확률 분포 / 첫 사건이 생기는 걸리는 시간의 분포"
      ],
      "metadata": {
        "id": "ZMDjGQHhuuvB"
      }
    },
    {
      "cell_type": "code",
      "source": [
        "from scipy.stats import expon\n",
        "#rv = expon(scale = Lambda)   # 주의 scale에 대해서 람다값을 넣어줘야함"
      ],
      "metadata": {
        "id": "rcfImZYgYCzg"
      },
      "execution_count": 107,
      "outputs": []
    },
    {
      "cell_type": "markdown",
      "source": [
        "(1) 평균 사건 발생률이 분당 2회인 시스템에서, 다음 사건이 발생하기까지 1분 이내일 확률은 얼마인가? </br>\n",
        "(2) 같은 시스템에서, 다음 사건이 발생하기까지 3분 이상 걸릴 확률은 얼마인가? </br>\n",
        "(3) 해당 시스템에서 다음 사건이 발생하기까지의 시간의 기대값과 표준편차는 얼마인가?"
      ],
      "metadata": {
        "id": "2zkXBrPFu6WN"
      }
    },
    {
      "cell_type": "code",
      "source": [
        "# 1)\n",
        "lamb = 2\n",
        "p1 = expon.cdf(1, scale = 1/ lamb)\n",
        "print(p1)\n",
        "\n",
        "# 2) 3분이상 걸릴 확률\n",
        "p2 = expon.cdf(3, scale = 1/ lamb)\n",
        "\n",
        "# 3) 기대값과 표준 편차는 : 1/ lambda  : 1/2"
      ],
      "metadata": {
        "colab": {
          "base_uri": "https://localhost:8080/"
        },
        "id": "stSsKKzSYCw0",
        "outputId": "07ee5781-9e30-493e-8460-64486c2ff8bd"
      },
      "execution_count": 108,
      "outputs": [
        {
          "output_type": "stream",
          "name": "stdout",
          "text": [
            "0.8646647167633873\n"
          ]
        }
      ]
    },
    {
      "cell_type": "markdown",
      "source": [
        "### 기출 ADP_29 )\n",
        " 제품 A의 불량률은 0.03이다. 25개의 제품을 뽑았을 때 3개가 불량일 확률을 구하시오"
      ],
      "metadata": {
        "id": "l8baR3vnnmFL"
      }
    },
    {
      "cell_type": "code",
      "source": [
        "rv = binom(25, 0.03)\n",
        "print(rv.pmf(3))"
      ],
      "metadata": {
        "colab": {
          "base_uri": "https://localhost:8080/"
        },
        "id": "a3ME2-Pznpwo",
        "outputId": "f47c4bad-fdf0-4edf-ab3e-2a4ab2acadb6"
      },
      "execution_count": 109,
      "outputs": [
        {
          "output_type": "stream",
          "name": "stdout",
          "text": [
            "0.03177384363983214\n"
          ]
        }
      ]
    },
    {
      "cell_type": "markdown",
      "source": [
        "### 기출 ADP_30 )\n",
        "딸이 4명 이상인 가구가 3 가족 이상일 확률을 구하라. </br>\n",
        "딸이 4명 이상일 확률을 구하고 그 확률이 5가족 중 3가족 이상일 확률을 구한다.\n",
        "먼저 어떤 가족이 자녀 6명 중, 딸이 4명 이상일 확률을 구한다."
      ],
      "metadata": {
        "id": "LFv9vIgeoBQC"
      }
    },
    {
      "cell_type": "code",
      "source": [
        "n = 6  # 시행횟수\n",
        "p = 0.5 #딸인 경우\n",
        "\n",
        "rv = binom(n, p)\n",
        "# 6명 중, 딸이 4명 이상일 경우\n",
        "p2 = 1 - rv.cdf(3)\n",
        "print(p2)\n",
        "# 5가족 중 3 가족 이상 일 경우, 1 - cdf(2)\n",
        "rv2 = binom(5, p2)\n",
        "print(1 - rv2.cdf(2))\n",
        "\n",
        "# 5가족 중 몇 가족이 4명 이상 딸을 가질 것으로 기대하는가\n",
        "rv2.mean()"
      ],
      "metadata": {
        "colab": {
          "base_uri": "https://localhost:8080/"
        },
        "id": "OFo22IngnuCy",
        "outputId": "6ca1645a-2de9-4d55-a2b9-d517857c6326"
      },
      "execution_count": 110,
      "outputs": [
        {
          "output_type": "stream",
          "name": "stdout",
          "text": [
            "0.34375\n",
            "0.2255459427833557\n"
          ]
        },
        {
          "output_type": "execute_result",
          "data": {
            "text/plain": [
              "1.71875"
            ]
          },
          "metadata": {},
          "execution_count": 110
        }
      ]
    },
    {
      "cell_type": "markdown",
      "source": [
        "### 기출 ADP_31 )\n",
        "유기견이 하루에 2.2마리 발생한다 (10점)"
      ],
      "metadata": {
        "id": "Lyx6ohNlpwc8"
      }
    },
    {
      "cell_type": "code",
      "source": [
        "# 1. 한마디로 안 버려질 확률\n",
        "lamb = 2.2\n",
        "from scipy.stats import poisson\n",
        "\n",
        "print(poisson.pmf(0, lamb))\n",
        "\n",
        "# 2. 적어도 2 마리 버려질 확률 = 2 마리 이상 : 1 - cdf(1)\n",
        "print(1- poisson.cdf(1, lamb))"
      ],
      "metadata": {
        "colab": {
          "base_uri": "https://localhost:8080/"
        },
        "id": "AcZI9zyvokw2",
        "outputId": "ff14cec7-99f5-42f5-c2ba-0ff9c92992bf"
      },
      "execution_count": 111,
      "outputs": [
        {
          "output_type": "stream",
          "name": "stdout",
          "text": [
            "0.11080315836233387\n",
            "0.6454298932405317\n"
          ]
        }
      ]
    },
    {
      "cell_type": "markdown",
      "source": [
        "어떤 앱 개발 회사가 새로운 게임을 출시했다. 사용자가 게임 내에서 특정 퀘스트를 클리어하는 성공 확률이 0.3이라고 한다. </br>\n",
        " (1) 사용자가 총 3회의 성공을 하기까지 시도한 횟수가 5회 미만일 확률은 얼마인가?  </br>\n",
        " (2) 사용자가 4번의 퀘스트 클리어 성공을 경험하기까지 평균적으로 몇 번의 시도를 하는가?"
      ],
      "metadata": {
        "id": "yOKhtqASqnCC"
      }
    },
    {
      "cell_type": "code",
      "source": [
        "# 음이항 분포\n",
        "p = 0.3\n",
        "r = 3\n",
        "# 1) 5회 미만  : 4번 이내에 3번 성공 = 3번 + 4번 시도에서 3번 성공하는 경우를 합한 확률\n",
        "prob = nbinom.cdf(4-3, r, p)\n",
        "print(prob)\n",
        "\n",
        "# 2) 기대값\n",
        "4 / p"
      ],
      "metadata": {
        "colab": {
          "base_uri": "https://localhost:8080/"
        },
        "id": "RJgYcpIwom0t",
        "outputId": "22a9a38f-064d-461c-9e60-eed76eaead18"
      },
      "execution_count": 112,
      "outputs": [
        {
          "output_type": "stream",
          "name": "stdout",
          "text": [
            "0.0837\n"
          ]
        },
        {
          "output_type": "execute_result",
          "data": {
            "text/plain": [
              "13.333333333333334"
            ]
          },
          "metadata": {},
          "execution_count": 112
        }
      ]
    },
    {
      "cell_type": "markdown",
      "source": [
        "한 제조회사에서는 제품의 품질을 보장하기 위해 생산 라인에서 무작위로 10개의 제품을 샘플링하여 품질 검사를 실시한다. 이때, 제품이 불량일 확률은 23%다. </br>\n",
        "\n",
        "(1) 적어도 3개의 제품이 불량일 확률은? </br>\n",
        "(2) 2개 이하의 제품이 불량일 확률은?"
      ],
      "metadata": {
        "id": "BvOi7pOCschy"
      }
    },
    {
      "cell_type": "code",
      "source": [
        "rv = binom(10, 0.23)\n",
        "\n",
        "# 1) 적어도 3개 = 3개 이상 1 - cdf(2)\n",
        "print(1 - rv.cdf(2))\n",
        "\n",
        "# 2) 2개 이하\n",
        "print(rv.cdf(2))"
      ],
      "metadata": {
        "colab": {
          "base_uri": "https://localhost:8080/"
        },
        "id": "U5pgL38PsDuC",
        "outputId": "5d2dd5a1-26e3-4eb5-87e5-ab61755297d0"
      },
      "execution_count": 113,
      "outputs": [
        {
          "output_type": "stream",
          "name": "stdout",
          "text": [
            "0.4137172738381183\n",
            "0.5862827261618817\n"
          ]
        }
      ]
    },
    {
      "cell_type": "markdown",
      "source": [
        "느 고객 서비스 센터에는 센터에는 평균적으로 1분에 3건의 전화가 걸려온다. 전화 빈도는 아래와 같은 조건을 가진다. 전화가 걸려오는 사건이 독립적이다. 특정 시간 동안에 전화가 걸려올 확률이 일정하다. 단위 시간 내에 동시에 두 개 이상의 전화가 걸려올 확률은 매우 낮다. </br>\n",
        "\n",
        "(1) 10분 동안 전화가 23통 이하로 걸려올 확률은? </br>\n",
        " (2) 10분 동안 전화가 정확히 30통 걸려올 확률은?"
      ],
      "metadata": {
        "id": "DmZGRV2stIkZ"
      }
    },
    {
      "cell_type": "code",
      "source": [
        "# 3 * 10\n",
        "lamb = 30\n",
        "# 1) 23통 이하\n",
        "print(poisson.cdf(23, lamb))\n",
        "# 2) 정확히 30통\n",
        "print(poisson.pmf(30, lamb))"
      ],
      "metadata": {
        "colab": {
          "base_uri": "https://localhost:8080/"
        },
        "id": "T7T2-BiJsxsU",
        "outputId": "60b156b1-ad53-4f23-ecb3-347d1c7695bc"
      },
      "execution_count": 114,
      "outputs": [
        {
          "output_type": "stream",
          "name": "stdout",
          "text": [
            "0.11464591271427384\n",
            "0.07263452647159181\n"
          ]
        }
      ]
    },
    {
      "cell_type": "markdown",
      "source": [
        "어느 지역의 미세 지진 발생 간격은 평균 10년이다. 이 지진 발생 간격은 지수 분포를 따른다고 가정한다.\n",
        "최근 지진 이후 5년이 지난 시점에서 7년 이내에 지진이 발생하지 않을 확률은?"
      ],
      "metadata": {
        "id": "-lbi2h36ts4_"
      }
    },
    {
      "cell_type": "code",
      "source": [
        "from scipy.stats import expon\n",
        "mean = 10\n",
        "\n",
        "# 사건 발생률\n",
        "value = 1 / mean\n",
        "# 7년 이내 지진이 발생하지 않을 확률\n",
        "proba = 1 - expon.cdf(7, scale = mean)\n",
        "print(proba)"
      ],
      "metadata": {
        "colab": {
          "base_uri": "https://localhost:8080/"
        },
        "id": "w76zWht-tR68",
        "outputId": "188fcd61-3ff7-47af-a8ef-067cd9eb1da4"
      },
      "execution_count": 115,
      "outputs": [
        {
          "output_type": "stream",
          "name": "stdout",
          "text": [
            "0.4965853037914095\n"
          ]
        }
      ]
    },
    {
      "cell_type": "markdown",
      "source": [
        "### 정규 분포"
      ],
      "metadata": {
        "id": "1OOYO5hsvpFI"
      }
    },
    {
      "cell_type": "markdown",
      "source": [
        "확률변수 X가 N(60, 16)을 따른다고 하였을 때 P[55<X<63]을 계산하라."
      ],
      "metadata": {
        "id": "qrrZjg5hvuEI"
      }
    },
    {
      "cell_type": "code",
      "source": [
        "from scipy.stats import norm\n",
        "\n",
        "rv = norm(60, 4)\n",
        "print(rv.cdf(63) - rv.cdf(55))"
      ],
      "metadata": {
        "colab": {
          "base_uri": "https://localhost:8080/"
        },
        "id": "jie5WTbbuDM1",
        "outputId": "8c6647e2-3e32-4e2b-867c-6f110c58c61f"
      },
      "execution_count": 116,
      "outputs": [
        {
          "output_type": "stream",
          "name": "stdout",
          "text": [
            "0.6677228739562764\n"
          ]
        }
      ]
    },
    {
      "cell_type": "markdown",
      "source": [
        "어느 회사에 입사를 희망한 지원자의 영어점수는 평균이 700이고 표준편차가 100인 정규분포를 따른다고 한다. 한 지원자의 점수가 다음과 같을 확률을 구하라 </br>\n",
        "(1) 850점 이상의 점수를 받는다. </br>\n",
        "(2) 450점 이하의 점수를 받는다. </br>\n",
        "(3) 525점에서 875점 사이의 점수를 받는다."
      ],
      "metadata": {
        "id": "KHRiAJSuv5da"
      }
    },
    {
      "cell_type": "code",
      "source": [
        "rv = norm(700, 100)\n",
        "\n",
        "# 1) P(X > 850) 850 이상\n",
        "p1 = 1 - rv.cdf(850)\n",
        "# 2) 450 이하\n",
        "p2 = rv.cdf(450)\n",
        "# 3)\n",
        "p3 = rv.cdf(875) - rv.cdf(525)\n",
        "print(p1, p2, p3)"
      ],
      "metadata": {
        "colab": {
          "base_uri": "https://localhost:8080/"
        },
        "id": "usyb6YAiv1_R",
        "outputId": "157749e9-a535-4d46-c25c-c1ff529304b7"
      },
      "execution_count": 117,
      "outputs": [
        {
          "output_type": "stream",
          "name": "stdout",
          "text": [
            "0.06680720126885809 0.006209665325776132 0.9198816862723658\n"
          ]
        }
      ]
    },
    {
      "cell_type": "markdown",
      "source": [
        "의사들이 참고로 사용하는 어린이 성장표에 따르면 생후 2년 된 남아의 키는 평균이 88 cm이고 표준편차가 3.3 cm인 정규분포를 따른다고 한다. 만약 임의로 생후 2년 된 한 남아를 선택하였을 때, 키가 85.3 cm에서 93.2 cm 사이일 확률은 얼마"
      ],
      "metadata": {
        "id": "dEjmPT3Cwdae"
      }
    },
    {
      "cell_type": "code",
      "source": [
        "rv = norm(88,3.3)\n",
        "print(rv.cdf(93.2) - rv.cdf(85.3))"
      ],
      "metadata": {
        "colab": {
          "base_uri": "https://localhost:8080/"
        },
        "id": "30c4Ilq1wboM",
        "outputId": "9346ac91-dabb-43e7-b3cc-90b433bfecac"
      },
      "execution_count": 118,
      "outputs": [
        {
          "output_type": "stream",
          "name": "stdout",
          "text": [
            "0.7358324708035097\n"
          ]
        }
      ]
    },
    {
      "cell_type": "markdown",
      "source": [
        "보고서에 따르면 성인 남자의 키는 평균이 175.3 cm이고 표준편차가 7.1 cm인 정규분포 를 따른다고 한다. 한 의류회사에서는 남자들의 키 가운데 80%를 목표로 하여 제품을 생산하려고 한다. 이들이 목표로 세우려는 키의 범위를 구하라."
      ],
      "metadata": {
        "id": "XA1Vyhuwwpvf"
      }
    },
    {
      "cell_type": "code",
      "source": [
        "# 평균과 표준편차\n",
        "mean = 175.3\n",
        "std_dev = 7.1\n",
        "\n",
        "# 80% 범위는 10%에서 90%까지를 포함\n",
        "lower_bound = norm.ppf(0.1, loc=mean, scale=std_dev)\n",
        "upper_bound = norm.ppf(0.9, loc=mean, scale=std_dev)\n",
        "\n",
        "\n",
        "print(f\"80%에 해당하는 키 범위: {lower_bound:.2f} cm ~ {upper_bound:.2f} cm\")\n",
        "\n",
        "#z_score = stats.norm.ppf((1 + confidence_level) / 2)\n",
        "#lower_bound = mean - z_score * std_dev\n",
        "#upper_bound = mean + z_score * std_dev"
      ],
      "metadata": {
        "colab": {
          "base_uri": "https://localhost:8080/"
        },
        "id": "1H-mqSupwlbg",
        "outputId": "84753f9b-1593-4b8d-b2e3-eb5a6c85ece1"
      },
      "execution_count": 119,
      "outputs": [
        {
          "output_type": "stream",
          "name": "stdout",
          "text": [
            "80%에 해당하는 키 범위: 166.20 cm ~ 184.40 cm\n"
          ]
        }
      ]
    },
    {
      "cell_type": "markdown",
      "source": [
        "어느 도시에서 지난 5년 간의 조사결과 성인 전체의 30%가 정기적으로 술을 마시는 것으로 나타났 다고 하자. 만약 현재도 이와 비슷한 비율이 유지된다면 1,000명의 성인표본에서 술을 마시는 사람의 수가  280명보다 작을 확률은 얼마인가?"
      ],
      "metadata": {
        "id": "Fy68o4ZJxzyR"
      }
    },
    {
      "cell_type": "markdown",
      "source": [
        "결정 기준: </br>\n",
        " 1. 이항분포 사용: </br>\n",
        " 표본 크기가 작거나 중간일 때 (e.g., 몇십에서 몇백명).  문제에서 사건이 두 가지 결과(성공/실패)를 가지며, 성공 확률이 일정할 때. </br>\n",
        "\n",
        " 2. 정규분포로 근사: </br>\n",
        " 표본 크기가 매우 클 때 (일반적으로 30 이상).\n",
        " 이항분포의 정규 근사는  기대값 충분히 클 때 가능하며, 주로 np≥ 5 이거나  n(1-p) >= 5 조건을 만족해야함"
      ],
      "metadata": {
        "id": "D4kzHpMIy2Q7"
      }
    },
    {
      "cell_type": "code",
      "source": [
        "import numpy as np\n",
        "n = 1000\n",
        "p = 0.3\n",
        "\n",
        "mean = n * p\n",
        "std =  np.sqrt(n * p * (1- p))\n",
        "\n",
        "# 280명 보다 작을 확률\n",
        "norm.cdf(280 , loc = mean , scale = std)"
      ],
      "metadata": {
        "colab": {
          "base_uri": "https://localhost:8080/"
        },
        "id": "sxxL4ke7x4XQ",
        "outputId": "83f05dca-fa23-445d-e7a6-0bbc8f379cc9"
      },
      "execution_count": 120,
      "outputs": [
        {
          "output_type": "execute_result",
          "data": {
            "text/plain": [
              "0.08377313874430853"
            ]
          },
          "metadata": {},
          "execution_count": 120
        }
      ]
    },
    {
      "cell_type": "code",
      "source": [
        "p = 0.3\n",
        "n = 1000\n",
        "k = 279 # 280명 미만\n",
        "\n",
        "binom.cdf(k, n, p)"
      ],
      "metadata": {
        "colab": {
          "base_uri": "https://localhost:8080/"
        },
        "id": "3xI_S88iyEmd",
        "outputId": "9dd0fed4-da90-4d5a-ac9e-0a00df9fcd94"
      },
      "execution_count": 121,
      "outputs": [
        {
          "output_type": "execute_result",
          "data": {
            "text/plain": [
              "0.07787874350831679"
            ]
          },
          "metadata": {},
          "execution_count": 121
        }
      ]
    },
    {
      "cell_type": "markdown",
      "source": [
        "### Revise\n",
        "어떤 사람의 전화 통화시간은 평균이 80초이고 표준편차가 15초인 정규분포를 따른다고 한다. 이 사람이 100번 통화했을 때, 100번 통화 중 통화시간이 92초 이상인 횟수가 25번 이상일 확률"
      ],
      "metadata": {
        "id": "nJdghrj8zpvR"
      }
    },
    {
      "cell_type": "code",
      "source": [
        "rv = norm(80, 15)\n",
        "\n",
        "# 92초 이상인 확률\n",
        "p1 = 1 - rv.cdf(92)\n",
        "\n",
        "# 25번 이상일 확률 : 1 - cdf(24)\n",
        "bi_rv = binom(100, p1)\n",
        "print(1 - bi_rv.cdf(24))"
      ],
      "metadata": {
        "colab": {
          "base_uri": "https://localhost:8080/"
        },
        "id": "KF1hKHldycqS",
        "outputId": "354e3966-8d18-41f1-d1f4-7edc84314156"
      },
      "execution_count": 122,
      "outputs": [
        {
          "output_type": "stream",
          "name": "stdout",
          "text": [
            "0.2063012012870048\n"
          ]
        }
      ]
    },
    {
      "cell_type": "markdown",
      "source": [
        "어떤 순간접착제의 접착력은 평균이 50 kg이고 표준편차가 4 kg인 정규분포를 따른다고 한다. 이 순간접착제를 49 kg의 힘으로 실험할 때, 떨어질 확률은 얼마인가"
      ],
      "metadata": {
        "id": "rA4i-IZZ0lOa"
      }
    },
    {
      "cell_type": "code",
      "source": [
        "mean = 50\n",
        "std = 4\n",
        "\n",
        " # 49kg 이하에서 떨어질 확률 = 49kg의 힘으로 실험할 떄 떨어질 확률\n",
        "norm.cdf(49, loc = mean, scale = std)"
      ],
      "metadata": {
        "colab": {
          "base_uri": "https://localhost:8080/"
        },
        "id": "j696UCvt0Ymj",
        "outputId": "cf6c7c41-6b7b-4c7e-facc-c39b6c179030"
      },
      "execution_count": 123,
      "outputs": [
        {
          "output_type": "execute_result",
          "data": {
            "text/plain": [
              "0.4012936743170763"
            ]
          },
          "metadata": {},
          "execution_count": 123
        }
      ]
    },
    {
      "cell_type": "markdown",
      "source": [
        "세금 청구서에 대해 9%가 연체된다고 한다. 2만 개의 청구서가 발행되었을 때, 다음의 확률을 구하라 </br>\n",
        "(1) 1750개 미만의 청구서가 연체된다. </br>\n",
        "(2) 2000개 이상의 청구서가 연체된다."
      ],
      "metadata": {
        "id": "u50af86dtnFt"
      }
    },
    {
      "cell_type": "code",
      "source": [
        "p = 0.09\n",
        "n = 20000\n",
        "\n",
        "# X < 1750\n",
        "p1 = binom.cdf(1750 ,n, p)\n",
        "\n",
        "# X >= 2000\n",
        "p2 =1 - binom.cdf(1999, n, p)\n",
        "\n",
        "print(p1 , p2)"
      ],
      "metadata": {
        "colab": {
          "base_uri": "https://localhost:8080/"
        },
        "id": "LSySLYL8004n",
        "outputId": "31093899-cbef-4254-fbf6-b37094890d6e"
      },
      "execution_count": 124,
      "outputs": [
        {
          "output_type": "stream",
          "name": "stdout",
          "text": [
            "0.11032961732566503 6.042136680983745e-07\n"
          ]
        }
      ]
    },
    {
      "cell_type": "markdown",
      "source": [
        "# 표집 분포"
      ],
      "metadata": {
        "id": "-OcKEADXuf5z"
      }
    },
    {
      "cell_type": "markdown",
      "source": [
        "평균이 82이고 분산이 144인 모집단에서 임의추출한 표본에 대하여 생각해 보자. </br>\n",
        "(1) 표본의 크기가 64일 때 표본평균이 구간 (80.8, 83.2)에 있을 확률은? </br>\n",
        "(2) 표본의 크기가 100일 때 표본평균이 구간 (80.8, 83.2)에 있을 확률은?"
      ],
      "metadata": {
        "id": "nEtahDOtuhnJ"
      }
    },
    {
      "cell_type": "code",
      "source": [
        "rv= norm(82, 12/8)\n",
        "p1 = rv.cdf(83.2) - rv.cdf(80.8)\n",
        "print(p1)\n",
        "\n",
        "# 표준오차 np.sqrt(var) / np.sqrt(n)\n",
        "s = np.sqrt(144) / np.sqrt(64)\n",
        "p8083 = norm.cdf(83.2 , loc = 82, scale = s) - norm.cdf(80.8 , loc = 82, scale = s)\n",
        "print(p8083)\n",
        "\n",
        "# 표본 오차 : 표준편차 / np.sqrt(n)\n",
        "s1 = np.sqrt(144) / np.sqrt(100)\n",
        "p18083 = norm.cdf(83.2 , loc = 82, scale = s1) - norm.cdf(80.8 , loc = 82, scale = s1)\n",
        "print(p18083)\n",
        "\n",
        "rv = norm(82, 12 / 10)\n",
        "p2 = rv.cdf(83.2) - rv.cdf(80.8)\n",
        "print(p2)\n"
      ],
      "metadata": {
        "colab": {
          "base_uri": "https://localhost:8080/"
        },
        "id": "ZpptZj2quClN",
        "outputId": "d099642a-550d-4336-e1b7-0449cadcfd2c"
      },
      "execution_count": 125,
      "outputs": [
        {
          "output_type": "stream",
          "name": "stdout",
          "text": [
            "0.5762892028332078\n",
            "0.5762892028332078\n",
            "0.6826894921370872\n",
            "0.6826894921370872\n"
          ]
        }
      ]
    },
    {
      "cell_type": "markdown",
      "source": [
        "한 제과회사에서는 소유하고 있는 포장기계에서 나오는 과자의 무게는 평균이 정해진 무게이고 표준편차는 3.459g인 정규분포를 따른다고 한다. 회사는 소비자 단체와의 마찰을 피하기 위해 450g이라고 표시된 과자를 포장하는 과정에 기계를 455g 포장하도록 맞추어 놓았다. </br>\n",
        "(1) 9개의 과자를 표본으로 선택하였을 때, 표본평균이 450g 보다 작을 확률은 얼마인가? </br>\n",
        "(2) 오랜 시간 동안 이 기계를 사용하였을 때. 몇 %의 과자 무게가 450g 보다 적겠는가?"
      ],
      "metadata": {
        "id": "qdZoJRB0xFaS"
      }
    },
    {
      "cell_type": "code",
      "source": [
        "rv = norm(455, 3.459 / 3)\n",
        "p = rv.cdf(450)\n",
        "print(p)\n",
        "\n",
        "p2 = norm(455, 3.459).cdf(450)\n",
        "print(p2)\n",
        "\n",
        "# 1) GPT 풀이\n",
        "mean = 455\n",
        "std_error = 3.459 / np.sqrt(9)\n",
        "less_thean_450 = norm.cdf(450, loc = mean, scale = std_error)\n",
        "print(less_thean_450)\n",
        "# 2)\n",
        "norm.cdf(450, loc = mean, scale = 3.459)"
      ],
      "metadata": {
        "colab": {
          "base_uri": "https://localhost:8080/"
        },
        "id": "wu2ZSUiWuud4",
        "outputId": "020c1347-bebf-48c3-88ed-e2de1fab12b9"
      },
      "execution_count": 126,
      "outputs": [
        {
          "output_type": "stream",
          "name": "stdout",
          "text": [
            "7.238028870950395e-06\n",
            "0.07415811762619638\n",
            "7.238028870950395e-06\n"
          ]
        },
        {
          "output_type": "execute_result",
          "data": {
            "text/plain": [
              "0.07415811762619638"
            ]
          },
          "metadata": {},
          "execution_count": 126
        }
      ]
    },
    {
      "cell_type": "markdown",
      "source": [
        "어느 포장기계를 이용하여 생산한 제품의 무게는 평균은 기계를 세팅한 값이며, 표준편차는 4 g인 정규분포를 따른다고 한다. 다음 물음에 답하라. </br>\n",
        "(1) 기계를 120 g으로 세팅했을 때, 25개 표본의 평균 무게가 119 g 이상일 확률을 구하라. </br>\n",
        "(2) 25개 표본의 평균 무게가 118 g 이상일 확률이 0.95가 되기 위해서는 이 기계를 몇 g으로 세팅하여야 하는가?"
      ],
      "metadata": {
        "id": "sVeWXCnAyJ0m"
      }
    },
    {
      "cell_type": "code",
      "source": [
        "# 1)\n",
        "mean = 120\n",
        "std_error = 4 / np.sqrt(25)\n",
        "print(1 - norm.cdf(119, loc = mean, scale = std_error))\n",
        "\n",
        "rv = norm(120, 4/5)\n",
        "print(1 - rv.cdf(119))\n",
        "\n",
        "\n",
        "# 2)\n",
        "std = 4 / np.sqrt(25)\n",
        "# 118g 이상일 확률이 0.95 일때, Z값\n",
        "z_value = norm.ppf(0.05)\n",
        "# Z 공식 (X - mean) / std_error\n",
        "mean_setting = 118 - (z_value * std_error)\n",
        "print(mean_setting)\n"
      ],
      "metadata": {
        "colab": {
          "base_uri": "https://localhost:8080/"
        },
        "id": "VAAxQTlYxheK",
        "outputId": "e0b623e2-55b1-4f03-c4d4-03215c6a7c7c"
      },
      "execution_count": 127,
      "outputs": [
        {
          "output_type": "stream",
          "name": "stdout",
          "text": [
            "0.8943502263331446\n",
            "0.8943502263331446\n",
            "119.31588290156118\n"
          ]
        }
      ]
    },
    {
      "cell_type": "markdown",
      "source": [
        "만 2세가 된 유아의 키는 평균이 87.6 cm이고 표준편차가 3.3 cm인 정규분포를 따른다고 한다. 만약 6명의 2세 된 유아의 키를 조사하였을 경우 표본평균이 86.6 cm에서 89.4 cm 사이일 확률은 얼마인가?"
      ],
      "metadata": {
        "id": "CgvaGowMzvig"
      }
    },
    {
      "cell_type": "code",
      "source": [
        "mean = 87.6\n",
        "std_error = 3.3\n",
        "s = std_error / np.sqrt(6)\n",
        "print(norm.cdf(89.4, loc = mean, scale = s) - norm.cdf(86.6, loc = mean, scale = s))\n",
        "\n",
        "\n",
        "rv = norm(87.6, 3.3 / np.sqrt(6))\n",
        "rv.cdf(89.4) - rv.cdf(86.6)"
      ],
      "metadata": {
        "colab": {
          "base_uri": "https://localhost:8080/"
        },
        "id": "RyYUe8izyZzK",
        "outputId": "ffe350be-2d86-400d-e032-dcf776066bce"
      },
      "execution_count": 128,
      "outputs": [
        {
          "output_type": "stream",
          "name": "stdout",
          "text": [
            "0.6802773076561102\n"
          ]
        },
        {
          "output_type": "execute_result",
          "data": {
            "text/plain": [
              "0.6802773076561102"
            ]
          },
          "metadata": {},
          "execution_count": 128
        }
      ]
    },
    {
      "cell_type": "markdown",
      "source": [
        "어떤 과수원에 있는 배의 무게는 평균이 445 g이고 표준편차가 36.2 g인 정규분포를 따른다고 한다. </br>\n",
        "(1) 만약 하나의 배를 임의로 선택하여 무게를 재었을 때, 무게가 426.9 g에서 454.05 g 사이일 확률은 얼마인가? </br>\n",
        "(2) 4개의 배를 임의로 선택하여 무게의 평균을 J 라고 할 때, 그 값이 426.9 g에서 454.05 g 사이일 확률은 얼마인가?"
      ],
      "metadata": {
        "id": "rfFvgKPC1cZ2"
      }
    },
    {
      "cell_type": "code",
      "source": [
        "# 1)\n",
        "mean = 445\n",
        "std = 36.2\n",
        "print( norm.cdf(454.05, loc=mean, scale=std) - norm.cdf(426.9, loc=mean, scale=std))\n",
        "\n",
        "rv = norm(445,36.2)\n",
        "print(rv.cdf(454.05) - rv.cdf(426.9))\n",
        "\n",
        "# 2)\n",
        "s = std / np.sqrt(4)\n",
        "print( norm.cdf(454.05, loc=mean, scale=s) - norm.cdf(426.9, loc=mean, scale=s))\n",
        "\n",
        "rv =  norm(445,36.2/2)\n",
        "print(rv.cdf(454.05) - rv.cdf(426.9))"
      ],
      "metadata": {
        "colab": {
          "base_uri": "https://localhost:8080/"
        },
        "id": "-d3-hgkmz-Ds",
        "outputId": "8f6c1dba-0ad2-402b-f65c-193b5c7c8c93"
      },
      "execution_count": 129,
      "outputs": [
        {
          "output_type": "stream",
          "name": "stdout",
          "text": [
            "0.29016878695693715\n",
            "0.29016878695693715\n",
            "0.5328072073425565\n",
            "0.5328072073425565\n"
          ]
        }
      ]
    },
    {
      "cell_type": "code",
      "source": [
        "mean = 445\n",
        "std_dev = 36.2\n",
        "\n",
        "# 426.9g ~ 454.05g 사이일 확률\n",
        "p_between = norm.cdf(454.05, loc=mean, scale=std_dev) - norm.cdf(426.9, loc=mean, scale=std_dev)\n",
        "print(f\"426.9g ~ 454.05g 사이일 확률: {p_between:.4f}\")"
      ],
      "metadata": {
        "colab": {
          "base_uri": "https://localhost:8080/"
        },
        "id": "6t6nHZjP1v-E",
        "outputId": "21a2a808-25e1-4d08-d286-4786d5780b9a"
      },
      "execution_count": 130,
      "outputs": [
        {
          "output_type": "stream",
          "name": "stdout",
          "text": [
            "426.9g ~ 454.05g 사이일 확률: 0.2902\n"
          ]
        }
      ]
    },
    {
      "cell_type": "markdown",
      "source": [
        "###  통계적 추론"
      ],
      "metadata": {
        "id": "oaNmwVri24-n"
      }
    },
    {
      "cell_type": "markdown",
      "source": [
        "어느 전기부품공장에서 자사의 제품 중 전기퓨즈의 평균수명( μ\n",
        " )을 알아보기 위해 40개의 표본을 추출하고 그 수명( xi\n",
        " )을 조사하여 다음과 같은 결과를 얻었다.\n",
        "Σxi = 88,  Σxi2 =  212 평균 수명을 추정하고 그 추정량의 표준 오차를 구하여라"
      ],
      "metadata": {
        "id": "gGG7NGh626-I"
      }
    },
    {
      "cell_type": "code",
      "source": [
        "# 평균\n",
        "mean = 88 / 40\n",
        "n = 40\n",
        "\n",
        "# 분산 계산\n",
        "var = (212 - (88**2)/n) / (n-1)\n",
        "# 표준편차 계산\n",
        "std = np.sqrt(var)\n",
        "# 표준오차 계산\n",
        "std_error = std / np.sqrt(n)\n",
        "\n",
        "print(std_error)"
      ],
      "metadata": {
        "colab": {
          "base_uri": "https://localhost:8080/"
        },
        "id": "1BEGSpR-3Bte",
        "outputId": "7f23141a-5508-46a8-cb08-60499d33bd67"
      },
      "execution_count": 131,
      "outputs": [
        {
          "output_type": "stream",
          "name": "stdout",
          "text": [
            "0.1086041978694737\n"
          ]
        }
      ]
    },
    {
      "cell_type": "markdown",
      "source": [
        "평균이μ이고 표준편차가 σ=8인 정규분포를 따르는 모집단에서 크기가 25인 표본을 추출하여 평균을 계산하였더니 x =42.7이었다. 이때  μ 에 대한 95%신뢰구간을 구하라."
      ],
      "metadata": {
        "id": "OqsLPBZW4f9g"
      }
    },
    {
      "cell_type": "code",
      "source": [
        "x = 42.7\n",
        "sigma = 8\n",
        "n = 25\n",
        "confa = 0.05\n",
        "\n",
        "# Z_value\n",
        "z_value = norm.ppf(1 - confa/ 2)\n",
        "# 표준오차\n",
        "se = sigma / np.sqrt(n)\n",
        "# ME\n",
        "ME = z_value * se\n",
        "print(x - ME, x + ME)\n",
        "\n",
        "# 라이브러리 검정\n",
        "norm.interval(0.95, loc = x , scale = se)"
      ],
      "metadata": {
        "colab": {
          "base_uri": "https://localhost:8080/"
        },
        "id": "UrKF-Ytx34uO",
        "outputId": "1b1ad338-79a0-420d-d7a1-476ba89d9b60"
      },
      "execution_count": 132,
      "outputs": [
        {
          "output_type": "stream",
          "name": "stdout",
          "text": [
            "39.564057624735916 45.83594237526409\n"
          ]
        },
        {
          "output_type": "execute_result",
          "data": {
            "text/plain": [
              "(39.564057624735916, 45.83594237526409)"
            ]
          },
          "metadata": {},
          "execution_count": 132
        }
      ]
    },
    {
      "cell_type": "markdown",
      "source": [
        "어느 사과농장에서 올해 수확한 사과의 평균무게  μ\n",
        " 에 대해 알아보기 위하여 36개의 사과를 추출하여 무게를 측정하였더니  x¯\n",
        " =342g, s=20g이 나왔다고한다.\n",
        "이때  μ\n",
        " 의 95%와 99% 신뢰구간을 구하고 이를 비교하라"
      ],
      "metadata": {
        "id": "Bk2PEfOU5bFH"
      }
    },
    {
      "cell_type": "code",
      "source": [
        "x = 342\n",
        "s = 20\n",
        "n = 36\n",
        "\n",
        "conf1 = 0.05\n",
        "conf2 = 0.01\n",
        "\n",
        "# Z_value\n",
        "z1 = norm.ppf(1 - conf1/2)\n",
        "z2 = norm.ppf(1 - conf2/2)\n",
        "\n",
        "# SE\n",
        "se = s / np.sqrt(n)\n",
        "# ME (95)\n",
        "ME_95 = z1 * se\n",
        "ME_99 = z2 * se\n",
        "\n",
        "print(x - ME_95 , x + ME_95)\n",
        "print(x - ME_99 , x + ME_99)\n",
        "\n",
        "# 라이브러리 검정\n",
        "print(norm.interval(0.95, loc = x , scale = se))\n",
        "print(norm.interval(0.99, loc = x , scale = se))"
      ],
      "metadata": {
        "colab": {
          "base_uri": "https://localhost:8080/"
        },
        "id": "uYF2x2Iq49w1",
        "outputId": "a7d6ca1a-a48a-4009-c702-7a145343505a"
      },
      "execution_count": 133,
      "outputs": [
        {
          "output_type": "stream",
          "name": "stdout",
          "text": [
            "335.46678671819984 348.53321328180016\n",
            "333.41390232150366 350.58609767849634\n",
            "(335.46678671819984, 348.53321328180016)\n",
            "(333.41390232150366, 350.58609767849634)\n"
          ]
        }
      ]
    },
    {
      "cell_type": "markdown",
      "source": [
        "한 자동차 공장에서 38명의 새로운 직원들이 2주동안의 연수를 마친 후,특정한 작업을 얼마나 빠른 시간안에 해내는지를 측정하였다.\n",
        "그 작업을 끝내는데 걸리는 시간의 평균과 표준편차가 각각 68초와 12초였다.\n",
        "모든 직원들이 2주의 교육을 마쳤을 때 그 작업을 마치는 데 걸리는 시간의 평균값의 95% 신뢰구간을 구하라"
      ],
      "metadata": {
        "id": "DL4WWxsx6XXZ"
      }
    },
    {
      "cell_type": "code",
      "source": [
        "n = 38\n",
        "x = 68\n",
        "std = 12 # 표준편차\n",
        "confa = 0.05\n",
        "\n",
        "# Z_value\n",
        "z_value = norm.ppf(1 - confa / 2)\n",
        "# SE\n",
        "se = std / np.sqrt(n)\n",
        "# ME\n",
        "ME = z_value * se\n",
        "print(x - ME, x + ME)\n",
        "\n",
        "#라이브러리 검정\n",
        "norm.interval(0.95, loc = x, scale = se)"
      ],
      "metadata": {
        "colab": {
          "base_uri": "https://localhost:8080/"
        },
        "id": "B7NBjclD5L_f",
        "outputId": "e1aaa8c1-dc0a-42c5-da39-bb4d50ff9a00"
      },
      "execution_count": 134,
      "outputs": [
        {
          "output_type": "stream",
          "name": "stdout",
          "text": [
            "64.1846222847536 71.8153777152464\n"
          ]
        },
        {
          "output_type": "execute_result",
          "data": {
            "text/plain": [
              "(64.1846222847536, 71.8153777152464)"
            ]
          },
          "metadata": {},
          "execution_count": 134
        }
      ]
    },
    {
      "cell_type": "markdown",
      "source": [
        "어느 회사에서 생산된 전자레인지 65개를 임의로 뽑아 전자파의 양을 측정하여  x¯\n",
        " =0.11, s = 0.06 을 얻었다. 모집단의 평균 전자파량의 95% 신뢰구간을 구하라."
      ],
      "metadata": {
        "id": "v4LymIkF7EfI"
      }
    },
    {
      "cell_type": "code",
      "source": [
        "n = 65\n",
        "x = 0.11\n",
        "s = 0.06\n",
        "confa = 0.05\n",
        "\n",
        "# scale\n",
        "scale = s /np.sqrt(n)\n",
        "norm.interval(1- confa, loc = x, scale = scale)"
      ],
      "metadata": {
        "colab": {
          "base_uri": "https://localhost:8080/"
        },
        "id": "OeT5Wp1U6vY6",
        "outputId": "b61c09cb-1ecb-49c8-eb2f-f155a5e6cd79"
      },
      "execution_count": 135,
      "outputs": [
        {
          "output_type": "execute_result",
          "data": {
            "text/plain": [
              "(0.09541378324239001, 0.12458621675760999)"
            ]
          },
          "metadata": {},
          "execution_count": 135
        }
      ]
    },
    {
      "cell_type": "markdown",
      "source": [
        "어떤 화학실험에서 구리 침전물량의 표준편차가 4.5g이라고 하자.\n",
        "이때 모평균에 대한 표본평균의 오차가 1.86g 이하가 될 확률이 최소한 99%가 되도록 한다면 몇 번의 실험을 반복해야 하는가?"
      ],
      "metadata": {
        "id": "aXoQWhhf7TvA"
      }
    },
    {
      "cell_type": "code",
      "source": [
        "std = 4.5\n",
        "ME = 1.86\n",
        "confa = 0.01\n",
        "\n",
        "z = norm.ppf(1 - confa / 2)\n",
        "\n",
        "(z * std / ME) ** 2"
      ],
      "metadata": {
        "colab": {
          "base_uri": "https://localhost:8080/"
        },
        "id": "YiX7GEBO7RgT",
        "outputId": "088a754e-c960-4769-e9c0-602748f69981"
      },
      "execution_count": 136,
      "outputs": [
        {
          "output_type": "execute_result",
          "data": {
            "text/plain": [
              "38.83589321617516"
            ]
          },
          "metadata": {},
          "execution_count": 136
        }
      ]
    },
    {
      "cell_type": "markdown",
      "source": [
        "(검정) 어느 다이어트 방법을 소개하는 책자에서 주장하기를 그 다이어트 방법을 이용하면 5주 동안 10 kg 넘게 체중을 줄일 수 있다고 한다.\n",
        "56명을 대상으로 해당 다이어트 방법을 이용하여 5주 동안의 체중 감소량을 조사하였더니 평균이 10.5 kg, 표준편차가 4.5 kg이었다고 한다.\n",
        "이 자료에 근거해서 그 책자의 주장이 옳다고 할 수 있는지 유의수준 5%로 검정하라."
      ],
      "metadata": {
        "id": "Pizlal7o71-e"
      }
    },
    {
      "cell_type": "code",
      "source": [
        "# 귀무 : 10kg이다\n",
        "# 대립 : x > 10kg 이다. (오른쪽검정)\n",
        "n = 56\n",
        "x = 10.5\n",
        "std = 4.5\n",
        "confa = 0.05\n",
        "\n",
        "mu = 10\n",
        "# Z_value\n",
        "z_value = norm.ppf(1 - confa /2)\n",
        "# SE\n",
        "se = std / np.sqrt(n)\n",
        "\n",
        "z_stat = (x - mu) / se\n",
        "print(z_stat)\n",
        "\n",
        "# p_value\n",
        "p_value  = 1 - norm.cdf(z_stat)\n",
        "print(p_value)"
      ],
      "metadata": {
        "colab": {
          "base_uri": "https://localhost:8080/"
        },
        "id": "YsdY3gqU7ked",
        "outputId": "86fdf733-931f-4f98-b303-52783ea57069"
      },
      "execution_count": 137,
      "outputs": [
        {
          "output_type": "stream",
          "name": "stdout",
          "text": [
            "0.8314794192830981\n",
            "0.2028514249796305\n"
          ]
        }
      ]
    },
    {
      "cell_type": "markdown",
      "source": [
        "(검정) 한 대학서점으로부터 임의로 추출한 40개의 영수증을 조사한 결과 표본평균  x¯¯¯\n",
        " = 5만 원 표본 표준편차 s=9천원이라고 한다.\n",
        "이 값들을 이용해서 한 번에 판매한 평균액수가 4.6만원 인지에 대해 유의수준 0.05에서 검정하라"
      ],
      "metadata": {
        "id": "TNCqd2Up8zRM"
      }
    },
    {
      "cell_type": "code",
      "source": [
        "n = 40\n",
        "x = 5\n",
        "std = 9\n",
        "conf = 0.05\n",
        "df = n - 1\n",
        "\n",
        "mu = 4.6\n",
        "# t_stat\n",
        "t_value = t.ppf(1 - conf/2, df)\n",
        "# se\n",
        "se = std/ np.sqrt(n)\n",
        "# 검정통계량\n",
        "t_stat = (x - mu)/ se\n",
        "print(t_stat)\n",
        "# 유의확률\n",
        "p_value = (1 - t.cdf(np.abs(t_stat),df)) * 2\n",
        "print(p_value)\n",
        "\n",
        "if p_value < conf :\n",
        "  print(\"귀무가설 기각\")\n",
        "else :\n",
        "  print('귀무가설 채택')"
      ],
      "metadata": {
        "colab": {
          "base_uri": "https://localhost:8080/"
        },
        "id": "3UtyI6nh8LjF",
        "outputId": "6d04e660-3019-43bf-9d7c-bd88f37c0776"
      },
      "execution_count": 138,
      "outputs": [
        {
          "output_type": "stream",
          "name": "stdout",
          "text": [
            "0.2810913475705229\n",
            "0.78012630639213\n",
            "귀무가설 채택\n"
          ]
        }
      ]
    },
    {
      "cell_type": "markdown",
      "source": [
        "새로운 치료법이 말기 암환자의 생명 연장에 기존의 치료보다 더 효과적이라는 주장이 있다. 기존 의 치료는 오랫동안 사용되어 왔으며 의학잡지의 기록에 의하여 평균 생존기간이 4.2년으로 알려 지고 있다. 새로운 치료법을 80명의 환자들에게 시행하여 그들의 생존기간을 기록한 결과 표본평 균과 표본표준편차는 각각 4.5년과 1.1년으로 밝혀졌다. 위의 주장은 이들 결과에 의해 뒷받침될 수 있는가? 유의수준 =0.05에서 검정하라 또한 p—value값도 계산하라."
      ],
      "metadata": {
        "id": "VxF4HF_R-CpF"
      }
    },
    {
      "cell_type": "code",
      "source": [
        "# H0 : 새로운 치료법이 더 효과적이지 않다.\n",
        "# H1 : 더 효과적이다\n",
        "\n",
        "n = 80\n",
        "mu = 4.2\n",
        "\n",
        "x = 4.5\n",
        "std = 1.1\n",
        "confa = 0.05\n",
        "\n",
        "# z_value\n",
        "z_value = norm.ppf(1 - confa/ 2 )\n",
        "# SE\n",
        "se = std / np.sqrt(n)\n",
        "# Z_stat\n",
        "z_sta = (x -mu) / se\n",
        "print(z_sta)\n",
        "\n",
        "# 유의확률\n",
        "p_value = 1 - norm.cdf(z_sta)\n",
        "print(p_value)"
      ],
      "metadata": {
        "colab": {
          "base_uri": "https://localhost:8080/"
        },
        "id": "oaeJADyy9aot",
        "outputId": "840846c2-8b5b-446a-c677-66491a42cfad"
      },
      "execution_count": 139,
      "outputs": [
        {
          "output_type": "stream",
          "name": "stdout",
          "text": [
            "2.4393468845452233\n",
            "0.007356918302264259\n"
          ]
        }
      ]
    },
    {
      "cell_type": "markdown",
      "source": [
        "한 회사에서는 땅콩, 호두, 마카다미아 등을 혼합하여 캔으로 판매하고 있는데 내용물의 25%가 값 비싼 마카다미아라는 표지를 붙이고 있다고 한다.\n",
        "이 표지가 과대선전일지도 모른다고 생각한 검사자가 35개의 캔을 임의로 추출하여 마카다미아의 혼합비율을 측정하였다.\n",
        "이들 측정치들의 평균과 표준편차는 각각 23.5%과 3.1로 밝혀졌다. 이들 결과들은 검사자의 신념을 지지할 수 있는 강한 증 거를 제시하는가?"
      ],
      "metadata": {
        "id": "XmCtCpGtBlss"
      }
    },
    {
      "cell_type": "code",
      "source": [
        "mu = 25\n",
        "n = 35\n",
        "x = 23.5\n",
        "std = 3.1\n",
        "\n",
        "confa = 0.05\n",
        "\n",
        "z_val = norm.ppf(1 - confa /2)\n",
        "se = std / np.sqrt(n)\n",
        "\n",
        "z_stat = (mu - x) / se\n",
        "\n",
        "p_value = (1 - norm.cdf(np.abs(z_stat))) * 2\n",
        "print(z_stat, p_value)"
      ],
      "metadata": {
        "colab": {
          "base_uri": "https://localhost:8080/"
        },
        "id": "tRxaUS2ZBm6s",
        "outputId": "60bfe9c3-af9a-44a6-f786-1c99782d60b5"
      },
      "execution_count": 140,
      "outputs": [
        {
          "output_type": "stream",
          "name": "stdout",
          "text": [
            "2.862619249886911 0.004201551212699384\n"
          ]
        }
      ]
    },
    {
      "cell_type": "markdown",
      "source": [
        "어느 통신판매회사에서는 하나의 새로운 상품을 그 달의 특별상품으로 판매하고자 한다. 그 회사에서 관리하는 만 명의 고객명단에서 임의로 250명을 추출하여 안내책자를 발송한 결과 그 중 70명이 구입을 희망 하였다고 한다.\n",
        "이 표본자료에 근거해서 전체 고객 중 그 상품에 대한 구입을 원하는 모비율(p)을 추정하고, 그 추정량의 표준오차를 구하라."
      ],
      "metadata": {
        "id": "YnBnMCyqCBRy"
      }
    },
    {
      "cell_type": "code",
      "source": [
        "n = 250\n",
        "p = 70 / 250\n",
        "print(f'모비율: {p}')\n",
        "\n",
        "SE = np.sqrt(p * (1 - p) / n)\n",
        "print(SE)\n"
      ],
      "metadata": {
        "colab": {
          "base_uri": "https://localhost:8080/"
        },
        "id": "yOIiVHMTB7PT",
        "outputId": "d4ae35f2-8a95-4d47-943e-e8fdec2665fe"
      },
      "execution_count": 141,
      "outputs": [
        {
          "output_type": "stream",
          "name": "stdout",
          "text": [
            "모비율: 0.28\n",
            "0.028397182958878157\n"
          ]
        }
      ]
    },
    {
      "cell_type": "markdown",
      "source": [
        "한 도시의 노동인구 500명 중 41 명이 실업자로 나타났다고 하였다. 이 자료로부터 그 도시의 실업률 p에 대한 95% 신뢰구간을 구하라."
      ],
      "metadata": {
        "id": "2ZLpqVu8bKUk"
      }
    },
    {
      "cell_type": "code",
      "source": [
        "n = 500\n",
        "p = 41 / 500\n",
        "confa = 0.05\n",
        "\n",
        "# z_value\n",
        "z_value = norm.ppf(1 - confa/ 2)\n",
        "\n",
        "# SE\n",
        "se = np.sqrt(p * (1 -p) / n)\n",
        "\n",
        "# ME\n",
        "ME = z_value * se\n",
        "print(p - ME, p + ME)\n",
        "\n",
        "# 라이브러리 검정\n",
        "norm.interval(0.95, loc = p , scale = se)"
      ],
      "metadata": {
        "colab": {
          "base_uri": "https://localhost:8080/"
        },
        "id": "G5wTk04DCP81",
        "outputId": "fae499c3-83ec-491c-953b-e9eb01011b7d"
      },
      "execution_count": 142,
      "outputs": [
        {
          "output_type": "stream",
          "name": "stdout",
          "text": [
            "0.05795131379112069 0.10604868620887932\n"
          ]
        },
        {
          "output_type": "execute_result",
          "data": {
            "text/plain": [
              "(0.05795131379112069, 0.10604868620887932)"
            ]
          },
          "metadata": {},
          "execution_count": 142
        }
      ]
    },
    {
      "cell_type": "markdown",
      "source": [
        "공중보건에 관한 조사에서 시각장애인의 비율 p\n",
        " 을 추정하고자 한다. 만약 이 조사에서 얻어지는 p에 대한 추정량의 오차가 0.05 이하가 될 확률이 최소한 98%가 되기를 원하다면 </br>\n",
        "(1) p가 알려져 있지 않은 경우</br>\n",
        "(2) p가 0.2이하로 알려진 경우 </br>\n",
        "몇 명을 대상으로 시력장애 여부를 조사하여야 하겠는가?"
      ],
      "metadata": {
        "id": "psakWZwBbogM"
      }
    },
    {
      "cell_type": "code",
      "source": [
        "ME = 0.05\n",
        "confa = 0.02\n",
        "# z_value\n",
        "z = norm.ppf(1 - 0.02 /2)\n",
        "\n",
        "# P가 알려져 있지 않은 경우 p = 0.5\n",
        "p = 0.5\n",
        "print((z * np.sqrt(p * (1- p)) / ME) **2 )\n",
        "\n",
        "# P가 알려진 경우 p = 0.2 이하\n",
        "p = 0.2\n",
        "n = (z * np.sqrt(p * (1 - p)) / ME) ** 2\n",
        "print(n)"
      ],
      "metadata": {
        "colab": {
          "base_uri": "https://localhost:8080/"
        },
        "id": "Bi9ltXvJblTm",
        "outputId": "1f0a0e22-79be-436b-dde9-87cef476b500"
      },
      "execution_count": 143,
      "outputs": [
        {
          "output_type": "stream",
          "name": "stdout",
          "text": [
            "541.1894431054338\n",
            "346.3612435874777\n"
          ]
        }
      ]
    },
    {
      "cell_type": "markdown",
      "source": [
        "어떤 특정한 암의 경우에 수술을 시행한 후 완치되는 비율(5년 이상 생존비율)이 30%라고 한다. 이 암에 걸린 60명의 환자를 대상으로 수술뿐 아니라 수술 전후에 일정기간 방사선치료를 병행하였더니 60명 중 27명이 완치되었다고 한다. 이 자료로부터 수술만 하는 것보다 방사선치료를 병행하는 것이 암의 완치율(p)을 높이는 데 효과가 있다고 할 수 있는지 검정하라."
      ],
      "metadata": {
        "id": "mBeTMXh8eTCk"
      }
    },
    {
      "cell_type": "code",
      "source": [
        "# 귀무가설 : p = 0.3\n",
        "# 대립가설 : p > 0.3  (오른쪽검정)\n",
        "p_hat = 0.3\n",
        "n = 60\n",
        "p = 27 /60\n",
        "confa = 0.05\n",
        "\n",
        "Z = (p - p_hat) / np.sqrt(p_hat * (1 - p_hat) / n)\n",
        "\n",
        "p_value = 1 - norm.cdf(Z)\n",
        "print(Z, p_value)"
      ],
      "metadata": {
        "colab": {
          "base_uri": "https://localhost:8080/"
        },
        "id": "Ix6fPUp1cONS",
        "outputId": "ae788af4-d0e1-4138-9403-f73495a89c60"
      },
      "execution_count": 144,
      "outputs": [
        {
          "output_type": "stream",
          "name": "stdout",
          "text": [
            "2.53546276418555 0.005614943326458288\n"
          ]
        }
      ]
    },
    {
      "cell_type": "markdown",
      "source": [
        "3년동안 한 산업단지 내의 잣나무 중 90%가 죽은것으로 밝혀졌다.공해에 저항력이 강한 새로운 종이 현재 연구 중에 있는데,\n",
        "첫 실험의 반응을 관찰한 결과, 같은 지역에서 3년 동안 새로운 종 45개체의 묘목 중에 28개체가 죽었다고 한다.\n",
        "새로운 종의 3년간의 고사율을 추정하고 90% 신뢰구간을 구하라."
      ],
      "metadata": {
        "id": "r6XsMdP7fbr4"
      }
    },
    {
      "cell_type": "code",
      "source": [
        "p_hat = 0.9\n",
        "n = 45\n",
        "p = 28 / 45\n",
        "confa = 0.1\n",
        "\n",
        "# Z_value\n",
        "z_value = norm.ppf(1 - confa/ 2)\n",
        "# SE\n",
        "se = np.sqrt(p * (1- p)/ n)\n",
        "# ME\n",
        "ME = z_value * se\n",
        "print(p - ME, p + ME)"
      ],
      "metadata": {
        "colab": {
          "base_uri": "https://localhost:8080/"
        },
        "id": "Gt2YC1YTfJXl",
        "outputId": "92772cb1-a592-44c8-a294-b5a45adb8b2d"
      },
      "execution_count": 145,
      "outputs": [
        {
          "output_type": "stream",
          "name": "stdout",
          "text": [
            "0.5033413555654802 0.7411030888789643\n"
          ]
        }
      ]
    },
    {
      "cell_type": "markdown",
      "source": [
        "한 심리학 실험에서 각 개인은 어떤 자극에 대하여 A와 B의 두 가지 중 한 가지의 반응만 할 수 있도록 허용되었다.\n",
        "실험자는 A 반응을 보이는 사람의 비율  ρ\n",
        " 를 구하려고 한다.\n",
        "만약 실험자가 추정치의 오차가 0.04보다 작을 확률이 최소한 90%가 되게 하려면 최소한 몇 명의 사람들이 그 실 험에 필요하겠는가"
      ],
      "metadata": {
        "id": "d3hgIlJHf6bL"
      }
    },
    {
      "cell_type": "code",
      "source": [
        "E = 0.04\n",
        "confa = 0.1\n",
        "\n",
        "# 주어지지 않은 경우\n",
        "p = 0.5\n",
        "z_value = norm.ppf(1 - confa/ 2)\n",
        "print((z_value * np.sqrt(p * (1-p)) / E) **2 )\n",
        "\n",
        "# 다른 식\n",
        "1/4 * (z_value / E) **2"
      ],
      "metadata": {
        "colab": {
          "base_uri": "https://localhost:8080/"
        },
        "id": "fyvOTeG0fzNP",
        "outputId": "a39c2de0-0c13-4997-e402-98d9d6cec1e4"
      },
      "execution_count": 146,
      "outputs": [
        {
          "output_type": "stream",
          "name": "stdout",
          "text": [
            "422.74116470240824\n"
          ]
        },
        {
          "output_type": "execute_result",
          "data": {
            "text/plain": [
              "422.74116470240824"
            ]
          },
          "metadata": {},
          "execution_count": 146
        }
      ]
    },
    {
      "cell_type": "markdown",
      "source": [
        "3년동안 한 산업단지 내의 잣나무 중 90%가 죽은 것으로 밝혀졌다.공해에 저항력이 강한 새로운 종이 현재 연구 중에 있는데, 첫 실험의 반응을 관찰한 결과,\n",
        "같은 지역에서 3년 동안 새로운 종 45개체의 묘목 중에 28개체가 죽었다고 한다. 95% 신뢰를 가지고 추정의 오차가 0.08 안에 들게 하려면\n",
        "3년 동안 재배되고 관찰될 새로운 나무의 수는 최소한 얼마가 되어야 하는가?"
      ],
      "metadata": {
        "id": "zY0-N6ABgbKf"
      }
    },
    {
      "cell_type": "code",
      "source": [
        "p_hat = 0.9\n",
        "n = 45\n",
        "p = 28/45\n",
        "confa = 0.05\n",
        "E = 0.08\n",
        "\n",
        "# Z_value\n",
        "z_value = norm.ppf(1 - confa/2)\n",
        "\n",
        "(z_value * np.sqrt(p * (1 -p)) / E) ** 2"
      ],
      "metadata": {
        "colab": {
          "base_uri": "https://localhost:8080/"
        },
        "id": "np3DNF8_gMA3",
        "outputId": "78f3b83d-69cc-4920-efa2-60b0a703eac6"
      },
      "execution_count": 147,
      "outputs": [
        {
          "output_type": "execute_result",
          "data": {
            "text/plain": [
              "141.0906171798151"
            ]
          },
          "metadata": {},
          "execution_count": 147
        }
      ]
    },
    {
      "cell_type": "markdown",
      "source": [
        "전화 인터뷰를 통한 설문조사에서 980명의 성인 중 78%가 공해방지를 위한 새로운 법률 제정을 지지하는 것으로 나타났다. 이 결과가 75%보다 많은 성인 인구가 새로운 공해방지 법안을 지지한 다고 하는 추측을 잘 실증하고 있는가? (P - 값을 계산하여 설명하라.)"
      ],
      "metadata": {
        "id": "-kBwoHNbhRZ5"
      }
    },
    {
      "cell_type": "code",
      "source": [
        "n = 980\n",
        "p_hat = 0.78\n",
        "\n",
        "p = 0.75\n",
        "confa = 0.05\n",
        "\n",
        "# 검정통계량\n",
        "Z = (p_hat - p) / np.sqrt(p * (1 -p)/ n)\n",
        "p_value = 1 - norm.cdf(Z)\n",
        "print(Z)\n",
        "print(p_value)"
      ],
      "metadata": {
        "colab": {
          "base_uri": "https://localhost:8080/"
        },
        "id": "dB5eKnppgt_U",
        "outputId": "4eb5bbb2-a1ff-4acc-b6a9-13e2e4cca53b"
      },
      "execution_count": 148,
      "outputs": [
        {
          "output_type": "stream",
          "name": "stdout",
          "text": [
            "2.1688706738761554\n",
            "0.015046251877931738\n"
          ]
        }
      ]
    },
    {
      "cell_type": "markdown",
      "source": [
        "어떤 연구자가 모평균을 추정하고자 하는데, 오차가 2.5 이하일 확률이 최소한 95%가 되도록 표본의 크기를 정하려고 한다. 만약 σ= 18로 주어져 있다면 표본의 크기는 얼마로 해야 하겠는가?"
      ],
      "metadata": {
        "id": "A_MTkq4hhu47"
      }
    },
    {
      "cell_type": "code",
      "source": [
        "E = 2.5\n",
        "confa = 0.05\n",
        "sigma = 18\n",
        "\n",
        "z_value = norm.ppf(1 - confa/2)\n",
        "\n",
        "(z_value * sigma / E) ** 2"
      ],
      "metadata": {
        "colab": {
          "base_uri": "https://localhost:8080/"
        },
        "id": "kYqV28nshnQL",
        "outputId": "1f74fb8b-c5e9-409b-e389-4ed4a12033c2"
      },
      "execution_count": 149,
      "outputs": [
        {
          "output_type": "execute_result",
          "data": {
            "text/plain": [
              "199.14122526478346"
            ]
          },
          "metadata": {},
          "execution_count": 149
        }
      ]
    },
    {
      "cell_type": "markdown",
      "source": [
        "어느 도시의 교육청에서는 올해부터 실시한 수돗물의 불소화 시행이 그 지역 초등학생 중 충치가 있는 비율에 어떤 변화를 주었는지 관심이 있다고 한다.\n",
        "올해 초등학생의 충치비율을 라고 하자 초등학생의 충치비율이 60%는 넘지 않는다고 알려져 있을 때, p 에 대한 추정량의 95% 오차범위 가 0.03을 넘지 않으려면 몇 명의 학생을 검사해야 하겠는가?"
      ],
      "metadata": {
        "id": "proi5w1yiGaM"
      }
    },
    {
      "cell_type": "code",
      "source": [
        "E = 0.03\n",
        "p = 0.6\n",
        "confa = 0.05\n",
        "\n",
        "# Z_value\n",
        "z_value = norm.ppf(1 - confa/2)\n",
        "# 표본의 크기\n",
        "(z_value * np.sqrt(p * (1-p)) / E) ** 2"
      ],
      "metadata": {
        "colab": {
          "base_uri": "https://localhost:8080/"
        },
        "id": "rMsz9vBnh_Jr",
        "outputId": "bc6d5040-8cc1-45a8-9a13-0bb7b0a245ff"
      },
      "execution_count": 150,
      "outputs": [
        {
          "output_type": "execute_result",
          "data": {
            "text/plain": [
              "1024.3890188517667"
            ]
          },
          "metadata": {},
          "execution_count": 150
        }
      ]
    },
    {
      "cell_type": "markdown",
      "source": [
        "### 표본의 크기가 작을때"
      ],
      "metadata": {
        "id": "WTNEYF3Cigro"
      }
    },
    {
      "cell_type": "markdown",
      "source": [
        "우주선 제작에 쓰기 위해서 새롭게 개발된 합금의 평균 장력 μ를 추정하고자 한다. 15개의 새 합금 조각으로부터 장력을 측정한 결과 평균이 39.3, 표준편차가 2.6으로 나타났다.\n",
        "(1) 새롭게 개발된 합금의 평균장력 μ에 대한 90% 신뢰구간을 구하라."
      ],
      "metadata": {
        "id": "j3BiB7wBil8P"
      }
    },
    {
      "cell_type": "code",
      "source": [
        "n = 15\n",
        "x = 39.3\n",
        "s = 2.6\n",
        "confa = 0.1\n",
        "df = n - 1 # 자유도\n",
        "\n",
        "t_value = t.ppf(1 - confa/2 , df)\n",
        "# SE\n",
        "se = s / np.sqrt(n)\n",
        "# ME\n",
        "ME = t_value * se\n",
        "# 신뢰구간\n",
        "print(x- ME, x + ME)\n",
        "\n",
        "# 라이브러리검정\n",
        "t.interval(0.90, df, loc = x , scale = se)"
      ],
      "metadata": {
        "colab": {
          "base_uri": "https://localhost:8080/"
        },
        "id": "mWHfSFmLiZSU",
        "outputId": "0e30a9e8-110c-46f9-c038-dc1cc5b65fe9"
      },
      "execution_count": 151,
      "outputs": [
        {
          "output_type": "stream",
          "name": "stdout",
          "text": [
            "38.117602363950525 40.48239763604947\n"
          ]
        },
        {
          "output_type": "execute_result",
          "data": {
            "text/plain": [
              "(38.117602363950525, 40.48239763604947)"
            ]
          },
          "metadata": {},
          "execution_count": 151
        }
      ]
    },
    {
      "cell_type": "markdown",
      "source": [
        "어느 도시의 보건복지과에서는 그 도시의 상수원인 어느 호수의 수질에 관심이 있다고 한다. 수질을 나타내는 하나의 수치로 단위부피당 평균 세균수가 있는데, 그 수가 200 이상이면 상수원으로 적합 하지 않다고 한다. 호수의 열 군데에서 물을 떠서 조사한 결과 단위부피당 세균수가 다음과 같이 나타 났다. </br>\n",
        "    175 190 215 198 184 207 210 193 196 180 </br>\n",
        "이 자료로부터 호수의 단위부피당 평균 세균수(μ)가 200보다 적다고 주장할 수 있겠는가?"
      ],
      "metadata": {
        "id": "Oe0Uo4QojN-Y"
      }
    },
    {
      "cell_type": "code",
      "source": [
        "from scipy.stats import ttest_1samp\n",
        "# 귀무 : 200이다\n",
        "# 대립 : u < 200 (단측검정)\n",
        "data = [175, 190 ,215 ,198, 184, 207, 210, 193, 196, 180]\n",
        "\n",
        "x = np.mean(data)\n",
        "s = np.std(data, ddof = 1)  #자유도 1로 표본 표준편차 계산\n",
        "n = len(data)\n",
        "df = n - 1\n",
        "confa = 0.05\n",
        "mu = 200\n",
        "\n",
        "stat , p_value = ttest_1samp(data, mu)\n",
        "print(p_value/ 2)\n"
      ],
      "metadata": {
        "colab": {
          "base_uri": "https://localhost:8080/"
        },
        "id": "FXkJWd3Pivsp",
        "outputId": "b8cf3c54-ff94-48fe-ffac-59b527a178a0"
      },
      "execution_count": 152,
      "outputs": [
        {
          "output_type": "stream",
          "name": "stdout",
          "text": [
            "0.12113884687382763\n"
          ]
        }
      ]
    },
    {
      "cell_type": "code",
      "source": [
        "data = [175, 190 ,215 ,198, 184, 207, 210, 193, 196, 180]\n",
        "x = np.mean(data)\n",
        "s = np.std(data, ddof = 1)  #자유도 1로 표본 표준편차 계산\n",
        "n = len(data)\n",
        "df = n - 1\n",
        "confa = 0.05\n",
        "mu = 200\n",
        "\n",
        "# SE\n",
        "se = s / np.sqrt(n)\n",
        "# 검정통계량\n",
        "t_stat = (x - mu) / se\n",
        "print(t_stat)\n",
        "# P_value\n",
        "t.cdf(t_stat, df)\n"
      ],
      "metadata": {
        "colab": {
          "base_uri": "https://localhost:8080/"
        },
        "id": "CIMm_5CojXhu",
        "outputId": "f2273149-6824-4471-a08c-311096635661"
      },
      "execution_count": 153,
      "outputs": [
        {
          "output_type": "stream",
          "name": "stdout",
          "text": [
            "-1.2515695604210733\n"
          ]
        },
        {
          "output_type": "execute_result",
          "data": {
            "text/plain": [
              "0.12113884687382763"
            ]
          },
          "metadata": {},
          "execution_count": 153
        }
      ]
    },
    {
      "cell_type": "markdown",
      "source": [
        "호수오염을 조사하기 위해서 호수 바닥의 침전물층의 상단 25곳에서 각각 1000 cm3의 표본을 채 취하여 납의 농도를 측정하였다.\n",
        "이들 측정치들의 표본평균과 표준편차는 각각 0.38과 0.06으로 나타났다.\n",
        "호수바닥에서 침전물 1000 cm3 당 납의 평균 농도에 대한 99% 신뢰구간을 구하라."
      ],
      "metadata": {
        "id": "alnOjilmmFdG"
      }
    },
    {
      "cell_type": "code",
      "source": [
        "n = 25\n",
        "x = 0.38\n",
        "s = 0.06\n",
        "confa = 0.1\n",
        "df = n - 1\n",
        "\n",
        "t_value = t.ppf(1 - confa/2, df)\n",
        "\n",
        "se = s / np.sqrt(n)\n",
        "ME = se * t_value\n",
        "print(x - ME, x + ME)\n",
        "\n",
        "t.interval(0.99, df, loc = x , scale = se)"
      ],
      "metadata": {
        "colab": {
          "base_uri": "https://localhost:8080/"
        },
        "id": "6nnEa5KYlLfW",
        "outputId": "a3f8d98f-f2af-42d2-ba61-c40f82722402"
      },
      "execution_count": 154,
      "outputs": [
        {
          "output_type": "stream",
          "name": "stdout",
          "text": [
            "0.35946941504108687 0.40053058495891314\n"
          ]
        },
        {
          "output_type": "execute_result",
          "data": {
            "text/plain": [
              "(0.34643672594272634, 0.41356327405727367)"
            ]
          },
          "metadata": {},
          "execution_count": 154
        }
      ]
    },
    {
      "cell_type": "markdown",
      "source": [
        "(복습) 정규모집단으로부터 크기가 18인 표본을 이용하여 모평균  μ\n",
        " 에 대한 90% 신뢰구간을 계산하여 (122, 146)의 결과를 얻었다.\n",
        "이 결과를 사용하여 아래의 문제에 대하여 답하라. </br>\n",
        "(1) 모평균 μ의 추정값과 추정량의 90% 오차범위를 구하라. </br>\n",
        "(2) 모평균 μ에 대한 95% 신뢰구간을 구하라."
      ],
      "metadata": {
        "id": "hDG-XAzlA7jO"
      }
    },
    {
      "cell_type": "code",
      "source": [
        "n = 18\n",
        "confa  = 0.1\n",
        "\n",
        "# 1) 추정값\n",
        "mean = (122 + 146) /2\n",
        "# 2) 오차 범위\n",
        "se = (146 - 122) / 2\n",
        "# 3) 표준오차\n",
        "z_value = norm.ppf(1 -  confa/ 2)\n",
        "std_error = se / z_value\n",
        "print(se)\n",
        "\n",
        "# 95% 신뢰구간\n",
        "z_value_95 = norm.ppf(1 - 0.05 / 2)\n",
        "\n",
        "error_95 = z_value_95 * std_error\n",
        "print(mean - error_95 , mean + error_95)\n"
      ],
      "metadata": {
        "colab": {
          "base_uri": "https://localhost:8080/"
        },
        "id": "SitnE_b4l5zL",
        "outputId": "d79b22af-b804-46da-e073-0537b170974a"
      },
      "execution_count": 155,
      "outputs": [
        {
          "output_type": "stream",
          "name": "stdout",
          "text": [
            "12.0\n",
            "119.70111806357433 148.29888193642566\n"
          ]
        }
      ]
    },
    {
      "cell_type": "markdown",
      "source": [
        "어느 지방법원의 기록에 과실치사 사고를 낸 19명의 피고인들에 대한 선고형량이 적혀 있다고 한다. 이 선고형량의 평균과 표준편차는 각각 72.7개월과 10.2개월로 나타났다. 이 범죄에 대한 선고 형량의 평균에 대한 95% 신뢰구간을 구하라."
      ],
      "metadata": {
        "id": "FpkLzmf0DVgd"
      }
    },
    {
      "cell_type": "code",
      "source": [
        "x = 72.7\n",
        "s = 10.2\n",
        "confa = 0.05\n",
        "df = n-1\n",
        "n = 19\n",
        "\n",
        "# t_value\n",
        "t_value = t.ppf(1 - confa / 2, df = n-1)\n",
        "# SE\n",
        "se = s / np.sqrt(n)\n",
        "# ME\n",
        "ME = t_value * se\n",
        "print(x - ME, x + ME)\n",
        "t.interval(0.95, df, loc = x , scale = se)"
      ],
      "metadata": {
        "colab": {
          "base_uri": "https://localhost:8080/"
        },
        "id": "Z-Ys3nSvBorz",
        "outputId": "5208b65b-67e5-40ca-8525-f0a3a450f53c"
      },
      "execution_count": 156,
      "outputs": [
        {
          "output_type": "stream",
          "name": "stdout",
          "text": [
            "67.78375736899949 77.61624263100052\n"
          ]
        },
        {
          "output_type": "execute_result",
          "data": {
            "text/plain": [
              "(67.76294613097456, 77.63705386902545)"
            ]
          },
          "metadata": {},
          "execution_count": 156
        }
      ]
    },
    {
      "cell_type": "markdown",
      "source": [
        "정규모집단으로부터 크기가 9인 표본을 추출하여 평균과 표준편차를 계산하였더니 각각  x  =8.3과 s=1.2였다고한다. 모평균  μ  에 대한 95% 신뢰구간을 구하고, 유의수준 5%로 가설  H0 :μ  =8.5 대  H1:μ≠ 8.5를 검정하라."
      ],
      "metadata": {
        "id": "gvOLDJu-R1yi"
      }
    },
    {
      "cell_type": "code",
      "source": [
        "n = 9\n",
        "x = 8.3\n",
        "s = 1.2\n",
        "conf_a = 0.95\n",
        "df = n - 1\n",
        "mu = 8.5\n",
        "\n",
        "# t value\n",
        "t_val = t.ppf(1 - confa / 2, df)\n",
        "# SE\n",
        "se = s / np.sqrt(n)\n",
        "# 검정통계량\n",
        "t_stat = (x - mu) / se\n",
        "print(t_stat)\n",
        "# p_value\n",
        "p_val = (1 - t.cdf(np.abs(t_stat), df)) * 2\n",
        "print(p_val)"
      ],
      "metadata": {
        "id": "0R2AyjJdCLaq",
        "colab": {
          "base_uri": "https://localhost:8080/"
        },
        "outputId": "292700e8-df98-492f-b5a3-17fbd08c7df3"
      },
      "execution_count": 157,
      "outputs": [
        {
          "output_type": "stream",
          "name": "stdout",
          "text": [
            "-0.4999999999999983\n",
            "0.6305360755569773\n"
          ]
        }
      ]
    },
    {
      "cell_type": "markdown",
      "source": [
        "8명의 환자에 대하여 3주 동안 체지방이 감소하는 양을 기록하였다. </br>\n",
        "1.8 10.6 -1.2 12.9 15.1 -2.0 6.25 10.8 </br>\n",
        "(1) 3주 동안의 체지방 감소량의 모평균 M에 대한 95% 신뢰구간을 구하라. </br>\n",
        "(2) \"평균이 6.5이다\"에 대하여 유의수준 =0.05로 검정하고 (1)의 결과와 비교하라."
      ],
      "metadata": {
        "id": "Eb0g7aZTSul8"
      }
    },
    {
      "cell_type": "code",
      "source": [
        "data = [1.8 ,10.6 ,-1.2 ,12.9 ,15.1, -2.0 ,6.25, 10.8]\n",
        "\n",
        "mean = np.mean(data)\n",
        "s = np.std(data, ddof = 1)\n",
        "n = len(data)\n",
        "df = n - 1\n",
        "confa= 0.05\n",
        "# 1) 신뢰구간\n",
        "#  SE\n",
        "se = s / np.sqrt(n)\n",
        "# conf_t\n",
        "conf_t = t.ppf(1 - confa/ 2 , df)\n",
        "# ME\n",
        "ME = se * conf_t\n",
        "print(mean - ME , mean + ME)\n",
        "print(t.interval(0.95 , df, loc = mean, scale = se))\n",
        "\n",
        "# 2) 평균이 6.5이다.\n",
        "mu = 6.5\n",
        "# 검정통계량\n",
        "t_stat = (mean - mu) / se\n",
        "pval = (1 - t.cdf(np.abs(t_stat), df)) * 2\n",
        "print(\"귀무가설을 기각하며 평균이 6.5가 아니다\" if pval < 0.05 else \"평균이 6.5이다\")"
      ],
      "metadata": {
        "colab": {
          "base_uri": "https://localhost:8080/"
        },
        "id": "OfcMfnNaTYVi",
        "outputId": "404edc01-2207-4980-f86c-a5842ca05dbe"
      },
      "execution_count": 158,
      "outputs": [
        {
          "output_type": "stream",
          "name": "stdout",
          "text": [
            "1.2783732247662831 12.284126775233716\n",
            "(1.2783732247662831, 12.284126775233716)\n",
            "평균이 6.5이다\n"
          ]
        }
      ]
    },
    {
      "cell_type": "markdown",
      "source": [
        "볼트와 너트를 생산하는 한 공장에서는 제품의 품질이 얼마나 균일하게 유지되는지를 검사하려고 10 개의 볼트를 추출하여 지름을 측정하고 그 표준편차를 구하였더니 0.4였다. </br>\n",
        "그 공장에서 생산되는 볼트의 지름이 정규분포를 따른다는 가정하에 </br>\n",
        "(1) σ의 90% 신뢰구간을 구하라. </br>\n",
        "(2) σ가 0.2보다 크다고 할 수 있는지 유의수준 0.05로 검정하라"
      ],
      "metadata": {
        "id": "8aIswlehUxO9"
      }
    },
    {
      "cell_type": "code",
      "source": [
        "from scipy.stats import chi2\n",
        "n = 10\n",
        "s = 0.4\n",
        "confa = 0.1\n",
        "df = n - 1\n",
        "# 1) 신뢰구간\n",
        "c1 = chi2.ppf(1 - confa / 2, df)\n",
        "c2 = chi2.ppf(confa /2, df)\n",
        "\n",
        "cr1 = df * (s **2) /c1\n",
        "cr2 = df * (s **2) / c2\n",
        "print(cr1, cr2)\n",
        "\n",
        "# 2) 검정 (95%) sigma > 0.2 (우측 검정)\n",
        "sigma_nu = 0.2\n",
        "stat = df * (s **2) / sigma_nu ** 2\n",
        "\n",
        "p_val = (1 - chi2.cdf(stat, df))\n",
        "print(p_val)\n",
        "\n",
        "# 통계량 > 임계치 = 기각"
      ],
      "metadata": {
        "colab": {
          "base_uri": "https://localhost:8080/"
        },
        "id": "e-bHPLGwSWyF",
        "outputId": "85a62727-d074-455f-cd6e-bf3206aa7aa9"
      },
      "execution_count": 159,
      "outputs": [
        {
          "output_type": "stream",
          "name": "stdout",
          "text": [
            "0.08511152586470397 0.4330680094068209\n",
            "3.964658798039089e-05\n"
          ]
        }
      ]
    },
    {
      "cell_type": "markdown",
      "source": [
        "오수침전물이 비료로 쓰였던 6개의 대표적인 정원에서 양상추잎을 대상으로 중금속인 카드뮴 (Cd)과 아연(Zn)의 농도를 측정하여 아래와 같은 값을 얻었다. </br>\n",
        "\n",
        "카드뮴 21 38 12 15 14 8 </br>\n",
        "아연 140 190 130 150 160 140 </br>\n",
        "\n",
        "(1) 카드뮴 농도의 모표준편차에 대하여 90% 신뢰구간을 구하라 </br>\n",
        "(2) 아연 농도의 모표준편차가 30 미만이라는 강력한 증거가 있는가? (유의수준 0.10로 검정하라.)"
      ],
      "metadata": {
        "id": "CylpM4_bZUvp"
      }
    },
    {
      "cell_type": "code",
      "source": [
        "ca = [21, 38, 12 ,15 ,14, 8]\n",
        "zinc = [140 ,190 ,130 ,150 ,160 ,140]\n",
        "\n",
        "# 1) 모표준편차의 신뢰구간\n",
        "ca_var = np.std(ca, ddof = 1) ** 2\n",
        "ca_n = len(ca)\n",
        "ca_df = ca_n - 1\n",
        "confa = 0.1\n",
        "\n",
        "cr1 = chi2.ppf(1- confa / 2, ca_df)\n",
        "cr2 = chi2.ppf(confa/ 2, ca_df)\n",
        "\n",
        "# 신뢰구간\n",
        "c1 = (df * ca_var) / cr1\n",
        "c2 = (df * ca_var) / cr2\n",
        "# 모분산의 신뢰구간\n",
        "print(c1 , c2)\n",
        "# 모표준편차의 신뢰구간 = np.sqrt()\n",
        "print(np.sqrt(c1) , np.sqrt(c2))\n",
        "\n",
        "# 2. s < 30 이다.\n",
        "n_z = len(zinc)\n",
        "df_z = n_z - 1\n",
        "std_z = np.std(zinc, ddof = 1)\n",
        "var_z = std_z ** 2\n",
        "\n",
        "sigma_z = 30\n",
        "\n",
        "stat = df_z * var_z / (sigma_z) ** 2\n",
        "print(stat)\n",
        "p_val = 1 - chi2.cdf(stat, df_z)\n",
        "print(p_val)\n"
      ],
      "metadata": {
        "colab": {
          "base_uri": "https://localhost:8080/"
        },
        "id": "6C9T696rYKqm",
        "outputId": "e45941c2-0369-4366-d8b0-fe43437de490"
      },
      "execution_count": 160,
      "outputs": [
        {
          "output_type": "stream",
          "name": "stdout",
          "text": [
            "92.67876010677429 895.6973323902695\n",
            "9.626980840677636 29.928202959587626\n",
            "2.537037037037037\n",
            "0.7709071820164667\n"
          ]
        }
      ]
    },
    {
      "cell_type": "markdown",
      "source": [
        "다음에 주어진 자료를 파이썬을 이용하여 분석하고자 한다.\n",
        "31 35 37 38 38 38 39 40 40 41 42 43 44 44 46 48\n",
        "모평균이나 모표준편차에 대한 추론을 위해서는 모집단의 정규분포 가정이 필요하다. 우선 정규확률 그림을 그리고 정규성 가정에 대한 적합성을 밝히고, 모평균에 대한 95% 신뢰구간을 구하라. 모평균 이 38보다 크다고 할 수 있는지 유의수준 5%로 검정하라"
      ],
      "metadata": {
        "id": "sQ3M2Gywdlo8"
      }
    },
    {
      "cell_type": "code",
      "source": [
        "import matplotlib.pyplot as plt\n",
        "from scipy.stats import probplot\n",
        "import seaborn as sns\n",
        "\n",
        "data = np.array([31, 35, 37, 38, 38, 38, 39, 40, 40, 41, 42, 43, 44, 44, 46, 48])\n",
        "probplot(data, dist = 'norm' , plot = plt)\n",
        "\n",
        "# 모평균에 대한 95% 신뢰구간\n",
        "mean = np.mean(data)\n",
        "std = np.std(data, ddof = 1)\n",
        "n = len(data)\n",
        "df = n -1\n",
        "confa = 0.05\n",
        "\n",
        "# conf_t\n",
        "conf_t = t.ppf(1 - confa / 2 , df)\n",
        "# SE\n",
        "se = std / np.sqrt(n)\n",
        "# ME\n",
        "ME = conf_t * se\n",
        "print(mean - ME, mean + ME)\n",
        "print(t.interval(0.95, df,  loc = mean, scale = se))\n",
        "\n",
        "# x > 38 검정\n",
        "m0 = 38\n",
        "t_stat = (mean - m0) / se\n",
        "print(t_stat)\n",
        "p_val = 1  - t.cdf(t_stat, df)\n",
        "print(p_val)"
      ],
      "metadata": {
        "colab": {
          "base_uri": "https://localhost:8080/",
          "height": 541
        },
        "id": "wUmpf7lhaDd2",
        "outputId": "05f9fb70-3ff6-4b5e-cdd7-e262bf8f7f98"
      },
      "execution_count": 161,
      "outputs": [
        {
          "output_type": "stream",
          "name": "stdout",
          "text": [
            "37.97673136750427 42.52326863249573\n",
            "(37.97673136750427, 42.52326863249573)\n",
            "2.109632539223229\n",
            "0.026050840503660355\n"
          ]
        },
        {
          "output_type": "display_data",
          "data": {
            "text/plain": [
              "<Figure size 640x480 with 1 Axes>"
            ],
            "image/png": "[encoded data removed]"
          },
          "metadata": {}
        }
      ]
    },
    {
      "cell_type": "markdown",
      "source": [
        "21그루의 식물이 꽃을 피우는 데 걸리는 기간의 평균이 39일이고 표준편차가 5.1일이었다 꽃이 피는 데 걸리는 평균 기간에 대한 95% 신뢰구간을 구하라"
      ],
      "metadata": {
        "id": "jQX22BF_tk0F"
      }
    },
    {
      "cell_type": "code",
      "source": [
        "x = 39\n",
        "s = 5.1\n",
        "confa = 0.05\n",
        "n = 21\n",
        "\n",
        "# SE\n",
        "se = s / np.sqrt(n)\n",
        "\n",
        "t.interval(0.95 , n-1 , loc = x , scale = se)\n"
      ],
      "metadata": {
        "colab": {
          "base_uri": "https://localhost:8080/"
        },
        "id": "pvDpdUL_tluS",
        "outputId": "a8f80c5b-ce3b-492b-c954-4a58efd9764a"
      },
      "execution_count": 162,
      "outputs": [
        {
          "output_type": "execute_result",
          "data": {
            "text/plain": [
              "(36.67850783288408, 41.32149216711592)"
            ]
          },
          "metadata": {},
          "execution_count": 162
        }
      ]
    },
    {
      "cell_type": "markdown",
      "source": [
        "한 체중감량프로그램은 ‘4개월에 12 kg 감량’이라는 광고를 하였다.\n",
        "25명의 고객을 대상으로 체중 감량을 조사한 결과  x  =15 kg, s = 5 kg을 얻었다.\n",
        "가설 H0 :  μ = 12 대 H1 :  μ  > 12에 대하여 유의수준 α= 0.05에서 검정하라"
      ],
      "metadata": {
        "id": "LoJ_aDl7uPwz"
      }
    },
    {
      "cell_type": "code",
      "source": [
        "n = 25\n",
        "x = 15\n",
        "s = 5\n",
        "\n",
        "mu = 12\n",
        "confa = 0.05\n",
        "df = n - 1\n",
        "\n",
        "# conf_t\n",
        "t_val = t.ppf(1 - confa/ 2, df)\n",
        "# SE\n",
        "se = s / np.sqrt(s)\n",
        "# 검정 통계량\n",
        "t_stat = (x - mu) / se\n",
        "# p_val\n",
        "p_val = 1 - t.cdf(t_stat, df)\n",
        "\n",
        "if t_stat > p_val :\n",
        "  print('귀무가설기각')\n",
        "else :\n",
        "  print('귀무가설채택')\n"
      ],
      "metadata": {
        "colab": {
          "base_uri": "https://localhost:8080/"
        },
        "id": "aTfuzL13uW0-",
        "outputId": "ae0e3e88-8c8b-40da-d1ca-edbfd13bab8a"
      },
      "execution_count": 163,
      "outputs": [
        {
          "output_type": "stream",
          "name": "stdout",
          "text": [
            "귀무가설기각\n"
          ]
        }
      ]
    },
    {
      "cell_type": "markdown",
      "source": [
        "### 두 집단 비교"
      ],
      "metadata": {
        "id": "KXgYQG8qvJJb"
      }
    },
    {
      "cell_type": "markdown",
      "source": [
        "봉지에 과자를 담는 두 대의 기계 A와 B가 있다. 이 두 기계가 담는 과자의 평균무게의 차에 대한 추 론을 하기 위해서 A기계로부터 나온 과자 50봉지, B기계로부터 100봉지의 무게를 조사한 결과 평균이 각각 453g 과 401g 이고 표준편차가 각각 80g과 60g으로 나왔다.이 두기계의 모평균을 각각  μa\n",
        " 와  μb =  라고 할 때,  μa =   -  μb  의 95% 신뢰구간을 구하라"
      ],
      "metadata": {
        "id": "Clzy_vMwvEfR"
      }
    },
    {
      "cell_type": "code",
      "source": [
        "n1 = 50\n",
        "n2 = 100\n",
        "\n",
        "x1 = 453\n",
        "x2 = 40\n",
        "\n",
        "s1 = 80\n",
        "s2 = 60\n",
        "\n",
        "confa  = 0.05\n",
        "diff = x1 - x2\n",
        "\n",
        "# 두 평균의 표준오차\n",
        "se = np.sqrt((s1 **2 / n1) + (s2 ** 2 / n2))\n",
        "\n",
        "# 임계값\n",
        "conf_z = norm.ppf(1 - confa / 2)\n",
        "# ME\n",
        "ME = se * conf_z\n",
        "print(diff - ME, diff + ME)\n",
        "print(norm.interval(0.95, loc = diff, scale = se))"
      ],
      "metadata": {
        "colab": {
          "base_uri": "https://localhost:8080/"
        },
        "id": "OBVPaB4MvEGq",
        "outputId": "3d2680b8-8973-4e56-ba22-e9f76e839df9"
      },
      "execution_count": 164,
      "outputs": [
        {
          "output_type": "stream",
          "name": "stdout",
          "text": [
            "387.9002142121922 438.0997857878078\n",
            "(387.9002142121922, 438.0997857878078)\n"
          ]
        }
      ]
    },
    {
      "cell_type": "markdown",
      "source": [
        "지방의 한 도시에서 작은 개천을 사이에 두고 남북으로 나뉘어 있는 두 지역의 집값을 비교하고자 최근에 매매가 이루어진 집을 대상으로\n",
        "남쪽에서 13가구, 북쪽에서 11 가구의 집값을 조사하였더니 다음과 같았다.\n",
        "남쪽: 표본수=13, 표본평균=2.4억원, 표본표준편차=0.72억원\n",
        "북쪽: 표본수=11, 표본평균=2.15억원. 표본표준편차=0.35억원\n",
        "유의수준 5%로 두 지역의 집값에 차가 있다고 할 수 있는지 검정하라."
      ],
      "metadata": {
        "id": "Tdnr5Fs-xMXn"
      }
    },
    {
      "cell_type": "code",
      "source": [
        "n1 = 13\n",
        "n2 = 11\n",
        "\n",
        "x1 = 2.4\n",
        "x2 = 2.15\n",
        "\n",
        "s1 = 0.72\n",
        "s2 = 0.35\n",
        "confa = 0.05\n",
        "d0 = 0\n",
        "\n",
        "# d\n",
        "d = x1 - x2\n",
        "# df\n",
        "df =  n1 + n2 - 2\n",
        "# pv\n",
        "pv = (s1**2 * (n1 -1) + s2**2 * (n2-1))/ df\n",
        "se = np.sqrt(pv) * np.sqrt(1/n1 + 1/n2)\n",
        "#conf_t\n",
        "conf_t = 1 - t.ppf(1 - confa/ 2, df)\n",
        "\n",
        "# 검정통계량\n",
        "t_stat = (x1 - x2 - d0) /  se\n",
        "print(t_stat)\n",
        "\n",
        "# p_value\n",
        "p_value = (1 - t.cdf(np.abs(t_stat), df)) * 2\n",
        "print(p_value)"
      ],
      "metadata": {
        "colab": {
          "base_uri": "https://localhost:8080/"
        },
        "id": "WBIO3rd-xNRE",
        "outputId": "2de890d2-14e9-4252-8721-6887a3ba0793"
      },
      "execution_count": 165,
      "outputs": [
        {
          "output_type": "stream",
          "name": "stdout",
          "text": [
            "1.0489579134807328\n",
            "0.30558491999629345\n"
          ]
        }
      ]
    },
    {
      "cell_type": "markdown",
      "source": [
        "집단 A과 집단 B로부터 각각 66명, 38명의 어린이를 임의로 뽑아서 그들의 언어능력를 점수로 계산 한 통계량이 다음과 같다. </br>\n",
        "(1) 두 집단 간 언어능력의 차이가 있는가? (유의수준 a = 0.01로 검정하라.) </br>\n",
        "(2) 두 어린이 집단의 모평균 점수차에 대한 98% 신뢰구간을 계산하라."
      ],
      "metadata": {
        "id": "OQcD8VWJy8j_"
      }
    },
    {
      "cell_type": "code",
      "source": [
        "import pandas as pd\n",
        "from scipy.stats import stats\n",
        "\n",
        "df= pd.read_csv('https://raw.githubusercontent.com/Datamanim/datarepo/main/stats/stats1.csv')\n",
        "df['group'] = df['ID'].str.split('_').str[0]\n",
        "\n",
        "\n",
        "group_a = df[df.group == 'A']['data']\n",
        "group_b = df[df.group == 'B']['data']\n",
        "\n",
        "t_stat, p_val = stats.ttest_ind(group_a , group_b , equal_var = False)\n",
        "print(p_val)\n",
        "\n",
        "\n",
        "# 98%의 신뢰구간\n",
        "a_mean = np.mean(group_a)\n",
        "b_mean = np.mean(group_b)\n",
        "\n",
        "a_std = np.std(group_a)\n",
        "b_std = np.std(group_b)\n",
        "\n",
        "a_n = len(group_a)\n",
        "b_n = len(group_b)\n",
        "\n",
        "diff = a_mean - b_mean\n",
        "confa = 0.02\n",
        "\n",
        "# 표준오차\n",
        "se = np.sqrt((a_std **2 / a_n) + (b_std **2 / b_n))\n",
        "# t_임계값\n",
        "t_critical = t.ppf(1 - confa /2 , min(a_n-1 , b_n -1))\n",
        "# ME\n",
        "ME = se * t_critical\n",
        "\n",
        "print(diff - ME , diff + ME)"
      ],
      "metadata": {
        "colab": {
          "base_uri": "https://localhost:8080/"
        },
        "id": "HpdlNxdfzClA",
        "outputId": "9a7da964-97aa-4625-877d-0d719b6fc6ba"
      },
      "execution_count": 166,
      "outputs": [
        {
          "output_type": "stream",
          "name": "stdout",
          "text": [
            "0.6002726885798457\n",
            "-22.714770129244116 14.538583526373472\n"
          ]
        },
        {
          "output_type": "stream",
          "name": "stderr",
          "text": [
            "<ipython-input-166-a2e451bda746>:11: DeprecationWarning: Please import `ttest_ind` from the `scipy.stats` namespace; the `scipy.stats.stats` namespace is deprecated and will be removed in SciPy 2.0.0.\n",
            "  t_stat, p_val = stats.ttest_ind(group_a , group_b , equal_var = False)\n"
          ]
        }
      ]
    },
    {
      "cell_type": "markdown",
      "source": [
        "여성보다 남성이 작업하는데 시간이 오래 걸린다고 할 수 있는지 검정하라."
      ],
      "metadata": {
        "id": "67svcSv-2qf0"
      }
    },
    {
      "cell_type": "code",
      "source": [
        "import scipy.stats as stats\n",
        "\n",
        "df = pd.read_csv('https://raw.githubusercontent.com/Datamanim/datarepo/main/stats/stats2.csv')\n",
        "\n",
        "df['gender'] = df['ID'].str.split('_').str[0]\n",
        "df['gender'].value_counts()\n",
        "\n",
        "m =  df[df['gender'] == 'MALE']['data']\n",
        "f =  df[df['gender'] == 'FEMALE']['data']\n",
        "\n",
        "\n",
        "\n",
        "m_mean = np.mean(m)\n",
        "f_mean = np.mean(f)\n",
        "\n",
        "m_std = np.std(m)\n",
        "f_std = np.std(f)\n",
        "diff = m_mean - f_mean\n",
        "\n",
        "m_n = len(m)\n",
        "f_n = len(f)\n",
        "confa = 0.05\n",
        "df = n1 + n2 - 2\n",
        "\n",
        "se = np.sqrt((m_std**2 / m_n) + (f_std**2 / f_n))\n",
        "\n",
        "#검정통계량\n",
        "stat = diff/ se\n",
        "print(stat)\n",
        "\n",
        "t_stat , p_val = stats.ttest_ind(m,f,  equal_var=False)\n",
        "print(t_stat ,p_val)"
      ],
      "metadata": {
        "colab": {
          "base_uri": "https://localhost:8080/"
        },
        "id": "BnCI88DG2TZQ",
        "outputId": "15449189-cd1e-4436-98d5-a40e1300aed6"
      },
      "execution_count": 167,
      "outputs": [
        {
          "output_type": "stream",
          "name": "stdout",
          "text": [
            "3.2275311510123785\n",
            "3.189951126116517 0.0020017819882986307\n"
          ]
        }
      ]
    },
    {
      "cell_type": "markdown",
      "source": [
        "어떤 약의 부작용으로 혈압강하의 효과가 있는지 알아보기 위해서 15명의 환자를 대상으로 약의 복용 전후의 이완기 혈압을 측정하였더니 그 결과가 다음과 같았다. </br>\n",
        "(1) 평균혈압 전 후 차이값에 대한95% 신뢰구간을 구하라. </br>\n",
        "(2) 이 자료로부터 약이 혈압을 내린다는 주장을 할 수 있겠는가? 유의수준 1 % 로 검정하라."
      ],
      "metadata": {
        "id": "6cdJ-6yGOze5"
      }
    },
    {
      "cell_type": "code",
      "source": [
        "df = pd.read_csv('https://raw.githubusercontent.com/Datamanim/datarepo/main/stats/stats3.csv')\n",
        "df['before_after']= df['상태'].str.split(' ').str[1].map({'전':'before' , '후' :'after'})\n",
        "\n",
        "before = df[df['before_after'] == 'before' ]['혈압']\n",
        "after = df[df['before_after'] == 'after' ]['혈압']\n",
        "\n",
        "confa = 0.05\n",
        "# 차이\n",
        "diff = before.values - after.values\n",
        "mean_d = np.mean(diff)\n",
        "std_d = np.std(diff)\n",
        "n = len(diff)\n",
        "\n",
        "# t- 분포 임계값\n",
        "t_val = t.ppf(1 - confa / 2, df = n -1)\n",
        "# se\n",
        "se = std_d / np.sqrt(n)\n",
        "# ME\n",
        "ME = t_val * se\n",
        "print(mean_d - ME , mean_d + ME)\n",
        "\n",
        "\n",
        "## 1%에서 약이 혈압을 내린다는 가설 검정\n",
        "# 귀무 : 혈압 감소 차이가 없다\n",
        "# 대립 : 혈압 감소 차이가 있다.\n",
        "\n",
        "t_stat , p_val = stats.ttest_rel(before, after)\n",
        "# 단측 검정 / 2\n",
        "\n",
        "p_val_one_sided = p_val / 2\n",
        "print(p_val_one_sided)"
      ],
      "metadata": {
        "colab": {
          "base_uri": "https://localhost:8080/"
        },
        "id": "hIyXFbvENKNl",
        "outputId": "342f9e58-719f-45dc-e614-2a700955bf03"
      },
      "execution_count": 168,
      "outputs": [
        {
          "output_type": "stream",
          "name": "stdout",
          "text": [
            "2.928174466263884 14.671825533736119\n",
            "0.0038747180533270594\n"
          ]
        }
      ]
    },
    {
      "cell_type": "markdown",
      "source": [
        "어떤 화학적인 처리가 씨의 발아비율을 높이는 데 효과가 있는가를 알아보기 위해서 100개의 화학적 으로 처리된 씨와 150개의 처리되지 않은 보통의 씨를 파종하여 발아되는 것을 관찰하였다. 그 결과 화학적으로 처리된 씨 중에서는 88개, 보통의 씨 중에서는 126개가 발아되었다. 화학적으로 처리된 씨와 처리되지 않은 보통의 씨의 발아비율의 차에 대한 95% 신뢰구간을 구하라."
      ],
      "metadata": {
        "id": "4LIsRpRDbUC2"
      }
    },
    {
      "cell_type": "code",
      "source": [
        "p1 = 88 /100\n",
        "p2 = 126/150\n",
        "\n",
        "n1 = 100\n",
        "n2 = 150\n",
        "\n",
        "confa = 0.95\n",
        "# diff\n",
        "diff = p1 - p2\n",
        "# SE\n",
        "se = np.sqrt(p1 * (1 - p1) / n1 + p2 * (1 - p2) / n2)\n",
        "# conf_z\n",
        "conf_z = norm.ppf(1 - confa / 2)\n",
        "# ME\n",
        "ME = se * conf_z\n",
        "\n",
        "#신뢰구간\n",
        "print(diff - ME, diff + ME)\n",
        "\n",
        "# 라이브러리 검정\n",
        "import statsmodels.api as sm\n",
        "n1, n2 = 100, 150\n",
        "s1, s2 = 88, 126 # 성공횟수\n",
        "\n",
        "nobs = np.array([n1, n2])\n",
        "count = np.array([s1, s2])\n",
        "\n",
        "conf = sm.stats.proportion_confint(count, nobs, alpha = 0.05 , method = 'normal')\n",
        "print(conf[0][0] , conf[1][1])"
      ],
      "metadata": {
        "colab": {
          "base_uri": "https://localhost:8080/"
        },
        "id": "LAIvrPUgSMSv",
        "outputId": "f1246af6-59b3-4f8d-dc94-1f10a892779a"
      },
      "execution_count": 173,
      "outputs": [
        {
          "output_type": "stream",
          "name": "stdout",
          "text": [
            "0.037229523997570464 0.04277047600242961\n",
            "0.8163087092715731 0.8986681097645214\n"
          ]
        }
      ]
    },
    {
      "cell_type": "markdown",
      "source": [
        "두 집단 A와 B에서 각각 100명을 뽑아 약을 투약한 후 효과가 있었는지 설문했다. </br>\n",
        "(1) 두 집단간 효과 정도가 같은지 검정하라 (유의수준 0.05) </br>\n",
        "(2) 효과율 (yes응답 비율)의 집단간 차이에 대한 95% 신뢰구간을 구하여라."
      ],
      "metadata": {
        "id": "gcpJtQHYzPT8"
      }
    },
    {
      "cell_type": "code",
      "source": [
        "df = pd.read_csv('https://raw.githubusercontent.com/Datamanim/datarepo/main/stats/stats4.csv')\n",
        "df['group'] = df['집단'].str.split('_').str[0]\n",
        "\n",
        "# yes 와 총 표본의 수\n",
        "yes = df.groupby('group')['응답'].apply(lambda x : (x == '예').sum())\n",
        "all = df.groupby('group')['응답'].count()\n",
        "\n",
        "# 두 집단의 효과정도가 같은지 검정\n",
        "from statsmodels.stats.proportion import proportions_ztest, proportion_confint\n",
        "count = np.array(yes)\n",
        "nobs = np.array(all)\n",
        "\n",
        "z_stat, p_val = proportions_ztest(count, nobs)\n",
        "print(p_val)\n",
        "\n",
        "# 차이에 대한 신뢰구간 - 수기 검정\n",
        "na = df[df['group'] == 'A']['group'].count()\n",
        "nb = df[df['group'] == 'B']['group'].count()\n",
        "\n",
        "pa = df[(df['응답'] == '예') & (df['group'] == 'A')]['group'].count() / na\n",
        "pb = df[(df['응답'] == '예') & (df['group'] == 'B')]['group'].count() / nb\n",
        "\n",
        "# diff\n",
        "diff = pa-pb\n",
        "# se\n",
        "se = np.sqrt(pa * (1-pa) / na + pb * (1- pb) / nb)\n",
        "# confa\n",
        "conf_z = norm.ppf(1- 0.05/2)\n",
        "# ME\n",
        "ME = conf_z * se\n",
        "# 신뢰구간\n",
        "print(diff - ME, diff + ME)\n",
        "\n",
        "\n",
        "# 라이브러리\n",
        "confint = sm.stats.proportion_confint(count, nobs, alpha=0.05)\n",
        "print(confint[0][0] , confint[1][1])\n",
        "se"
      ],
      "metadata": {
        "colab": {
          "base_uri": "https://localhost:8080/"
        },
        "id": "HJkLFodizR9j",
        "outputId": "59e660c2-0d62-4aa9-ae95-14fbb5ad3b59"
      },
      "execution_count": 215,
      "outputs": [
        {
          "output_type": "stream",
          "name": "stdout",
          "text": [
            "2.7870331884762378e-06\n",
            "0.1997692789954515 0.46023072100454854\n",
            "0.5248660051214322 0.3789357279826797\n"
          ]
        },
        {
          "output_type": "execute_result",
          "data": {
            "text/plain": [
              "0.06644546636152085"
            ]
          },
          "metadata": {},
          "execution_count": 215
        }
      ]
    },
    {
      "cell_type": "markdown",
      "source": [
        "금연패치를 이용하는 것이 금연에 효과가 있는가를 알아보려고 실험을 하였다. 금연을 원하는 80 명의 흡연자들 중에서 임의로 42명을 뽑아서 금연패치를 사용하게 하고 다른 38명의 흡연자들에겐 가짜패치를 사용하게 하였다. 4주 후에 금연패치 사용자 중 27명이, 가짜패치 사용자 중 14명이 담배를 끊었다. 이들 결과로부터 금연패치 사용이 담배를 끊게 하는 비율을 높인다고 할 수 있는가? P—값을 이용하여 답하라"
      ],
      "metadata": {
        "id": "kvBYTat6444i"
      }
    },
    {
      "cell_type": "code",
      "source": [
        "n1 = 42\n",
        "n2 = 38\n",
        "\n",
        "p1 = 27/42\n",
        "p2 = 14/38\n",
        "\n",
        "confa = 0.05\n",
        "\n",
        "d = p1 - p2\n",
        "z_val = norm.ppf(1 - confa/ 2)\n",
        "\n",
        "# 가설검정\n",
        "# 합동표본비율\n",
        "pe = (n1* p1 + n2 * p2) / (n1 + n2)\n",
        "# 합동분산의 SE\n",
        "se = np.sqrt(pe * (1 -p) * (1/n1 + 1/n2))\n",
        "\n",
        "z_sta = d / se\n",
        "conf_z = norm.ppf(1 - confa/ 2)\n",
        "p_value = 1 - norm.cdf(z_sta)\n",
        "\n",
        "if p_value < confa :\n",
        "  print('귀무가설을 기각, 금연패치가 효과적이다.')\n",
        "else :\n",
        "  print('귀무가설을 채택, 금연패치가 효과적이지 않다')"
      ],
      "metadata": {
        "colab": {
          "base_uri": "https://localhost:8080/"
        },
        "id": "9rSz8PAg2-xd",
        "outputId": "9e50a44d-c349-4e7a-9b92-d82cc0ced9e1"
      },
      "execution_count": 228,
      "outputs": [
        {
          "output_type": "stream",
          "name": "stdout",
          "text": [
            "귀무가설을 기각, 금연패치가 효과적이다.\n"
          ]
        }
      ]
    },
    {
      "cell_type": "markdown",
      "source": [
        "## 범주형 분석"
      ],
      "metadata": {
        "id": "6LFxJqqP8QPx"
      }
    },
    {
      "cell_type": "markdown",
      "source": [
        "스트레스를 받는 직종에 근무하는 185명에 대한 조사를 통하여 다음과 같은 표를 얻었다. 우울증의 유무와 알콜 중독과 관계가 있는가? 유의수준 α = 0.1로 검정하라."
      ],
      "metadata": {
        "id": "8k-W5AE88asP"
      }
    },
    {
      "cell_type": "code",
      "source": [
        "# 귀무가설(H₀): 우울증 증세와 알코올 중독은 독립적이다 (관계가 없다).\n",
        "# 대립가설(H₁): 우울증 증세와 알코올 중독은 독립적이지 않다 (관계가 있다).\n",
        "\n",
        "from scipy.stats import chi2_contingency\n",
        "data = np.array([[54,27],[22,82]])\n",
        "chi2, p_value, dof, expected = chi2_contingency(data)\n",
        "\n",
        "# 결과 출력\n",
        "print(f\"카이제곱 통계량: {chi2:.4f}\")\n",
        "print(f\"p-값: {p_value:.4f}\")\n",
        "print(f\"자유도: {dof}\")\n",
        "print(\"기대값 테이블:\")\n",
        "print(expected)"
      ],
      "metadata": {
        "colab": {
          "base_uri": "https://localhost:8080/"
        },
        "id": "xYo9T2QH2E27",
        "outputId": "a4d26184-8d97-4880-9263-f4bd979da1b5"
      },
      "execution_count": 231,
      "outputs": [
        {
          "output_type": "stream",
          "name": "stdout",
          "text": [
            "카이제곱 통계량: 37.1112\n",
            "p-값: 0.0000\n",
            "자유도: 1\n",
            "기대값 테이블:\n",
            "[[33.27567568 47.72432432]\n",
            " [42.72432432 61.27567568]]\n"
          ]
        }
      ]
    },
    {
      "cell_type": "markdown",
      "source": [
        "사형제도 폐지에 대한 대규모 여론조사 결과와 같은 조사를 임의로 선택한 200명의 법집행관들에게 질문한 결과가 다음과 같다.\n",
        "이 두 자료로부터 법집행관의 사형제도 폐지에 대한 견해가 일반인과 차이가 있다고 할 수 있는 가? (유의수준 α=0.05)"
      ],
      "metadata": {
        "id": "2GV138e_83Ok"
      }
    },
    {
      "cell_type": "markdown",
      "source": [
        "![image.png](data:image/png;base64,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)"
      ],
      "metadata": {
        "id": "ejSctMPx8zEM"
      }
    },
    {
      "cell_type": "code",
      "source": [
        "expected_percent = np.array([0.20, 0.30, 0.20, 0.20, 0.10])\n",
        "total_law_enforcers = 200\n",
        "observed = np.array([28, 36, 36, 52, 48])\n",
        "\n",
        "# 기대값 계산 (여론조사 비율에 맞추어 법집행관 수로 기대값 계산)\n",
        "expected = expected_percent * total_law_enforcers\n",
        "\n",
        "# 카이제곱 독립성 검정 수행\n",
        "chi2, p_value, dof, expected_table = chi2_contingency([observed, expected])\n",
        "\n",
        "# 결과 출력\n",
        "print(f\"카이제곱 통계량: {chi2:.4f}\")\n",
        "print(f\"p-값: {p_value:.4f}\")\n",
        "print(f\"자유도: {dof}\")\n",
        "print(\"기대값 테이블:\")"
      ],
      "metadata": {
        "colab": {
          "base_uri": "https://localhost:8080/"
        },
        "id": "hfOnok3I8k9Y",
        "outputId": "68c40d06-3665-41ce-a0a9-4994e128f84c"
      },
      "execution_count": 232,
      "outputs": [
        {
          "output_type": "stream",
          "name": "stdout",
          "text": [
            "카이제곱 통계량: 21.4228\n",
            "p-값: 0.0003\n",
            "자유도: 4\n",
            "기대값 테이블:\n"
          ]
        }
      ]
    },
    {
      "cell_type": "markdown",
      "source": [
        "## 비모수 통계\n",
        "A,B두가지 치료법에 대해 치료의 성공 유무를 나타내는 데이터이다.\n",
        "치료법이 특정 질병의 치료여부에 영향을 미치는지 검정하려한다.\n",
        "귀무가설과 대립가설 설정, 오즈비 및 검정결과를 유의수준 0.05하에서 해석하라"
      ],
      "metadata": {
        "id": "UEgEkpZO9GHr"
      }
    },
    {
      "cell_type": "code",
      "source": [
        "from scipy.stats import fisher_exact\n",
        "\n",
        "df = pd.read_csv('https://raw.githubusercontent.com/Datamanim/datarepo/main/stats/stats6.csv')\n",
        "\n",
        "cross = pd.crosstab(df['치료법'], df['치료결과'])\n",
        "odds , p_val = fisher_exact(cross)\n",
        "\n",
        "print(p_val)"
      ],
      "metadata": {
        "colab": {
          "base_uri": "https://localhost:8080/"
        },
        "id": "I0rgfmmK9JqN",
        "outputId": "656bc918-f1f5-443a-c3cb-f5cb1b82ca4c"
      },
      "execution_count": 235,
      "outputs": [
        {
          "output_type": "stream",
          "name": "stdout",
          "text": [
            "1.0\n"
          ]
        }
      ]
    },
    {
      "cell_type": "markdown",
      "source": [
        "두 상점의 5개월간 판매량이 아래와 같다.상점간의 판매량 차이가 존재하는지 검정하라(귀무가설 및 대립가설 설정 검정통계량 확인 및 유의확률에 대한 해석) </br>\n",
        "상점 A: [15, 20, 18, 10, 22] </br>\n",
        "상점 B: [12, 17, 14, 16, 11]"
      ],
      "metadata": {
        "id": "q0zEllVgBJWP"
      }
    },
    {
      "cell_type": "code",
      "source": [
        "A = [15, 20, 18, 10, 22]\n",
        "B = [12, 17, 14, 16, 11]\n",
        "\n",
        "# 대응 표본이 아니기 때문에 만 휘트니\n",
        "stat, p_val = stats.mannwhitneyu(A, B,  alternative='two-sided')"
      ],
      "metadata": {
        "id": "KpPOGLbh-R1n"
      },
      "execution_count": 237,
      "outputs": []
    },
    {
      "cell_type": "code",
      "source": [],
      "metadata": {
        "id": "TNY-VU_7-VcY"
      },
      "execution_count": null,
      "outputs": []
    }
  ]
}