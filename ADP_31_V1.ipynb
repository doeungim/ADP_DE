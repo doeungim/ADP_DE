{
 "cells": [
  {
   "cell_type": "code",
   "execution_count": 254,
   "id": "3497c1b0-422f-46c5-a1b0-c53a658c1f66",
   "metadata": {},
   "outputs": [],
   "source": [
    "import pandas as pd \n",
    "import numpy as np\n",
    "import matplotlib.pyplot as plt \n",
    "import seaborn as sns\n",
    "\n",
    "from scipy.stats import stats\n",
    "\n",
    "from sklearn.model_selection import train_test_split\n",
    "from sklearn.preprocessing import LabelEncoder , StandardScaler \n",
    "from sklearn.linear_model import LogisticRegression\n",
    "from sklearn.tree import DecisionTreeClassifier\n",
    "from sklearn.svm import SVC\n",
    "from sklearn.metrics import accuracy_score, f1_score , roc_auc_score , roc_curve\n",
    "from xgboost import XGBClassifier\n",
    "\n",
    "import warnings\n",
    "warnings.filterwarnings('ignore')\n",
    "\n",
    "import platform\n",
    "if platform.system() == 'Window' :\n",
    "    plt.rc('font', famiily = 'NanumGothic' )"
   ]
  },
  {
   "cell_type": "code",
   "execution_count": 97,
   "id": "b0dac7ed-2682-4ac0-8ebf-97238ef71fa6",
   "metadata": {},
   "outputs": [
    {
     "data": {
      "text/html": [
       "<div>\n",
       "<style scoped>\n",
       "    .dataframe tbody tr th:only-of-type {\n",
       "        vertical-align: middle;\n",
       "    }\n",
       "\n",
       "    .dataframe tbody tr th {\n",
       "        vertical-align: top;\n",
       "    }\n",
       "\n",
       "    .dataframe thead th {\n",
       "        text-align: right;\n",
       "    }\n",
       "</style>\n",
       "<table border=\"1\" class=\"dataframe\">\n",
       "  <thead>\n",
       "    <tr style=\"text-align: right;\">\n",
       "      <th></th>\n",
       "      <th>Gender</th>\n",
       "      <th>Age</th>\n",
       "      <th>Height</th>\n",
       "      <th>Weight</th>\n",
       "      <th>family_history_with_overweight</th>\n",
       "      <th>FAVC</th>\n",
       "      <th>FCVC</th>\n",
       "      <th>NCP</th>\n",
       "      <th>CAEC</th>\n",
       "      <th>SMOKE</th>\n",
       "      <th>CH2O</th>\n",
       "      <th>SCC</th>\n",
       "      <th>FAF</th>\n",
       "      <th>TUE</th>\n",
       "      <th>CALC</th>\n",
       "      <th>MTRANS</th>\n",
       "      <th>NObeyesdad</th>\n",
       "      <th>BMI</th>\n",
       "    </tr>\n",
       "  </thead>\n",
       "  <tbody>\n",
       "    <tr>\n",
       "      <th>0</th>\n",
       "      <td>male</td>\n",
       "      <td>27</td>\n",
       "      <td>1.80</td>\n",
       "      <td>87</td>\n",
       "      <td>no</td>\n",
       "      <td>no</td>\n",
       "      <td>always</td>\n",
       "      <td>3</td>\n",
       "      <td>sometimes</td>\n",
       "      <td>no</td>\n",
       "      <td>between 1 and 2 l</td>\n",
       "      <td>no</td>\n",
       "      <td>2 to 4</td>\n",
       "      <td>0 to 2</td>\n",
       "      <td>frequently</td>\n",
       "      <td>walking</td>\n",
       "      <td>overweight_level_i</td>\n",
       "      <td>26.851852</td>\n",
       "    </tr>\n",
       "    <tr>\n",
       "      <th>1</th>\n",
       "      <td>male</td>\n",
       "      <td>26</td>\n",
       "      <td>1.85</td>\n",
       "      <td>105</td>\n",
       "      <td>yes</td>\n",
       "      <td>yes</td>\n",
       "      <td>always</td>\n",
       "      <td>3</td>\n",
       "      <td>frequently</td>\n",
       "      <td>no</td>\n",
       "      <td>more than 2 l</td>\n",
       "      <td>no</td>\n",
       "      <td>2 to 4</td>\n",
       "      <td>&gt;5</td>\n",
       "      <td>sometimes</td>\n",
       "      <td>public_transportation</td>\n",
       "      <td>obesity_type_i</td>\n",
       "      <td>30.679328</td>\n",
       "    </tr>\n",
       "    <tr>\n",
       "      <th>2</th>\n",
       "      <td>male</td>\n",
       "      <td>41</td>\n",
       "      <td>1.80</td>\n",
       "      <td>99</td>\n",
       "      <td>no</td>\n",
       "      <td>yes</td>\n",
       "      <td>sometimes</td>\n",
       "      <td>3</td>\n",
       "      <td>sometimes</td>\n",
       "      <td>no</td>\n",
       "      <td>between 1 and 2 l</td>\n",
       "      <td>no</td>\n",
       "      <td>2 to 4</td>\n",
       "      <td>3 to 5</td>\n",
       "      <td>frequently</td>\n",
       "      <td>automobile</td>\n",
       "      <td>obesity_type_i</td>\n",
       "      <td>30.555556</td>\n",
       "    </tr>\n",
       "    <tr>\n",
       "      <th>3</th>\n",
       "      <td>female</td>\n",
       "      <td>29</td>\n",
       "      <td>1.53</td>\n",
       "      <td>78</td>\n",
       "      <td>no</td>\n",
       "      <td>yes</td>\n",
       "      <td>sometimes</td>\n",
       "      <td>1</td>\n",
       "      <td>sometimes</td>\n",
       "      <td>no</td>\n",
       "      <td>between 1 and 2 l</td>\n",
       "      <td>no</td>\n",
       "      <td>0</td>\n",
       "      <td>0 to 2</td>\n",
       "      <td>no</td>\n",
       "      <td>automobile</td>\n",
       "      <td>obesity_type_i</td>\n",
       "      <td>33.320518</td>\n",
       "    </tr>\n",
       "    <tr>\n",
       "      <th>4</th>\n",
       "      <td>female</td>\n",
       "      <td>23</td>\n",
       "      <td>1.65</td>\n",
       "      <td>70</td>\n",
       "      <td>yes</td>\n",
       "      <td>no</td>\n",
       "      <td>sometimes</td>\n",
       "      <td>1</td>\n",
       "      <td>sometimes</td>\n",
       "      <td>no</td>\n",
       "      <td>between 1 and 2 l</td>\n",
       "      <td>no</td>\n",
       "      <td>0</td>\n",
       "      <td>0 to 2</td>\n",
       "      <td>sometimes</td>\n",
       "      <td>public_transportation</td>\n",
       "      <td>overweight_level_i</td>\n",
       "      <td>25.711662</td>\n",
       "    </tr>\n",
       "  </tbody>\n",
       "</table>\n",
       "</div>"
      ],
      "text/plain": [
       "   Gender  Age  Height  Weight  ...        CALC                 MTRANS          NObeyesdad        BMI\n",
       "0    male   27    1.80      87  ...  frequently                walking  overweight_level_i  26.851852\n",
       "1    male   26    1.85     105  ...   sometimes  public_transportation      obesity_type_i  30.679328\n",
       "2    male   41    1.80      99  ...  frequently             automobile      obesity_type_i  30.555556\n",
       "3  female   29    1.53      78  ...          no             automobile      obesity_type_i  33.320518\n",
       "4  female   23    1.65      70  ...   sometimes  public_transportation  overweight_level_i  25.711662\n",
       "\n",
       "[5 rows x 18 columns]"
      ]
     },
     "execution_count": 97,
     "metadata": {},
     "output_type": "execute_result"
    }
   ],
   "source": [
    "df =pd.read_csv('https://raw.githubusercontent.com/Datamanim/datarepo/main/adp/31/adp_31_1_obesity_v2.csv',encoding= 'cp949')\n",
    "df = df.drop(['Unnamed: 0', 'id'] , axis = 1)\n",
    "df.head()"
   ]
  },
  {
   "cell_type": "markdown",
   "id": "347ee7f6-2463-454d-a024-8b3ec3787b3e",
   "metadata": {},
   "source": [
    "### 1-1 EDA & 결측치 및 이상치를 판단하고 설명"
   ]
  },
  {
   "cell_type": "code",
   "execution_count": 98,
   "id": "52872717-4c54-439a-a9e1-eeb83777af9f",
   "metadata": {},
   "outputs": [],
   "source": [
    "df = df.dropna()"
   ]
  },
  {
   "cell_type": "code",
   "execution_count": 99,
   "id": "3ae54f06-2424-4492-af0c-0e25d8725541",
   "metadata": {},
   "outputs": [
    {
     "data": {
      "text/plain": [
       "<Axes: >"
      ]
     },
     "execution_count": 99,
     "metadata": {},
     "output_type": "execute_result"
    },
    {
     "data": {
      "image/png": "[encoded data removed]",
      "text/plain": [
       "<Figure size 640x480 with 1 Axes>"
      ]
     },
     "metadata": {},
     "output_type": "display_data"
    }
   ],
   "source": [
    "## 이상치 판단 - box plot \n",
    "num_cols = df.select_dtypes(exclude ='object').columns\n",
    "df[num_cols].plot(kind = 'box')     "
   ]
  },
  {
   "cell_type": "code",
   "execution_count": 100,
   "id": "85240dd7-fb58-446e-a857-395fcb6600a7",
   "metadata": {},
   "outputs": [
    {
     "data": {
      "text/plain": [
       "<Axes: >"
      ]
     },
     "execution_count": 100,
     "metadata": {},
     "output_type": "execute_result"
    },
    {
     "data": {
      "image/png": "[encoded data removed]",
      "text/plain": [
       "<Figure size 640x480 with 1 Axes>"
      ]
     },
     "metadata": {},
     "output_type": "display_data"
    }
   ],
   "source": [
    "## 이상치 삭제 \n",
    "df1 = df.copy()\n",
    "df1 = df1[df1['Age'] < 100]\n",
    "df1[num_cols].plot(kind = 'box')     "
   ]
  },
  {
   "cell_type": "code",
   "execution_count": 101,
   "id": "f5e2c7ad-e73c-46f4-bd26-6434062c8e01",
   "metadata": {},
   "outputs": [],
   "source": [
    "# 피처 엔지니어링\n",
    "\n",
    "# 라벨 인코딩 (계산을 위해서)\n",
    "for col in df1.columns : \n",
    "    if df1[col].dtypes == 'object' :\n",
    "        le  = LabelEncoder()\n",
    "        df1[col] = le.fit_transform(df1[col])\n",
    "\n",
    "# 1) 식사횟수 * (고칼로리 + 알콜 섭취)\n",
    "df1['NCP_FAVC_CALC'] = df1['NCP'] * (df1['FAVC'] + df1['CALC'])\n",
    "\n",
    "# 2) FAF * TUE: This could show the potential impact of physical activity in relation to screen time.\n",
    "df1['FAF_TUE'] = df1['FAF'] * df1['TUE']"
   ]
  },
  {
   "cell_type": "markdown",
   "id": "b9e9ead7-d44a-4b8b-b0ce-715888fd4f4d",
   "metadata": {},
   "source": [
    "앙상블을 제외한 분류 모델 3가지 구축 및 결과 비교 및 설명b"
   ]
  },
  {
   "cell_type": "code",
   "execution_count": 165,
   "id": "1a8a3c26-7e3b-4acf-ba2c-52217eaff644",
   "metadata": {},
   "outputs": [
    {
     "data": {
      "text/html": [
       "<div>\n",
       "<style scoped>\n",
       "    .dataframe tbody tr th:only-of-type {\n",
       "        vertical-align: middle;\n",
       "    }\n",
       "\n",
       "    .dataframe tbody tr th {\n",
       "        vertical-align: top;\n",
       "    }\n",
       "\n",
       "    .dataframe thead th {\n",
       "        text-align: right;\n",
       "    }\n",
       "</style>\n",
       "<table border=\"1\" class=\"dataframe\">\n",
       "  <thead>\n",
       "    <tr style=\"text-align: right;\">\n",
       "      <th></th>\n",
       "      <th>0</th>\n",
       "      <th>1</th>\n",
       "    </tr>\n",
       "  </thead>\n",
       "  <tbody>\n",
       "    <tr>\n",
       "      <th>0</th>\n",
       "      <td>Linear</td>\n",
       "      <td>0.941064</td>\n",
       "    </tr>\n",
       "    <tr>\n",
       "      <th>1</th>\n",
       "      <td>Decisiton_Tree</td>\n",
       "      <td>0.941064</td>\n",
       "    </tr>\n",
       "    <tr>\n",
       "      <th>2</th>\n",
       "      <td>SCV</td>\n",
       "      <td>0.941064</td>\n",
       "    </tr>\n",
       "  </tbody>\n",
       "</table>\n",
       "</div>"
      ],
      "text/plain": [
       "                0         1\n",
       "0          Linear  0.941064\n",
       "1  Decisiton_Tree  0.941064\n",
       "2             SCV  0.941064"
      ]
     },
     "execution_count": 165,
     "metadata": {},
     "output_type": "execute_result"
    }
   ],
   "source": [
    "\n",
    "\n",
    "x = df1.drop('NObeyesdad', axis = 1)\n",
    "y = df1['NObeyesdad']\n",
    "\n",
    "# X_scaling \n",
    "ss = StandardScaler()\n",
    "s_x = pd.DataFrame(ss.fit_transform(x) , columns = x.columns)\n",
    "\n",
    "x_train, x_test, y_train, y_test = train_test_split(s_x, y, test_size = 0.3 , random_state= 1243) \n",
    "\n",
    "lr = LogisticRegression()\n",
    "dt = DecisionTreeClassifier()\n",
    "svc = SVC()\n",
    "\n",
    "lst = {}\n",
    "model_lst = []\n",
    "\n",
    "def modelling (model, name) :\n",
    "    model.fit(x_train, y_train)\n",
    "    y_pred = model.predict(x_test)\n",
    "    acc = f1_score(y_test, y_pred , average = 'weighted')\n",
    "    return {name : acc} , model \n",
    "\n",
    "for name ,models in (['Linear', lr], ['Decisiton_Tree', dt] , ['SCV', svc]) : \n",
    "    acc, model = modelling(model, name)\n",
    "    lst.update(acc)\n",
    "    model_lst.append(model)\n",
    "\n",
    "pd.DataFrame(lst.items())"
   ]
  },
  {
   "cell_type": "code",
   "execution_count": 150,
   "id": "3367803d-15b3-48f5-ad0c-549ea56e70db",
   "metadata": {},
   "outputs": [
    {
     "name": "stdout",
     "output_type": "stream",
     "text": [
      "Best Paramaters :  {'criterion': 'gini', 'max_depth': 5, 'min_samples_split': 2}\n",
      "Precision : 0.9795488579260813\n",
      "Recall : 0.9787798408488063\n",
      "              precision    recall  f1-score   support\n",
      "\n",
      "           0       1.00      0.94      0.97       108\n",
      "           1       0.95      0.99      0.97        99\n",
      "           2       0.97      1.00      0.98        91\n",
      "           3       1.00      1.00      1.00        79\n",
      "\n",
      "    accuracy                           0.98       377\n",
      "   macro avg       0.98      0.98      0.98       377\n",
      "weighted avg       0.98      0.98      0.98       377\n",
      "\n"
     ]
    }
   ],
   "source": [
    "from sklearn.model_selection import GridSearchCV\n",
    "from sklearn.metrics import classification_report, precision_score, recall_score\n",
    "\n",
    "param_grid = {\n",
    "    'criterion' : ['gini', 'entropy'] , \n",
    "    'max_depth' : [3, 5, 10] ,\n",
    "    'min_samples_split' : [2,5,10]    \n",
    "}\n",
    "\n",
    "grid_search = GridSearchCV(DecisionTreeClassifier(), param_grid, cv = 5)\n",
    "grid_search.fit(x_train, y_train)\n",
    "\n",
    "# 최적의 모델 \n",
    "best_model= grid_search.best_estimator_\n",
    "y_pred = best_model.predict(x_test)\n",
    "\n",
    "precision= precision_score(y_test, y_pred, average ='weighted')\n",
    "recall = recall_score(y_test, y_pred, average ='weighted')\n",
    "\n",
    "# 성능 출력 \n",
    "print(\"Best Paramaters : \", grid_search.best_params_)\n",
    "print(\"Precision :\" , precision)\n",
    "print(\"Recall :\" , recall)\n",
    "\n",
    "## 자세한 성능 평가 \n",
    "print(classification_report(y_test, y_pred))"
   ]
  },
  {
   "cell_type": "markdown",
   "id": "1a74c388-c94c-41b1-8bb9-7d8db6c7f9a7",
   "metadata": {},
   "source": [
    "2-1의 3가지 모델을 soft voting을 이용하여 모델링 한 결과와 2-2과 비교"
   ]
  },
  {
   "cell_type": "code",
   "execution_count": 164,
   "id": "c7e4cf86-fd31-4b5e-b53a-a65ccc8694d0",
   "metadata": {},
   "outputs": [
    {
     "name": "stdout",
     "output_type": "stream",
     "text": [
      "0.9893939622568299 0.9893899204244032\n"
     ]
    }
   ],
   "source": [
    "from sklearn.ensemble import VotingClassifier\n",
    "\n",
    "lr = LogisticRegression()\n",
    "dt = DecisionTreeClassifier()\n",
    "svc = SVC(probability = True)\n",
    "\n",
    "soft_voting = VotingClassifier(estimators = [('lr', lr) , ('dt', dt), ('svc', svc)] , voting = 'soft')\n",
    "soft_voting.fit(x_train, y_train)\n",
    "\n",
    "soft_pred = soft_voting.predict(x_test)\n",
    "soft_precision= precision_score(y_test, soft_pred, average ='weighted')\n",
    "soft_recall = recall_score(y_test, soft_pred, average ='weighted')\n",
    "\n",
    "print(soft_precision , soft_recall)"
   ]
  },
  {
   "cell_type": "markdown",
   "id": "a4c3f024-935e-4193-add0-1578ac880f00",
   "metadata": {},
   "source": [
    " 하나의 모델을 선정하여 Drop Column Importance 방식으로 각 변수 별로 전체 컬럼을 포함한 모델과의 recall 값의 차이를 계산하고 시각화"
   ]
  },
  {
   "cell_type": "code",
   "execution_count": 174,
   "id": "d2ced052-d2f0-4d75-af4d-2891a8f29f36",
   "metadata": {},
   "outputs": [
    {
     "data": {
      "image/png": "[encoded data removed]",
      "text/plain": [
       "<Figure size 640x480 with 1 Axes>"
      ]
     },
     "metadata": {},
     "output_type": "display_data"
    }
   ],
   "source": [
    "dt = DecisionTreeClassifier(random_state = 24)\n",
    "dt.fit(x_train, y_train)\n",
    "y_pred_full = dt.predict(x_test)\n",
    "recall_full = recall_score(y_test, y_pred_full , average= 'weighted')\n",
    "\n",
    "\n",
    "## Drop Columns Importance 방식으로 변수별 Recall 차이 \n",
    "lst = []\n",
    "\n",
    "for col in x.columns:\n",
    "    # 해당 변수를 제거한 데이터셋 준비\n",
    "    x_train_drop = x_train.drop(columns=[col])\n",
    "    x_test_drop = x_test.drop(columns=[col])\n",
    "    \n",
    "    # 모델 학습\n",
    "    dt.fit(x_train_drop, y_train)\n",
    "    y_pred_drop = dt.predict(x_test_drop)\n",
    "    \n",
    "    # Recall 계산\n",
    "    recall_drop = recall_score(y_test, y_pred_drop, average='weighted')\n",
    "\n",
    "    # 차이 계산 \n",
    "    recall_diff = recall_full - recall_drop \n",
    "    lst.append([col, recall_diff])\n",
    "\n",
    "recall_df = pd.DataFrame(lst, columns = ['Feature','Recall_diff'])\n",
    "\n",
    "plt.barh(recall_df['Feature'], recall_df['Recall_diff'])\n",
    "plt.gca().invert_yaxis()"
   ]
  },
  {
   "cell_type": "markdown",
   "id": "36288f80-9d0c-418b-80a6-0b63d61fe91d",
   "metadata": {},
   "source": [
    "4-1 아래의 기준으로 전처리를 하여 적정 체중 여부 컬럼을 생성하고 BMI를 5단위로 구분하여 와 적정 체중여부에 대한 빈도 표를 만들어라\n",
    "bmi 계산\n",
    "\n",
    "- Bmi = 몸무게(kg)/(키(m)**2)   \n",
    "\n",
    "만나이 구하기\n",
    "\n",
    "- 건강검진을 받았던 날을 기준으로 생년월일과 일수 차이가 16년 364일 이하인 경우 만 16세 그 이상의 경우 만 17로 분류하라\n",
    "- 윤년 등은 고려하지 않는다. 햇수로 16년 + 일수로 364일이 기준이다\n",
    "\n",
    "\n",
    "적정 체중 여부 (BMI가 아래 구간에 들어올 경우)\n",
    "17세 남자 : 21.03이상 23.21 미만\n",
    "17세 여자 : 20.03이상 22.39 미만\n",
    "16세 남자 : 21.18이상 23.45 미만\n",
    "16세 여자 : 19.61이상 21.74 미만"
   ]
  },
  {
   "cell_type": "code",
   "execution_count": 191,
   "id": "e4b352ea-a91f-4bc2-96f1-9ad4092a2e79",
   "metadata": {},
   "outputs": [],
   "source": [
    "from datetime import datetime \n",
    "\n",
    "df = pd.read_csv('https://raw.githubusercontent.com/Datamanim/datarepo/main/adp/31/adp_31_2_v2.csv')\n",
    "\n",
    "# 1) BMI \n",
    "df['BMI'] = df['weight'] / (df['키'] / 100) ** 2\n",
    "\n",
    "# 2) 만나이 \n",
    "df['생년월일'] = pd.to_datetime(df['생년월일'], format = '%Y%m%d')\n",
    "df['건강검진일']= pd.to_datetime(df['건강검진일'], format = '%Y_%m_%d')"
   ]
  },
  {
   "cell_type": "code",
   "execution_count": 196,
   "id": "2348a99d-86fa-4f08-8b59-6781552e064a",
   "metadata": {},
   "outputs": [],
   "source": [
    "df['diff'] = (df['건강검진일'] - df['생년월일'] ).dt.days \n",
    "df['만나이'] = df['diff'].map(lambda x : 16 if x <= 364 + 16 * 365 else 17)"
   ]
  },
  {
   "cell_type": "code",
   "execution_count": 219,
   "id": "4f9c1448-4c18-453f-93db-565af50188e0",
   "metadata": {},
   "outputs": [
    {
     "data": {
      "text/html": [
       "<div>\n",
       "<style scoped>\n",
       "    .dataframe tbody tr th:only-of-type {\n",
       "        vertical-align: middle;\n",
       "    }\n",
       "\n",
       "    .dataframe tbody tr th {\n",
       "        vertical-align: top;\n",
       "    }\n",
       "\n",
       "    .dataframe thead th {\n",
       "        text-align: right;\n",
       "    }\n",
       "</style>\n",
       "<table border=\"1\" class=\"dataframe\">\n",
       "  <thead>\n",
       "    <tr style=\"text-align: right;\">\n",
       "      <th>적정체중여부</th>\n",
       "      <th>False</th>\n",
       "      <th>True</th>\n",
       "      <th>All</th>\n",
       "    </tr>\n",
       "    <tr>\n",
       "      <th>BMI_5</th>\n",
       "      <th></th>\n",
       "      <th></th>\n",
       "      <th></th>\n",
       "    </tr>\n",
       "  </thead>\n",
       "  <tbody>\n",
       "    <tr>\n",
       "      <th>(16.08, 18.776]</th>\n",
       "      <td>325</td>\n",
       "      <td>0</td>\n",
       "      <td>325</td>\n",
       "    </tr>\n",
       "    <tr>\n",
       "      <th>(18.776, 21.459]</th>\n",
       "      <td>638</td>\n",
       "      <td>2425</td>\n",
       "      <td>3063</td>\n",
       "    </tr>\n",
       "    <tr>\n",
       "      <th>(21.459, 24.141]</th>\n",
       "      <td>1869</td>\n",
       "      <td>1077</td>\n",
       "      <td>2946</td>\n",
       "    </tr>\n",
       "    <tr>\n",
       "      <th>(24.141, 26.823]</th>\n",
       "      <td>451</td>\n",
       "      <td>0</td>\n",
       "      <td>451</td>\n",
       "    </tr>\n",
       "    <tr>\n",
       "      <th>(26.823, 29.506]</th>\n",
       "      <td>16</td>\n",
       "      <td>0</td>\n",
       "      <td>16</td>\n",
       "    </tr>\n",
       "    <tr>\n",
       "      <th>All</th>\n",
       "      <td>3299</td>\n",
       "      <td>3502</td>\n",
       "      <td>6801</td>\n",
       "    </tr>\n",
       "  </tbody>\n",
       "</table>\n",
       "</div>"
      ],
      "text/plain": [
       "적정체중여부            False  True   All\n",
       "BMI_5                              \n",
       "(16.08, 18.776]     325     0   325\n",
       "(18.776, 21.459]    638  2425  3063\n",
       "(21.459, 24.141]   1869  1077  2946\n",
       "(24.141, 26.823]    451     0   451\n",
       "(26.823, 29.506]     16     0    16\n",
       "All                3299  3502  6801"
      ]
     },
     "execution_count": 219,
     "metadata": {},
     "output_type": "execute_result"
    }
   ],
   "source": [
    "def normal_weight(age, sex, bmi) : \n",
    "    if age == 16 : \n",
    "        if sex == '남자' :\n",
    "            return 21.03 <= bmi < 23.21 \n",
    "        else : \n",
    "            return 19.61 <= bmi <  21.74 \n",
    "\n",
    "    else : \n",
    "        if sex == '남자' : \n",
    "            return  21.03 <= bmi < 23.21 \n",
    "        else : \n",
    "            return 20.03 <= bmi < 22.39\n",
    "\n",
    "df['적정체중여부'] = df.apply(lambda x : normal_weight(x['만나이'] , x['성별'] , x['BMI']), axis = 1)\n",
    "\n",
    "# BMI 5단계 \n",
    "df['BMI_5'] = pd.cut(df['BMI'], bins= 5 )\n",
    "\n",
    "# margins = True : 합계를 보여줌 \n",
    "pd.crosstab(df['BMI_5'] , df['적정체중여부'] , margins = True)"
   ]
  },
  {
   "cell_type": "markdown",
   "id": "67984d76-e8aa-4ed8-acd2-036d5f1b5074",
   "metadata": {},
   "source": [
    "적정 체중 여부와 나머지 컬럼(공학여부, 아침식사여부, 일주일운동시간, 채소섭취정도, 수면시간, 성별) 이 독립적인지 통계적으로 확인"
   ]
  },
  {
   "cell_type": "code",
   "execution_count": 241,
   "id": "f91fe3bd-f422-4bed-b429-0af3a4f910e0",
   "metadata": {},
   "outputs": [
    {
     "name": "stdout",
     "output_type": "stream",
     "text": [
      "  Variable       P_value\n",
      "3   채소섭취정도  3.848957e-02\n",
      "4     수면시간  6.927360e-03\n",
      "5       성별  1.789291e-41\n",
      "6   적정체중여부  0.000000e+00\n"
     ]
    }
   ],
   "source": [
    "from scipy.stats import chi2_contingency, ttest_ind\n",
    "\n",
    "df1 = df.drop(columns  = ['ID' , 'diff'] , axis = 1)\n",
    "\n",
    "df1['적정체중여부']= df1['적정체중여부'].astype(int)\n",
    "\n",
    "test_col = ['공학여부', '아침식사여부', '일주일운동시간', '채소섭취정도', '수면시간', '성별' , '적정체중여부']\n",
    "test_df = df1[test_col]\n",
    "\n",
    "lst = []\n",
    "for col in test_df.columns : \n",
    "    if col in ['공학여부','아침식사여부' ,'채소섭취정도', '성별'] : \n",
    "        target = test_df[[col, '적정체중여부']]\n",
    "        cross = pd.crosstab(target[col], target['적정체중여부'])\n",
    "        chi2, p_val, dof, expected = chi2_contingency(cross)\n",
    "        lst.append([col, p_val]) \n",
    "\n",
    "    else : \n",
    "        stat, p_val = stats.ttest_ind(test_df.query('적정체중여부 == 0')[col]  , \\\n",
    "                                      test_df.query('적정체중여부 == 1')[col] )\n",
    "\n",
    "        lst.append([col, p_val])\n",
    "        \n",
    "stat_table = pd.DataFrame(lst , columns = ['Variable', 'P_value'] )\n",
    "print(stat_table[stat_table['P_value'] < 0.05])"
   ]
  },
  {
   "cell_type": "markdown",
   "id": "5e49ccf1-7aa2-4f3f-961b-57a67117e2a6",
   "metadata": {},
   "source": [
    "유의한 변수들만 가지고 적정 체중 여부를 예측하는 모델을 구현하고 성능 평가 및 해석을 하라 (로지스틱회귀 ,xgb)"
   ]
  },
  {
   "cell_type": "code",
   "execution_count": 258,
   "id": "45705a3d-31dd-43d7-a691-27034f9df99b",
   "metadata": {},
   "outputs": [
    {
     "data": {
      "image/png": "[encoded data removed]",
      "text/plain": [
       "<Figure size 640x480 with 1 Axes>"
      ]
     },
     "metadata": {},
     "output_type": "display_data"
    }
   ],
   "source": [
    "valid_col = ['채소섭취정도', '수면시간', '성별' ,'적정체중여부']\n",
    "\n",
    "final_df = df1[valid_col]\n",
    "\n",
    "# 라벨 인코딩 \n",
    "for col in final_df.columns : \n",
    "    if final_df[col].dtype == 'object' :\n",
    "        le = LabelEncoder()\n",
    "        final_df[col] = le.fit_transform(final_df[col])\n",
    "\n",
    "\n",
    "x = final_df.drop('적정체중여부', axis = 1)\n",
    "y = final_df['적정체중여부']\n",
    "\n",
    "x_train, x_test, y_train, y_test = train_test_split(x, y, test_size = 0.3 , random_state= 1243) \n",
    "\n",
    "# Model 성행 \n",
    "models = {\n",
    "    'Logistic' : LogisticRegression() , \n",
    "    'xgb' : XGBClassifier()\n",
    "}\n",
    "\n",
    "for name, model in models.items() : \n",
    "    model.fit(x_train, y_train)\n",
    "    pred = model.predict(x_test)\n",
    "    accu = accuracy_score(y_test , pred)\n",
    "    roc_score = roc_auc_score(y_test, pred)\n",
    "\n",
    "    # ROC Curve를 위한 proba \n",
    "    proba = model.predict_proba(x_test)[:,1]\n",
    "\n",
    "    fpr, tpr, thresholds = roc_curve(y_test, proba)\n",
    "    plt.plot(fpr, tpr, label = f'{name}: {roc_score}')\n",
    "    plt.legend()\n",
    "    plt.plot([0,1],[0,1], 'k--')"
   ]
  },
  {
   "cell_type": "markdown",
   "id": "0ff89417-18d1-4a29-9996-30c16d0a3547",
   "metadata": {},
   "source": [
    " 평균이 θ 이고 분산이 100인 정규분포의 사전분포가 100, 256일때 120의 값을 가지는 데이터가 있을 경우 사후평균은?"
   ]
  },
  {
   "cell_type": "code",
   "execution_count": 259,
   "id": "54dbb8d5-9f84-4684-9811-5dcf448e91f1",
   "metadata": {},
   "outputs": [
    {
     "data": {
      "text/plain": [
       "114.66292134831461"
      ]
     },
     "execution_count": 259,
     "metadata": {},
     "output_type": "execute_result"
    }
   ],
   "source": [
    "\n",
    "prior_x = 100 # 사전 분포 \n",
    "prior_var = 256 \n",
    "\n",
    "# 관측된 데이터 \n",
    "x = 120 # 관측된 데이터 값 \n",
    "sigma = 100 #데이터의 분산\n",
    "\n",
    "# 사전 분포 * 관측된 데이터 값 + 데이터의 분산 * 사전분포 평균 \n",
    "(prior_var * x + sigma + sigma * prior_x) / (prior_var + sigma)\n",
    "\n"
   ]
  },
  {
   "cell_type": "markdown",
   "id": "cd753e7c-b840-4218-b655-0411ac4b0dac",
   "metadata": {},
   "source": [
    "회귀 모델링 후 유의하지 않는변수 파악 "
   ]
  },
  {
   "cell_type": "code",
   "execution_count": 262,
   "id": "aa4f32b5-60f6-4df9-ae40-ffd46b57ab7c",
   "metadata": {},
   "outputs": [],
   "source": [
    "data_path = \"https://raw.githubusercontent.com/Datamanim/datarepo/main/adp/31/adp_31_5_advertising.csv\"\n",
    "df = pd.read_csv(data_path)"
   ]
  },
  {
   "cell_type": "code",
   "execution_count": 267,
   "id": "21d1cd63-6763-4e95-99b2-e92a08c93f63",
   "metadata": {},
   "outputs": [
    {
     "name": "stdout",
     "output_type": "stream",
     "text": [
      "                            OLS Regression Results                            \n",
      "==============================================================================\n",
      "Dep. Variable:                  Sales   R-squared:                       0.903\n",
      "Model:                            OLS   Adj. R-squared:                  0.901\n",
      "Method:                 Least Squares   F-statistic:                     605.4\n",
      "Date:                Sun, 06 Oct 2024   Prob (F-statistic):           8.13e-99\n",
      "Time:                        20:35:18   Log-Likelihood:                -383.34\n",
      "No. Observations:                 200   AIC:                             774.7\n",
      "Df Residuals:                     196   BIC:                             787.9\n",
      "Df Model:                           3                                         \n",
      "Covariance Type:            nonrobust                                         \n",
      "==============================================================================\n",
      "                 coef    std err          t      P>|t|      [0.025      0.975]\n",
      "------------------------------------------------------------------------------\n",
      "const          4.6251      0.308     15.041      0.000       4.019       5.232\n",
      "TV             0.0544      0.001     39.592      0.000       0.052       0.057\n",
      "Radio          0.1070      0.008     12.604      0.000       0.090       0.124\n",
      "Newspaper      0.0003      0.006      0.058      0.954      -0.011       0.012\n",
      "==============================================================================\n",
      "Omnibus:                       16.081   Durbin-Watson:                   2.251\n",
      "Prob(Omnibus):                  0.000   Jarque-Bera (JB):               27.655\n",
      "Skew:                          -0.431   Prob(JB):                     9.88e-07\n",
      "Kurtosis:                       4.605   Cond. No.                         454.\n",
      "==============================================================================\n",
      "\n",
      "Notes:\n",
      "[1] Standard Errors assume that the covariance matrix of the errors is correctly specified.\n"
     ]
    }
   ],
   "source": [
    "import statsmodels.api as sm \n",
    "\n",
    "x = df.drop('Sales', axis = 1)\n",
    "y = df['Sales']\n",
    "\n",
    "X = sm.add_constant(x)\n",
    "model = sm.OLS(y, X).fit()\n",
    "print(model.summary())"
   ]
  },
  {
   "cell_type": "markdown",
   "id": "b9a193d6-ea9e-4603-9205-b363399ba097",
   "metadata": {},
   "source": [
    "VIF를 통한 다중공선성"
   ]
  },
  {
   "cell_type": "code",
   "execution_count": 270,
   "id": "8b6b3f6a-f0b5-4a62-8016-e4467a40afc5",
   "metadata": {},
   "outputs": [
    {
     "data": {
      "text/html": [
       "<div>\n",
       "<style scoped>\n",
       "    .dataframe tbody tr th:only-of-type {\n",
       "        vertical-align: middle;\n",
       "    }\n",
       "\n",
       "    .dataframe tbody tr th {\n",
       "        vertical-align: top;\n",
       "    }\n",
       "\n",
       "    .dataframe thead th {\n",
       "        text-align: right;\n",
       "    }\n",
       "</style>\n",
       "<table border=\"1\" class=\"dataframe\">\n",
       "  <thead>\n",
       "    <tr style=\"text-align: right;\">\n",
       "      <th></th>\n",
       "      <th>Variable</th>\n",
       "      <th>vif</th>\n",
       "    </tr>\n",
       "  </thead>\n",
       "  <tbody>\n",
       "    <tr>\n",
       "      <th>0</th>\n",
       "      <td>TV</td>\n",
       "      <td>2.486772</td>\n",
       "    </tr>\n",
       "    <tr>\n",
       "      <th>1</th>\n",
       "      <td>Radio</td>\n",
       "      <td>3.285462</td>\n",
       "    </tr>\n",
       "    <tr>\n",
       "      <th>2</th>\n",
       "      <td>Newspaper</td>\n",
       "      <td>3.055245</td>\n",
       "    </tr>\n",
       "  </tbody>\n",
       "</table>\n",
       "</div>"
      ],
      "text/plain": [
       "    Variable       vif\n",
       "0         TV  2.486772\n",
       "1      Radio  3.285462\n",
       "2  Newspaper  3.055245"
      ]
     },
     "execution_count": 270,
     "metadata": {},
     "output_type": "execute_result"
    }
   ],
   "source": [
    "from statsmodels.stats.outliers_influence import variance_inflation_factor\n",
    "\n",
    "vif = pd.DataFrame()\n",
    "vif['Variable'] = x.columns \n",
    "vif['vif'] = [variance_inflation_factor(x.values , i ) for i in range(x.shape[1])]\n",
    "vif"
   ]
  },
  {
   "cell_type": "markdown",
   "id": "3ed58344-6d34-4871-882f-ef09460fc587",
   "metadata": {},
   "source": [
    "A,B,C,D,E 영업사원의 각 계약 성사 유무 (1:계약 , 0:미계약) 를 나타낸 데이터이다. 영업사원의 평균 계약 성사 건수는 같은지 통계 검정하라"
   ]
  },
  {
   "cell_type": "code",
   "execution_count": 274,
   "id": "88f70bc7-4619-4b9a-9073-57cf8a864fba",
   "metadata": {},
   "outputs": [
    {
     "data": {
      "text/html": [
       "<div>\n",
       "<style scoped>\n",
       "    .dataframe tbody tr th:only-of-type {\n",
       "        vertical-align: middle;\n",
       "    }\n",
       "\n",
       "    .dataframe tbody tr th {\n",
       "        vertical-align: top;\n",
       "    }\n",
       "\n",
       "    .dataframe thead th {\n",
       "        text-align: right;\n",
       "    }\n",
       "</style>\n",
       "<table border=\"1\" class=\"dataframe\">\n",
       "  <thead>\n",
       "    <tr style=\"text-align: right;\">\n",
       "      <th></th>\n",
       "      <th>A</th>\n",
       "      <th>B</th>\n",
       "      <th>C</th>\n",
       "      <th>D</th>\n",
       "      <th>E</th>\n",
       "    </tr>\n",
       "    <tr>\n",
       "      <th>Unnamed: 0</th>\n",
       "      <th></th>\n",
       "      <th></th>\n",
       "      <th></th>\n",
       "      <th></th>\n",
       "      <th></th>\n",
       "    </tr>\n",
       "  </thead>\n",
       "  <tbody>\n",
       "    <tr>\n",
       "      <th>contract_1</th>\n",
       "      <td>1</td>\n",
       "      <td>0</td>\n",
       "      <td>1</td>\n",
       "      <td>1</td>\n",
       "      <td>1</td>\n",
       "    </tr>\n",
       "    <tr>\n",
       "      <th>contract_2</th>\n",
       "      <td>0</td>\n",
       "      <td>1</td>\n",
       "      <td>0</td>\n",
       "      <td>1</td>\n",
       "      <td>0</td>\n",
       "    </tr>\n",
       "    <tr>\n",
       "      <th>contract_3</th>\n",
       "      <td>1</td>\n",
       "      <td>0</td>\n",
       "      <td>0</td>\n",
       "      <td>0</td>\n",
       "      <td>0</td>\n",
       "    </tr>\n",
       "    <tr>\n",
       "      <th>contract_4</th>\n",
       "      <td>0</td>\n",
       "      <td>1</td>\n",
       "      <td>1</td>\n",
       "      <td>1</td>\n",
       "      <td>1</td>\n",
       "    </tr>\n",
       "    <tr>\n",
       "      <th>contract_5</th>\n",
       "      <td>0</td>\n",
       "      <td>1</td>\n",
       "      <td>0</td>\n",
       "      <td>1</td>\n",
       "      <td>0</td>\n",
       "    </tr>\n",
       "  </tbody>\n",
       "</table>\n",
       "</div>"
      ],
      "text/plain": [
       "            A  B  C  D  E\n",
       "Unnamed: 0               \n",
       "contract_1  1  0  1  1  1\n",
       "contract_2  0  1  0  1  0\n",
       "contract_3  1  0  0  0  0\n",
       "contract_4  0  1  1  1  1\n",
       "contract_5  0  1  0  1  0"
      ]
     },
     "execution_count": 274,
     "metadata": {},
     "output_type": "execute_result"
    }
   ],
   "source": [
    "df =pd.read_csv('https://raw.githubusercontent.com/Datamanim/datarepo/main/adp/31/adp_31_7.csv', encoding= 'utf-8')\n",
    "df.set_index('Unnamed: 0', inplace= True)\n",
    "\n",
    "df.head()"
   ]
  },
  {
   "cell_type": "code",
   "execution_count": 276,
   "id": "854c6bef-de54-4460-a132-1d0d3cd7f492",
   "metadata": {},
   "outputs": [
    {
     "name": "stdout",
     "output_type": "stream",
     "text": [
      "df          4\n",
      "pvalue      0.3406392758219471\n",
      "statistic   4.516129032258065\n"
     ]
    }
   ],
   "source": [
    "from statsmodels.stats.contingency_tables import cochrans_q \n",
    "\n",
    "print(cochrans_q(df))"
   ]
  },
  {
   "cell_type": "markdown",
   "id": "f2975554-db6f-4707-ab0e-720d933da4fb",
   "metadata": {},
   "source": [
    "유기견이 하루에 2.2마리 발생한다\n",
    "1) 한 마리도 안 버려질 확률\n",
    "2) 적어도 2마리 버려질 확률"
   ]
  },
  {
   "cell_type": "code",
   "execution_count": 284,
   "id": "15bfa869-d5b9-4ee4-9ddc-99ed8e765df9",
   "metadata": {},
   "outputs": [
    {
     "name": "stdout",
     "output_type": "stream",
     "text": [
      "0.11080315836233387\n",
      "0.6454298932405317\n"
     ]
    }
   ],
   "source": [
    "from scipy.stats import poisson\n",
    "\n",
    "lamb = 2.2 \n",
    "print(poisson.pmf(0, lamb))\n",
    "\n",
    "# 적어도 2마리 = 2마리 이상 1- cdf(1)\n",
    "print(1 - poisson.cdf(1, lamb))"
   ]
  }
 ],
 "metadata": {
  "kernelspec": {
   "display_name": "Python 3 (ipykernel)",
   "language": "python",
   "name": "python3"
  },
  "language_info": {
   "codemirror_mode": {
    "name": "ipython",
    "version": 3
   },
   "file_extension": ".py",
   "mimetype": "text/x-python",
   "name": "python",
   "nbconvert_exporter": "python",
   "pygments_lexer": "ipython3",
   "version": "3.11.3"
  }
 },
 "nbformat": 4,
 "nbformat_minor": 5
}
